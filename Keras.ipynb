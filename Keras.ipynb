{
 "cells": [
  {
   "cell_type": "markdown",
   "id": "casual-jewel",
   "metadata": {
    "toc": "true"
   },
   "source": [
    "# Table of Contents\n",
    " <p><div class=\"lev2 toc-item\"><a href=\"#Load-data-and-display\" data-toc-modified-id=\"Load-data-and-display-01\"><span class=\"toc-item-num\">0.1&nbsp;&nbsp;</span>Load data and display</a></div><div class=\"lev3 toc-item\"><a href=\"#Manipulate-inputs\" data-toc-modified-id=\"Manipulate-inputs-011\"><span class=\"toc-item-num\">0.1.1&nbsp;&nbsp;</span>Manipulate inputs</a></div><div class=\"lev2 toc-item\"><a href=\"#Neural-Network\" data-toc-modified-id=\"Neural-Network-02\"><span class=\"toc-item-num\">0.2&nbsp;&nbsp;</span>Neural Network</a></div><div class=\"lev3 toc-item\"><a href=\"#Introduction\" data-toc-modified-id=\"Introduction-021\"><span class=\"toc-item-num\">0.2.1&nbsp;&nbsp;</span>Introduction</a></div><div class=\"lev3 toc-item\"><a href=\"#Example\" data-toc-modified-id=\"Example-022\"><span class=\"toc-item-num\">0.2.2&nbsp;&nbsp;</span>Example</a></div><div class=\"lev1 toc-item\"><a href=\"#CNN\" data-toc-modified-id=\"CNN-1\"><span class=\"toc-item-num\">1&nbsp;&nbsp;</span>CNN</a></div><div class=\"lev3 toc-item\"><a href=\"#Example-1\" data-toc-modified-id=\"Example-1-101\"><span class=\"toc-item-num\">1.0.1&nbsp;&nbsp;</span>Example 1</a></div><div class=\"lev3 toc-item\"><a href=\"#Add-CNN-layers\" data-toc-modified-id=\"Add-CNN-layers-102\"><span class=\"toc-item-num\">1.0.2&nbsp;&nbsp;</span>Add CNN layers</a></div><div class=\"lev1 toc-item\"><a href=\"#Conv2D(filters,-(kernal_height,-kernal_width))\" data-toc-modified-id=\"Conv2D(filters,-(kernal_height,-kernal_width))-2\"><span class=\"toc-item-num\">2&nbsp;&nbsp;</span>Conv2D(filters, (kernal_height, kernal_width))</a></div><div class=\"lev1 toc-item\"><a href=\"#When-used-in-the-first-layers,-input_shape-needs-to-be-provided\" data-toc-modified-id=\"When-used-in-the-first-layers,-input_shape-needs-to-be-provided-3\"><span class=\"toc-item-num\">3&nbsp;&nbsp;</span>When used in the first layers, input_shape needs to be provided</a></div><div class=\"lev4 toc-item\"><a href=\"#Add-fully-connected-layers\" data-toc-modified-id=\"Add-fully-connected-layers-3001\"><span class=\"toc-item-num\">3.0.0.1&nbsp;&nbsp;</span>Add fully connected layers</a></div><div class=\"lev3 toc-item\"><a href=\"#Prepare-data\" data-toc-modified-id=\"Prepare-data-301\"><span class=\"toc-item-num\">3.0.1&nbsp;&nbsp;</span>Prepare data</a></div><div class=\"lev4 toc-item\"><a href=\"#Function-to_categorical\" data-toc-modified-id=\"Function-to_categorical-3011\"><span class=\"toc-item-num\">3.0.1.1&nbsp;&nbsp;</span>Function to_categorical</a></div><div class=\"lev4 toc-item\"><a href=\"#Back-to-our-example\" data-toc-modified-id=\"Back-to-our-example-3012\"><span class=\"toc-item-num\">3.0.1.2&nbsp;&nbsp;</span>Back to our example</a></div><div class=\"lev3 toc-item\"><a href=\"#Why-Max-Pooling?\" data-toc-modified-id=\"Why-Max-Pooling?-302\"><span class=\"toc-item-num\">3.0.2&nbsp;&nbsp;</span>Why Max-Pooling?</a></div><div class=\"lev1 toc-item\"><a href=\"#Cat-vs-Dog-Example\" data-toc-modified-id=\"Cat-vs-Dog-Example-4\"><span class=\"toc-item-num\">4&nbsp;&nbsp;</span>Cat vs Dog Example</a></div><div class=\"lev2 toc-item\"><a href=\"#First-Model\" data-toc-modified-id=\"First-Model-41\"><span class=\"toc-item-num\">4.1&nbsp;&nbsp;</span>First Model</a></div><div class=\"lev4 toc-item\"><a href=\"#Prepare-small-dataset\" data-toc-modified-id=\"Prepare-small-dataset-4101\"><span class=\"toc-item-num\">4.1.0.1&nbsp;&nbsp;</span>Prepare small dataset</a></div><div class=\"lev4 toc-item\"><a href=\"#Copy-1000-files\" data-toc-modified-id=\"Copy-1000-files-4102\"><span class=\"toc-item-num\">4.1.0.2&nbsp;&nbsp;</span>Copy 1000 files</a></div><div class=\"lev4 toc-item\"><a href=\"#Configure-optimizer-and-cost-function\" data-toc-modified-id=\"Configure-optimizer-and-cost-function-4103\"><span class=\"toc-item-num\">4.1.0.3&nbsp;&nbsp;</span>Configure optimizer and cost function</a></div><div class=\"lev4 toc-item\"><a href=\"#Preprocess-data\" data-toc-modified-id=\"Preprocess-data-4104\"><span class=\"toc-item-num\">4.1.0.4&nbsp;&nbsp;</span>Preprocess data</a></div><div class=\"lev4 toc-item\"><a href=\"#Fit-with-data-generator\" data-toc-modified-id=\"Fit-with-data-generator-4105\"><span class=\"toc-item-num\">4.1.0.5&nbsp;&nbsp;</span>Fit with data generator</a></div><div class=\"lev4 toc-item\"><a href=\"#Save-the-model\" data-toc-modified-id=\"Save-the-model-4106\"><span class=\"toc-item-num\">4.1.0.6&nbsp;&nbsp;</span>Save the model</a></div><div class=\"lev4 toc-item\"><a href=\"#Plot-training-vs-validation\" data-toc-modified-id=\"Plot-training-vs-validation-4107\"><span class=\"toc-item-num\">4.1.0.7&nbsp;&nbsp;</span>Plot training vs validation</a></div><div class=\"lev2 toc-item\"><a href=\"#Enrich-Data-with-Data-Augmentation\" data-toc-modified-id=\"Enrich-Data-with-Data-Augmentation-42\"><span class=\"toc-item-num\">4.2&nbsp;&nbsp;</span>Enrich Data with Data Augmentation</a></div><div class=\"lev4 toc-item\"><a href=\"#Define-Data-Transformation\" data-toc-modified-id=\"Define-Data-Transformation-4201\"><span class=\"toc-item-num\">4.2.0.1&nbsp;&nbsp;</span>Define Data Transformation</a></div><div class=\"lev4 toc-item\"><a href=\"#Display-Some-New-Data\" data-toc-modified-id=\"Display-Some-New-Data-4202\"><span class=\"toc-item-num\">4.2.0.2&nbsp;&nbsp;</span>Display Some New Data</a></div><div class=\"lev4 toc-item\"><a href=\"#Add-Dropout\" data-toc-modified-id=\"Add-Dropout-4203\"><span class=\"toc-item-num\">4.2.0.3&nbsp;&nbsp;</span>Add Dropout</a></div><div class=\"lev2 toc-item\"><a href=\"#Use-Pretrained-Model-(VGG)\" data-toc-modified-id=\"Use-Pretrained-Model-(VGG)-43\"><span class=\"toc-item-num\">4.3&nbsp;&nbsp;</span>Use Pretrained Model (VGG)</a></div><div class=\"lev4 toc-item\"><a href=\"#Method-1\" data-toc-modified-id=\"Method-1-4301\"><span class=\"toc-item-num\">4.3.0.1&nbsp;&nbsp;</span>Method-1</a></div><div class=\"lev4 toc-item\"><a href=\"#Method-2\" data-toc-modified-id=\"Method-2-4302\"><span class=\"toc-item-num\">4.3.0.2&nbsp;&nbsp;</span>Method-2</a></div><div class=\"lev3 toc-item\"><a href=\"#Fine-Tuning\" data-toc-modified-id=\"Fine-Tuning-431\"><span class=\"toc-item-num\">4.3.1&nbsp;&nbsp;</span>Fine-Tuning</a></div><div class=\"lev2 toc-item\"><a href=\"#Visualize-Convets-Learn\" data-toc-modified-id=\"Visualize-Convets-Learn-44\"><span class=\"toc-item-num\">4.4&nbsp;&nbsp;</span>Visualize Convets Learn</a></div><div class=\"lev3 toc-item\"><a href=\"#Visualize-Intermediate-Activations\" data-toc-modified-id=\"Visualize-Intermediate-Activations-441\"><span class=\"toc-item-num\">4.4.1&nbsp;&nbsp;</span>Visualize Intermediate Activations</a></div><div class=\"lev2 toc-item\"><a href=\"#Visualize-Convets-Filters\" data-toc-modified-id=\"Visualize-Convets-Filters-45\"><span class=\"toc-item-num\">4.5&nbsp;&nbsp;</span>Visualize Convets Filters</a></div><div class=\"lev4 toc-item\"><a href=\"#Listing-5.39-Generating-a-grid-of-all-filter-response-patterns-in-a-layer\" data-toc-modified-id=\"Listing-5.39-Generating-a-grid-of-all-filter-response-patterns-in-a-layer-4501\"><span class=\"toc-item-num\">4.5.0.1&nbsp;&nbsp;</span>Listing 5.39 Generating a grid of all filter response patterns in a layer</a></div><div class=\"lev2 toc-item\"><a href=\"#Visualizing-Heatmaps-of-Class-Activation\" data-toc-modified-id=\"Visualizing-Heatmaps-of-Class-Activation-46\"><span class=\"toc-item-num\">4.6&nbsp;&nbsp;</span>Visualizing Heatmaps of Class Activation</a></div>"
   ]
  },
  {
   "cell_type": "code",
   "execution_count": null,
   "id": "willing-viewer",
   "metadata": {},
   "outputs": [],
   "source": [
    "from keras.datasets import mnist\n",
    "from keras import models\n",
    "from keras import layers"
   ]
  },
  {
   "cell_type": "code",
   "execution_count": null,
   "id": "enhanced-resolution",
   "metadata": {},
   "outputs": [],
   "source": [
    "(train_images, train_labels), (test_images, test_labels) = mnist.load_data()"
   ]
  },
  {
   "cell_type": "code",
   "execution_count": null,
   "id": "familiar-canyon",
   "metadata": {},
   "outputs": [],
   "source": [
    "train_images.shape"
   ]
  },
  {
   "cell_type": "code",
   "execution_count": null,
   "id": "naval-lambda",
   "metadata": {},
   "outputs": [],
   "source": [
    "network = models.Sequential()"
   ]
  },
  {
   "cell_type": "code",
   "execution_count": null,
   "id": "robust-upgrade",
   "metadata": {},
   "outputs": [],
   "source": [
    "network.add(layers.Dense(512, activation='relu', input_shape=(28 * 28,)))\n",
    "network.add(layers.Dense(10, activation='softmax'))\n",
    "network.compile(optimizer='rmsprop',\n",
    "                loss='categorical_crossentropy',\n",
    "                metrics=['accuracy'])"
   ]
  },
  {
   "cell_type": "code",
   "execution_count": null,
   "id": "appreciated-sample",
   "metadata": {},
   "outputs": [],
   "source": [
    "train_images = train_images.reshape((60000, 28 * 28))\n",
    "train_images = train_images.astype('float32') / 255\n",
    "test_images = test_images.reshape((10000, 28 * 28))\n",
    "test_images = test_images.astype('float32') / 255"
   ]
  },
  {
   "cell_type": "code",
   "execution_count": null,
   "id": "miniature-museum",
   "metadata": {},
   "outputs": [],
   "source": [
    "from tensorflow.keras.utils import to_categorical\n",
    "train_labels = to_categorical(train_labels)\n",
    "test_labels = to_categorical(test_labels)"
   ]
  },
  {
   "cell_type": "code",
   "execution_count": null,
   "id": "vertical-bikini",
   "metadata": {},
   "outputs": [],
   "source": [
    "network.fit(train_images, train_labels, epochs=5, batch_size=128)"
   ]
  },
  {
   "cell_type": "code",
   "execution_count": null,
   "id": "assigned-identification",
   "metadata": {},
   "outputs": [],
   "source": [
    "test_loss, test_acc = network.evaluate(test_images, test_labels)"
   ]
  },
  {
   "cell_type": "code",
   "execution_count": null,
   "id": "coral-kenya",
   "metadata": {},
   "outputs": [],
   "source": [
    "print('test_acc:', test_acc)"
   ]
  },
  {
   "cell_type": "code",
   "execution_count": null,
   "id": "martial-vermont",
   "metadata": {},
   "outputs": [],
   "source": [
    "%matplotlib inline"
   ]
  },
  {
   "cell_type": "code",
   "execution_count": null,
   "id": "dramatic-edwards",
   "metadata": {},
   "outputs": [],
   "source": [
    "import matplotlib.pyplot as plt"
   ]
  },
  {
   "cell_type": "markdown",
   "id": "civil-belize",
   "metadata": {},
   "source": [
    "## Load data and display"
   ]
  },
  {
   "cell_type": "code",
   "execution_count": null,
   "id": "absolute-conditions",
   "metadata": {},
   "outputs": [],
   "source": [
    "from keras.datasets import mnist\n",
    "(train_images, train_labels), (test_images, test_labels) = mnist.load_data()"
   ]
  },
  {
   "cell_type": "code",
   "execution_count": null,
   "id": "approximate-butter",
   "metadata": {},
   "outputs": [],
   "source": [
    "digit = train_images[4]\n",
    "plt.imshow(digit, cmap=plt.cm.binary)\n",
    "plt.show()"
   ]
  },
  {
   "cell_type": "markdown",
   "id": "concrete-tattoo",
   "metadata": {},
   "source": [
    "### Manipulate inputs"
   ]
  },
  {
   "cell_type": "code",
   "execution_count": null,
   "id": "enormous-engineering",
   "metadata": {},
   "outputs": [],
   "source": [
    "my_slice = train_images[10:100]\n",
    "\n",
    "my_slice = train_images[10:100, :, :]\n",
    "\n",
    "my_slice = train_images[10:100, 0:28, 0:28]\n",
    "\n",
    "my_slice = train_images[:, 14:, 14:]\n",
    "\n",
    "my_slice = train_images[:, 7:-7, 7:-7]"
   ]
  },
  {
   "cell_type": "markdown",
   "id": "abstract-afternoon",
   "metadata": {},
   "source": [
    "## Neural Network"
   ]
  },
  {
   "cell_type": "markdown",
   "id": "prospective-granny",
   "metadata": {},
   "source": [
    "### Introduction"
   ]
  },
  {
   "cell_type": "code",
   "execution_count": null,
   "id": "introductory-republic",
   "metadata": {},
   "outputs": [],
   "source": [
    "from keras import layers"
   ]
  },
  {
   "cell_type": "code",
   "execution_count": null,
   "id": "cubic-farmer",
   "metadata": {},
   "outputs": [],
   "source": [
    "layer = layers.Dense(32, input_shape=(784,))"
   ]
  },
  {
   "cell_type": "code",
   "execution_count": null,
   "id": "mature-prospect",
   "metadata": {},
   "outputs": [],
   "source": [
    "from keras import models\n",
    "from keras import layers\n",
    "model = models.Sequential()\n",
    "model.add(layers.Dense(32, input_shape=(784,)))\n",
    "model.add(layers.Dense(32))"
   ]
  },
  {
   "cell_type": "markdown",
   "id": "seventh-manufacturer",
   "metadata": {},
   "source": [
    "### Example"
   ]
  },
  {
   "cell_type": "code",
   "execution_count": null,
   "id": "artistic-clark",
   "metadata": {},
   "outputs": [],
   "source": [
    "\n",
    "from keras import models\n",
    "from keras import layers\n",
    "model = models.Sequential()\n",
    "model.add(layers.Dense(32, activation='relu', input_shape=(784,)))\n",
    "model.add(layers.Dense(10, activation='softmax'))\n"
   ]
  },
  {
   "cell_type": "code",
   "execution_count": null,
   "id": "collectible-tattoo",
   "metadata": {},
   "outputs": [],
   "source": [
    "input_tensor = layers.Input(shape=(784,))\n",
    "x = layers.Dense(32, activation='relu')(input_tensor)\n",
    "output_tensor = layers.Dense(10, activation='softmax')(x)\n",
    "model = models.Model(inputs=input_tensor, outputs=output_tensor)"
   ]
  },
  {
   "cell_type": "code",
   "execution_count": null,
   "id": "curious-female",
   "metadata": {},
   "outputs": [],
   "source": [
    "from tensorflow.keras import optimizers\n",
    "\n",
    "model.compile(optimizer=optimizers.RMSprop(lr=0.001),\n",
    "              loss='mse',\n",
    "              metrics=['accuracy'])"
   ]
  },
  {
   "cell_type": "code",
   "execution_count": null,
   "id": "cardiac-lawrence",
   "metadata": {},
   "outputs": [],
   "source": [
    "model.fit(input_tensor, target_tensor, batch_size=128, epochs=10)"
   ]
  },
  {
   "cell_type": "markdown",
   "id": "stretch-campus",
   "metadata": {},
   "source": [
    "# CNN"
   ]
  },
  {
   "cell_type": "markdown",
   "id": "other-military",
   "metadata": {},
   "source": [
    "### Example 1"
   ]
  },
  {
   "cell_type": "markdown",
   "id": "emotional-participation",
   "metadata": {},
   "source": [
    "### Add CNN layers"
   ]
  },
  {
   "cell_type": "code",
   "execution_count": null,
   "id": "funky-child",
   "metadata": {},
   "outputs": [],
   "source": [
    "from keras import layers \n",
    "from keras import models\n",
    "\n",
    "model = models.Sequential()"
   ]
  },
  {
   "cell_type": "markdown",
   "id": "italian-peter",
   "metadata": {},
   "source": [
    "# Conv2D(filters, (kernal_height, kernal_width))"
   ]
  },
  {
   "cell_type": "markdown",
   "id": "incident-uganda",
   "metadata": {},
   "source": [
    "# When used in the first layers, input_shape needs to be provided "
   ]
  },
  {
   "cell_type": "code",
   "execution_count": null,
   "id": "micro-surrey",
   "metadata": {},
   "outputs": [],
   "source": [
    "model.add(layers.Conv2D(32, (3, 3), activation='relu', input_shape=(28, 28, 1)),) \n",
    "model.add(layers.MaxPooling2D((2, 2)))\n",
    "model.add(layers.Conv2D(64, (3, 3), activation='relu')) \n",
    "model.add(layers.MaxPooling2D((2, 2)))\n",
    "model.add(layers.Conv2D(64, (3, 3), activation='relu'))"
   ]
  },
  {
   "cell_type": "code",
   "execution_count": null,
   "id": "wireless-institute",
   "metadata": {},
   "outputs": [],
   "source": [
    "model.summary()"
   ]
  },
  {
   "cell_type": "markdown",
   "id": "special-cooperation",
   "metadata": {},
   "source": [
    "#### Add fully connected layers"
   ]
  },
  {
   "cell_type": "code",
   "execution_count": null,
   "id": "happy-frame",
   "metadata": {},
   "outputs": [],
   "source": [
    "model.add(layers.Flatten())\n",
    "model.add(layers.Dense(64, activation='relu'))\n",
    "model.add(layers.Dense(10, activation='softmax'))"
   ]
  },
  {
   "cell_type": "code",
   "execution_count": null,
   "id": "agreed-deadline",
   "metadata": {},
   "outputs": [],
   "source": [
    "model.summary()"
   ]
  },
  {
   "cell_type": "markdown",
   "id": "charitable-replica",
   "metadata": {},
   "source": [
    "### Prepare data"
   ]
  },
  {
   "cell_type": "code",
   "execution_count": null,
   "id": "after-spain",
   "metadata": {},
   "outputs": [],
   "source": [
    "from keras.datasets import mnist\n",
    "from tensorflow.keras.utils import to_categorical\n",
    "(train_images, train_labels), (test_images, test_labels) = mnist.load_data()"
   ]
  },
  {
   "cell_type": "code",
   "execution_count": null,
   "id": "negative-blame",
   "metadata": {},
   "outputs": [],
   "source": [
    "train_images = train_images.reshape((60000, 28, 28, 1)) # sample #, height, width, color_channel\n",
    "train_images = train_images.astype('float32') / 255 # convert 0-255 --> 0-1\n",
    "test_images = test_images.reshape((10000, 28, 28, 1))\n",
    "test_images = test_images.astype('float32') / 255\n",
    "train_labels = to_categorical(train_labels) # num_classes = max_num + 1, type=float as default\n",
    "test_labels = to_categorical(test_labels)\n",
    "model.compile(optimizer='rmsprop',\n",
    "              loss='categorical_crossentropy',\n",
    "              metrics=['accuracy'])\n",
    "model.fit(train_images, train_labels, epochs=5, batch_size=64)"
   ]
  },
  {
   "cell_type": "markdown",
   "id": "hispanic-entrepreneur",
   "metadata": {},
   "source": [
    "#### Function to_categorical"
   ]
  },
  {
   "cell_type": "code",
   "execution_count": null,
   "id": "structured-trash",
   "metadata": {},
   "outputs": [],
   "source": [
    "class_vector =[2, 5, 6, 1, 4, 2, 3, 2]\n",
    "print(class_vector)\n",
    " \n",
    "# Applying the function on input class vector\n",
    "from tensorflow.keras.utils import to_categorical\n",
    "output_matrix = to_categorical(class_vector, num_classes = 7, dtype =\"int32\")\n",
    " \n",
    "print(output_matrix)"
   ]
  },
  {
   "cell_type": "code",
   "execution_count": null,
   "id": "conceptual-sterling",
   "metadata": {},
   "outputs": [],
   "source": [
    "class_vector =[2, 5, 6, 1, 4, 2, 3, 2]\n",
    "print(class_vector)\n",
    " \n",
    "# Applying the function on input class vector\n",
    "from tensorflow.keras.utils import to_categorical\n",
    "output_matrix = to_categorical(class_vector)\n",
    " \n",
    "print(output_matrix)"
   ]
  },
  {
   "cell_type": "markdown",
   "id": "religious-guest",
   "metadata": {},
   "source": [
    "#### Back to our example"
   ]
  },
  {
   "cell_type": "code",
   "execution_count": null,
   "id": "anonymous-medium",
   "metadata": {},
   "outputs": [],
   "source": [
    "test_loss, test_acc = model.evaluate(test_images, test_labels)"
   ]
  },
  {
   "cell_type": "code",
   "execution_count": null,
   "id": "royal-destination",
   "metadata": {},
   "outputs": [],
   "source": [
    "test_acc"
   ]
  },
  {
   "cell_type": "markdown",
   "id": "successful-orange",
   "metadata": {},
   "source": [
    "### Why Max-Pooling?"
   ]
  },
  {
   "cell_type": "code",
   "execution_count": null,
   "id": "atmospheric-victory",
   "metadata": {},
   "outputs": [],
   "source": [
    "model = models.Sequential()\n",
    "# Conv2D(filters, (kernal_height, kernal_width))\n",
    "# When used in the first layers, input_shape needs to be provided \n",
    "model.add(layers.Conv2D(32, (3, 3), activation='relu', input_shape=(28, 28, 1)),) \n",
    "model.add(layers.Conv2D(64, (3, 3), activation='relu')) \n",
    "model.add(layers.Conv2D(64, (3, 3), activation='relu'))\n",
    "model.summary()"
   ]
  },
  {
   "cell_type": "markdown",
   "id": "monetary-store",
   "metadata": {},
   "source": [
    "# Cat vs Dog Example"
   ]
  },
  {
   "cell_type": "markdown",
   "id": "immune-torture",
   "metadata": {},
   "source": [
    "## First Model"
   ]
  },
  {
   "cell_type": "code",
   "execution_count": null,
   "id": "insured-shepherd",
   "metadata": {},
   "outputs": [],
   "source": [
    "from keras import layers\n",
    "from keras import models"
   ]
  },
  {
   "cell_type": "code",
   "execution_count": null,
   "id": "increased-scanning",
   "metadata": {},
   "outputs": [],
   "source": [
    "model = models.Sequential()\n",
    "model.add(layers.Conv2D(32, (3, 3), activation='relu',\n",
    "                        input_shape=(150, 150, 3)))\n",
    "model.add(layers.MaxPooling2D((2, 2)))\n",
    "model.add(layers.Conv2D(64, (3, 3), activation='relu'))\n",
    "model.add(layers.MaxPooling2D((2, 2)))\n",
    "model.add(layers.Conv2D(128, (3, 3), activation='relu'))\n",
    "model.add(layers.MaxPooling2D((2, 2)))\n",
    "model.add(layers.Conv2D(128, (3, 3), activation='relu'))\n",
    "model.add(layers.MaxPooling2D((2, 2)))\n",
    "model.add(layers.Flatten())\n",
    "model.add(layers.Dense(512, activation='relu'))\n",
    "model.add(layers.Dense(1, activation='sigmoid'))"
   ]
  },
  {
   "cell_type": "code",
   "execution_count": null,
   "id": "tropical-opposition",
   "metadata": {},
   "outputs": [],
   "source": []
  },
  {
   "cell_type": "markdown",
   "id": "exceptional-clearing",
   "metadata": {},
   "source": [
    "#### Prepare small dataset"
   ]
  },
  {
   "cell_type": "code",
   "execution_count": null,
   "id": "signal-visibility",
   "metadata": {},
   "outputs": [],
   "source": [
    "\n",
    "import os"
   ]
  },
  {
   "cell_type": "code",
   "execution_count": null,
   "id": "adverse-macintosh",
   "metadata": {},
   "outputs": [],
   "source": [
    "def make_dir(dirname):\n",
    "    import errno\n",
    "    import os\n",
    "    try:\n",
    "        os.mkdir(dirname)\n",
    "    except OSError as exc:\n",
    "        if exc.errno != errno.EEXIST:\n",
    "            raise\n",
    "        pass\n",
    "    \n",
    "    return 1"
   ]
  },
  {
   "cell_type": "code",
   "execution_count": null,
   "id": "severe-mambo",
   "metadata": {},
   "outputs": [],
   "source": [
    "# Create train, validation, and test subdir\n",
    "original_dataset_dir = '/Users/junsu/Dropbox/deep_learning/tf1/tf1_lib/data_inputs/archive/train/train'\n",
    "base_dir = '/Users/junsu/Dropbox/deep_learning/tf1/tf1_lib/data_inputs//cats_and_dogs_small'\n",
    "train_dir = os.path.join(base_dir, 'train')\n",
    "make_dir(train_dir)\n",
    "validation_dir = os.path.join(base_dir, 'validation')\n",
    "make_dir(validation_dir)\n",
    "test_dir = os.path.join(base_dir, 'test')\n",
    "make_dir(test_dir)"
   ]
  },
  {
   "cell_type": "code",
   "execution_count": null,
   "id": "negative-disney",
   "metadata": {},
   "outputs": [],
   "source": [
    "# Further add dog and cat\n",
    "train_cats_dir = os.path.join(train_dir, 'cats')\n",
    "make_dir(train_cats_dir)\n",
    "train_dogs_dir = os.path.join(train_dir, 'dogs')\n",
    "make_dir(train_dogs_dir)"
   ]
  },
  {
   "cell_type": "code",
   "execution_count": null,
   "id": "second-tissue",
   "metadata": {},
   "outputs": [],
   "source": [
    "validation_cats_dir = os.path.join(validation_dir, 'cats')\n",
    "make_dir(validation_cats_dir)\n",
    "validation_dogs_dir = os.path.join(validation_dir, 'dogs')\n",
    "make_dir(validation_dogs_dir)\n",
    "test_cats_dir = os.path.join(test_dir, 'cats')\n",
    "make_dir(test_cats_dir)\n",
    "test_dogs_dir = os.path.join(test_dir, 'dogs')\n",
    "make_dir(test_dogs_dir)"
   ]
  },
  {
   "cell_type": "markdown",
   "id": "standing-mounting",
   "metadata": {},
   "source": [
    "#### Copy 1000 files"
   ]
  },
  {
   "cell_type": "code",
   "execution_count": null,
   "id": "least-choir",
   "metadata": {},
   "outputs": [],
   "source": [
    "import shutil"
   ]
  },
  {
   "cell_type": "code",
   "execution_count": null,
   "id": "authentic-burden",
   "metadata": {},
   "outputs": [],
   "source": [
    "fnames = ['cat.{}.jpg'.format(i) for i in range(0, 1000, 1)]\n",
    "for fname in fnames:\n",
    "        src = os.path.join(original_dataset_dir, fname)\n",
    "        dst = os.path.join(train_cats_dir, fname)\n",
    "        shutil.copyfile(src, dst)"
   ]
  },
  {
   "cell_type": "code",
   "execution_count": null,
   "id": "copyrighted-thunder",
   "metadata": {},
   "outputs": [],
   "source": [
    "fnames = ['cat.{}.jpg'.format(i) for i in range(1000, 1500)]\n",
    "for fname in fnames:\n",
    "    src = os.path.join(original_dataset_dir, fname)\n",
    "    dst = os.path.join(validation_cats_dir, fname)\n",
    "    shutil.copyfile(src, dst)"
   ]
  },
  {
   "cell_type": "code",
   "execution_count": null,
   "id": "streaming-example",
   "metadata": {},
   "outputs": [],
   "source": [
    "fnames = ['cat.{}.jpg'.format(i) for i in range(1500, 2000)]\n",
    "for fname in fnames:\n",
    "    src = os.path.join(original_dataset_dir, fname)\n",
    "    dst = os.path.join(test_cats_dir, fname)\n",
    "    shutil.copyfile(src, dst)"
   ]
  },
  {
   "cell_type": "code",
   "execution_count": null,
   "id": "superb-providence",
   "metadata": {},
   "outputs": [],
   "source": [
    "fnames = ['dog.{}.jpg'.format(i) for i in range(0, 1000, 1)]\n",
    "for fname in fnames:\n",
    "    src = os.path.join(original_dataset_dir, fname)\n",
    "    dst = os.path.join(train_dogs_dir, fname)\n",
    "    shutil.copyfile(src, dst)"
   ]
  },
  {
   "cell_type": "code",
   "execution_count": null,
   "id": "parallel-carter",
   "metadata": {},
   "outputs": [],
   "source": [
    "fnames = ['dog.{}.jpg'.format(i) for i in range(1000, 1500)]\n",
    "for fname in fnames:\n",
    "    src = os.path.join(original_dataset_dir, fname)\n",
    "    dst = os.path.join(validation_dogs_dir, fname)\n",
    "    shutil.copyfile(src, dst)\n"
   ]
  },
  {
   "cell_type": "code",
   "execution_count": null,
   "id": "typical-problem",
   "metadata": {},
   "outputs": [],
   "source": [
    "fnames = ['dog.{}.jpg'.format(i) for i in range(1500, 2000)]\n",
    "for fname in fnames:\n",
    "    src = os.path.join(original_dataset_dir, fname)\n",
    "    dst = os.path.join(test_dogs_dir, fname)\n",
    "    shutil.copyfile(src, dst)"
   ]
  },
  {
   "cell_type": "code",
   "execution_count": null,
   "id": "interested-component",
   "metadata": {},
   "outputs": [],
   "source": [
    "print('total training cat images:', len(os.listdir(train_cats_dir)))"
   ]
  },
  {
   "cell_type": "code",
   "execution_count": null,
   "id": "checked-cheese",
   "metadata": {},
   "outputs": [],
   "source": [
    "print('total training dog images:', len(os.listdir(train_dogs_dir)))"
   ]
  },
  {
   "cell_type": "code",
   "execution_count": null,
   "id": "identified-blind",
   "metadata": {},
   "outputs": [],
   "source": [
    "print('total validation cat images:', len(os.listdir(validation_cats_dir)))"
   ]
  },
  {
   "cell_type": "code",
   "execution_count": null,
   "id": "experimental-interpretation",
   "metadata": {},
   "outputs": [],
   "source": [
    "print('total validation dog images:', len(os.listdir(validation_dogs_dir)))"
   ]
  },
  {
   "cell_type": "code",
   "execution_count": null,
   "id": "naked-andrew",
   "metadata": {},
   "outputs": [],
   "source": [
    "print('total test cat images:', len(os.listdir(test_cats_dir)))"
   ]
  },
  {
   "cell_type": "code",
   "execution_count": null,
   "id": "perceived-qatar",
   "metadata": {},
   "outputs": [],
   "source": [
    "print('total test dog images:', len(os.listdir(test_dogs_dir)))"
   ]
  },
  {
   "cell_type": "markdown",
   "id": "perfect-logging",
   "metadata": {},
   "source": [
    "#### Configure optimizer and cost function"
   ]
  },
  {
   "cell_type": "code",
   "execution_count": null,
   "id": "growing-arnold",
   "metadata": {
    "scrolled": true
   },
   "outputs": [],
   "source": [
    "from tensorflow.keras import optimizers\n",
    "model.compile(loss='binary_crossentropy',\n",
    "              optimizer=optimizers.RMSprop(lr=1e-4),\n",
    "              metrics=['acc'])"
   ]
  },
  {
   "cell_type": "markdown",
   "id": "intelligent-handling",
   "metadata": {},
   "source": [
    "#### Preprocess data"
   ]
  },
  {
   "cell_type": "code",
   "execution_count": null,
   "id": "bridal-printer",
   "metadata": {},
   "outputs": [],
   "source": [
    "from keras.preprocessing.image import ImageDataGenerator\n",
    "\n",
    "train_datagen = ImageDataGenerator(rescale=1./255)\n",
    "\n",
    "test_datagen = ImageDataGenerator(rescale=1./255)\n",
    "\n",
    "train_generator = train_datagen.flow_from_directory(\n",
    "            train_dir,\n",
    "            target_size=(150, 150),\n",
    "            batch_size=20, class_mode='binary')\n",
    "\n",
    "validation_generator = test_datagen.flow_from_directory(\n",
    "            validation_dir,\n",
    "            target_size=(150, 150),\n",
    "            batch_size=20,\n",
    "            class_mode='binary')\n",
    "\n",
    "for data_batch, labels_batch in train_generator:\n",
    "    print('data batch shape:', data_batch.shape)\n",
    "    print('labels batch shape:', labels_batch.shape)\n",
    "    break"
   ]
  },
  {
   "cell_type": "markdown",
   "id": "imported-flexibility",
   "metadata": {},
   "source": [
    "#### Fit with data generator"
   ]
  },
  {
   "cell_type": "markdown",
   "id": "suspected-sister",
   "metadata": {},
   "source": [
    "- Epoch --> the # of iterations, (loop through the whole training sample)\n",
    "- Steps_per_epoch --> usually, we use reshuffle method, and each time select a mini-batch, this paramter equals to total sample size m divide by batch-size. Also, this is the \n",
    "paramter that indicates how many gradient descent steps are moved in one epoch."
   ]
  },
  {
   "cell_type": "code",
   "execution_count": null,
   "id": "numerous-march",
   "metadata": {},
   "outputs": [],
   "source": [
    "\n",
    "history = model.fit_generator(\n",
    "      train_generator,\n",
    "      steps_per_epoch=100,\n",
    "      epochs=30,\n",
    "      validation_data=validation_generator,\n",
    "      validation_steps=50)"
   ]
  },
  {
   "cell_type": "markdown",
   "id": "entire-comparison",
   "metadata": {},
   "source": [
    "#### Save the model"
   ]
  },
  {
   "cell_type": "code",
   "execution_count": null,
   "id": "collected-tuner",
   "metadata": {},
   "outputs": [],
   "source": [
    "model.save('cats_and_dogs_small_1.h5')"
   ]
  },
  {
   "cell_type": "markdown",
   "id": "precious-denial",
   "metadata": {},
   "source": [
    "#### Plot training vs validation"
   ]
  },
  {
   "cell_type": "code",
   "execution_count": null,
   "id": "deadly-kernel",
   "metadata": {},
   "outputs": [],
   "source": [
    "import matplotlib.pyplot as plt\n",
    "acc = history.history['acc']\n",
    "val_acc = history.history['val_acc']\n",
    "loss = history.history['loss']\n",
    "val_loss = history.history['val_loss']\n",
    "epochs = range(1, len(acc) + 1)\n",
    "plt.plot(epochs, acc, 'bo', label='Training acc')\n",
    "plt.plot(epochs, val_acc, 'b', label='Validation acc')\n",
    "plt.title('Training and validation accuracy')\n",
    "plt.legend()\n",
    "plt.figure()\n",
    "plt.plot(epochs, loss, 'bo', label='Training loss')\n",
    "plt.plot(epochs, val_loss, 'b', label='Validation loss')\n",
    "plt.title('Training and validation loss')\n",
    "plt.legend()\n",
    "plt.show()"
   ]
  },
  {
   "cell_type": "markdown",
   "id": "muslim-politics",
   "metadata": {},
   "source": [
    "## Enrich Data with Data Augmentation"
   ]
  },
  {
   "cell_type": "markdown",
   "id": "atmospheric-uncle",
   "metadata": {},
   "source": [
    "#### Define Data Transformation"
   ]
  },
  {
   "cell_type": "code",
   "execution_count": null,
   "id": "inappropriate-perth",
   "metadata": {},
   "outputs": [],
   "source": [
    "from keras.preprocessing.image import ImageDataGenerator\n"
   ]
  },
  {
   "cell_type": "code",
   "execution_count": null,
   "id": "destroyed-problem",
   "metadata": {},
   "outputs": [],
   "source": [
    "datagen = ImageDataGenerator(\n",
    "      rotation_range=40,\n",
    "      width_shift_range=0.2,\n",
    "      height_shift_range=0.2,\n",
    "      shear_range=0.2,\n",
    "      zoom_range=0.2,\n",
    "      horizontal_flip=True,\n",
    "      fill_mode='nearest')\n"
   ]
  },
  {
   "cell_type": "markdown",
   "id": "acting-channel",
   "metadata": {},
   "source": [
    "#### Display Some New Data"
   ]
  },
  {
   "cell_type": "code",
   "execution_count": null,
   "id": "expensive-threshold",
   "metadata": {},
   "outputs": [],
   "source": [
    "import os"
   ]
  },
  {
   "cell_type": "code",
   "execution_count": null,
   "id": "religious-implement",
   "metadata": {},
   "outputs": [],
   "source": [
    "from keras.preprocessing import image\n",
    "fnames = [os.path.join(train_cats_dir, fname) for\n",
    "     fname in os.listdir(train_cats_dir)]\n",
    "img_path = fnames[3]\n",
    "img = image.load_img(img_path, target_size=(150, 150))\n",
    "x = image.img_to_array(img)\n",
    "x = x.reshape((1,) + x.shape)\n",
    "i=0\n",
    "for batch in datagen.flow(x, batch_size=1):\n",
    "    plt.figure(i)\n",
    "    imgplot = plt.imshow(image.array_to_img(batch[0]))\n",
    "    i += 1\n",
    "    if i % 4 == 0:\n",
    "        break\n",
    "plt.show()"
   ]
  },
  {
   "cell_type": "markdown",
   "id": "enabling-mumbai",
   "metadata": {},
   "source": [
    "#### Add Dropout"
   ]
  },
  {
   "cell_type": "code",
   "execution_count": null,
   "id": "insured-index",
   "metadata": {},
   "outputs": [],
   "source": [
    "model = models.Sequential()\n",
    "model.add(layers.Conv2D(32, (3, 3), activation='relu',\n",
    "                        input_shape=(150, 150, 3)))\n",
    "model.add(layers.MaxPooling2D((2, 2)))\n",
    "model.add(layers.Conv2D(64, (3, 3), activation='relu'))\n",
    "model.add(layers.MaxPooling2D((2, 2)))\n",
    "model.add(layers.Conv2D(128, (3, 3), activation='relu'))\n",
    "model.add(layers.MaxPooling2D((2, 2)))\n",
    "model.add(layers.Conv2D(128, (3, 3), activation='relu'))\n",
    "model.add(layers.MaxPooling2D((2, 2)))\n",
    "model.add(layers.Flatten())\n",
    "model.add(layers.Dropout(0.5)) # add dropout\n",
    "model.add(layers.Dense(512, activation='relu'))\n",
    "model.add(layers.Dense(1, activation='sigmoid'))\n",
    "model.compile(loss='binary_crossentropy',\n",
    "              optimizer=optimizers.RMSprop(lr=1e-4),\n",
    "              metrics=['acc'])"
   ]
  },
  {
   "cell_type": "code",
   "execution_count": null,
   "id": "treated-lecture",
   "metadata": {},
   "outputs": [],
   "source": [
    "train_datagen = ImageDataGenerator(\n",
    "    rescale=1./255,\n",
    "    rotation_range=40,\n",
    "    width_shift_range=0.2,\n",
    "    height_shift_range=0.2,\n",
    "    shear_range=0.2,\n",
    "    zoom_range=0.2,\n",
    "    horizontal_flip=True,)"
   ]
  },
  {
   "cell_type": "code",
   "execution_count": null,
   "id": "laughing-perspective",
   "metadata": {},
   "outputs": [],
   "source": [
    "test_datagen = ImageDataGenerator(rescale=1./255)"
   ]
  },
  {
   "cell_type": "code",
   "execution_count": null,
   "id": "developed-pepper",
   "metadata": {},
   "outputs": [],
   "source": [
    "train_generator = train_datagen.flow_from_directory(\n",
    "    train_dir,\n",
    "    target_size=(150, 150),\n",
    "    batch_size=32,\n",
    "    class_mode='binary')"
   ]
  },
  {
   "cell_type": "code",
   "execution_count": null,
   "id": "primary-robinson",
   "metadata": {},
   "outputs": [],
   "source": [
    "validation_generator = test_datagen.flow_from_directory(\n",
    "        validation_dir,\n",
    "        target_size=(150, 150),\n",
    "        batch_size=32,\n",
    "        class_mode='binary')\n",
    "history = model.fit_generator(\n",
    "      train_generator,\n",
    "      steps_per_epoch=100,\n",
    "      epochs=100,\n",
    "      validation_data=validation_generator,\n",
    "      validation_steps=50)"
   ]
  },
  {
   "cell_type": "code",
   "execution_count": null,
   "id": "prepared-orleans",
   "metadata": {},
   "outputs": [],
   "source": [
    "model.save('cats_and_dogs_small_2.h5')"
   ]
  },
  {
   "cell_type": "code",
   "execution_count": null,
   "id": "legitimate-saturday",
   "metadata": {},
   "outputs": [],
   "source": []
  },
  {
   "cell_type": "code",
   "execution_count": null,
   "id": "competitive-thomson",
   "metadata": {},
   "outputs": [],
   "source": [
    "from tensorflow import keras\n"
   ]
  },
  {
   "cell_type": "code",
   "execution_count": null,
   "id": "dominican-stomach",
   "metadata": {},
   "outputs": [],
   "source": [
    "model = keras.models.load_model('cats_and_dogs_small_2.h5')\n"
   ]
  },
  {
   "cell_type": "code",
   "execution_count": null,
   "id": "upper-sigma",
   "metadata": {},
   "outputs": [],
   "source": [
    "import matplotlib.pyplot as plt\n",
    "acc = history.history['acc']\n",
    "val_acc = history.history['val_acc']\n",
    "loss = history.history['loss']\n",
    "val_loss = history.history['val_loss']\n",
    "epochs = range(1, len(acc) + 1)\n",
    "plt.plot(epochs, acc, 'bo', label='Training acc')\n",
    "plt.plot(epochs, val_acc, 'b', label='Validation acc')\n",
    "plt.title('Training and validation accuracy')\n",
    "plt.legend()\n",
    "plt.figure()\n",
    "plt.plot(epochs, loss, 'bo', label='Training loss')\n",
    "plt.plot(epochs, val_loss, 'b', label='Validation loss')\n",
    "plt.title('Training and validation loss')\n",
    "plt.legend()\n",
    "plt.show()"
   ]
  },
  {
   "cell_type": "markdown",
   "id": "nearby-paste",
   "metadata": {},
   "source": [
    "## Use Pretrained Model (VGG)"
   ]
  },
  {
   "cell_type": "code",
   "execution_count": null,
   "id": "bibliographic-veteran",
   "metadata": {},
   "outputs": [],
   "source": [
    "\n",
    "from tensorflow.keras.applications import VGG16\n",
    "conv_base = VGG16(weights='imagenet', # the checkpoint from which to initialize\n",
    "                  include_top=False, # includes the densely connected classifier or not?\n",
    "                  input_shape=(150, 150, 3)) # inputs data shape you will feed to the data, note the flow_from_directory 150*150 and rgb"
   ]
  },
  {
   "cell_type": "code",
   "execution_count": null,
   "id": "advisory-graphics",
   "metadata": {},
   "outputs": [],
   "source": [
    "conv_base.summary()"
   ]
  },
  {
   "cell_type": "markdown",
   "id": "wired-samuel",
   "metadata": {},
   "source": [
    "#### Method-1"
   ]
  },
  {
   "cell_type": "code",
   "execution_count": null,
   "id": "ultimate-quarter",
   "metadata": {},
   "outputs": [],
   "source": [
    "# We will output the conv_base results, then feed them with densely connected layers"
   ]
  },
  {
   "cell_type": "code",
   "execution_count": null,
   "id": "divine-civilian",
   "metadata": {},
   "outputs": [],
   "source": [
    "base_dir = '/Users/junsu/Dropbox/deep_learning/tf1/tf1_lib/data_inputs//cats_and_dogs_small'\n",
    "train_dir = os.path.join(base_dir, 'train')\n",
    "validation_dir = os.path.join(base_dir, 'validation') \n",
    "test_dir = os.path.join(base_dir, 'test')"
   ]
  },
  {
   "cell_type": "code",
   "execution_count": null,
   "id": "worst-gather",
   "metadata": {},
   "outputs": [],
   "source": [
    "datagen = ImageDataGenerator(rescale=1./255) \n",
    "batch_size = 20"
   ]
  },
  {
   "cell_type": "code",
   "execution_count": null,
   "id": "worldwide-picnic",
   "metadata": {},
   "outputs": [],
   "source": [
    "def extract_features(directory, sample_count):\n",
    "    features = np.zeros(shape=(sample_count, 4, 4, 512)) # VGG16 output, found in the block5_pool from model.summary()\n",
    "    labels = np.zeros(shape=(sample_count))\n",
    "    # flow_from_directory --> will return an infinite iterator\n",
    "    generator = datagen.flow_from_directory( # color_model=default --> rgb (channel 3)\n",
    "        directory, \n",
    "        target_size=(150, 150), # image (height, width) that will be generated\n",
    "        batch_size=batch_size, \n",
    "        class_mode='binary') # binary, categorical\n",
    "    i=0\n",
    "    for inputs_batch, labels_batch in generator:\n",
    "        #Note that because generators yield data indefinitely in a loop, you must break after every image has been seen once.\n",
    "        features_batch = conv_base.predict(inputs_batch) # here calls the conv_base.predict to convert raw inputs to conv_base.outputs\n",
    "        features[i * batch_size : (i + 1) * batch_size] = features_batch \n",
    "        labels[i * batch_size : (i + 1) * batch_size] = labels_batch\n",
    "        i += 1\n",
    "        if i * batch_size >= sample_count: # since the iterator is indefinite, we stop once we get enough data (total is \"sample_count\")\n",
    "            break\n",
    "    return features, labels"
   ]
  },
  {
   "cell_type": "code",
   "execution_count": null,
   "id": "medieval-showcase",
   "metadata": {},
   "outputs": [],
   "source": [
    "import numpy as np\n",
    "train_features, train_labels = extract_features(train_dir, 2000) \n",
    "print(train_features.shape)\n",
    "print(train_labels.shape)\n",
    "\n",
    "# The so-called \"features\" are the outputs of the VGG16 without fully densed layers\n",
    "\n",
    "validation_features, validation_labels = extract_features(validation_dir, 1000) \n",
    "test_features, test_labels = extract_features(test_dir, 1000)\n",
    "\n",
    "# we flat them, before feed into our new layers\n",
    "\n",
    "train_features = np.reshape(train_features, (2000, 4 * 4 * 512))\n",
    "validation_features = np.reshape(validation_features, (1000, 4 * 4 * 512))\n",
    "test_features = np.reshape(test_features, (1000, 4 * 4 * 512))\n"
   ]
  },
  {
   "cell_type": "code",
   "execution_count": null,
   "id": "imported-truth",
   "metadata": {},
   "outputs": [],
   "source": [
    "# Define our fully densed layers\n",
    "from keras import models\n",
    "from keras import layers\n",
    "from tensorflow.keras import optimizers\n",
    "model = models.Sequential()\n",
    "model.add(layers.Dense(256, activation='relu', input_dim=4 * 4 * 512)) # same input, as we flatted before\n",
    "model.add(layers.Dropout(0.5)) # note, we use dropout layer\n",
    "model.add(layers.Dense(1, activation='sigmoid'))\n",
    "model.compile(optimizer=optimizers.RMSprop(lr=2e-5),\n",
    "              loss='binary_crossentropy',\n",
    "              metrics=['acc'])\n",
    "history = model.fit(train_features, train_labels,\n",
    "                    epochs=30,\n",
    "                    batch_size=20,\n",
    "                    validation_data=(validation_features, validation_labels))"
   ]
  },
  {
   "cell_type": "code",
   "execution_count": null,
   "id": "indie-speech",
   "metadata": {},
   "outputs": [],
   "source": [
    "import matplotlib.pyplot as plt\n",
    "acc = history.history['acc']\n",
    "val_acc = history.history['val_acc']\n",
    "loss = history.history['loss']\n",
    "val_loss = history.history['val_loss']\n",
    "epochs = range(1, len(acc) + 1)\n",
    "plt.plot(epochs, acc, 'bo', label='Training acc')\n",
    "plt.plot(epochs, val_acc, 'b', label='Validation acc')\n",
    "plt.title('Training and validation accuracy')\n",
    "plt.legend()\n",
    "plt.figure()\n",
    "plt.plot(epochs, loss, 'bo', label='Training loss')\n",
    "plt.plot(epochs, val_loss, 'b', label='Validation loss')\n",
    "plt.title('Training and validation loss')\n",
    "plt.legend()\n",
    "plt.show()"
   ]
  },
  {
   "cell_type": "markdown",
   "id": "innocent-rainbow",
   "metadata": {},
   "source": [
    "#### Method-2 "
   ]
  },
  {
   "cell_type": "markdown",
   "id": "studied-logic",
   "metadata": {},
   "source": [
    " In fact, what the book says is \"you cannot do data augmentation in method-1\" seems to be wrong, see this stackoverflow answer\n",
    " https://stats.stackexchange.com/questions/331162/feature-extraction-freezing-convolutional-base-vs-training-on-extracted-featur/366465?newreg=4f0695a759ea4446ad76161b0e495093\n",
    " The reason, why we might want to avoid method-1, is\n",
    " \n",
    "Theoretically, you could use data augmentation for the first method. Instead of generating augmented samples on-the-fly, you would first generate a huge number of those (say, 1000 variants of every sample) and compute their convnet features, which you would use to train the classifier. The downsides of this approach are 1) higher memory requirements, \n",
    "\n",
    "\n",
    "Also, the 96% accuracy is not correct. There is a bug in the keras https://stats.stackexchange.com/a/366465/38442.\n",
    "Removing conv_base.trainable = False will give 96%."
   ]
  },
  {
   "cell_type": "code",
   "execution_count": null,
   "id": "parliamentary-problem",
   "metadata": {},
   "outputs": [],
   "source": [
    "from keras import models\n",
    "from keras import layers\n",
    "model = models.Sequential()\n",
    "model.add(conv_base)\n",
    "model.add(layers.Flatten())\n",
    "model.add(layers.Dense(256, activation='relu'))\n",
    "model.add(layers.Dense(1, activation='sigmoid'))"
   ]
  },
  {
   "cell_type": "code",
   "execution_count": null,
   "id": "thorough-softball",
   "metadata": {},
   "outputs": [],
   "source": [
    "from keras.preprocessing.image import ImageDataGenerator\n",
    "from tensorflow.keras import optimizers\n",
    "train_datagen = ImageDataGenerator(\n",
    "      rescale=1./255,\n",
    "      rotation_range=40,\n",
    "      width_shift_range=0.2,\n",
    "      height_shift_range=0.2,\n",
    "      shear_range=0.2,\n",
    "      zoom_range=0.2,\n",
    "      horizontal_flip=True,\n",
    "      fill_mode='nearest')"
   ]
  },
  {
   "cell_type": "code",
   "execution_count": null,
   "id": "northern-allah",
   "metadata": {},
   "outputs": [],
   "source": [
    "        #Note that the validation data shouldn’t be augmented!\n",
    "test_datagen = ImageDataGenerator(rescale=1./255)\n",
    "train_generator = train_datagen.flow_from_directory(\n",
    "            train_dir,\n",
    "            target_size=(150, 150),\n",
    "            batch_size=20,\n",
    "            class_mode='binary')\n",
    "validation_generator = test_datagen.flow_from_directory(\n",
    "            validation_dir,\n",
    "            target_size=(150, 150),\n",
    "            batch_size=20,\n",
    "            class_mode='binary')\n",
    "\n",
    "model.compile(loss='binary_crossentropy',\n",
    "              optimizer=optimizers.RMSprop(lr=2e-5),\n",
    "              metrics=['acc'])"
   ]
  },
  {
   "cell_type": "code",
   "execution_count": null,
   "id": "exceptional-halloween",
   "metadata": {},
   "outputs": [],
   "source": [
    "conv_base.trainable = False"
   ]
  },
  {
   "cell_type": "code",
   "execution_count": null,
   "id": "impossible-charter",
   "metadata": {},
   "outputs": [],
   "source": [
    "history = model.fit_generator(\n",
    "      train_generator,\n",
    "      steps_per_epoch=100,\n",
    "      epochs=30,\n",
    "      validation_data=validation_generator,\n",
    "      validation_steps=50)"
   ]
  },
  {
   "cell_type": "code",
   "execution_count": null,
   "id": "deadly-tokyo",
   "metadata": {},
   "outputs": [],
   "source": [
    "import matplotlib.pyplot as plt\n",
    "acc = history.history['acc']\n",
    "val_acc = history.history['val_acc']\n",
    "loss = history.history['loss']\n",
    "val_loss = history.history['val_loss']\n",
    "epochs = range(1, len(acc) + 1)\n",
    "plt.plot(epochs, acc, 'bo', label='Training acc')\n",
    "plt.plot(epochs, val_acc, 'b', label='Validation acc')\n",
    "plt.title('Training and validation accuracy')\n",
    "plt.legend()\n",
    "plt.figure()\n",
    "plt.plot(epochs, loss, 'bo', label='Training loss')\n",
    "plt.plot(epochs, val_loss, 'b', label='Validation loss')\n",
    "plt.title('Training and validation loss')\n",
    "plt.legend()\n",
    "plt.show()"
   ]
  },
  {
   "cell_type": "markdown",
   "id": "thick-resident",
   "metadata": {},
   "source": [
    "### Fine-Tuning"
   ]
  },
  {
   "cell_type": "code",
   "execution_count": null,
   "id": "known-chamber",
   "metadata": {},
   "outputs": [],
   "source": [
    "conv_base.trainable = True\n",
    "set_trainable = False\n",
    "for layer in conv_base.layers:\n",
    "    if layer.name == 'block5_conv1':\n",
    "        set_trainable = True\n",
    "    if set_trainable:\n",
    "        layer.trainable = True\n",
    "    else:\n",
    "        layer.trainable = False"
   ]
  },
  {
   "cell_type": "code",
   "execution_count": null,
   "id": "voluntary-convergence",
   "metadata": {},
   "outputs": [],
   "source": [
    "model.compile(loss='binary_crossentropy',\n",
    "                      optimizer=optimizers.RMSprop(lr=1e-5),\n",
    "                      metrics=['acc'])\n",
    "history = model.fit_generator(\n",
    "              train_generator,\n",
    "              steps_per_epoch=100,\n",
    "              epochs=100,\n",
    "              validation_data=validation_generator,\n",
    "              validation_steps=50)"
   ]
  },
  {
   "cell_type": "code",
   "execution_count": null,
   "id": "prepared-syndicate",
   "metadata": {},
   "outputs": [],
   "source": [
    "import matplotlib.pyplot as plt\n",
    "acc = history.history['acc']\n",
    "val_acc = history.history['val_acc']\n",
    "loss = history.history['loss']\n",
    "val_loss = history.history['val_loss']\n",
    "epochs = range(1, len(acc) + 1)\n",
    "plt.plot(epochs, acc, 'bo', label='Training acc')\n",
    "plt.plot(epochs, val_acc, 'b', label='Validation acc')\n",
    "plt.title('Training and validation accuracy')\n",
    "plt.legend()\n",
    "plt.figure()\n",
    "plt.plot(epochs, loss, 'bo', label='Training loss')\n",
    "plt.plot(epochs, val_loss, 'b', label='Validation loss')\n",
    "plt.title('Training and validation loss')\n",
    "plt.legend()\n",
    "plt.show()"
   ]
  },
  {
   "cell_type": "code",
   "execution_count": null,
   "id": "early-breed",
   "metadata": {
    "scrolled": true
   },
   "outputs": [],
   "source": [
    "def smooth_curve(points, factor=0.8):\n",
    "    smoothed_points = []\n",
    "    for point in points:\n",
    "        if smoothed_points:\n",
    "            previous = smoothed_points[-1]\n",
    "            smoothed_points.append(previous * factor + point * (1 - factor))\n",
    "        else:\n",
    "            smoothed_points.append(point)\n",
    "    return smoothed_points\n",
    "plt.plot(epochs,\n",
    "         smooth_curve(acc), 'bo', label='Smoothed training acc')\n",
    "plt.plot(epochs,\n",
    "         smooth_curve(val_acc), 'b', label='Smoothed validation acc')\n",
    "plt.title('Training and validation accuracy')\n",
    "plt.legend()\n",
    "plt.figure()\n",
    "plt.plot(epochs,\n",
    "         smooth_curve(loss), 'bo', label='Smoothed training loss')\n",
    "plt.plot(epochs,\n",
    "         smooth_curve(val_loss), 'b', label='Smoothed validation loss')\n",
    "plt.title('Training and validation loss')\n",
    "plt.legend()\n",
    "plt.show()"
   ]
  },
  {
   "cell_type": "code",
   "execution_count": null,
   "id": "motivated-precipitation",
   "metadata": {},
   "outputs": [],
   "source": [
    "test_generator = test_datagen.flow_from_directory(\n",
    "        test_dir,\n",
    "        target_size=(150, 150),\n",
    "        batch_size=20,\n",
    "        class_mode='binary')\n",
    "test_loss, test_acc = model.evaluate_generator(test_generator, steps=50)\n",
    "print('test acc:', test_acc)"
   ]
  },
  {
   "cell_type": "markdown",
   "id": "civilian-garage",
   "metadata": {},
   "source": [
    "## Visualize Convets Learn"
   ]
  },
  {
   "cell_type": "markdown",
   "id": "closing-approval",
   "metadata": {},
   "source": [
    "- Visualizing intermediate convnet outputs (intermediate activations) —Useful for understanding how successive convnet layers transform their input, and for get- ting a first idea of the meaning of individual convnet filters.\n",
    "- Visualizing convnets filters—Useful for understanding precisely what visual pat- tern or concept each filter in a convnet is receptive to.\n",
    "- Visualizing heatmaps of class activation in an image—Useful for understanding which parts of an image were identified as belonging to a given class, thus allow- ing you to localize objects in images."
   ]
  },
  {
   "cell_type": "markdown",
   "id": "unlike-referral",
   "metadata": {},
   "source": [
    "### Visualize Intermediate Activations"
   ]
  },
  {
   "cell_type": "code",
   "execution_count": null,
   "id": "legendary-oregon",
   "metadata": {},
   "outputs": [],
   "source": [
    "# Load the simple model we created"
   ]
  },
  {
   "cell_type": "code",
   "execution_count": null,
   "id": "median-thirty",
   "metadata": {},
   "outputs": [],
   "source": [
    "from keras.models import load_model\n",
    "model = load_model('cats_and_dogs_small_2.h5')\n",
    "model.summary()  "
   ]
  },
  {
   "cell_type": "code",
   "execution_count": null,
   "id": "computational-wireless",
   "metadata": {},
   "outputs": [],
   "source": [
    "img_path = './data_inputs/archive/train/train/cat.1700.jpg'\n",
    "from keras.preprocessing import image \n",
    "import numpy as np\n",
    "\n",
    "img = image.load_img(img_path, target_size=(150, 150)) \n",
    "img_tensor = image.img_to_array(img)\n",
    "img_tensor = np.expand_dims(img_tensor, axis=0) \n",
    "img_tensor /= 255.\n",
    "print(img_tensor.shape)"
   ]
  },
  {
   "cell_type": "code",
   "execution_count": null,
   "id": "analyzed-spain",
   "metadata": {},
   "outputs": [],
   "source": [
    "import matplotlib.pyplot as plt\n",
    "plt.imshow(img_tensor[0])\n",
    "plt.show()"
   ]
  },
  {
   "cell_type": "code",
   "execution_count": null,
   "id": "racial-positive",
   "metadata": {},
   "outputs": [],
   "source": [
    "from keras import models\n",
    "# Extract the output of the top 8 layers\n",
    "layer_outputs = [layer.output for layer in model.layers[:8]] \n",
    "# Create a model that will return these outputs (8 outputs), in general model can \n",
    "# have multiple inputs and multiple outputs\n",
    "activation_model = models.Model(inputs=model.input, outputs=layer_outputs)"
   ]
  },
  {
   "cell_type": "code",
   "execution_count": null,
   "id": "auburn-supervisor",
   "metadata": {},
   "outputs": [],
   "source": [
    "# The model has 4 activation layers + 4 pooling layers\n",
    "activation_model.summary()"
   ]
  },
  {
   "cell_type": "code",
   "execution_count": null,
   "id": "adapted-brighton",
   "metadata": {},
   "outputs": [],
   "source": [
    "# The activations have 4 outputs for activations\n",
    "activations = activation_model.predict(img_tensor)"
   ]
  },
  {
   "cell_type": "code",
   "execution_count": null,
   "id": "controversial-catalyst",
   "metadata": {},
   "outputs": [],
   "source": [
    "first_layer_activation = activations[0]"
   ]
  },
  {
   "cell_type": "code",
   "execution_count": null,
   "id": "fifty-nomination",
   "metadata": {},
   "outputs": [],
   "source": [
    "# This is a 148 * 148 image with 32 channels\n",
    "print(first_layer_activation.shape)"
   ]
  },
  {
   "cell_type": "code",
   "execution_count": null,
   "id": "studied-moore",
   "metadata": {},
   "outputs": [],
   "source": [
    "# Plot the 4th channel\n",
    "import matplotlib.pyplot as plt\n",
    "plt.matshow(first_layer_activation[0, :, :, 4], cmap='viridis')"
   ]
  },
  {
   "cell_type": "code",
   "execution_count": null,
   "id": "angry-canon",
   "metadata": {},
   "outputs": [],
   "source": [
    "# Visualize the 7th channel"
   ]
  },
  {
   "cell_type": "code",
   "execution_count": null,
   "id": "congressional-serve",
   "metadata": {},
   "outputs": [],
   "source": [
    "for i in range(0, 32, 1):\n",
    "    plt.matshow(first_layer_activation[0, :, :, i], cmap='viridis')"
   ]
  },
  {
   "cell_type": "code",
   "execution_count": null,
   "id": "shared-portugal",
   "metadata": {},
   "outputs": [],
   "source": [
    "# Next plot all the channels for the 8 layers"
   ]
  },
  {
   "cell_type": "markdown",
   "id": "minimal-distance",
   "metadata": {},
   "source": [
    "There are a few things to note here:\n",
    "- The first layer acts as a collection of various edge detectors. At that stage, the activations retain almost all of the information present in the initial picture.\n",
    "- As you go higher, the activations become increasingly abstract and less visually\n",
    "interpretable. They begin to encode higher-level concepts such as “cat ear” and “cat eye.” Higher presentations carry increasingly less information about the visual contents of the image, and increasingly more information related to the class of the image.\n",
    "- The sparsity of the activations increases with the depth of the layer: in the first layer, all filters are activated by the input image; but in the following layers, more and more filters are blank. This means the pattern encoded by the filter isn’t found in the input image."
   ]
  },
  {
   "cell_type": "code",
   "execution_count": null,
   "id": "compressed-alberta",
   "metadata": {},
   "outputs": [],
   "source": [
    "layer_names = []\n",
    "for layer in model.layers[:8]:\n",
    "    layer_names.append(layer.name)\n",
    "images_per_row = 16\n",
    "for layer_name, layer_activation in zip(layer_names, activations):\n",
    "    n_features = layer_activation.shape[-1]\n",
    "    size = layer_activation.shape[1]\n",
    "    n_cols = n_features // images_per_row\n",
    "    display_grid = np.zeros((size * n_cols, images_per_row * size))\n",
    "    for col in range(n_cols):\n",
    "        for row in range(images_per_row):\n",
    "            channel_image = layer_activation[0, :, :, col * images_per_row + row]\n",
    "            channel_image -= channel_image.mean()\n",
    "            channel_image /= channel_image.std()\n",
    "            channel_image *= 64\n",
    "            channel_image += 128\n",
    "            channel_image = np.clip(channel_image, 0, 255).astype('uint8')\n",
    "            display_grid[col * size : (col + 1) * size, row * size : (row + 1) * size] = channel_image\n",
    "            scale = 1. / size\n",
    "            plt.figure(figsize=(scale * display_grid.shape[1], scale * display_grid.shape[0]))\n",
    "            plt.title(layer_name)\n",
    "            plt.grid(False)\n",
    "            plt.imshow(display_grid, aspect='auto', cmap='viridis')\n",
    "            "
   ]
  },
  {
   "cell_type": "markdown",
   "id": "rural-advocacy",
   "metadata": {},
   "source": [
    "## Visualize Convets Filters"
   ]
  },
  {
   "cell_type": "markdown",
   "id": "understanding-billion",
   "metadata": {},
   "source": [
    "Another easy way to inspect the filters learned by convnets is to display the visual pattern that each filter is meant to respond to. This can be done with gradient ascent in input space: applying gradient descent to the value of the input image of a convnet so as to maximize the response of a specific filter, starting from a blank input image. The resulting input image will be one that the chosen filter is maximally responsive to."
   ]
  },
  {
   "cell_type": "markdown",
   "id": "lesbian-monaco",
   "metadata": {},
   "source": [
    "##### One Example to Show Backend.gradient"
   ]
  },
  {
   "cell_type": "code",
   "execution_count": null,
   "id": "hourly-grave",
   "metadata": {},
   "outputs": [],
   "source": [
    "from keras import backend as K\n",
    "from keras.models import Sequential\n",
    "from keras.layers import Dense, Activation\n",
    "model = Sequential()\n",
    "model.add(Dense(units=64, activation='relu',input_dim=100))\n",
    "model.add(Dense(units=10,activation='softmax'))\n",
    "model.summary()\n",
    "print('model input:', model.input)\n",
    "grads = K.gradients(model.output,[model.input])\n",
    "print('input_shape:',model.input_shape,'output_shape:',model.output_shape)\n",
    "print('grads:',grads)\n",
    "print(len(grads))\n",
    "print('grads[0]_shape:',grads[0].shape)\n"
   ]
  },
  {
   "cell_type": "markdown",
   "id": "given-disabled",
   "metadata": {},
   "source": [
    "##### Continue Our Example"
   ]
  },
  {
   "cell_type": "code",
   "execution_count": null,
   "id": "northern-helena",
   "metadata": {},
   "outputs": [],
   "source": [
    "#tf.keras.backend.mean(\n",
    "#    x,\n",
    "#    axis=None,\n",
    "#    keepdims=False\n",
    "#)\n",
    "# return a mean of a tensor, alone a axis, either keepdim or not\n",
    "\n",
    "# tf.keras.backend.gradients(\n",
    "#    loss,\n",
    "#    variables\n",
    "#)\n",
    "\n",
    "#Returns the gradients of loss w.r.t. variables."
   ]
  },
  {
   "cell_type": "code",
   "execution_count": null,
   "id": "constitutional-header",
   "metadata": {},
   "outputs": [],
   "source": [
    "from tensorflow.compat.v1.keras.applications import VGG16\n",
    "import numpy as np\n",
    "from tensorflow.compat.v1.keras import backend as K\n",
    "\n",
    "model = VGG16(weights='imagenet',\n",
    "              include_top=False)\n",
    "\n",
    "# disable eager execution\n",
    "import tensorflow as tf\n",
    "tf.compat.v1.disable_eager_execution()"
   ]
  },
  {
   "cell_type": "code",
   "execution_count": null,
   "id": "concerned-conspiracy",
   "metadata": {},
   "outputs": [],
   "source": [
    "def deprocess_image(x):\n",
    "    x -= x.mean()\n",
    "    x /= (x.std() + 1e-5)\n",
    "    x *= 0.1\n",
    "\n",
    "    x += 0.5\n",
    "    x = np.clip(x, 0, 1)\n",
    "    x *= 255\n",
    "    x = np.clip(x, 0, 255).astype('uint8')\n",
    "\n",
    "    return x"
   ]
  },
  {
   "cell_type": "markdown",
   "id": "knowing-confirmation",
   "metadata": {},
   "source": [
    "What does \"keras.backend.function\" do?\n",
    "\n",
    "As per the Keras/Tensorflow manual, this function runs the computation graph that we have created in the code, taking input from the first parameter and extracting the number of outputs as per the layers mentioned in the second parameter."
   ]
  },
  {
   "cell_type": "code",
   "execution_count": null,
   "id": "promotional-quantity",
   "metadata": {},
   "outputs": [],
   "source": [
    "def generate_pattern(layer_name, filter_index, size=150):\n",
    "    layer_output = model.get_layer(layer_name).output\n",
    "    loss = K.mean(layer_output[:, :, :, filter_index])\n",
    "    \n",
    "    grads = K.gradients(loss, model.input)[0]    #Computes the gradient of the input picture with regard to this loss\n",
    "    grads /= (K.sqrt(K.mean(K.square(grads))) + 1e-5)     #Normalization trick: normalizes the gradient\n",
    "    iterate = K.function([model.input], [loss, grads])    #Returns the loss and grads given the input picture, note \"iterate\" is just defined, not used yet.\n",
    "    #    \n",
    "    input_img_data = np.random.random((1, size, size, 3)) * 20 + 128.\n",
    "    step = 1.\n",
    "    for i in range(40):\n",
    "        loss_value, grads_value = iterate([input_img_data])\n",
    "        input_img_data += grads_value * step\n",
    "    img = input_img_data[0]\n",
    "    \n",
    "    return deprocess_image(img)"
   ]
  },
  {
   "cell_type": "code",
   "execution_count": null,
   "id": "earlier-minute",
   "metadata": {},
   "outputs": [],
   "source": [
    "%matplotlib inline\n",
    "import matplotlib.pyplot as plt"
   ]
  },
  {
   "cell_type": "code",
   "execution_count": null,
   "id": "established-version",
   "metadata": {},
   "outputs": [],
   "source": [
    "plt.imshow(generate_pattern('block3_conv1', 0))"
   ]
  },
  {
   "cell_type": "markdown",
   "id": "finished-pioneer",
   "metadata": {},
   "source": [
    "#### Listing 5.39 Generating a grid of all filter response patterns in a layer"
   ]
  },
  {
   "cell_type": "code",
   "execution_count": null,
   "id": "accessible-bulgarian",
   "metadata": {},
   "outputs": [],
   "source": [
    "model.summary()"
   ]
  },
  {
   "cell_type": "code",
   "execution_count": null,
   "id": "gothic-annex",
   "metadata": {},
   "outputs": [],
   "source": [
    "layer_name = 'block1_conv1'\n",
    "size = 64\n",
    "margin = 5\n",
    "results = np.zeros((8 * size + 7 * margin, 8 * size + 7 * margin, 3))\n",
    "for i in range(8): \n",
    "    for j in range(8):\n",
    "        # block1_conv1 has 64 channels, here, we read in one channel at one time\n",
    "        filter_img = generate_pattern(layer_name, i + (j * 8), size=size)\n",
    "        horizontal_start = i * size + i * margin\n",
    "        horizontal_end = horizontal_start + size\n",
    "        vertical_start = j * size + j * margin\n",
    "        vertical_end = vertical_start + size\n",
    "        \n",
    "        results[horizontal_start: horizontal_end, vertical_start: vertical_end, :] = filter_img/255 # add 255 here, otherwise run into error \"clipping input to valid range...\"\n",
    "plt.figure(figsize=(20, 20))\n",
    "plt.imshow(results)"
   ]
  },
  {
   "cell_type": "markdown",
   "id": "native-affiliation",
   "metadata": {},
   "source": [
    "\n",
    "These filter visualizations tell you a lot about how convnet layers see the world: each layer in a convnet learns a collection of filters such that their inputs can be expressed as a combination of the filters. This is similar to how the Fourier transform decom- poses signals onto a bank of cosine functions. The filters in these convnet filter banks get increasingly complex and refined as you go higher in the model:\n",
    "\n",
    "- The filters from the first layer in the model (block1_conv1) encode simple directional edges and colors (or colored edges, in some cases).\n",
    "- The filters from block2_conv1 encode simple textures made from combina- tions of edges and colors.\n",
    "- The filters in higher layers begin to resemble textures found in natural images: feathers, eyes, leaves, and so on."
   ]
  },
  {
   "cell_type": "markdown",
   "id": "relative-magnet",
   "metadata": {},
   "source": [
    "## Visualizing Heatmaps of Class Activation"
   ]
  },
  {
   "cell_type": "markdown",
   "id": "streaming-reach",
   "metadata": {},
   "source": [
    "I’ll introduce one more visualization technique: one that is useful for understanding which parts of a given image led a convnet to its final classification decision. This is helpful for debugging the decision process of a convnet, particularly in the case of a classification mistake. It also allows you to locate specific objects in an image.\n",
    "\n",
    "This general category of techniques is called class activation map (CAM) visualization, and it consists of producing heatmaps of class activation over input images. A class acti- vation heatmap is a 2D grid of scores associated with a specific output class, computed for every location in any input image, indicating how important each location is with respect to the class under consideration. For instance, given an image fed into a dogs- versus-cats convnet, CAM visualization allows you to generate a heatmap for the class “cat,” indicating how cat-like different parts of the image are, and also a heatmap for the class “dog,” indicating how dog-like parts of the image are.\n",
    "\n",
    "The specific implementation you’ll use is the one described in “Grad-CAM: Visual Explanations from Deep Networks via Gradient-based Localization.”2 It’s very simple: it consists of taking the output feature map of a convolution layer, given an input image, and weighing every channel in that feature map by the gradient of the class with respect to the channel. Intuitively, one way to understand this trick is that you’re weighting a spatial map of “how intensely the input image activates different chan- nels” by “how important each channel is with regard to the class,” resulting in a spatial map of “how intensely the input image activates the class.”\n",
    "\n",
    "\n",
    "[2] Ramprasaath R. Selvaraju et al., arXiv (2017), https://arxiv.org/abs/ 1610.02391.\n"
   ]
  },
  {
   "cell_type": "code",
   "execution_count": 1,
   "id": "approximate-cancellation",
   "metadata": {},
   "outputs": [],
   "source": [
    "from keras.applications.vgg16 import VGG16\n",
    "from keras.preprocessing import image\n",
    "from keras.applications.vgg16 import preprocess_input, decode_predictions\n",
    "import numpy as np\n",
    "# disable eager execution\n",
    "import tensorflow as tf\n",
    "tf.compat.v1.disable_eager_execution()"
   ]
  },
  {
   "cell_type": "code",
   "execution_count": 2,
   "id": "prescribed-regulation",
   "metadata": {
    "scrolled": true
   },
   "outputs": [
    {
     "name": "stderr",
     "output_type": "stream",
     "text": [
      "2021-10-24 20:45:29.572277: I tensorflow/core/platform/cpu_feature_guard.cc:142] This TensorFlow binary is optimized with oneAPI Deep Neural Network Library (oneDNN) to use the following CPU instructions in performance-critical operations:  AVX2 FMA\n",
      "To enable them in other operations, rebuild TensorFlow with the appropriate compiler flags.\n"
     ]
    }
   ],
   "source": [
    "model = VGG16(weights='imagenet')"
   ]
  },
  {
   "cell_type": "code",
   "execution_count": 3,
   "id": "sorted-marble",
   "metadata": {},
   "outputs": [
    {
     "name": "stdout",
     "output_type": "stream",
     "text": [
      "<class 'PIL.Image.Image'>\n",
      "python imag library <PIL.Image.Image image mode=RGB size=224x224 at 0x7FD9408FD070>\n",
      "img_to_array: (224, 224, 3)\n",
      "same batch size: (1, 224, 224, 3)\n"
     ]
    },
    {
     "name": "stderr",
     "output_type": "stream",
     "text": [
      "/Users/junsu/Dropbox/workspace/ML_coursera_jupyter/env/lib/python3.9/site-packages/keras/engine/training.py:2470: UserWarning: `Model.state_updates` will be removed in a future version. This property should not be used in TensorFlow 2.0, as `updates` are applied automatically.\n",
      "  warnings.warn('`Model.state_updates` will be removed in a future version. '\n"
     ]
    }
   ],
   "source": [
    "img_path = './data_inputs/creative_commons_elephant.jpg'\n",
    "img = image.load_img(img_path, target_size=(224, 224))\n",
    "print(type(img))\n",
    "print('python imag library', img)\n",
    "x = image.img_to_array(img)\n",
    "print('img_to_array:', x.shape)\n",
    "x = np.expand_dims(x, axis=0)\n",
    "print('same batch size:', x.shape) # add one dimension to transform the array into a batch size\n",
    "x = preprocess_input(x) # channel wise normalization\n",
    "preds = model.predict(x)"
   ]
  },
  {
   "cell_type": "code",
   "execution_count": 4,
   "id": "formed-concentration",
   "metadata": {},
   "outputs": [
    {
     "name": "stdout",
     "output_type": "stream",
     "text": [
      "Predicted: [('n02504458', 'African_elephant', 0.9319904), ('n01871265', 'tusker', 0.062413033), ('n02504013', 'Indian_elephant', 0.0054751956)]\n",
      "386\n"
     ]
    }
   ],
   "source": [
    "print('Predicted:', decode_predictions(preds, top=3)[0]) # --> results will have human readable information for the predictions, in addition to pure label\n",
    "# top=3, shows up only biggest 3\n",
    "print(np.argmax(preds[0]))\n",
    "african_elephant_output = model.output[:, 386] # the 386 index is corresponding to the african elephant"
   ]
  },
  {
   "cell_type": "code",
   "execution_count": 5,
   "id": "vulnerable-deviation",
   "metadata": {},
   "outputs": [],
   "source": [
    "last_conv_layer = model.get_layer('block5_conv3') # block5_conv3 is the last \"convnets\", after it are fully densed layers"
   ]
  },
  {
   "cell_type": "markdown",
   "id": "royal-abortion",
   "metadata": {},
   "source": [
    "tf.gradients()实现ys对xs求导\n",
    "求导返回值是一个list，list的长度等于len(xs)\n",
    "假设返回值是[grad1, grad2, grad3]，ys=[y1, y2]，xs=[x1, x2, x3]。则，真实的计算过程为:\n",
    "\n",
    "- $grad1 = \\frac {y1}{x1} + \\frac {y2}{x1}$\n",
    "- $grad2 = \\frac {y1}{x2} + \\frac {y2}{x2}$\n",
    "- $grad3 = \\frac {y1}{x3} + \\frac {y2}{x3}$"
   ]
  },
  {
   "cell_type": "code",
   "execution_count": 6,
   "id": "magnetic-yorkshire",
   "metadata": {},
   "outputs": [],
   "source": [
    "from tensorflow.compat.v1.keras import backend as K\n",
    "# get the derivative of african_elephant_output wr of last_conv_layer\n",
    "# The african_elephant_output has dim=(None), the last_conv_layer is None*14*14*512, thus the grads is the same 14*14*512\n",
    "grads = K.gradients(african_elephant_output, last_conv_layer.output)[0] # here, somehow the output is a list with one element, use [0]"
   ]
  },
  {
   "cell_type": "code",
   "execution_count": 8,
   "id": "romance-rescue",
   "metadata": {},
   "outputs": [],
   "source": [
    "pooled_grads = K.mean(grads, axis=(0, 1, 2))\n",
    "\n",
    "iterate = K.function([model.input],\n",
    "                     [pooled_grads, last_conv_layer.output[0]])\n",
    "\n",
    "pooled_grads_value, conv_layer_output_value = iterate([x])\n",
    "\n",
    "for i in range(512):\n",
    "    conv_layer_output_value[:, :, i] *= pooled_grads_value[i]\n",
    "\n",
    "heatmap = np.mean(conv_layer_output_value, axis=-1)"
   ]
  },
  {
   "cell_type": "code",
   "execution_count": 9,
   "id": "limiting-louisiana",
   "metadata": {},
   "outputs": [],
   "source": [
    "%matplotlib inline\n",
    "import matplotlib.pyplot as plt"
   ]
  },
  {
   "cell_type": "code",
   "execution_count": 10,
   "id": "balanced-effort",
   "metadata": {},
   "outputs": [
    {
     "data": {
      "text/plain": [
       "<matplotlib.image.AxesImage at 0x7fb4ef604520>"
      ]
     },
     "execution_count": 10,
     "metadata": {},
     "output_type": "execute_result"
    },
    {
     "data": {
      "image/png": "[encoded data removed]",
      "text/plain": [
       "<Figure size 288x288 with 1 Axes>"
      ]
     },
     "metadata": {
      "needs_background": "light"
     },
     "output_type": "display_data"
    }
   ],
   "source": [
    "heatmap = np.maximum(heatmap, 0)\n",
    "heatmap /= np.max(heatmap)\n",
    "plt.matshow(heatmap)"
   ]
  },
  {
   "cell_type": "code",
   "execution_count": 3,
   "id": "removed-terry",
   "metadata": {
    "scrolled": true
   },
   "outputs": [],
   "source": [
    "import cv2"
   ]
  },
  {
   "cell_type": "code",
   "execution_count": 11,
   "id": "copyrighted-enhancement",
   "metadata": {},
   "outputs": [],
   "source": [
    "img = cv2.imread(img_path) \n",
    "heatmap = cv2.resize(heatmap, (img.shape[1], img.shape[0])) # resize the heatmap, to be the same size as the img (orignal)\n",
    "heatmap = np.uint8(255 * heatmap) # convert the heatmap to RGB\n",
    "heatmap = cv2.applyColorMap(heatmap, cv2.COLORMAP_JET) # applies to the heatmap\n",
    "superimposed_img = heatmap * 0.4 + img # 0.4 is the intensity factor"
   ]
  },
  {
   "cell_type": "code",
   "execution_count": 16,
   "id": "selective-insulin",
   "metadata": {},
   "outputs": [
    {
     "data": {
      "text/plain": [
       "True"
      ]
     },
     "execution_count": 16,
     "metadata": {},
     "output_type": "execute_result"
    }
   ],
   "source": [
    "cv2.imwrite('data_inputs/elephant_cam.jpg', superimposed_img)"
   ]
  },
  {
   "cell_type": "code",
   "execution_count": 18,
   "id": "improving-disposal",
   "metadata": {},
   "outputs": [
    {
     "data": {
      "image/jpeg": "[encoded data removed]",
      "text/plain": [
       "<IPython.core.display.Image object>"
      ]
     },
     "execution_count": 18,
     "metadata": {},
     "output_type": "execute_result"
    }
   ],
   "source": [
    "from IPython.display import Image\n",
    "Image(filename=\"data_inputs/elephant_cam.jpg\") "
   ]
  },
  {
   "cell_type": "code",
   "execution_count": null,
   "id": "imposed-amount",
   "metadata": {},
   "outputs": [],
   "source": []
  }
 ],
 "metadata": {
  "kernelspec": {
   "display_name": "env",
   "language": "python",
   "name": "env"
  },
  "language_info": {
   "codemirror_mode": {
    "name": "ipython",
    "version": 3
   },
   "file_extension": ".py",
   "mimetype": "text/x-python",
   "name": "python",
   "nbconvert_exporter": "python",
   "pygments_lexer": "ipython3",
   "version": "3.9.1"
  },
  "toc": {
   "colors": {
    "hover_highlight": "#DAA520",
    "running_highlight": "#FF0000",
    "selected_highlight": "#FFD700"
   },
   "moveMenuLeft": true,
   "nav_menu": {
    "height": "512px",
    "width": "252px"
   },
   "navigate_menu": true,
   "number_sections": true,
   "sideBar": true,
   "threshold": 4,
   "toc_cell": true,
   "toc_section_display": "block",
   "toc_window_display": true,
   "widenNotebook": false
  }
 },
 "nbformat": 4,
 "nbformat_minor": 5
}
