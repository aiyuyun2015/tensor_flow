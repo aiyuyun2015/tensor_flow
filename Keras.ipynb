{
 "cells": [
  {
   "cell_type": "markdown",
   "id": "casual-jewel",
   "metadata": {
    "toc": "true"
   },
   "source": [
    "# Table of Contents\n",
    " <p><div class=\"lev2 toc-item\"><a href=\"#Load-data-and-display\" data-toc-modified-id=\"Load-data-and-display-01\"><span class=\"toc-item-num\">0.1&nbsp;&nbsp;</span>Load data and display</a></div><div class=\"lev3 toc-item\"><a href=\"#Manipulate-inputs\" data-toc-modified-id=\"Manipulate-inputs-011\"><span class=\"toc-item-num\">0.1.1&nbsp;&nbsp;</span>Manipulate inputs</a></div><div class=\"lev2 toc-item\"><a href=\"#Neural-Network\" data-toc-modified-id=\"Neural-Network-02\"><span class=\"toc-item-num\">0.2&nbsp;&nbsp;</span>Neural Network</a></div><div class=\"lev3 toc-item\"><a href=\"#Introduction\" data-toc-modified-id=\"Introduction-021\"><span class=\"toc-item-num\">0.2.1&nbsp;&nbsp;</span>Introduction</a></div><div class=\"lev3 toc-item\"><a href=\"#Example\" data-toc-modified-id=\"Example-022\"><span class=\"toc-item-num\">0.2.2&nbsp;&nbsp;</span>Example</a></div><div class=\"lev1 toc-item\"><a href=\"#CNN\" data-toc-modified-id=\"CNN-1\"><span class=\"toc-item-num\">1&nbsp;&nbsp;</span>CNN</a></div><div class=\"lev3 toc-item\"><a href=\"#Example-1\" data-toc-modified-id=\"Example-1-101\"><span class=\"toc-item-num\">1.0.1&nbsp;&nbsp;</span>Example 1</a></div><div class=\"lev3 toc-item\"><a href=\"#Add-CNN-layers\" data-toc-modified-id=\"Add-CNN-layers-102\"><span class=\"toc-item-num\">1.0.2&nbsp;&nbsp;</span>Add CNN layers</a></div><div class=\"lev1 toc-item\"><a href=\"#Conv2D(filters,-(kernal_height,-kernal_width))\" data-toc-modified-id=\"Conv2D(filters,-(kernal_height,-kernal_width))-2\"><span class=\"toc-item-num\">2&nbsp;&nbsp;</span>Conv2D(filters, (kernal_height, kernal_width))</a></div><div class=\"lev1 toc-item\"><a href=\"#When-used-in-the-first-layers,-input_shape-needs-to-be-provided\" data-toc-modified-id=\"When-used-in-the-first-layers,-input_shape-needs-to-be-provided-3\"><span class=\"toc-item-num\">3&nbsp;&nbsp;</span>When used in the first layers, input_shape needs to be provided</a></div><div class=\"lev4 toc-item\"><a href=\"#Add-fully-connected-layers\" data-toc-modified-id=\"Add-fully-connected-layers-3001\"><span class=\"toc-item-num\">3.0.0.1&nbsp;&nbsp;</span>Add fully connected layers</a></div><div class=\"lev3 toc-item\"><a href=\"#Prepare-data\" data-toc-modified-id=\"Prepare-data-301\"><span class=\"toc-item-num\">3.0.1&nbsp;&nbsp;</span>Prepare data</a></div><div class=\"lev4 toc-item\"><a href=\"#Function-to_categorical\" data-toc-modified-id=\"Function-to_categorical-3011\"><span class=\"toc-item-num\">3.0.1.1&nbsp;&nbsp;</span>Function to_categorical</a></div><div class=\"lev4 toc-item\"><a href=\"#Back-to-our-example\" data-toc-modified-id=\"Back-to-our-example-3012\"><span class=\"toc-item-num\">3.0.1.2&nbsp;&nbsp;</span>Back to our example</a></div><div class=\"lev3 toc-item\"><a href=\"#Why-Max-Pooling?\" data-toc-modified-id=\"Why-Max-Pooling?-302\"><span class=\"toc-item-num\">3.0.2&nbsp;&nbsp;</span>Why Max-Pooling?</a></div><div class=\"lev1 toc-item\"><a href=\"#Cat-vs-Dog-Example\" data-toc-modified-id=\"Cat-vs-Dog-Example-4\"><span class=\"toc-item-num\">4&nbsp;&nbsp;</span>Cat vs Dog Example</a></div><div class=\"lev2 toc-item\"><a href=\"#First-Model\" data-toc-modified-id=\"First-Model-41\"><span class=\"toc-item-num\">4.1&nbsp;&nbsp;</span>First Model</a></div><div class=\"lev4 toc-item\"><a href=\"#Prepare-small-dataset\" data-toc-modified-id=\"Prepare-small-dataset-4101\"><span class=\"toc-item-num\">4.1.0.1&nbsp;&nbsp;</span>Prepare small dataset</a></div><div class=\"lev4 toc-item\"><a href=\"#Copy-1000-files\" data-toc-modified-id=\"Copy-1000-files-4102\"><span class=\"toc-item-num\">4.1.0.2&nbsp;&nbsp;</span>Copy 1000 files</a></div><div class=\"lev4 toc-item\"><a href=\"#Configure-optimizer-and-cost-function\" data-toc-modified-id=\"Configure-optimizer-and-cost-function-4103\"><span class=\"toc-item-num\">4.1.0.3&nbsp;&nbsp;</span>Configure optimizer and cost function</a></div><div class=\"lev4 toc-item\"><a href=\"#Preprocess-data\" data-toc-modified-id=\"Preprocess-data-4104\"><span class=\"toc-item-num\">4.1.0.4&nbsp;&nbsp;</span>Preprocess data</a></div><div class=\"lev4 toc-item\"><a href=\"#Fit-with-data-generator\" data-toc-modified-id=\"Fit-with-data-generator-4105\"><span class=\"toc-item-num\">4.1.0.5&nbsp;&nbsp;</span>Fit with data generator</a></div><div class=\"lev4 toc-item\"><a href=\"#Save-the-model\" data-toc-modified-id=\"Save-the-model-4106\"><span class=\"toc-item-num\">4.1.0.6&nbsp;&nbsp;</span>Save the model</a></div><div class=\"lev4 toc-item\"><a href=\"#Plot-training-vs-validation\" data-toc-modified-id=\"Plot-training-vs-validation-4107\"><span class=\"toc-item-num\">4.1.0.7&nbsp;&nbsp;</span>Plot training vs validation</a></div><div class=\"lev2 toc-item\"><a href=\"#Enrich-Data-with-Data-Augmentation\" data-toc-modified-id=\"Enrich-Data-with-Data-Augmentation-42\"><span class=\"toc-item-num\">4.2&nbsp;&nbsp;</span>Enrich Data with Data Augmentation</a></div><div class=\"lev4 toc-item\"><a href=\"#Define-Data-Transformation\" data-toc-modified-id=\"Define-Data-Transformation-4201\"><span class=\"toc-item-num\">4.2.0.1&nbsp;&nbsp;</span>Define Data Transformation</a></div><div class=\"lev4 toc-item\"><a href=\"#Display-Some-New-Data\" data-toc-modified-id=\"Display-Some-New-Data-4202\"><span class=\"toc-item-num\">4.2.0.2&nbsp;&nbsp;</span>Display Some New Data</a></div><div class=\"lev4 toc-item\"><a href=\"#Add-Dropout\" data-toc-modified-id=\"Add-Dropout-4203\"><span class=\"toc-item-num\">4.2.0.3&nbsp;&nbsp;</span>Add Dropout</a></div><div class=\"lev2 toc-item\"><a href=\"#Use-Pretrained-Model-(VGG)\" data-toc-modified-id=\"Use-Pretrained-Model-(VGG)-43\"><span class=\"toc-item-num\">4.3&nbsp;&nbsp;</span>Use Pretrained Model (VGG)</a></div><div class=\"lev4 toc-item\"><a href=\"#Method-1\" data-toc-modified-id=\"Method-1-4301\"><span class=\"toc-item-num\">4.3.0.1&nbsp;&nbsp;</span>Method-1</a></div><div class=\"lev4 toc-item\"><a href=\"#Method-2\" data-toc-modified-id=\"Method-2-4302\"><span class=\"toc-item-num\">4.3.0.2&nbsp;&nbsp;</span>Method-2</a></div>"
   ]
  },
  {
   "cell_type": "code",
   "execution_count": 2,
   "id": "willing-viewer",
   "metadata": {},
   "outputs": [],
   "source": [
    "from keras.datasets import mnist\n",
    "from keras import models\n",
    "from keras import layers"
   ]
  },
  {
   "cell_type": "code",
   "execution_count": 3,
   "id": "enhanced-resolution",
   "metadata": {},
   "outputs": [],
   "source": [
    "(train_images, train_labels), (test_images, test_labels) = mnist.load_data()"
   ]
  },
  {
   "cell_type": "code",
   "execution_count": 4,
   "id": "familiar-canyon",
   "metadata": {},
   "outputs": [
    {
     "data": {
      "text/plain": [
       "(60000, 28, 28)"
      ]
     },
     "execution_count": 4,
     "metadata": {},
     "output_type": "execute_result"
    }
   ],
   "source": [
    "train_images.shape"
   ]
  },
  {
   "cell_type": "code",
   "execution_count": 5,
   "id": "naval-lambda",
   "metadata": {},
   "outputs": [
    {
     "name": "stderr",
     "output_type": "stream",
     "text": [
      "2021-10-23 21:37:42.113495: I tensorflow/core/platform/cpu_feature_guard.cc:142] This TensorFlow binary is optimized with oneAPI Deep Neural Network Library (oneDNN) to use the following CPU instructions in performance-critical operations:  AVX2 FMA\n",
      "To enable them in other operations, rebuild TensorFlow with the appropriate compiler flags.\n"
     ]
    }
   ],
   "source": [
    "network = models.Sequential()"
   ]
  },
  {
   "cell_type": "code",
   "execution_count": 6,
   "id": "robust-upgrade",
   "metadata": {},
   "outputs": [],
   "source": [
    "network.add(layers.Dense(512, activation='relu', input_shape=(28 * 28,)))\n",
    "network.add(layers.Dense(10, activation='softmax'))\n",
    "network.compile(optimizer='rmsprop',\n",
    "                loss='categorical_crossentropy',\n",
    "                metrics=['accuracy'])"
   ]
  },
  {
   "cell_type": "code",
   "execution_count": 7,
   "id": "appreciated-sample",
   "metadata": {},
   "outputs": [],
   "source": [
    "train_images = train_images.reshape((60000, 28 * 28))\n",
    "train_images = train_images.astype('float32') / 255\n",
    "test_images = test_images.reshape((10000, 28 * 28))\n",
    "test_images = test_images.astype('float32') / 255"
   ]
  },
  {
   "cell_type": "code",
   "execution_count": 8,
   "id": "miniature-museum",
   "metadata": {},
   "outputs": [],
   "source": [
    "from tensorflow.keras.utils import to_categorical\n",
    "train_labels = to_categorical(train_labels)\n",
    "test_labels = to_categorical(test_labels)"
   ]
  },
  {
   "cell_type": "code",
   "execution_count": 9,
   "id": "vertical-bikini",
   "metadata": {},
   "outputs": [
    {
     "name": "stderr",
     "output_type": "stream",
     "text": [
      "2021-10-23 21:37:44.339835: I tensorflow/compiler/mlir/mlir_graph_optimization_pass.cc:185] None of the MLIR Optimization Passes are enabled (registered 2)\n"
     ]
    },
    {
     "name": "stdout",
     "output_type": "stream",
     "text": [
      "Epoch 1/5\n",
      "469/469 [==============================] - 2s 3ms/step - loss: 0.2540 - accuracy: 0.9263\n",
      "Epoch 2/5\n",
      "469/469 [==============================] - 1s 3ms/step - loss: 0.1016 - accuracy: 0.9700\n",
      "Epoch 3/5\n",
      "469/469 [==============================] - 1s 2ms/step - loss: 0.0665 - accuracy: 0.9801\n",
      "Epoch 4/5\n",
      "469/469 [==============================] - 1s 2ms/step - loss: 0.0494 - accuracy: 0.9847\n",
      "Epoch 5/5\n",
      "469/469 [==============================] - 1s 3ms/step - loss: 0.0362 - accuracy: 0.9892\n"
     ]
    },
    {
     "data": {
      "text/plain": [
       "<keras.callbacks.History at 0x7fdd1b8fd250>"
      ]
     },
     "execution_count": 9,
     "metadata": {},
     "output_type": "execute_result"
    }
   ],
   "source": [
    "network.fit(train_images, train_labels, epochs=5, batch_size=128)"
   ]
  },
  {
   "cell_type": "code",
   "execution_count": 10,
   "id": "assigned-identification",
   "metadata": {},
   "outputs": [
    {
     "name": "stdout",
     "output_type": "stream",
     "text": [
      "313/313 [==============================] - 0s 764us/step - loss: 0.0762 - accuracy: 0.9776\n"
     ]
    }
   ],
   "source": [
    "test_loss, test_acc = network.evaluate(test_images, test_labels)"
   ]
  },
  {
   "cell_type": "code",
   "execution_count": 11,
   "id": "coral-kenya",
   "metadata": {},
   "outputs": [
    {
     "name": "stdout",
     "output_type": "stream",
     "text": [
      "test_acc: 0.9775999784469604\n"
     ]
    }
   ],
   "source": [
    "print('test_acc:', test_acc)"
   ]
  },
  {
   "cell_type": "code",
   "execution_count": null,
   "id": "martial-vermont",
   "metadata": {},
   "outputs": [],
   "source": [
    "%matplotlib inline"
   ]
  },
  {
   "cell_type": "code",
   "execution_count": 12,
   "id": "dramatic-edwards",
   "metadata": {},
   "outputs": [],
   "source": [
    "import matplotlib.pyplot as plt"
   ]
  },
  {
   "cell_type": "markdown",
   "id": "civil-belize",
   "metadata": {},
   "source": [
    "## Load data and display"
   ]
  },
  {
   "cell_type": "code",
   "execution_count": 14,
   "id": "absolute-conditions",
   "metadata": {},
   "outputs": [],
   "source": [
    "from keras.datasets import mnist\n",
    "(train_images, train_labels), (test_images, test_labels) = mnist.load_data()"
   ]
  },
  {
   "cell_type": "code",
   "execution_count": 15,
   "id": "approximate-butter",
   "metadata": {},
   "outputs": [
    {
     "data": {
      "image/png": "[encoded data removed]",
      "text/plain": [
       "<Figure size 432x288 with 1 Axes>"
      ]
     },
     "metadata": {
      "needs_background": "light"
     },
     "output_type": "display_data"
    }
   ],
   "source": [
    "digit = train_images[4]\n",
    "plt.imshow(digit, cmap=plt.cm.binary)\n",
    "plt.show()"
   ]
  },
  {
   "cell_type": "markdown",
   "id": "concrete-tattoo",
   "metadata": {},
   "source": [
    "### Manipulate inputs"
   ]
  },
  {
   "cell_type": "code",
   "execution_count": 16,
   "id": "enormous-engineering",
   "metadata": {},
   "outputs": [],
   "source": [
    "my_slice = train_images[10:100]\n",
    "\n",
    "my_slice = train_images[10:100, :, :]\n",
    "\n",
    "my_slice = train_images[10:100, 0:28, 0:28]\n",
    "\n",
    "my_slice = train_images[:, 14:, 14:]\n",
    "\n",
    "my_slice = train_images[:, 7:-7, 7:-7]"
   ]
  },
  {
   "cell_type": "markdown",
   "id": "abstract-afternoon",
   "metadata": {},
   "source": [
    "## Neural Network"
   ]
  },
  {
   "cell_type": "markdown",
   "id": "prospective-granny",
   "metadata": {},
   "source": [
    "### Introduction"
   ]
  },
  {
   "cell_type": "code",
   "execution_count": 17,
   "id": "introductory-republic",
   "metadata": {},
   "outputs": [],
   "source": [
    "from keras import layers"
   ]
  },
  {
   "cell_type": "code",
   "execution_count": 18,
   "id": "cubic-farmer",
   "metadata": {},
   "outputs": [],
   "source": [
    "layer = layers.Dense(32, input_shape=(784,))"
   ]
  },
  {
   "cell_type": "code",
   "execution_count": 19,
   "id": "mature-prospect",
   "metadata": {},
   "outputs": [],
   "source": [
    "from keras import models\n",
    "from keras import layers\n",
    "model = models.Sequential()\n",
    "model.add(layers.Dense(32, input_shape=(784,)))\n",
    "model.add(layers.Dense(32))"
   ]
  },
  {
   "cell_type": "markdown",
   "id": "seventh-manufacturer",
   "metadata": {},
   "source": [
    "### Example"
   ]
  },
  {
   "cell_type": "code",
   "execution_count": 20,
   "id": "artistic-clark",
   "metadata": {},
   "outputs": [],
   "source": [
    "\n",
    "from keras import models\n",
    "from keras import layers\n",
    "model = models.Sequential()\n",
    "model.add(layers.Dense(32, activation='relu', input_shape=(784,)))\n",
    "model.add(layers.Dense(10, activation='softmax'))\n"
   ]
  },
  {
   "cell_type": "code",
   "execution_count": 21,
   "id": "collectible-tattoo",
   "metadata": {},
   "outputs": [],
   "source": [
    "input_tensor = layers.Input(shape=(784,))\n",
    "x = layers.Dense(32, activation='relu')(input_tensor)\n",
    "output_tensor = layers.Dense(10, activation='softmax')(x)\n",
    "model = models.Model(inputs=input_tensor, outputs=output_tensor)"
   ]
  },
  {
   "cell_type": "code",
   "execution_count": 22,
   "id": "curious-female",
   "metadata": {},
   "outputs": [
    {
     "name": "stderr",
     "output_type": "stream",
     "text": [
      "/Users/junsu/Dropbox/workspace/ML_coursera_jupyter/env/lib/python3.9/site-packages/keras/optimizer_v2/optimizer_v2.py:355: UserWarning: The `lr` argument is deprecated, use `learning_rate` instead.\n",
      "  warnings.warn(\n"
     ]
    }
   ],
   "source": [
    "from tensorflow.keras import optimizers\n",
    "\n",
    "model.compile(optimizer=optimizers.RMSprop(lr=0.001),\n",
    "              loss='mse',\n",
    "              metrics=['accuracy'])"
   ]
  },
  {
   "cell_type": "code",
   "execution_count": 23,
   "id": "cardiac-lawrence",
   "metadata": {},
   "outputs": [
    {
     "ename": "NameError",
     "evalue": "name 'target_tensor' is not defined",
     "output_type": "error",
     "traceback": [
      "\u001b[0;31m---------------------------------------------------------------------------\u001b[0m",
      "\u001b[0;31mNameError\u001b[0m                                 Traceback (most recent call last)",
      "\u001b[0;32m/var/folders/l3/390_64zs7_3c075928zrlr2w0000gn/T/ipykernel_11826/2589685549.py\u001b[0m in \u001b[0;36m<module>\u001b[0;34m\u001b[0m\n\u001b[0;32m----> 1\u001b[0;31m \u001b[0mmodel\u001b[0m\u001b[0;34m.\u001b[0m\u001b[0mfit\u001b[0m\u001b[0;34m(\u001b[0m\u001b[0minput_tensor\u001b[0m\u001b[0;34m,\u001b[0m \u001b[0mtarget_tensor\u001b[0m\u001b[0;34m,\u001b[0m \u001b[0mbatch_size\u001b[0m\u001b[0;34m=\u001b[0m\u001b[0;36m128\u001b[0m\u001b[0;34m,\u001b[0m \u001b[0mepochs\u001b[0m\u001b[0;34m=\u001b[0m\u001b[0;36m10\u001b[0m\u001b[0;34m)\u001b[0m\u001b[0;34m\u001b[0m\u001b[0;34m\u001b[0m\u001b[0m\n\u001b[0m",
      "\u001b[0;31mNameError\u001b[0m: name 'target_tensor' is not defined"
     ]
    }
   ],
   "source": [
    "model.fit(input_tensor, target_tensor, batch_size=128, epochs=10)"
   ]
  },
  {
   "cell_type": "markdown",
   "id": "stretch-campus",
   "metadata": {},
   "source": [
    "# CNN"
   ]
  },
  {
   "cell_type": "markdown",
   "id": "other-military",
   "metadata": {},
   "source": [
    "### Example 1"
   ]
  },
  {
   "cell_type": "markdown",
   "id": "emotional-participation",
   "metadata": {},
   "source": [
    "### Add CNN layers"
   ]
  },
  {
   "cell_type": "code",
   "execution_count": 24,
   "id": "chronic-inflation",
   "metadata": {},
   "outputs": [],
   "source": [
    "from keras import layers \n",
    "from keras import models\n",
    "\n",
    "model = models.Sequential()"
   ]
  },
  {
   "cell_type": "markdown",
   "id": "affected-denver",
   "metadata": {},
   "source": [
    "# Conv2D(filters, (kernal_height, kernal_width))"
   ]
  },
  {
   "cell_type": "markdown",
   "id": "surface-determination",
   "metadata": {},
   "source": [
    "# When used in the first layers, input_shape needs to be provided "
   ]
  },
  {
   "cell_type": "code",
   "execution_count": 25,
   "id": "inside-timeline",
   "metadata": {},
   "outputs": [],
   "source": [
    "model.add(layers.Conv2D(32, (3, 3), activation='relu', input_shape=(28, 28, 1)),) \n",
    "model.add(layers.MaxPooling2D((2, 2)))\n",
    "model.add(layers.Conv2D(64, (3, 3), activation='relu')) \n",
    "model.add(layers.MaxPooling2D((2, 2)))\n",
    "model.add(layers.Conv2D(64, (3, 3), activation='relu'))"
   ]
  },
  {
   "cell_type": "code",
   "execution_count": 26,
   "id": "wireless-institute",
   "metadata": {},
   "outputs": [
    {
     "name": "stdout",
     "output_type": "stream",
     "text": [
      "Model: \"sequential_3\"\n",
      "_________________________________________________________________\n",
      "Layer (type)                 Output Shape              Param #   \n",
      "=================================================================\n",
      "conv2d (Conv2D)              (None, 26, 26, 32)        320       \n",
      "_________________________________________________________________\n",
      "max_pooling2d (MaxPooling2D) (None, 13, 13, 32)        0         \n",
      "_________________________________________________________________\n",
      "conv2d_1 (Conv2D)            (None, 11, 11, 64)        18496     \n",
      "_________________________________________________________________\n",
      "max_pooling2d_1 (MaxPooling2 (None, 5, 5, 64)          0         \n",
      "_________________________________________________________________\n",
      "conv2d_2 (Conv2D)            (None, 3, 3, 64)          36928     \n",
      "=================================================================\n",
      "Total params: 55,744\n",
      "Trainable params: 55,744\n",
      "Non-trainable params: 0\n",
      "_________________________________________________________________\n"
     ]
    }
   ],
   "source": [
    "model.summary()"
   ]
  },
  {
   "cell_type": "markdown",
   "id": "special-cooperation",
   "metadata": {},
   "source": [
    "#### Add fully connected layers"
   ]
  },
  {
   "cell_type": "code",
   "execution_count": 27,
   "id": "happy-frame",
   "metadata": {},
   "outputs": [],
   "source": [
    "model.add(layers.Flatten())\n",
    "model.add(layers.Dense(64, activation='relu'))\n",
    "model.add(layers.Dense(10, activation='softmax'))"
   ]
  },
  {
   "cell_type": "code",
   "execution_count": 28,
   "id": "agreed-deadline",
   "metadata": {},
   "outputs": [
    {
     "name": "stdout",
     "output_type": "stream",
     "text": [
      "Model: \"sequential_3\"\n",
      "_________________________________________________________________\n",
      "Layer (type)                 Output Shape              Param #   \n",
      "=================================================================\n",
      "conv2d (Conv2D)              (None, 26, 26, 32)        320       \n",
      "_________________________________________________________________\n",
      "max_pooling2d (MaxPooling2D) (None, 13, 13, 32)        0         \n",
      "_________________________________________________________________\n",
      "conv2d_1 (Conv2D)            (None, 11, 11, 64)        18496     \n",
      "_________________________________________________________________\n",
      "max_pooling2d_1 (MaxPooling2 (None, 5, 5, 64)          0         \n",
      "_________________________________________________________________\n",
      "conv2d_2 (Conv2D)            (None, 3, 3, 64)          36928     \n",
      "_________________________________________________________________\n",
      "flatten (Flatten)            (None, 576)               0         \n",
      "_________________________________________________________________\n",
      "dense_9 (Dense)              (None, 64)                36928     \n",
      "_________________________________________________________________\n",
      "dense_10 (Dense)             (None, 10)                650       \n",
      "=================================================================\n",
      "Total params: 93,322\n",
      "Trainable params: 93,322\n",
      "Non-trainable params: 0\n",
      "_________________________________________________________________\n"
     ]
    }
   ],
   "source": [
    "model.summary()"
   ]
  },
  {
   "cell_type": "markdown",
   "id": "charitable-replica",
   "metadata": {},
   "source": [
    "### Prepare data"
   ]
  },
  {
   "cell_type": "code",
   "execution_count": 29,
   "id": "after-spain",
   "metadata": {},
   "outputs": [],
   "source": [
    "from keras.datasets import mnist\n",
    "from tensorflow.keras.utils import to_categorical\n",
    "(train_images, train_labels), (test_images, test_labels) = mnist.load_data()"
   ]
  },
  {
   "cell_type": "code",
   "execution_count": 30,
   "id": "negative-blame",
   "metadata": {},
   "outputs": [
    {
     "name": "stdout",
     "output_type": "stream",
     "text": [
      "Epoch 1/5\n",
      "938/938 [==============================] - 18s 19ms/step - loss: 0.1665 - accuracy: 0.9478\n",
      "Epoch 2/5\n",
      "938/938 [==============================] - 18s 19ms/step - loss: 0.0475 - accuracy: 0.9859\n",
      "Epoch 3/5\n",
      "938/938 [==============================] - 18s 19ms/step - loss: 0.0332 - accuracy: 0.9897\n",
      "Epoch 4/5\n",
      "938/938 [==============================] - 17s 19ms/step - loss: 0.0250 - accuracy: 0.9924\n",
      "Epoch 5/5\n",
      "938/938 [==============================] - 16s 17ms/step - loss: 0.0196 - accuracy: 0.9937\n"
     ]
    },
    {
     "data": {
      "text/plain": [
       "<keras.callbacks.History at 0x7fdd00648f10>"
      ]
     },
     "execution_count": 30,
     "metadata": {},
     "output_type": "execute_result"
    }
   ],
   "source": [
    "train_images = train_images.reshape((60000, 28, 28, 1)) # sample #, height, width, color_channel\n",
    "train_images = train_images.astype('float32') / 255 # convert 0-255 --> 0-1\n",
    "test_images = test_images.reshape((10000, 28, 28, 1))\n",
    "test_images = test_images.astype('float32') / 255\n",
    "train_labels = to_categorical(train_labels) # num_classes = max_num + 1, type=float as default\n",
    "test_labels = to_categorical(test_labels)\n",
    "model.compile(optimizer='rmsprop',\n",
    "              loss='categorical_crossentropy',\n",
    "              metrics=['accuracy'])\n",
    "model.fit(train_images, train_labels, epochs=5, batch_size=64)"
   ]
  },
  {
   "cell_type": "markdown",
   "id": "hispanic-entrepreneur",
   "metadata": {},
   "source": [
    "#### Function to_categorical"
   ]
  },
  {
   "cell_type": "code",
   "execution_count": 31,
   "id": "structured-trash",
   "metadata": {},
   "outputs": [
    {
     "name": "stdout",
     "output_type": "stream",
     "text": [
      "[2, 5, 6, 1, 4, 2, 3, 2]\n",
      "[[0 0 1 0 0 0 0]\n",
      " [0 0 0 0 0 1 0]\n",
      " [0 0 0 0 0 0 1]\n",
      " [0 1 0 0 0 0 0]\n",
      " [0 0 0 0 1 0 0]\n",
      " [0 0 1 0 0 0 0]\n",
      " [0 0 0 1 0 0 0]\n",
      " [0 0 1 0 0 0 0]]\n"
     ]
    }
   ],
   "source": [
    "class_vector =[2, 5, 6, 1, 4, 2, 3, 2]\n",
    "print(class_vector)\n",
    " \n",
    "# Applying the function on input class vector\n",
    "from tensorflow.keras.utils import to_categorical\n",
    "output_matrix = to_categorical(class_vector, num_classes = 7, dtype =\"int32\")\n",
    " \n",
    "print(output_matrix)"
   ]
  },
  {
   "cell_type": "code",
   "execution_count": 32,
   "id": "conceptual-sterling",
   "metadata": {},
   "outputs": [
    {
     "name": "stdout",
     "output_type": "stream",
     "text": [
      "[2, 5, 6, 1, 4, 2, 3, 2]\n",
      "[[0. 0. 1. 0. 0. 0. 0.]\n",
      " [0. 0. 0. 0. 0. 1. 0.]\n",
      " [0. 0. 0. 0. 0. 0. 1.]\n",
      " [0. 1. 0. 0. 0. 0. 0.]\n",
      " [0. 0. 0. 0. 1. 0. 0.]\n",
      " [0. 0. 1. 0. 0. 0. 0.]\n",
      " [0. 0. 0. 1. 0. 0. 0.]\n",
      " [0. 0. 1. 0. 0. 0. 0.]]\n"
     ]
    }
   ],
   "source": [
    "class_vector =[2, 5, 6, 1, 4, 2, 3, 2]\n",
    "print(class_vector)\n",
    " \n",
    "# Applying the function on input class vector\n",
    "from tensorflow.keras.utils import to_categorical\n",
    "output_matrix = to_categorical(class_vector)\n",
    " \n",
    "print(output_matrix)"
   ]
  },
  {
   "cell_type": "markdown",
   "id": "religious-guest",
   "metadata": {},
   "source": [
    "#### Back to our example"
   ]
  },
  {
   "cell_type": "code",
   "execution_count": 33,
   "id": "anonymous-medium",
   "metadata": {},
   "outputs": [
    {
     "name": "stdout",
     "output_type": "stream",
     "text": [
      "313/313 [==============================] - 1s 2ms/step - loss: 0.0231 - accuracy: 0.9926\n"
     ]
    }
   ],
   "source": [
    "test_loss, test_acc = model.evaluate(test_images, test_labels)"
   ]
  },
  {
   "cell_type": "code",
   "execution_count": 34,
   "id": "royal-destination",
   "metadata": {},
   "outputs": [
    {
     "data": {
      "text/plain": [
       "0.9926000237464905"
      ]
     },
     "execution_count": 34,
     "metadata": {},
     "output_type": "execute_result"
    }
   ],
   "source": [
    "test_acc"
   ]
  },
  {
   "cell_type": "markdown",
   "id": "successful-orange",
   "metadata": {},
   "source": [
    "### Why Max-Pooling?"
   ]
  },
  {
   "cell_type": "code",
   "execution_count": 35,
   "id": "atmospheric-victory",
   "metadata": {},
   "outputs": [
    {
     "name": "stdout",
     "output_type": "stream",
     "text": [
      "Model: \"sequential_4\"\n",
      "_________________________________________________________________\n",
      "Layer (type)                 Output Shape              Param #   \n",
      "=================================================================\n",
      "conv2d_3 (Conv2D)            (None, 26, 26, 32)        320       \n",
      "_________________________________________________________________\n",
      "conv2d_4 (Conv2D)            (None, 24, 24, 64)        18496     \n",
      "_________________________________________________________________\n",
      "conv2d_5 (Conv2D)            (None, 22, 22, 64)        36928     \n",
      "=================================================================\n",
      "Total params: 55,744\n",
      "Trainable params: 55,744\n",
      "Non-trainable params: 0\n",
      "_________________________________________________________________\n"
     ]
    }
   ],
   "source": [
    "model = models.Sequential()\n",
    "# Conv2D(filters, (kernal_height, kernal_width))\n",
    "# When used in the first layers, input_shape needs to be provided \n",
    "model.add(layers.Conv2D(32, (3, 3), activation='relu', input_shape=(28, 28, 1)),) \n",
    "model.add(layers.Conv2D(64, (3, 3), activation='relu')) \n",
    "model.add(layers.Conv2D(64, (3, 3), activation='relu'))\n",
    "model.summary()"
   ]
  },
  {
   "cell_type": "markdown",
   "id": "monetary-store",
   "metadata": {},
   "source": [
    "# Cat vs Dog Example"
   ]
  },
  {
   "cell_type": "markdown",
   "id": "immune-torture",
   "metadata": {},
   "source": [
    "## First Model"
   ]
  },
  {
   "cell_type": "code",
   "execution_count": 36,
   "id": "iraqi-immune",
   "metadata": {},
   "outputs": [],
   "source": [
    "from keras import layers\n",
    "from keras import models"
   ]
  },
  {
   "cell_type": "code",
   "execution_count": 37,
   "id": "increased-scanning",
   "metadata": {},
   "outputs": [],
   "source": [
    "model = models.Sequential()\n",
    "model.add(layers.Conv2D(32, (3, 3), activation='relu',\n",
    "                        input_shape=(150, 150, 3)))\n",
    "model.add(layers.MaxPooling2D((2, 2)))\n",
    "model.add(layers.Conv2D(64, (3, 3), activation='relu'))\n",
    "model.add(layers.MaxPooling2D((2, 2)))\n",
    "model.add(layers.Conv2D(128, (3, 3), activation='relu'))\n",
    "model.add(layers.MaxPooling2D((2, 2)))\n",
    "model.add(layers.Conv2D(128, (3, 3), activation='relu'))\n",
    "model.add(layers.MaxPooling2D((2, 2)))\n",
    "model.add(layers.Flatten())\n",
    "model.add(layers.Dense(512, activation='relu'))\n",
    "model.add(layers.Dense(1, activation='sigmoid'))"
   ]
  },
  {
   "cell_type": "code",
   "execution_count": null,
   "id": "tropical-opposition",
   "metadata": {},
   "outputs": [],
   "source": []
  },
  {
   "cell_type": "markdown",
   "id": "exceptional-clearing",
   "metadata": {},
   "source": [
    "#### Prepare small dataset"
   ]
  },
  {
   "cell_type": "code",
   "execution_count": 38,
   "id": "signal-visibility",
   "metadata": {},
   "outputs": [],
   "source": [
    "\n",
    "import os"
   ]
  },
  {
   "cell_type": "code",
   "execution_count": 47,
   "id": "civil-trader",
   "metadata": {},
   "outputs": [],
   "source": [
    "def make_dir(dirname):\n",
    "    import errno\n",
    "    import os\n",
    "    try:\n",
    "        os.mkdir(dirname)\n",
    "    except OSError as exc:\n",
    "        if exc.errno != errno.EEXIST:\n",
    "            raise\n",
    "        pass\n",
    "    \n",
    "    return 1"
   ]
  },
  {
   "cell_type": "code",
   "execution_count": 48,
   "id": "severe-mambo",
   "metadata": {},
   "outputs": [
    {
     "data": {
      "text/plain": [
       "1"
      ]
     },
     "execution_count": 48,
     "metadata": {},
     "output_type": "execute_result"
    }
   ],
   "source": [
    "# Create train, validation, and test subdir\n",
    "original_dataset_dir = '/Users/junsu/Dropbox/deep_learning/tf1/tf1_lib/data_inputs/archive/train/train'\n",
    "base_dir = '/Users/junsu/Dropbox/deep_learning/tf1/tf1_lib/data_inputs//cats_and_dogs_small'\n",
    "train_dir = os.path.join(base_dir, 'train')\n",
    "make_dir(train_dir)\n",
    "validation_dir = os.path.join(base_dir, 'validation')\n",
    "make_dir(validation_dir)\n",
    "test_dir = os.path.join(base_dir, 'test')\n",
    "make_dir(test_dir)"
   ]
  },
  {
   "cell_type": "code",
   "execution_count": 49,
   "id": "negative-disney",
   "metadata": {},
   "outputs": [
    {
     "data": {
      "text/plain": [
       "1"
      ]
     },
     "execution_count": 49,
     "metadata": {},
     "output_type": "execute_result"
    }
   ],
   "source": [
    "# Further add dog and cat\n",
    "train_cats_dir = os.path.join(train_dir, 'cats')\n",
    "make_dir(train_cats_dir)\n",
    "train_dogs_dir = os.path.join(train_dir, 'dogs')\n",
    "make_dir(train_dogs_dir)"
   ]
  },
  {
   "cell_type": "code",
   "execution_count": 50,
   "id": "second-tissue",
   "metadata": {},
   "outputs": [
    {
     "data": {
      "text/plain": [
       "1"
      ]
     },
     "execution_count": 50,
     "metadata": {},
     "output_type": "execute_result"
    }
   ],
   "source": [
    "validation_cats_dir = os.path.join(validation_dir, 'cats')\n",
    "make_dir(validation_cats_dir)\n",
    "validation_dogs_dir = os.path.join(validation_dir, 'dogs')\n",
    "make_dir(validation_dogs_dir)\n",
    "test_cats_dir = os.path.join(test_dir, 'cats')\n",
    "make_dir(test_cats_dir)\n",
    "test_dogs_dir = os.path.join(test_dir, 'dogs')\n",
    "make_dir(test_dogs_dir)"
   ]
  },
  {
   "cell_type": "markdown",
   "id": "standing-mounting",
   "metadata": {},
   "source": [
    "#### Copy 1000 files"
   ]
  },
  {
   "cell_type": "code",
   "execution_count": 51,
   "id": "least-choir",
   "metadata": {},
   "outputs": [],
   "source": [
    "import shutil"
   ]
  },
  {
   "cell_type": "code",
   "execution_count": 52,
   "id": "authentic-burden",
   "metadata": {},
   "outputs": [],
   "source": [
    "fnames = ['cat.{}.jpg'.format(i) for i in range(0, 1000, 1)]\n",
    "for fname in fnames:\n",
    "        src = os.path.join(original_dataset_dir, fname)\n",
    "        dst = os.path.join(train_cats_dir, fname)\n",
    "        shutil.copyfile(src, dst)"
   ]
  },
  {
   "cell_type": "code",
   "execution_count": 53,
   "id": "copyrighted-thunder",
   "metadata": {},
   "outputs": [],
   "source": [
    "fnames = ['cat.{}.jpg'.format(i) for i in range(1000, 1500)]\n",
    "for fname in fnames:\n",
    "    src = os.path.join(original_dataset_dir, fname)\n",
    "    dst = os.path.join(validation_cats_dir, fname)\n",
    "    shutil.copyfile(src, dst)"
   ]
  },
  {
   "cell_type": "code",
   "execution_count": 54,
   "id": "streaming-example",
   "metadata": {},
   "outputs": [],
   "source": [
    "fnames = ['cat.{}.jpg'.format(i) for i in range(1500, 2000)]\n",
    "for fname in fnames:\n",
    "    src = os.path.join(original_dataset_dir, fname)\n",
    "    dst = os.path.join(test_cats_dir, fname)\n",
    "    shutil.copyfile(src, dst)"
   ]
  },
  {
   "cell_type": "code",
   "execution_count": 55,
   "id": "superb-providence",
   "metadata": {},
   "outputs": [],
   "source": [
    "fnames = ['dog.{}.jpg'.format(i) for i in range(0, 1000, 1)]\n",
    "for fname in fnames:\n",
    "    src = os.path.join(original_dataset_dir, fname)\n",
    "    dst = os.path.join(train_dogs_dir, fname)\n",
    "    shutil.copyfile(src, dst)"
   ]
  },
  {
   "cell_type": "code",
   "execution_count": 56,
   "id": "parallel-carter",
   "metadata": {},
   "outputs": [],
   "source": [
    "fnames = ['dog.{}.jpg'.format(i) for i in range(1000, 1500)]\n",
    "for fname in fnames:\n",
    "    src = os.path.join(original_dataset_dir, fname)\n",
    "    dst = os.path.join(validation_dogs_dir, fname)\n",
    "    shutil.copyfile(src, dst)\n"
   ]
  },
  {
   "cell_type": "code",
   "execution_count": 57,
   "id": "typical-problem",
   "metadata": {},
   "outputs": [],
   "source": [
    "fnames = ['dog.{}.jpg'.format(i) for i in range(1500, 2000)]\n",
    "for fname in fnames:\n",
    "    src = os.path.join(original_dataset_dir, fname)\n",
    "    dst = os.path.join(test_dogs_dir, fname)\n",
    "    shutil.copyfile(src, dst)"
   ]
  },
  {
   "cell_type": "code",
   "execution_count": 58,
   "id": "interested-component",
   "metadata": {},
   "outputs": [
    {
     "name": "stdout",
     "output_type": "stream",
     "text": [
      "total training cat images: 1000\n"
     ]
    }
   ],
   "source": [
    "print('total training cat images:', len(os.listdir(train_cats_dir)))"
   ]
  },
  {
   "cell_type": "code",
   "execution_count": 59,
   "id": "checked-cheese",
   "metadata": {},
   "outputs": [
    {
     "name": "stdout",
     "output_type": "stream",
     "text": [
      "total training dog images: 1000\n"
     ]
    }
   ],
   "source": [
    "print('total training dog images:', len(os.listdir(train_dogs_dir)))"
   ]
  },
  {
   "cell_type": "code",
   "execution_count": 60,
   "id": "identified-blind",
   "metadata": {},
   "outputs": [
    {
     "name": "stdout",
     "output_type": "stream",
     "text": [
      "total validation cat images: 500\n"
     ]
    }
   ],
   "source": [
    "print('total validation cat images:', len(os.listdir(validation_cats_dir)))"
   ]
  },
  {
   "cell_type": "code",
   "execution_count": 61,
   "id": "experimental-interpretation",
   "metadata": {},
   "outputs": [
    {
     "name": "stdout",
     "output_type": "stream",
     "text": [
      "total validation dog images: 500\n"
     ]
    }
   ],
   "source": [
    "print('total validation dog images:', len(os.listdir(validation_dogs_dir)))"
   ]
  },
  {
   "cell_type": "code",
   "execution_count": 62,
   "id": "naked-andrew",
   "metadata": {},
   "outputs": [
    {
     "name": "stdout",
     "output_type": "stream",
     "text": [
      "total test cat images: 500\n"
     ]
    }
   ],
   "source": [
    "print('total test cat images:', len(os.listdir(test_cats_dir)))"
   ]
  },
  {
   "cell_type": "code",
   "execution_count": 63,
   "id": "perceived-qatar",
   "metadata": {},
   "outputs": [
    {
     "name": "stdout",
     "output_type": "stream",
     "text": [
      "total test dog images: 500\n"
     ]
    }
   ],
   "source": [
    "print('total test dog images:', len(os.listdir(test_dogs_dir)))"
   ]
  },
  {
   "cell_type": "markdown",
   "id": "perfect-logging",
   "metadata": {},
   "source": [
    "#### Configure optimizer and cost function"
   ]
  },
  {
   "cell_type": "code",
   "execution_count": 64,
   "id": "growing-arnold",
   "metadata": {
    "scrolled": true
   },
   "outputs": [],
   "source": [
    "from tensorflow.keras import optimizers\n",
    "model.compile(loss='binary_crossentropy',\n",
    "              optimizer=optimizers.RMSprop(lr=1e-4),\n",
    "              metrics=['acc'])"
   ]
  },
  {
   "cell_type": "markdown",
   "id": "intelligent-handling",
   "metadata": {},
   "source": [
    "#### Preprocess data"
   ]
  },
  {
   "cell_type": "code",
   "execution_count": 65,
   "id": "bridal-printer",
   "metadata": {},
   "outputs": [
    {
     "name": "stdout",
     "output_type": "stream",
     "text": [
      "Found 2000 images belonging to 2 classes.\n",
      "Found 1000 images belonging to 2 classes.\n",
      "data batch shape: (20, 150, 150, 3)\n",
      "labels batch shape: (20,)\n"
     ]
    }
   ],
   "source": [
    "from keras.preprocessing.image import ImageDataGenerator\n",
    "\n",
    "train_datagen = ImageDataGenerator(rescale=1./255)\n",
    "\n",
    "test_datagen = ImageDataGenerator(rescale=1./255)\n",
    "\n",
    "train_generator = train_datagen.flow_from_directory(\n",
    "            train_dir,\n",
    "            target_size=(150, 150),\n",
    "            batch_size=20, class_mode='binary')\n",
    "\n",
    "validation_generator = test_datagen.flow_from_directory(\n",
    "            validation_dir,\n",
    "            target_size=(150, 150),\n",
    "            batch_size=20,\n",
    "            class_mode='binary')\n",
    "\n",
    "for data_batch, labels_batch in train_generator:\n",
    "    print('data batch shape:', data_batch.shape)\n",
    "    print('labels batch shape:', labels_batch.shape)\n",
    "    break"
   ]
  },
  {
   "cell_type": "markdown",
   "id": "imported-flexibility",
   "metadata": {},
   "source": [
    "#### Fit with data generator"
   ]
  },
  {
   "cell_type": "markdown",
   "id": "suspected-sister",
   "metadata": {},
   "source": [
    "- Epoch --> the # of iterations, (loop through the whole training sample)\n",
    "- Steps_per_epoch --> usually, we use reshuffle method, and each time select a mini-batch, this paramter equals to total sample size m divide by batch-size. Also, this is the \n",
    "paramter that indicates how many gradient descent steps are moved in one epoch."
   ]
  },
  {
   "cell_type": "code",
   "execution_count": 66,
   "id": "numerous-march",
   "metadata": {},
   "outputs": [
    {
     "name": "stderr",
     "output_type": "stream",
     "text": [
      "/Users/junsu/Dropbox/workspace/ML_coursera_jupyter/env/lib/python3.9/site-packages/keras/engine/training.py:1972: UserWarning: `Model.fit_generator` is deprecated and will be removed in a future version. Please use `Model.fit`, which supports generators.\n",
      "  warnings.warn('`Model.fit_generator` is deprecated and '\n"
     ]
    },
    {
     "name": "stdout",
     "output_type": "stream",
     "text": [
      "Epoch 1/30\n",
      "100/100 [==============================] - 31s 300ms/step - loss: 0.6916 - acc: 0.5275 - val_loss: 0.6760 - val_acc: 0.6060\n",
      "Epoch 2/30\n",
      "100/100 [==============================] - 30s 302ms/step - loss: 0.6632 - acc: 0.6180 - val_loss: 0.6481 - val_acc: 0.6170\n",
      "Epoch 3/30\n",
      "100/100 [==============================] - 29s 288ms/step - loss: 0.6135 - acc: 0.6675 - val_loss: 0.6534 - val_acc: 0.6040\n",
      "Epoch 4/30\n",
      "100/100 [==============================] - 29s 289ms/step - loss: 0.5725 - acc: 0.7060 - val_loss: 0.6408 - val_acc: 0.6290\n",
      "Epoch 5/30\n",
      "100/100 [==============================] - 28s 281ms/step - loss: 0.5311 - acc: 0.7250 - val_loss: 0.8857 - val_acc: 0.5560\n",
      "Epoch 6/30\n",
      "100/100 [==============================] - 28s 285ms/step - loss: 0.5085 - acc: 0.7470 - val_loss: 0.6174 - val_acc: 0.6640\n",
      "Epoch 7/30\n",
      "100/100 [==============================] - 29s 288ms/step - loss: 0.4783 - acc: 0.7640 - val_loss: 0.6303 - val_acc: 0.6820\n",
      "Epoch 8/30\n",
      "100/100 [==============================] - 28s 283ms/step - loss: 0.4565 - acc: 0.7895 - val_loss: 0.5938 - val_acc: 0.6970\n",
      "Epoch 9/30\n",
      "100/100 [==============================] - 29s 286ms/step - loss: 0.4234 - acc: 0.8035 - val_loss: 0.6460 - val_acc: 0.6850\n",
      "Epoch 10/30\n",
      "100/100 [==============================] - 28s 283ms/step - loss: 0.3991 - acc: 0.8315 - val_loss: 0.5542 - val_acc: 0.7210\n",
      "Epoch 11/30\n",
      "100/100 [==============================] - 28s 283ms/step - loss: 0.3830 - acc: 0.8265 - val_loss: 0.5504 - val_acc: 0.7080\n",
      "Epoch 12/30\n",
      "100/100 [==============================] - 31s 313ms/step - loss: 0.3561 - acc: 0.8465 - val_loss: 0.5670 - val_acc: 0.7220\n",
      "Epoch 13/30\n",
      "100/100 [==============================] - 29s 294ms/step - loss: 0.3185 - acc: 0.8605 - val_loss: 0.6519 - val_acc: 0.6870\n",
      "Epoch 14/30\n",
      "100/100 [==============================] - 28s 284ms/step - loss: 0.2985 - acc: 0.8760 - val_loss: 0.5679 - val_acc: 0.7400\n",
      "Epoch 15/30\n",
      "100/100 [==============================] - 27s 273ms/step - loss: 0.2779 - acc: 0.8860 - val_loss: 0.5673 - val_acc: 0.7280\n",
      "Epoch 16/30\n",
      "100/100 [==============================] - 28s 277ms/step - loss: 0.2535 - acc: 0.8980 - val_loss: 0.6034 - val_acc: 0.7210\n",
      "Epoch 17/30\n",
      "100/100 [==============================] - 28s 278ms/step - loss: 0.2326 - acc: 0.9070 - val_loss: 0.6479 - val_acc: 0.7320\n",
      "Epoch 18/30\n",
      "100/100 [==============================] - 27s 274ms/step - loss: 0.2041 - acc: 0.9220 - val_loss: 0.6678 - val_acc: 0.7300\n",
      "Epoch 19/30\n",
      "100/100 [==============================] - 28s 276ms/step - loss: 0.1779 - acc: 0.9325 - val_loss: 0.6455 - val_acc: 0.7290\n",
      "Epoch 20/30\n",
      "100/100 [==============================] - 28s 277ms/step - loss: 0.1682 - acc: 0.9400 - val_loss: 0.6651 - val_acc: 0.7300\n",
      "Epoch 21/30\n",
      "100/100 [==============================] - 28s 277ms/step - loss: 0.1477 - acc: 0.9495 - val_loss: 0.6954 - val_acc: 0.7250\n",
      "Epoch 22/30\n",
      "100/100 [==============================] - 28s 277ms/step - loss: 0.1239 - acc: 0.9585 - val_loss: 0.7313 - val_acc: 0.7330\n",
      "Epoch 23/30\n",
      "100/100 [==============================] - 28s 277ms/step - loss: 0.1195 - acc: 0.9620 - val_loss: 0.7914 - val_acc: 0.7250\n",
      "Epoch 24/30\n",
      "100/100 [==============================] - 28s 277ms/step - loss: 0.1017 - acc: 0.9690 - val_loss: 0.9595 - val_acc: 0.7220\n",
      "Epoch 25/30\n",
      "100/100 [==============================] - 29s 287ms/step - loss: 0.0821 - acc: 0.9745 - val_loss: 0.8659 - val_acc: 0.7330\n",
      "Epoch 26/30\n",
      "100/100 [==============================] - 29s 288ms/step - loss: 0.0736 - acc: 0.9770 - val_loss: 0.8355 - val_acc: 0.7260\n",
      "Epoch 27/30\n",
      "100/100 [==============================] - 28s 282ms/step - loss: 0.0635 - acc: 0.9790 - val_loss: 0.8681 - val_acc: 0.7090\n",
      "Epoch 28/30\n",
      "100/100 [==============================] - 29s 285ms/step - loss: 0.0548 - acc: 0.9845 - val_loss: 0.9457 - val_acc: 0.7120\n",
      "Epoch 29/30\n",
      "100/100 [==============================] - 28s 281ms/step - loss: 0.0436 - acc: 0.9880 - val_loss: 0.9875 - val_acc: 0.7150\n",
      "Epoch 30/30\n",
      "100/100 [==============================] - 28s 279ms/step - loss: 0.0348 - acc: 0.9925 - val_loss: 1.6087 - val_acc: 0.6950\n"
     ]
    }
   ],
   "source": [
    "\n",
    "history = model.fit_generator(\n",
    "      train_generator,\n",
    "      steps_per_epoch=100,\n",
    "      epochs=30,\n",
    "      validation_data=validation_generator,\n",
    "      validation_steps=50)"
   ]
  },
  {
   "cell_type": "markdown",
   "id": "entire-comparison",
   "metadata": {},
   "source": [
    "#### Save the model"
   ]
  },
  {
   "cell_type": "code",
   "execution_count": null,
   "id": "collected-tuner",
   "metadata": {},
   "outputs": [],
   "source": [
    "model.save('cats_and_dogs_small_1.h5')"
   ]
  },
  {
   "cell_type": "markdown",
   "id": "precious-denial",
   "metadata": {},
   "source": [
    "#### Plot training vs validation"
   ]
  },
  {
   "cell_type": "code",
   "execution_count": 67,
   "id": "deadly-kernel",
   "metadata": {},
   "outputs": [
    {
     "data": {
      "image/png": "[encoded data removed]",
      "text/plain": [
       "<Figure size 432x288 with 1 Axes>"
      ]
     },
     "metadata": {
      "needs_background": "light"
     },
     "output_type": "display_data"
    },
    {
     "data": {
      "image/png": "[encoded data removed]",
      "text/plain": [
       "<Figure size 432x288 with 1 Axes>"
      ]
     },
     "metadata": {
      "needs_background": "light"
     },
     "output_type": "display_data"
    }
   ],
   "source": [
    "import matplotlib.pyplot as plt\n",
    "acc = history.history['acc']\n",
    "val_acc = history.history['val_acc']\n",
    "loss = history.history['loss']\n",
    "val_loss = history.history['val_loss']\n",
    "epochs = range(1, len(acc) + 1)\n",
    "plt.plot(epochs, acc, 'bo', label='Training acc')\n",
    "plt.plot(epochs, val_acc, 'b', label='Validation acc')\n",
    "plt.title('Training and validation accuracy')\n",
    "plt.legend()\n",
    "plt.figure()\n",
    "plt.plot(epochs, loss, 'bo', label='Training loss')\n",
    "plt.plot(epochs, val_loss, 'b', label='Validation loss')\n",
    "plt.title('Training and validation loss')\n",
    "plt.legend()\n",
    "plt.show()"
   ]
  },
  {
   "cell_type": "markdown",
   "id": "muslim-politics",
   "metadata": {},
   "source": [
    "## Enrich Data with Data Augmentation"
   ]
  },
  {
   "cell_type": "markdown",
   "id": "atmospheric-uncle",
   "metadata": {},
   "source": [
    "#### Define Data Transformation"
   ]
  },
  {
   "cell_type": "code",
   "execution_count": null,
   "id": "stock-biotechnology",
   "metadata": {},
   "outputs": [],
   "source": [
    "from keras.preprocessing.image import ImageDataGenerator\n"
   ]
  },
  {
   "cell_type": "code",
   "execution_count": null,
   "id": "destroyed-problem",
   "metadata": {},
   "outputs": [],
   "source": [
    "datagen = ImageDataGenerator(\n",
    "      rotation_range=40,\n",
    "      width_shift_range=0.2,\n",
    "      height_shift_range=0.2,\n",
    "      shear_range=0.2,\n",
    "      zoom_range=0.2,\n",
    "      horizontal_flip=True,\n",
    "      fill_mode='nearest')\n"
   ]
  },
  {
   "cell_type": "markdown",
   "id": "acting-channel",
   "metadata": {},
   "source": [
    "#### Display Some New Data"
   ]
  },
  {
   "cell_type": "code",
   "execution_count": null,
   "id": "pending-territory",
   "metadata": {},
   "outputs": [],
   "source": [
    "import os"
   ]
  },
  {
   "cell_type": "code",
   "execution_count": null,
   "id": "religious-implement",
   "metadata": {},
   "outputs": [],
   "source": [
    "from keras.preprocessing import image\n",
    "fnames = [os.path.join(train_cats_dir, fname) for\n",
    "     fname in os.listdir(train_cats_dir)]\n",
    "img_path = fnames[3]\n",
    "img = image.load_img(img_path, target_size=(150, 150))\n",
    "x = image.img_to_array(img)\n",
    "x = x.reshape((1,) + x.shape)\n",
    "i=0\n",
    "for batch in datagen.flow(x, batch_size=1):\n",
    "    plt.figure(i)\n",
    "    imgplot = plt.imshow(image.array_to_img(batch[0]))\n",
    "    i += 1\n",
    "    if i % 4 == 0:\n",
    "        break\n",
    "plt.show()"
   ]
  },
  {
   "cell_type": "markdown",
   "id": "enabling-mumbai",
   "metadata": {},
   "source": [
    "#### Add Dropout"
   ]
  },
  {
   "cell_type": "code",
   "execution_count": null,
   "id": "insured-index",
   "metadata": {},
   "outputs": [],
   "source": [
    "model = models.Sequential()\n",
    "model.add(layers.Conv2D(32, (3, 3), activation='relu',\n",
    "                        input_shape=(150, 150, 3)))\n",
    "model.add(layers.MaxPooling2D((2, 2)))\n",
    "model.add(layers.Conv2D(64, (3, 3), activation='relu'))\n",
    "model.add(layers.MaxPooling2D((2, 2)))\n",
    "model.add(layers.Conv2D(128, (3, 3), activation='relu'))\n",
    "model.add(layers.MaxPooling2D((2, 2)))\n",
    "model.add(layers.Conv2D(128, (3, 3), activation='relu'))\n",
    "model.add(layers.MaxPooling2D((2, 2)))\n",
    "model.add(layers.Flatten())\n",
    "model.add(layers.Dropout(0.5)) # add dropout\n",
    "model.add(layers.Dense(512, activation='relu'))\n",
    "model.add(layers.Dense(1, activation='sigmoid'))\n",
    "model.compile(loss='binary_crossentropy',\n",
    "              optimizer=optimizers.RMSprop(lr=1e-4),\n",
    "              metrics=['acc'])"
   ]
  },
  {
   "cell_type": "code",
   "execution_count": null,
   "id": "treated-lecture",
   "metadata": {},
   "outputs": [],
   "source": [
    "train_datagen = ImageDataGenerator(\n",
    "    rescale=1./255,\n",
    "    rotation_range=40,\n",
    "    width_shift_range=0.2,\n",
    "    height_shift_range=0.2,\n",
    "    shear_range=0.2,\n",
    "    zoom_range=0.2,\n",
    "    horizontal_flip=True,)"
   ]
  },
  {
   "cell_type": "code",
   "execution_count": null,
   "id": "laughing-perspective",
   "metadata": {},
   "outputs": [],
   "source": [
    "test_datagen = ImageDataGenerator(rescale=1./255)"
   ]
  },
  {
   "cell_type": "code",
   "execution_count": null,
   "id": "developed-pepper",
   "metadata": {},
   "outputs": [],
   "source": [
    "train_generator = train_datagen.flow_from_directory(\n",
    "    train_dir,\n",
    "    target_size=(150, 150),\n",
    "    batch_size=32,\n",
    "    class_mode='binary')"
   ]
  },
  {
   "cell_type": "code",
   "execution_count": null,
   "id": "primary-robinson",
   "metadata": {},
   "outputs": [],
   "source": [
    "validation_generator = test_datagen.flow_from_directory(\n",
    "        validation_dir,\n",
    "        target_size=(150, 150),\n",
    "        batch_size=32,\n",
    "        class_mode='binary')\n",
    "history = model.fit_generator(\n",
    "      train_generator,\n",
    "      steps_per_epoch=100,\n",
    "      epochs=100,\n",
    "      validation_data=validation_generator,\n",
    "      validation_steps=50)"
   ]
  },
  {
   "cell_type": "code",
   "execution_count": null,
   "id": "prepared-orleans",
   "metadata": {},
   "outputs": [],
   "source": [
    "model.save('cats_and_dogs_small_2.h5')"
   ]
  },
  {
   "cell_type": "code",
   "execution_count": null,
   "id": "pointed-adoption",
   "metadata": {},
   "outputs": [],
   "source": []
  },
  {
   "cell_type": "code",
   "execution_count": null,
   "id": "ceramic-chambers",
   "metadata": {},
   "outputs": [],
   "source": [
    "from tensorflow import keras\n"
   ]
  },
  {
   "cell_type": "code",
   "execution_count": null,
   "id": "eastern-massage",
   "metadata": {},
   "outputs": [],
   "source": [
    "model = keras.models.load_model('cats_and_dogs_small_2.h5')\n"
   ]
  },
  {
   "cell_type": "code",
   "execution_count": null,
   "id": "upper-sigma",
   "metadata": {},
   "outputs": [],
   "source": [
    "import matplotlib.pyplot as plt\n",
    "acc = history.history['acc']\n",
    "val_acc = history.history['val_acc']\n",
    "loss = history.history['loss']\n",
    "val_loss = history.history['val_loss']\n",
    "epochs = range(1, len(acc) + 1)\n",
    "plt.plot(epochs, acc, 'bo', label='Training acc')\n",
    "plt.plot(epochs, val_acc, 'b', label='Validation acc')\n",
    "plt.title('Training and validation accuracy')\n",
    "plt.legend()\n",
    "plt.figure()\n",
    "plt.plot(epochs, loss, 'bo', label='Training loss')\n",
    "plt.plot(epochs, val_loss, 'b', label='Validation loss')\n",
    "plt.title('Training and validation loss')\n",
    "plt.legend()\n",
    "plt.show()"
   ]
  },
  {
   "cell_type": "markdown",
   "id": "atomic-effects",
   "metadata": {},
   "source": [
    "## Use Pretrained Model (VGG)"
   ]
  },
  {
   "cell_type": "code",
   "execution_count": 69,
   "id": "present-groove",
   "metadata": {},
   "outputs": [],
   "source": [
    "\n",
    "from tensorflow.keras.applications import VGG16\n",
    "conv_base = VGG16(weights='imagenet', # the checkpoint from which to initialize\n",
    "                  include_top=False, # includes the densely connected classifier or not?\n",
    "                  input_shape=(150, 150, 3)) # inputs data shape you will feed to the data, note the flow_from_directory 150*150 and rgb"
   ]
  },
  {
   "cell_type": "code",
   "execution_count": 71,
   "id": "cutting-binary",
   "metadata": {},
   "outputs": [
    {
     "name": "stdout",
     "output_type": "stream",
     "text": [
      "Model: \"vgg16\"\n",
      "_________________________________________________________________\n",
      "Layer (type)                 Output Shape              Param #   \n",
      "=================================================================\n",
      "input_2 (InputLayer)         [(None, 150, 150, 3)]     0         \n",
      "_________________________________________________________________\n",
      "block1_conv1 (Conv2D)        (None, 150, 150, 64)      1792      \n",
      "_________________________________________________________________\n",
      "block1_conv2 (Conv2D)        (None, 150, 150, 64)      36928     \n",
      "_________________________________________________________________\n",
      "block1_pool (MaxPooling2D)   (None, 75, 75, 64)        0         \n",
      "_________________________________________________________________\n",
      "block2_conv1 (Conv2D)        (None, 75, 75, 128)       73856     \n",
      "_________________________________________________________________\n",
      "block2_conv2 (Conv2D)        (None, 75, 75, 128)       147584    \n",
      "_________________________________________________________________\n",
      "block2_pool (MaxPooling2D)   (None, 37, 37, 128)       0         \n",
      "_________________________________________________________________\n",
      "block3_conv1 (Conv2D)        (None, 37, 37, 256)       295168    \n",
      "_________________________________________________________________\n",
      "block3_conv2 (Conv2D)        (None, 37, 37, 256)       590080    \n",
      "_________________________________________________________________\n",
      "block3_conv3 (Conv2D)        (None, 37, 37, 256)       590080    \n",
      "_________________________________________________________________\n",
      "block3_pool (MaxPooling2D)   (None, 18, 18, 256)       0         \n",
      "_________________________________________________________________\n",
      "block4_conv1 (Conv2D)        (None, 18, 18, 512)       1180160   \n",
      "_________________________________________________________________\n",
      "block4_conv2 (Conv2D)        (None, 18, 18, 512)       2359808   \n",
      "_________________________________________________________________\n",
      "block4_conv3 (Conv2D)        (None, 18, 18, 512)       2359808   \n",
      "_________________________________________________________________\n",
      "block4_pool (MaxPooling2D)   (None, 9, 9, 512)         0         \n",
      "_________________________________________________________________\n",
      "block5_conv1 (Conv2D)        (None, 9, 9, 512)         2359808   \n",
      "_________________________________________________________________\n",
      "block5_conv2 (Conv2D)        (None, 9, 9, 512)         2359808   \n",
      "_________________________________________________________________\n",
      "block5_conv3 (Conv2D)        (None, 9, 9, 512)         2359808   \n",
      "_________________________________________________________________\n",
      "block5_pool (MaxPooling2D)   (None, 4, 4, 512)         0         \n",
      "=================================================================\n",
      "Total params: 14,714,688\n",
      "Trainable params: 14,714,688\n",
      "Non-trainable params: 0\n",
      "_________________________________________________________________\n"
     ]
    }
   ],
   "source": [
    "conv_base.summary()"
   ]
  },
  {
   "cell_type": "markdown",
   "id": "seven-railway",
   "metadata": {},
   "source": [
    "#### Method-1"
   ]
  },
  {
   "cell_type": "code",
   "execution_count": 70,
   "id": "governmental-pittsburgh",
   "metadata": {},
   "outputs": [],
   "source": [
    "# We will output the conv_base results, then feed them with densely connected layers"
   ]
  },
  {
   "cell_type": "code",
   "execution_count": 72,
   "id": "operating-airplane",
   "metadata": {},
   "outputs": [],
   "source": [
    "base_dir = '/Users/junsu/Dropbox/deep_learning/tf1/tf1_lib/data_inputs//cats_and_dogs_small'\n",
    "train_dir = os.path.join(base_dir, 'train')\n",
    "validation_dir = os.path.join(base_dir, 'validation') \n",
    "test_dir = os.path.join(base_dir, 'test')"
   ]
  },
  {
   "cell_type": "code",
   "execution_count": 73,
   "id": "earned-kingdom",
   "metadata": {},
   "outputs": [],
   "source": [
    "datagen = ImageDataGenerator(rescale=1./255) \n",
    "batch_size = 20"
   ]
  },
  {
   "cell_type": "code",
   "execution_count": 75,
   "id": "portuguese-phenomenon",
   "metadata": {},
   "outputs": [],
   "source": [
    "def extract_features(directory, sample_count):\n",
    "    features = np.zeros(shape=(sample_count, 4, 4, 512)) # VGG16 output, found in the block5_pool from model.summary()\n",
    "    labels = np.zeros(shape=(sample_count))\n",
    "    # flow_from_directory --> will return an infinite iterator\n",
    "    generator = datagen.flow_from_directory( # color_model=default --> rgb (channel 3)\n",
    "        directory, \n",
    "        target_size=(150, 150), # image (height, width) that will be generated\n",
    "        batch_size=batch_size, \n",
    "        class_mode='binary') # binary, categorical\n",
    "    i=0\n",
    "    for inputs_batch, labels_batch in generator:\n",
    "        #Note that because generators yield data indefinitely in a loop, you must break after every image has been seen once.\n",
    "        features_batch = conv_base.predict(inputs_batch) # here calls the conv_base.predict to convert raw inputs to conv_base.outputs\n",
    "        features[i * batch_size : (i + 1) * batch_size] = features_batch \n",
    "        labels[i * batch_size : (i + 1) * batch_size] = labels_batch\n",
    "        i += 1\n",
    "        if i * batch_size >= sample_count: # since the iterator is indefinite, we stop once we get enough data (total is \"sample_count\")\n",
    "            break\n",
    "    return features, labels"
   ]
  },
  {
   "cell_type": "code",
   "execution_count": 77,
   "id": "boring-entity",
   "metadata": {},
   "outputs": [],
   "source": [
    "import numpy as np\n",
    "train_features, train_labels = extract_features(train_dir, 2000) \n",
    "print(train_features.shape)\n",
    "print(train_labels.shape)\n",
    "\n",
    "# The so-called \"features\" are the outputs of the VGG16 without fully densed layers\n",
    "\n",
    "validation_features, validation_labels = extract_features(validation_dir, 1000) \n",
    "test_features, test_labels = extract_features(test_dir, 1000)\n",
    "\n",
    "# we flat them, before feed into our new layers\n",
    "\n",
    "train_features = np.reshape(train_features, (2000, 4 * 4 * 512))\n",
    "validation_features = np.reshape(validation_features, (1000, 4 * 4 * 512))\n",
    "test_features = np.reshape(test_features, (1000, 4 * 4 * 512))\n"
   ]
  },
  {
   "cell_type": "code",
   "execution_count": 87,
   "id": "significant-blame",
   "metadata": {
    "collapsed": true
   },
   "outputs": [
    {
     "name": "stderr",
     "output_type": "stream",
     "text": [
      "/Users/junsu/Dropbox/workspace/ML_coursera_jupyter/env/lib/python3.9/site-packages/keras/optimizer_v2/optimizer_v2.py:355: UserWarning: The `lr` argument is deprecated, use `learning_rate` instead.\n",
      "  warnings.warn(\n"
     ]
    },
    {
     "name": "stdout",
     "output_type": "stream",
     "text": [
      "Epoch 1/30\n",
      "100/100 [==============================] - 2s 15ms/step - loss: 0.6068 - acc: 0.6615 - val_loss: 0.4493 - val_acc: 0.8190\n",
      "Epoch 2/30\n",
      "100/100 [==============================] - 1s 13ms/step - loss: 0.4340 - acc: 0.8005 - val_loss: 0.3653 - val_acc: 0.8520\n",
      "Epoch 3/30\n",
      "100/100 [==============================] - 1s 13ms/step - loss: 0.3552 - acc: 0.8510 - val_loss: 0.3207 - val_acc: 0.8820\n",
      "Epoch 4/30\n",
      "100/100 [==============================] - 1s 14ms/step - loss: 0.3178 - acc: 0.8700 - val_loss: 0.2991 - val_acc: 0.8840\n",
      "Epoch 5/30\n",
      "100/100 [==============================] - 1s 13ms/step - loss: 0.2986 - acc: 0.8745 - val_loss: 0.2827 - val_acc: 0.8860\n",
      "Epoch 6/30\n",
      "100/100 [==============================] - 1s 13ms/step - loss: 0.2670 - acc: 0.8900 - val_loss: 0.2710 - val_acc: 0.8920\n",
      "Epoch 7/30\n",
      "100/100 [==============================] - 1s 13ms/step - loss: 0.2481 - acc: 0.8995 - val_loss: 0.2612 - val_acc: 0.9000\n",
      "Epoch 8/30\n",
      "100/100 [==============================] - 1s 13ms/step - loss: 0.2309 - acc: 0.9120 - val_loss: 0.2586 - val_acc: 0.8920\n",
      "Epoch 9/30\n",
      "100/100 [==============================] - 1s 14ms/step - loss: 0.2231 - acc: 0.9190 - val_loss: 0.2512 - val_acc: 0.9000\n",
      "Epoch 10/30\n",
      "100/100 [==============================] - 1s 13ms/step - loss: 0.2058 - acc: 0.9195 - val_loss: 0.2463 - val_acc: 0.9060\n",
      "Epoch 11/30\n",
      "100/100 [==============================] - 1s 14ms/step - loss: 0.1944 - acc: 0.9240 - val_loss: 0.2470 - val_acc: 0.8950\n",
      "Epoch 12/30\n",
      "100/100 [==============================] - 1s 14ms/step - loss: 0.1877 - acc: 0.9305 - val_loss: 0.2407 - val_acc: 0.9010\n",
      "Epoch 13/30\n",
      "100/100 [==============================] - 2s 15ms/step - loss: 0.1838 - acc: 0.9340 - val_loss: 0.2417 - val_acc: 0.8990\n",
      "Epoch 14/30\n",
      "100/100 [==============================] - 2s 15ms/step - loss: 0.1740 - acc: 0.9365 - val_loss: 0.2372 - val_acc: 0.9060\n",
      "Epoch 15/30\n",
      "100/100 [==============================] - 1s 14ms/step - loss: 0.1636 - acc: 0.9410 - val_loss: 0.2363 - val_acc: 0.9030\n",
      "Epoch 16/30\n",
      "100/100 [==============================] - 1s 15ms/step - loss: 0.1583 - acc: 0.9435 - val_loss: 0.2362 - val_acc: 0.9030\n",
      "Epoch 17/30\n",
      "100/100 [==============================] - 1s 13ms/step - loss: 0.1517 - acc: 0.9460 - val_loss: 0.2437 - val_acc: 0.8980\n",
      "Epoch 18/30\n",
      "100/100 [==============================] - 1s 13ms/step - loss: 0.1417 - acc: 0.9540 - val_loss: 0.2392 - val_acc: 0.9050\n",
      "Epoch 19/30\n",
      "100/100 [==============================] - 1s 14ms/step - loss: 0.1418 - acc: 0.9525 - val_loss: 0.2359 - val_acc: 0.9040\n",
      "Epoch 20/30\n",
      "100/100 [==============================] - 1s 13ms/step - loss: 0.1325 - acc: 0.9530 - val_loss: 0.2332 - val_acc: 0.9030\n",
      "Epoch 21/30\n",
      "100/100 [==============================] - 1s 13ms/step - loss: 0.1275 - acc: 0.9545 - val_loss: 0.2324 - val_acc: 0.9040\n",
      "Epoch 22/30\n",
      "100/100 [==============================] - 1s 13ms/step - loss: 0.1281 - acc: 0.9570 - val_loss: 0.2484 - val_acc: 0.8980\n",
      "Epoch 23/30\n",
      "100/100 [==============================] - 1s 14ms/step - loss: 0.1215 - acc: 0.9595 - val_loss: 0.2363 - val_acc: 0.9000\n",
      "Epoch 24/30\n",
      "100/100 [==============================] - 1s 14ms/step - loss: 0.1145 - acc: 0.9645 - val_loss: 0.2422 - val_acc: 0.9010\n",
      "Epoch 25/30\n",
      "100/100 [==============================] - 1s 14ms/step - loss: 0.1096 - acc: 0.9635 - val_loss: 0.2456 - val_acc: 0.9010\n",
      "Epoch 26/30\n",
      "100/100 [==============================] - 1s 15ms/step - loss: 0.1107 - acc: 0.9620 - val_loss: 0.2359 - val_acc: 0.8990\n",
      "Epoch 27/30\n",
      "100/100 [==============================] - 1s 14ms/step - loss: 0.1022 - acc: 0.9670 - val_loss: 0.2347 - val_acc: 0.8980\n",
      "Epoch 28/30\n",
      "100/100 [==============================] - 1s 14ms/step - loss: 0.0994 - acc: 0.9680 - val_loss: 0.2372 - val_acc: 0.8990\n",
      "Epoch 29/30\n",
      "100/100 [==============================] - 1s 15ms/step - loss: 0.0970 - acc: 0.9690 - val_loss: 0.2362 - val_acc: 0.9010\n",
      "Epoch 30/30\n",
      "100/100 [==============================] - 1s 14ms/step - loss: 0.0879 - acc: 0.9735 - val_loss: 0.2372 - val_acc: 0.9020\n"
     ]
    }
   ],
   "source": [
    "# Define our fully densed layers\n",
    "from keras import models\n",
    "from keras import layers\n",
    "from tensorflow.keras import optimizers\n",
    "model = models.Sequential()\n",
    "model.add(layers.Dense(256, activation='relu', input_dim=4 * 4 * 512)) # same input, as we flatted before\n",
    "model.add(layers.Dropout(0.5)) # note, we use dropout layer\n",
    "model.add(layers.Dense(1, activation='sigmoid'))\n",
    "model.compile(optimizer=optimizers.RMSprop(lr=2e-5),\n",
    "              loss='binary_crossentropy',\n",
    "              metrics=['acc'])\n",
    "history = model.fit(train_features, train_labels,\n",
    "                    epochs=30,\n",
    "                    batch_size=20,\n",
    "                    validation_data=(validation_features, validation_labels))"
   ]
  },
  {
   "cell_type": "code",
   "execution_count": 88,
   "id": "falling-hayes",
   "metadata": {},
   "outputs": [
    {
     "data": {
      "image/png": "[encoded data removed]",
      "text/plain": [
       "<Figure size 432x288 with 1 Axes>"
      ]
     },
     "metadata": {
      "needs_background": "light"
     },
     "output_type": "display_data"
    },
    {
     "data": {
      "image/png": "[encoded data removed]",
      "text/plain": [
       "<Figure size 432x288 with 1 Axes>"
      ]
     },
     "metadata": {
      "needs_background": "light"
     },
     "output_type": "display_data"
    }
   ],
   "source": [
    "import matplotlib.pyplot as plt\n",
    "acc = history.history['acc']\n",
    "val_acc = history.history['val_acc']\n",
    "loss = history.history['loss']\n",
    "val_loss = history.history['val_loss']\n",
    "epochs = range(1, len(acc) + 1)\n",
    "plt.plot(epochs, acc, 'bo', label='Training acc')\n",
    "plt.plot(epochs, val_acc, 'b', label='Validation acc')\n",
    "plt.title('Training and validation accuracy')\n",
    "plt.legend()\n",
    "plt.figure()\n",
    "plt.plot(epochs, loss, 'bo', label='Training loss')\n",
    "plt.plot(epochs, val_loss, 'b', label='Validation loss')\n",
    "plt.title('Training and validation loss')\n",
    "plt.legend()\n",
    "plt.show()"
   ]
  },
  {
   "cell_type": "markdown",
   "id": "superb-state",
   "metadata": {},
   "source": [
    "#### Method-2 "
   ]
  },
  {
   "cell_type": "markdown",
   "id": "numeric-empire",
   "metadata": {},
   "source": [
    " In fact, what the book says is \"you cannot do data augmentation in method-1\" seems to be wrong, see this stackoverflow answer\n",
    " https://stats.stackexchange.com/questions/331162/feature-extraction-freezing-convolutional-base-vs-training-on-extracted-featur/366465?newreg=4f0695a759ea4446ad76161b0e495093\n",
    " The reason, why we might want to avoid method-1, is\n",
    " \n",
    "Theoretically, you could use data augmentation for the first method. Instead of generating augmented samples on-the-fly, you would first generate a huge number of those (say, 1000 variants of every sample) and compute their convnet features, which you would use to train the classifier. The downsides of this approach are 1) higher memory requirements, \n",
    "\n",
    "\n",
    "Also, the 96% accuracy is not correct. There is a bug in the keras https://stats.stackexchange.com/a/366465/38442.\n",
    "Removing conv_base.trainable = False will give 96%."
   ]
  },
  {
   "cell_type": "code",
   "execution_count": null,
   "id": "finite-equilibrium",
   "metadata": {},
   "outputs": [],
   "source": []
  },
  {
   "cell_type": "code",
   "execution_count": null,
   "id": "adult-wallace",
   "metadata": {},
   "outputs": [],
   "source": []
  },
  {
   "cell_type": "code",
   "execution_count": null,
   "id": "superior-valve",
   "metadata": {},
   "outputs": [],
   "source": []
  },
  {
   "cell_type": "code",
   "execution_count": null,
   "id": "empty-athletics",
   "metadata": {},
   "outputs": [],
   "source": []
  },
  {
   "cell_type": "code",
   "execution_count": null,
   "id": "honest-education",
   "metadata": {},
   "outputs": [],
   "source": []
  },
  {
   "cell_type": "code",
   "execution_count": null,
   "id": "legendary-stand",
   "metadata": {},
   "outputs": [],
   "source": []
  },
  {
   "cell_type": "code",
   "execution_count": null,
   "id": "adolescent-piece",
   "metadata": {},
   "outputs": [],
   "source": []
  }
 ],
 "metadata": {
  "kernelspec": {
   "display_name": "env",
   "language": "python",
   "name": "env"
  },
  "language_info": {
   "codemirror_mode": {
    "name": "ipython",
    "version": 3
   },
   "file_extension": ".py",
   "mimetype": "text/x-python",
   "name": "python",
   "nbconvert_exporter": "python",
   "pygments_lexer": "ipython3",
   "version": "3.9.1"
  },
  "toc": {
   "colors": {
    "hover_highlight": "#DAA520",
    "running_highlight": "#FF0000",
    "selected_highlight": "#FFD700"
   },
   "moveMenuLeft": true,
   "nav_menu": {
    "height": "512px",
    "width": "252px"
   },
   "navigate_menu": true,
   "number_sections": true,
   "sideBar": true,
   "threshold": 4,
   "toc_cell": true,
   "toc_section_display": "block",
   "toc_window_display": true,
   "widenNotebook": false
  }
 },
 "nbformat": 4,
 "nbformat_minor": 5
}
