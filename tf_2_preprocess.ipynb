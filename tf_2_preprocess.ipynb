{
 "cells": [
  {
   "cell_type": "markdown",
   "id": "certified-chicken",
   "metadata": {
    "toc": "true"
   },
   "source": [
    "# Table of Contents\n",
    " <p><div class=\"lev4 toc-item\"><a href=\"#Transform-our-data\" data-toc-modified-id=\"Transform-our-data-0001\"><span class=\"toc-item-num\">0.0.0.1&nbsp;&nbsp;</span>Transform our data</a></div><div class=\"lev4 toc-item\"><a href=\"#Split-and-test-and-train-data\" data-toc-modified-id=\"Split-and-test-and-train-data-0002\"><span class=\"toc-item-num\">0.0.0.2&nbsp;&nbsp;</span>Split and test and train data</a></div><div class=\"lev4 toc-item\"><a href=\"#Continue-our-example\" data-toc-modified-id=\"Continue-our-example-0003\"><span class=\"toc-item-num\">0.0.0.3&nbsp;&nbsp;</span>Continue our example</a></div><div class=\"lev4 toc-item\"><a href=\"#Make-pipeline\" data-toc-modified-id=\"Make-pipeline-0004\"><span class=\"toc-item-num\">0.0.0.4&nbsp;&nbsp;</span>Make pipeline</a></div>"
   ]
  },
  {
   "cell_type": "code",
   "execution_count": 1,
   "id": "several-assets",
   "metadata": {},
   "outputs": [],
   "source": [
    "import pandas as pd\n",
    "## Define path data\n",
    "COLUMNS = ['age','workclass', 'fnlwgt', 'education',\n",
    "'education_num', 'marital',\n",
    "           'occupation', 'relationship', 'race', 'sex',\n",
    "'capital_gain', 'capital_loss',\n",
    "           'hours_week', 'native_country', 'label']\n",
    "### Define continuous list\n",
    "CONTI_FEATURES  = ['age', 'fnlwgt','capital_gain', 'education_num',\n",
    "'capital_loss', 'hours_week']\n",
    "### Define categorical list\n",
    "CATE_FEATURES = ['workclass', 'education', 'marital', 'occupation',\n",
    "'relationship', 'race', 'sex', 'native_country']\n",
    "## Prepare the data\n",
    "features = ['age','workclass', 'fnlwgt', 'education',\n",
    "'education_num', 'marital',\n",
    "           'occupation', 'relationship', 'race', 'sex',\n",
    "'capital_gain', 'capital_loss',\n",
    "           'hours_week', 'native_country']"
   ]
  },
  {
   "cell_type": "code",
   "execution_count": 2,
   "id": "political-juice",
   "metadata": {},
   "outputs": [],
   "source": [
    "#df_train = pd.read_csv(\"data_inputs/wodetian.csv\")"
   ]
  },
  {
   "cell_type": "code",
   "execution_count": 3,
   "id": "asian-chassis",
   "metadata": {},
   "outputs": [
    {
     "name": "stdout",
     "output_type": "stream",
     "text": [
      "['age', 'fnlwgt', 'capital_gain', 'education_num', 'capital_loss', 'hours_week']\n"
     ]
    }
   ],
   "source": [
    "PATH = \"https://archive.ics.uci.edu/ml/machine-learning-databases/adult/adult.data\"\n",
    "\n",
    "df_train = pd.read_csv(PATH, skipinitialspace=True, names = COLUMNS, index_col=False)\n",
    "# # convert interested columns to float type\n",
    "\n",
    "print(CONTI_FEATURES)\n",
    "for col in CONTI_FEATURES:\n",
    "    df_train[col] = df_train[col].astype('float64')\n",
    "df_train.to_csv('wodetian.csv')"
   ]
  },
  {
   "cell_type": "code",
   "execution_count": 4,
   "id": "harmful-mixer",
   "metadata": {},
   "outputs": [
    {
     "data": {
      "text/html": [
       "<div>\n",
       "<style scoped>\n",
       "    .dataframe tbody tr th:only-of-type {\n",
       "        vertical-align: middle;\n",
       "    }\n",
       "\n",
       "    .dataframe tbody tr th {\n",
       "        vertical-align: top;\n",
       "    }\n",
       "\n",
       "    .dataframe thead th {\n",
       "        text-align: right;\n",
       "    }\n",
       "</style>\n",
       "<table border=\"1\" class=\"dataframe\">\n",
       "  <thead>\n",
       "    <tr style=\"text-align: right;\">\n",
       "      <th></th>\n",
       "      <th>age</th>\n",
       "      <th>workclass</th>\n",
       "      <th>fnlwgt</th>\n",
       "      <th>education</th>\n",
       "      <th>education_num</th>\n",
       "      <th>marital</th>\n",
       "      <th>occupation</th>\n",
       "      <th>relationship</th>\n",
       "      <th>race</th>\n",
       "      <th>sex</th>\n",
       "      <th>capital_gain</th>\n",
       "      <th>capital_loss</th>\n",
       "      <th>hours_week</th>\n",
       "      <th>native_country</th>\n",
       "      <th>label</th>\n",
       "    </tr>\n",
       "  </thead>\n",
       "  <tbody>\n",
       "    <tr>\n",
       "      <th>0</th>\n",
       "      <td>39.0</td>\n",
       "      <td>State-gov</td>\n",
       "      <td>77516.0</td>\n",
       "      <td>Bachelors</td>\n",
       "      <td>13.0</td>\n",
       "      <td>Never-married</td>\n",
       "      <td>Adm-clerical</td>\n",
       "      <td>Not-in-family</td>\n",
       "      <td>White</td>\n",
       "      <td>Male</td>\n",
       "      <td>2174.0</td>\n",
       "      <td>0.0</td>\n",
       "      <td>40.0</td>\n",
       "      <td>United-States</td>\n",
       "      <td>&lt;=50K</td>\n",
       "    </tr>\n",
       "  </tbody>\n",
       "</table>\n",
       "</div>"
      ],
      "text/plain": [
       "    age  workclass   fnlwgt  education  education_num        marital  \\\n",
       "0  39.0  State-gov  77516.0  Bachelors           13.0  Never-married   \n",
       "\n",
       "     occupation   relationship   race   sex  capital_gain  capital_loss  \\\n",
       "0  Adm-clerical  Not-in-family  White  Male        2174.0           0.0   \n",
       "\n",
       "   hours_week native_country  label  \n",
       "0        40.0  United-States  <=50K  "
      ]
     },
     "execution_count": 4,
     "metadata": {},
     "output_type": "execute_result"
    }
   ],
   "source": [
    "df_train.head(1)"
   ]
  },
  {
   "cell_type": "code",
   "execution_count": 5,
   "id": "meaningful-hands",
   "metadata": {},
   "outputs": [],
   "source": [
    "def remove_small_sample(df, col_name, minimum_size=1):\n",
    "    '''\n",
    "    Given a dataframe, we look at the col_name column, and get their nuniques for each unique values, if that is small than\n",
    "    or equal to the minimum_size, then we drop that row. The deletion keeps the index, e.g., reset_index(index=True)\n",
    "    '''\n",
    "    count_col = df[col_name].value_counts() \n",
    "    temp_col = col_name + \"_num\"\n",
    "    df_temp = pd.merge(df, pd.DataFrame(count_col).rename(columns={col_name:temp_col}), left_on = col_name, right_index=True)\n",
    "    print(\"Original size:\", df_temp.shape)\n",
    "    df_temp = df_temp.loc[df_temp[temp_col] > minimum_size]\n",
    "    print(\"New size:\", df_temp.shape)\n",
    "    return df_temp.drop([temp_col], axis=1)\n",
    "\n"
   ]
  },
  {
   "cell_type": "code",
   "execution_count": 6,
   "id": "healthy-amateur",
   "metadata": {},
   "outputs": [
    {
     "name": "stdout",
     "output_type": "stream",
     "text": [
      "Original size: (32561, 16)\n",
      "New size: (32560, 16)\n"
     ]
    }
   ],
   "source": [
    "df_train = remove_small_sample(df_train, \"native_country\")"
   ]
  },
  {
   "cell_type": "code",
   "execution_count": 7,
   "id": "nonprofit-integral",
   "metadata": {},
   "outputs": [
    {
     "data": {
      "text/html": [
       "<div>\n",
       "<style scoped>\n",
       "    .dataframe tbody tr th:only-of-type {\n",
       "        vertical-align: middle;\n",
       "    }\n",
       "\n",
       "    .dataframe tbody tr th {\n",
       "        vertical-align: top;\n",
       "    }\n",
       "\n",
       "    .dataframe thead th {\n",
       "        text-align: right;\n",
       "    }\n",
       "</style>\n",
       "<table border=\"1\" class=\"dataframe\">\n",
       "  <thead>\n",
       "    <tr style=\"text-align: right;\">\n",
       "      <th></th>\n",
       "      <th>age</th>\n",
       "      <th>workclass</th>\n",
       "      <th>fnlwgt</th>\n",
       "      <th>education</th>\n",
       "      <th>education_num</th>\n",
       "      <th>marital</th>\n",
       "      <th>occupation</th>\n",
       "      <th>relationship</th>\n",
       "      <th>race</th>\n",
       "      <th>sex</th>\n",
       "      <th>capital_gain</th>\n",
       "      <th>capital_loss</th>\n",
       "      <th>hours_week</th>\n",
       "      <th>native_country</th>\n",
       "      <th>label</th>\n",
       "    </tr>\n",
       "  </thead>\n",
       "  <tbody>\n",
       "    <tr>\n",
       "      <th>0</th>\n",
       "      <td>39.0</td>\n",
       "      <td>State-gov</td>\n",
       "      <td>77516.0</td>\n",
       "      <td>Bachelors</td>\n",
       "      <td>13.0</td>\n",
       "      <td>Never-married</td>\n",
       "      <td>Adm-clerical</td>\n",
       "      <td>Not-in-family</td>\n",
       "      <td>White</td>\n",
       "      <td>Male</td>\n",
       "      <td>2174.0</td>\n",
       "      <td>0.0</td>\n",
       "      <td>40.0</td>\n",
       "      <td>United-States</td>\n",
       "      <td>&lt;=50K</td>\n",
       "    </tr>\n",
       "    <tr>\n",
       "      <th>1</th>\n",
       "      <td>50.0</td>\n",
       "      <td>Self-emp-not-inc</td>\n",
       "      <td>83311.0</td>\n",
       "      <td>Bachelors</td>\n",
       "      <td>13.0</td>\n",
       "      <td>Married-civ-spouse</td>\n",
       "      <td>Exec-managerial</td>\n",
       "      <td>Husband</td>\n",
       "      <td>White</td>\n",
       "      <td>Male</td>\n",
       "      <td>0.0</td>\n",
       "      <td>0.0</td>\n",
       "      <td>13.0</td>\n",
       "      <td>United-States</td>\n",
       "      <td>&lt;=50K</td>\n",
       "    </tr>\n",
       "  </tbody>\n",
       "</table>\n",
       "</div>"
      ],
      "text/plain": [
       "    age         workclass   fnlwgt  education  education_num  \\\n",
       "0  39.0         State-gov  77516.0  Bachelors           13.0   \n",
       "1  50.0  Self-emp-not-inc  83311.0  Bachelors           13.0   \n",
       "\n",
       "              marital       occupation   relationship   race   sex  \\\n",
       "0       Never-married     Adm-clerical  Not-in-family  White  Male   \n",
       "1  Married-civ-spouse  Exec-managerial        Husband  White  Male   \n",
       "\n",
       "   capital_gain  capital_loss  hours_week native_country  label  \n",
       "0        2174.0           0.0        40.0  United-States  <=50K  \n",
       "1           0.0           0.0        13.0  United-States  <=50K  "
      ]
     },
     "execution_count": 7,
     "metadata": {},
     "output_type": "execute_result"
    }
   ],
   "source": [
    "df_train.head(2)"
   ]
  },
  {
   "cell_type": "code",
   "execution_count": 8,
   "id": "pointed-premiere",
   "metadata": {},
   "outputs": [
    {
     "name": "stdout",
     "output_type": "stream",
     "text": [
      "[0, 2, 10, 4, 11, 12]\n"
     ]
    }
   ],
   "source": [
    "## Get the column index of the continuous features\n",
    "conti_features = []\n",
    "for i in CONTI_FEATURES:\n",
    "    position = df_train.columns.get_loc(i) \n",
    "    conti_features.append(position)\n",
    "print(conti_features)"
   ]
  },
  {
   "cell_type": "code",
   "execution_count": 9,
   "id": "thirty-abortion",
   "metadata": {},
   "outputs": [
    {
     "name": "stdout",
     "output_type": "stream",
     "text": [
      "[1, 3, 5, 6, 7, 8, 9, 13]\n"
     ]
    }
   ],
   "source": [
    "## Get the column index of the categorical features\n",
    "categorical_features = []\n",
    "for i in CATE_FEATURES:\n",
    "    position = df_train.columns.get_loc(i) \n",
    "    categorical_features.append(position)\n",
    "print(categorical_features)"
   ]
  },
  {
   "cell_type": "code",
   "execution_count": 10,
   "id": "every-computer",
   "metadata": {
    "scrolled": true
   },
   "outputs": [
    {
     "name": "stdout",
     "output_type": "stream",
     "text": [
      "workclass          9\n",
      "education         16\n",
      "marital            7\n",
      "occupation        15\n",
      "relationship       6\n",
      "race               5\n",
      "sex                2\n",
      "native_country    41\n",
      "dtype: int64 There are 101 groups in the whole dataset\n"
     ]
    }
   ],
   "source": [
    "# Note that, all the categoric columns have different values, in total, we will need 101 groups(columns)\n",
    "# This will be done with LabelEncoder + OneHotEncoder\n",
    "# The continous columns are 6, will be kept, no transformation needed\n",
    "print(df_train[CATE_FEATURES].nunique(),\n",
    "      'There are',sum(df_train[CATE_FEATURES].nunique()), \n",
    "      'groups in the whole dataset')"
   ]
  },
  {
   "cell_type": "markdown",
   "id": "caroline-pierre",
   "metadata": {},
   "source": [
    "#### Transform our data"
   ]
  },
  {
   "cell_type": "code",
   "execution_count": 11,
   "id": "classical-murder",
   "metadata": {},
   "outputs": [],
   "source": [
    "from sklearn.preprocessing import StandardScaler, OneHotEncoder, LabelEncoder\n",
    "from sklearn.compose import ColumnTransformer, make_column_transformer\n",
    "from sklearn.pipeline import make_pipeline\n",
    "from sklearn.linear_model import LogisticRegression"
   ]
  },
  {
   "cell_type": "markdown",
   "id": "honey-vocabulary",
   "metadata": {},
   "source": [
    "##### Example 1 to show how to label"
   ]
  },
  {
   "cell_type": "code",
   "execution_count": 12,
   "id": "grand-twenty",
   "metadata": {},
   "outputs": [
    {
     "name": "stdout",
     "output_type": "stream",
     "text": [
      "[0 1 0 2]\n",
      "['apple' 'banana' 'apple' 'water melon']\n"
     ]
    }
   ],
   "source": [
    "fruits = [\"apple\", \"banana\", \"apple\", \"water melon\"]\n",
    "le = LabelEncoder()\n",
    "le.fit(fruits)\n",
    "# must fit it first, then transform\n",
    "label_data = le.transform(fruits)\n",
    "print(label_data)\n",
    "# we can also transform the label data back\n",
    "print(le.inverse_transform(label_data))"
   ]
  },
  {
   "cell_type": "markdown",
   "id": "affected-journey",
   "metadata": {},
   "source": [
    "##### Example 2, train + test"
   ]
  },
  {
   "cell_type": "code",
   "execution_count": 13,
   "id": "banned-charm",
   "metadata": {},
   "outputs": [
    {
     "data": {
      "text/plain": [
       "array([2, 2, 1])"
      ]
     },
     "execution_count": 13,
     "metadata": {},
     "output_type": "execute_result"
    }
   ],
   "source": [
    "le = LabelEncoder()\n",
    "\n",
    "train = [\"paris\", \"paris\", \"tokyo\", \"amsterdam\"]\n",
    "test = [\"tokyo\", \"tokyo\", \"paris\"]\n",
    "le.fit(train).transform(test)"
   ]
  },
  {
   "cell_type": "markdown",
   "id": "acquired-double",
   "metadata": {},
   "source": [
    "##### Example 3"
   ]
  },
  {
   "cell_type": "markdown",
   "id": "checked-share",
   "metadata": {},
   "source": [
    "Note that the LabelEncoder must be used prior to one-hot encoding, as the OneHotEncoder cannot handle categorical data. Therefore, it is frequently used as pre-cursor to one-hot encoding.\n",
    "\n",
    "Alternatively, it can encode your target into a usable array. If, for instance, train were your target for classification, you would need a LabelEncoder to use it as your y variable."
   ]
  },
  {
   "cell_type": "code",
   "execution_count": 14,
   "id": "recorded-florist",
   "metadata": {
    "scrolled": true
   },
   "outputs": [
    {
     "data": {
      "text/html": [
       "<div>\n",
       "<style scoped>\n",
       "    .dataframe tbody tr th:only-of-type {\n",
       "        vertical-align: middle;\n",
       "    }\n",
       "\n",
       "    .dataframe tbody tr th {\n",
       "        vertical-align: top;\n",
       "    }\n",
       "\n",
       "    .dataframe thead th {\n",
       "        text-align: right;\n",
       "    }\n",
       "</style>\n",
       "<table border=\"1\" class=\"dataframe\">\n",
       "  <thead>\n",
       "    <tr style=\"text-align: right;\">\n",
       "      <th></th>\n",
       "      <th>age</th>\n",
       "      <th>workclass</th>\n",
       "      <th>fnlwgt</th>\n",
       "      <th>education</th>\n",
       "      <th>education_num</th>\n",
       "      <th>marital</th>\n",
       "      <th>occupation</th>\n",
       "      <th>relationship</th>\n",
       "      <th>race</th>\n",
       "      <th>sex</th>\n",
       "      <th>capital_gain</th>\n",
       "      <th>capital_loss</th>\n",
       "      <th>hours_week</th>\n",
       "      <th>native_country</th>\n",
       "      <th>label</th>\n",
       "    </tr>\n",
       "  </thead>\n",
       "  <tbody>\n",
       "    <tr>\n",
       "      <th>0</th>\n",
       "      <td>39.0</td>\n",
       "      <td>State-gov</td>\n",
       "      <td>77516.0</td>\n",
       "      <td>Bachelors</td>\n",
       "      <td>13.0</td>\n",
       "      <td>Never-married</td>\n",
       "      <td>Adm-clerical</td>\n",
       "      <td>Not-in-family</td>\n",
       "      <td>White</td>\n",
       "      <td>Male</td>\n",
       "      <td>2174.0</td>\n",
       "      <td>0.0</td>\n",
       "      <td>40.0</td>\n",
       "      <td>United-States</td>\n",
       "      <td>&lt;=50K</td>\n",
       "    </tr>\n",
       "    <tr>\n",
       "      <th>1</th>\n",
       "      <td>50.0</td>\n",
       "      <td>Self-emp-not-inc</td>\n",
       "      <td>83311.0</td>\n",
       "      <td>Bachelors</td>\n",
       "      <td>13.0</td>\n",
       "      <td>Married-civ-spouse</td>\n",
       "      <td>Exec-managerial</td>\n",
       "      <td>Husband</td>\n",
       "      <td>White</td>\n",
       "      <td>Male</td>\n",
       "      <td>0.0</td>\n",
       "      <td>0.0</td>\n",
       "      <td>13.0</td>\n",
       "      <td>United-States</td>\n",
       "      <td>&lt;=50K</td>\n",
       "    </tr>\n",
       "    <tr>\n",
       "      <th>2</th>\n",
       "      <td>38.0</td>\n",
       "      <td>Private</td>\n",
       "      <td>215646.0</td>\n",
       "      <td>HS-grad</td>\n",
       "      <td>9.0</td>\n",
       "      <td>Divorced</td>\n",
       "      <td>Handlers-cleaners</td>\n",
       "      <td>Not-in-family</td>\n",
       "      <td>White</td>\n",
       "      <td>Male</td>\n",
       "      <td>0.0</td>\n",
       "      <td>0.0</td>\n",
       "      <td>40.0</td>\n",
       "      <td>United-States</td>\n",
       "      <td>&lt;=50K</td>\n",
       "    </tr>\n",
       "  </tbody>\n",
       "</table>\n",
       "</div>"
      ],
      "text/plain": [
       "    age         workclass    fnlwgt  education  education_num  \\\n",
       "0  39.0         State-gov   77516.0  Bachelors           13.0   \n",
       "1  50.0  Self-emp-not-inc   83311.0  Bachelors           13.0   \n",
       "2  38.0           Private  215646.0    HS-grad            9.0   \n",
       "\n",
       "              marital         occupation   relationship   race   sex  \\\n",
       "0       Never-married       Adm-clerical  Not-in-family  White  Male   \n",
       "1  Married-civ-spouse    Exec-managerial        Husband  White  Male   \n",
       "2            Divorced  Handlers-cleaners  Not-in-family  White  Male   \n",
       "\n",
       "   capital_gain  capital_loss  hours_week native_country  label  \n",
       "0        2174.0           0.0        40.0  United-States  <=50K  \n",
       "1           0.0           0.0        13.0  United-States  <=50K  \n",
       "2           0.0           0.0        40.0  United-States  <=50K  "
      ]
     },
     "execution_count": 14,
     "metadata": {},
     "output_type": "execute_result"
    }
   ],
   "source": [
    "df_train.head(3)"
   ]
  },
  {
   "cell_type": "code",
   "execution_count": 22,
   "id": "unknown-horizontal",
   "metadata": {},
   "outputs": [],
   "source": [
    "# This is not needed, but shows how to convert to labelled data\n",
    "if False:\n",
    "    le = LabelEncoder()\n",
    "    for col in CATE_FEATURES:\n",
    "        df_train[col] = le.fit(df_train[col]).transform(df_train[col]) "
   ]
  },
  {
   "cell_type": "code",
   "execution_count": 16,
   "id": "logical-speaking",
   "metadata": {},
   "outputs": [
    {
     "data": {
      "text/html": [
       "<div>\n",
       "<style scoped>\n",
       "    .dataframe tbody tr th:only-of-type {\n",
       "        vertical-align: middle;\n",
       "    }\n",
       "\n",
       "    .dataframe tbody tr th {\n",
       "        vertical-align: top;\n",
       "    }\n",
       "\n",
       "    .dataframe thead th {\n",
       "        text-align: right;\n",
       "    }\n",
       "</style>\n",
       "<table border=\"1\" class=\"dataframe\">\n",
       "  <thead>\n",
       "    <tr style=\"text-align: right;\">\n",
       "      <th></th>\n",
       "      <th>age</th>\n",
       "      <th>workclass</th>\n",
       "      <th>fnlwgt</th>\n",
       "      <th>education</th>\n",
       "      <th>education_num</th>\n",
       "      <th>marital</th>\n",
       "      <th>occupation</th>\n",
       "      <th>relationship</th>\n",
       "      <th>race</th>\n",
       "      <th>sex</th>\n",
       "      <th>capital_gain</th>\n",
       "      <th>capital_loss</th>\n",
       "      <th>hours_week</th>\n",
       "      <th>native_country</th>\n",
       "      <th>label</th>\n",
       "    </tr>\n",
       "  </thead>\n",
       "  <tbody>\n",
       "    <tr>\n",
       "      <th>0</th>\n",
       "      <td>39.0</td>\n",
       "      <td>7</td>\n",
       "      <td>77516.0</td>\n",
       "      <td>9</td>\n",
       "      <td>13.0</td>\n",
       "      <td>4</td>\n",
       "      <td>1</td>\n",
       "      <td>1</td>\n",
       "      <td>4</td>\n",
       "      <td>1</td>\n",
       "      <td>2174.0</td>\n",
       "      <td>0.0</td>\n",
       "      <td>40.0</td>\n",
       "      <td>38</td>\n",
       "      <td>&lt;=50K</td>\n",
       "    </tr>\n",
       "  </tbody>\n",
       "</table>\n",
       "</div>"
      ],
      "text/plain": [
       "    age  workclass   fnlwgt  education  education_num  marital  occupation  \\\n",
       "0  39.0          7  77516.0          9           13.0        4           1   \n",
       "\n",
       "   relationship  race  sex  capital_gain  capital_loss  hours_week  \\\n",
       "0             1     4    1        2174.0           0.0        40.0   \n",
       "\n",
       "   native_country  label  \n",
       "0              38  <=50K  "
      ]
     },
     "execution_count": 16,
     "metadata": {},
     "output_type": "execute_result"
    }
   ],
   "source": [
    "df_train.head(1)"
   ]
  },
  {
   "cell_type": "markdown",
   "id": "cardiac-contemporary",
   "metadata": {},
   "source": [
    "#### Split and test and train data"
   ]
  },
  {
   "cell_type": "code",
   "execution_count": 12,
   "id": "compact-desert",
   "metadata": {},
   "outputs": [
    {
     "data": {
      "text/plain": [
       "['age',\n",
       " 'workclass',\n",
       " 'fnlwgt',\n",
       " 'education',\n",
       " 'education_num',\n",
       " 'marital',\n",
       " 'occupation',\n",
       " 'relationship',\n",
       " 'race',\n",
       " 'sex',\n",
       " 'capital_gain',\n",
       " 'capital_loss',\n",
       " 'hours_week',\n",
       " 'native_country']"
      ]
     },
     "execution_count": 12,
     "metadata": {},
     "output_type": "execute_result"
    }
   ],
   "source": [
    "features"
   ]
  },
  {
   "cell_type": "code",
   "execution_count": 13,
   "id": "decent-southwest",
   "metadata": {},
   "outputs": [],
   "source": [
    "from sklearn.model_selection import train_test_split\n",
    "X_train, X_test, Y_train, Y_test = train_test_split(df_train[features], \n",
    "                                                    df_train.label,\n",
    "                                                    test_size = 0.2,\n",
    "                                                    random_state = 0)"
   ]
  },
  {
   "cell_type": "code",
   "execution_count": 14,
   "id": "cathedral-escape",
   "metadata": {},
   "outputs": [
    {
     "data": {
      "text/html": [
       "<div>\n",
       "<style scoped>\n",
       "    .dataframe tbody tr th:only-of-type {\n",
       "        vertical-align: middle;\n",
       "    }\n",
       "\n",
       "    .dataframe tbody tr th {\n",
       "        vertical-align: top;\n",
       "    }\n",
       "\n",
       "    .dataframe thead th {\n",
       "        text-align: right;\n",
       "    }\n",
       "</style>\n",
       "<table border=\"1\" class=\"dataframe\">\n",
       "  <thead>\n",
       "    <tr style=\"text-align: right;\">\n",
       "      <th></th>\n",
       "      <th>age</th>\n",
       "      <th>workclass</th>\n",
       "      <th>fnlwgt</th>\n",
       "      <th>education</th>\n",
       "      <th>education_num</th>\n",
       "      <th>marital</th>\n",
       "      <th>occupation</th>\n",
       "      <th>relationship</th>\n",
       "      <th>race</th>\n",
       "      <th>sex</th>\n",
       "      <th>capital_gain</th>\n",
       "      <th>capital_loss</th>\n",
       "      <th>hours_week</th>\n",
       "      <th>native_country</th>\n",
       "    </tr>\n",
       "  </thead>\n",
       "  <tbody>\n",
       "    <tr>\n",
       "      <th>13936</th>\n",
       "      <td>31.0</td>\n",
       "      <td>Private</td>\n",
       "      <td>369825.0</td>\n",
       "      <td>7th-8th</td>\n",
       "      <td>4.0</td>\n",
       "      <td>Never-married</td>\n",
       "      <td>Handlers-cleaners</td>\n",
       "      <td>Other-relative</td>\n",
       "      <td>White</td>\n",
       "      <td>Male</td>\n",
       "      <td>0.0</td>\n",
       "      <td>0.0</td>\n",
       "      <td>25.0</td>\n",
       "      <td>United-States</td>\n",
       "    </tr>\n",
       "    <tr>\n",
       "      <th>17070</th>\n",
       "      <td>34.0</td>\n",
       "      <td>State-gov</td>\n",
       "      <td>98995.0</td>\n",
       "      <td>Assoc-voc</td>\n",
       "      <td>11.0</td>\n",
       "      <td>Never-married</td>\n",
       "      <td>Prof-specialty</td>\n",
       "      <td>Not-in-family</td>\n",
       "      <td>White</td>\n",
       "      <td>Female</td>\n",
       "      <td>0.0</td>\n",
       "      <td>0.0</td>\n",
       "      <td>40.0</td>\n",
       "      <td>United-States</td>\n",
       "    </tr>\n",
       "    <tr>\n",
       "      <th>27752</th>\n",
       "      <td>52.0</td>\n",
       "      <td>Private</td>\n",
       "      <td>113094.0</td>\n",
       "      <td>Bachelors</td>\n",
       "      <td>13.0</td>\n",
       "      <td>Separated</td>\n",
       "      <td>Adm-clerical</td>\n",
       "      <td>Unmarried</td>\n",
       "      <td>White</td>\n",
       "      <td>Female</td>\n",
       "      <td>0.0</td>\n",
       "      <td>1092.0</td>\n",
       "      <td>40.0</td>\n",
       "      <td>United-States</td>\n",
       "    </tr>\n",
       "  </tbody>\n",
       "</table>\n",
       "</div>"
      ],
      "text/plain": [
       "        age  workclass    fnlwgt  education  education_num        marital  \\\n",
       "13936  31.0    Private  369825.0    7th-8th            4.0  Never-married   \n",
       "17070  34.0  State-gov   98995.0  Assoc-voc           11.0  Never-married   \n",
       "27752  52.0    Private  113094.0  Bachelors           13.0      Separated   \n",
       "\n",
       "              occupation    relationship   race     sex  capital_gain  \\\n",
       "13936  Handlers-cleaners  Other-relative  White    Male           0.0   \n",
       "17070     Prof-specialty   Not-in-family  White  Female           0.0   \n",
       "27752       Adm-clerical       Unmarried  White  Female           0.0   \n",
       "\n",
       "       capital_loss  hours_week native_country  \n",
       "13936           0.0        25.0  United-States  \n",
       "17070           0.0        40.0  United-States  \n",
       "27752        1092.0        40.0  United-States  "
      ]
     },
     "execution_count": 14,
     "metadata": {},
     "output_type": "execute_result"
    }
   ],
   "source": [
    "X_train.head(3)"
   ]
  },
  {
   "cell_type": "markdown",
   "id": "working-sitting",
   "metadata": {},
   "source": [
    "#### Continue our example"
   ]
  },
  {
   "cell_type": "code",
   "execution_count": 16,
   "id": "desirable-techno",
   "metadata": {},
   "outputs": [],
   "source": [
    "# note, the author made a mistake here\n",
    "preprocess = make_column_transformer(\n",
    "    (StandardScaler(), conti_features),\n",
    "    ### Need to be numeric not string to specify columns name.  -- why add this ? new version seems to work. by Jun\n",
    "    (OneHotEncoder(sparse=False), categorical_features)\n",
    ")\n",
    "\n"
   ]
  },
  {
   "cell_type": "markdown",
   "id": "fifth-governor",
   "metadata": {},
   "source": [
    "#### Make pipeline"
   ]
  },
  {
   "cell_type": "code",
   "execution_count": 18,
   "id": "unauthorized-scheme",
   "metadata": {},
   "outputs": [],
   "source": [
    "model = make_pipeline(\n",
    "    preprocess,\n",
    "    LogisticRegression())"
   ]
  },
  {
   "cell_type": "code",
   "execution_count": 20,
   "id": "portuguese-choir",
   "metadata": {},
   "outputs": [
    {
     "name": "stdout",
     "output_type": "stream",
     "text": [
      "logistic regression score: 0.860872\n"
     ]
    },
    {
     "name": "stderr",
     "output_type": "stream",
     "text": [
      "/Library/Frameworks/Python.framework/Versions/3.8/lib/python3.8/site-packages/sklearn/linear_model/_logistic.py:763: ConvergenceWarning: lbfgs failed to converge (status=1):\n",
      "STOP: TOTAL NO. of ITERATIONS REACHED LIMIT.\n",
      "\n",
      "Increase the number of iterations (max_iter) or scale the data as shown in:\n",
      "    https://scikit-learn.org/stable/modules/preprocessing.html\n",
      "Please also refer to the documentation for alternative solver options:\n",
      "    https://scikit-learn.org/stable/modules/linear_model.html#logistic-regression\n",
      "  n_iter_i = _check_optimize_result(\n"
     ]
    }
   ],
   "source": [
    "model.fit(X_train, Y_train)\n",
    "print(\"logistic regression score: %f\" % model.score(X_test,\n",
    "Y_test))"
   ]
  },
  {
   "cell_type": "code",
   "execution_count": 21,
   "id": "statewide-guatemala",
   "metadata": {},
   "outputs": [
    {
     "data": {
      "text/plain": [
       "array([[0.394678  , 0.605322  ],\n",
       "       [0.9945504 , 0.0054496 ],\n",
       "       [0.98847822, 0.01152178],\n",
       "       ...,\n",
       "       [0.7110207 , 0.2889793 ],\n",
       "       [0.09100602, 0.90899398],\n",
       "       [0.99842869, 0.00157131]])"
      ]
     },
     "execution_count": 21,
     "metadata": {},
     "output_type": "execute_result"
    }
   ],
   "source": [
    "model.predict_proba(X_test)"
   ]
  },
  {
   "cell_type": "code",
   "execution_count": null,
   "id": "confirmed-refrigerator",
   "metadata": {},
   "outputs": [],
   "source": []
  }
 ],
 "metadata": {
  "kernelspec": {
   "display_name": "Python 3",
   "language": "python",
   "name": "python3"
  },
  "language_info": {
   "codemirror_mode": {
    "name": "ipython",
    "version": 3
   },
   "file_extension": ".py",
   "mimetype": "text/x-python",
   "name": "python",
   "nbconvert_exporter": "python",
   "pygments_lexer": "ipython3",
   "version": "3.8.7"
  },
  "toc": {
   "colors": {
    "hover_highlight": "#DAA520",
    "running_highlight": "#FF0000",
    "selected_highlight": "#FFD700"
   },
   "moveMenuLeft": true,
   "nav_menu": {
    "height": "84px",
    "width": "252px"
   },
   "navigate_menu": true,
   "number_sections": true,
   "sideBar": true,
   "threshold": 4,
   "toc_cell": true,
   "toc_section_display": "block",
   "toc_window_display": true,
   "widenNotebook": false
  }
 },
 "nbformat": 4,
 "nbformat_minor": 5
}
