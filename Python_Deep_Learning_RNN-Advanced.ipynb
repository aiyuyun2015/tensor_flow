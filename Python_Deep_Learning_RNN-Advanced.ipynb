{
 "cells": [
  {
   "cell_type": "markdown",
   "id": "functioning-purple",
   "metadata": {
    "toc": "true"
   },
   "source": [
    "# Table of Contents\n",
    " <p><div class=\"lev1 toc-item\"><a href=\"#RNN\" data-toc-modified-id=\"RNN-1\"><span class=\"toc-item-num\">1&nbsp;&nbsp;</span>RNN</a></div><div class=\"lev2 toc-item\"><a href=\"#RNN-with-Weather-Forcast\" data-toc-modified-id=\"RNN-with-Weather-Forcast-11\"><span class=\"toc-item-num\">1.1&nbsp;&nbsp;</span>RNN with Weather Forcast</a></div><div class=\"lev3 toc-item\"><a href=\"#Prepare-the-Data\" data-toc-modified-id=\"Prepare-the-Data-111\"><span class=\"toc-item-num\">1.1.1&nbsp;&nbsp;</span>Prepare the Data</a></div><div class=\"lev3 toc-item\"><a href=\"#Prepare-Training,-Validation-and-Test-Data\" data-toc-modified-id=\"Prepare-Training,-Validation-and-Test-Data-112\"><span class=\"toc-item-num\">1.1.2&nbsp;&nbsp;</span>Prepare Training, Validation and Test Data</a></div><div class=\"lev3 toc-item\"><a href=\"#Dense-Layer-without-RNN\" data-toc-modified-id=\"Dense-Layer-without-RNN-113\"><span class=\"toc-item-num\">1.1.3&nbsp;&nbsp;</span>Dense Layer without RNN</a></div><div class=\"lev2 toc-item\"><a href=\"#Advanced-Use-of-RNN\" data-toc-modified-id=\"Advanced-Use-of-RNN-12\"><span class=\"toc-item-num\">1.2&nbsp;&nbsp;</span>Advanced Use of RNN</a></div><div class=\"lev3 toc-item\"><a href=\"#RNN-with-GRU\" data-toc-modified-id=\"RNN-with-GRU-121\"><span class=\"toc-item-num\">1.2.1&nbsp;&nbsp;</span>RNN with GRU</a></div><div class=\"lev2 toc-item\"><a href=\"#RNN-with-Dropout\" data-toc-modified-id=\"RNN-with-Dropout-13\"><span class=\"toc-item-num\">1.3&nbsp;&nbsp;</span>RNN with Dropout</a></div><div class=\"lev2 toc-item\"><a href=\"#Stacked-RNN\" data-toc-modified-id=\"Stacked-RNN-14\"><span class=\"toc-item-num\">1.4&nbsp;&nbsp;</span>Stacked RNN</a></div><div class=\"lev1 toc-item\"><a href=\"#Conv1D-Explained\" data-toc-modified-id=\"Conv1D-Explained-2\"><span class=\"toc-item-num\">2&nbsp;&nbsp;</span>Conv1D Explained</a></div><div class=\"lev2 toc-item\"><a href=\"#1D-Convent\" data-toc-modified-id=\"1D-Convent-21\"><span class=\"toc-item-num\">2.1&nbsp;&nbsp;</span>1D Convent</a></div><div class=\"lev3 toc-item\"><a href=\"#Example-to-Explain-the-Difference-between-GlobalMaxPooling1D-and-MaxPooling1D\" data-toc-modified-id=\"Example-to-Explain-the-Difference-between-GlobalMaxPooling1D-and-MaxPooling1D-211\"><span class=\"toc-item-num\">2.1.1&nbsp;&nbsp;</span>Example to Explain the Difference between GlobalMaxPooling1D and MaxPooling1D</a></div><div class=\"lev4 toc-item\"><a href=\"#MaxPooling-with-Window-2\" data-toc-modified-id=\"MaxPooling-with-Window-2-2111\"><span class=\"toc-item-num\">2.1.1.1&nbsp;&nbsp;</span>MaxPooling with Window 2</a></div><div class=\"lev4 toc-item\"><a href=\"#Timestamp-=-3\" data-toc-modified-id=\"Timestamp-=-3-2112\"><span class=\"toc-item-num\">2.1.1.2&nbsp;&nbsp;</span>Timestamp = 3</a></div><div class=\"lev4 toc-item\"><a href=\"#GlobalMaxPooling\" data-toc-modified-id=\"GlobalMaxPooling-2113\"><span class=\"toc-item-num\">2.1.1.3&nbsp;&nbsp;</span>GlobalMaxPooling</a></div><div class=\"lev4 toc-item\"><a href=\"#MaxPooling-with-Timestamp-vs-GlobalMaxPooling\" data-toc-modified-id=\"MaxPooling-with-Timestamp-vs-GlobalMaxPooling-2114\"><span class=\"toc-item-num\">2.1.1.4&nbsp;&nbsp;</span>MaxPooling with Timestamp vs GlobalMaxPooling</a></div><div class=\"lev3 toc-item\"><a href=\"#Combine-CNNs-and-RNNs-to-Process-Long-Sequence\" data-toc-modified-id=\"Combine-CNNs-and-RNNs-to-Process-Long-Sequence-212\"><span class=\"toc-item-num\">2.1.2&nbsp;&nbsp;</span>Combine CNNs and RNNs to Process Long Sequence</a></div><div class=\"lev4 toc-item\"><a href=\"#CNN(Conv1D)-only-to-Fit-Time-Series-Data-(not-a-great-model)\" data-toc-modified-id=\"CNN(Conv1D)-only-to-Fit-Time-Series-Data-(not-a-great-model)-2121\"><span class=\"toc-item-num\">2.1.2.1&nbsp;&nbsp;</span>CNN(Conv1D) only to Fit Time Series Data (not a great model)</a></div><div class=\"lev3 toc-item\"><a href=\"#Combine-CNN-and-RNN\" data-toc-modified-id=\"Combine-CNN-and-RNN-213\"><span class=\"toc-item-num\">2.1.3&nbsp;&nbsp;</span>Combine CNN and RNN</a></div>"
   ]
  },
  {
   "cell_type": "markdown",
   "id": "latest-progress",
   "metadata": {},
   "source": [
    "### "
   ]
  },
  {
   "cell_type": "markdown",
   "id": "attended-shoulder",
   "metadata": {},
   "source": [
    "# RNN"
   ]
  },
  {
   "cell_type": "markdown",
   "id": "artificial-complexity",
   "metadata": {},
   "source": [
    "## RNN with Weather Forcast"
   ]
  },
  {
   "cell_type": "code",
   "execution_count": 1,
   "id": "brutal-designer",
   "metadata": {},
   "outputs": [],
   "source": [
    "# import multiprocessing as mp\n",
    "# mp.set_start_method('spawn')"
   ]
  },
  {
   "cell_type": "code",
   "execution_count": 62,
   "id": "applicable-exploration",
   "metadata": {},
   "outputs": [],
   "source": [
    "import pandas as pd\n",
    "import os"
   ]
  },
  {
   "cell_type": "code",
   "execution_count": 63,
   "id": "presidential-supply",
   "metadata": {},
   "outputs": [],
   "source": [
    "data_dir = \"/Users/junsu/Dropbox/deep_learning/tf1/tf1_lib/data_inputs/jena_climate\"\n",
    "fname = os.path.join(data_dir, 'jena_climate_2009_2016.csv')\n",
    "df = pd.read_csv(fname)"
   ]
  },
  {
   "cell_type": "code",
   "execution_count": 64,
   "id": "former-capital",
   "metadata": {},
   "outputs": [
    {
     "data": {
      "text/html": [
       "<div>\n",
       "<style scoped>\n",
       "    .dataframe tbody tr th:only-of-type {\n",
       "        vertical-align: middle;\n",
       "    }\n",
       "\n",
       "    .dataframe tbody tr th {\n",
       "        vertical-align: top;\n",
       "    }\n",
       "\n",
       "    .dataframe thead th {\n",
       "        text-align: right;\n",
       "    }\n",
       "</style>\n",
       "<table border=\"1\" class=\"dataframe\">\n",
       "  <thead>\n",
       "    <tr style=\"text-align: right;\">\n",
       "      <th></th>\n",
       "      <th>Date Time</th>\n",
       "      <th>p (mbar)</th>\n",
       "      <th>T (degC)</th>\n",
       "      <th>Tpot (K)</th>\n",
       "      <th>Tdew (degC)</th>\n",
       "      <th>rh (%)</th>\n",
       "      <th>VPmax (mbar)</th>\n",
       "      <th>VPact (mbar)</th>\n",
       "      <th>VPdef (mbar)</th>\n",
       "      <th>sh (g/kg)</th>\n",
       "      <th>H2OC (mmol/mol)</th>\n",
       "      <th>rho (g/m**3)</th>\n",
       "      <th>wv (m/s)</th>\n",
       "      <th>max. wv (m/s)</th>\n",
       "      <th>wd (deg)</th>\n",
       "    </tr>\n",
       "  </thead>\n",
       "  <tbody>\n",
       "    <tr>\n",
       "      <th>0</th>\n",
       "      <td>01.01.2009 00:10:00</td>\n",
       "      <td>996.52</td>\n",
       "      <td>-8.02</td>\n",
       "      <td>265.40</td>\n",
       "      <td>-8.90</td>\n",
       "      <td>93.30</td>\n",
       "      <td>3.33</td>\n",
       "      <td>3.11</td>\n",
       "      <td>0.22</td>\n",
       "      <td>1.94</td>\n",
       "      <td>3.12</td>\n",
       "      <td>1307.75</td>\n",
       "      <td>1.03</td>\n",
       "      <td>1.75</td>\n",
       "      <td>152.3</td>\n",
       "    </tr>\n",
       "    <tr>\n",
       "      <th>1</th>\n",
       "      <td>01.01.2009 00:20:00</td>\n",
       "      <td>996.57</td>\n",
       "      <td>-8.41</td>\n",
       "      <td>265.01</td>\n",
       "      <td>-9.28</td>\n",
       "      <td>93.40</td>\n",
       "      <td>3.23</td>\n",
       "      <td>3.02</td>\n",
       "      <td>0.21</td>\n",
       "      <td>1.89</td>\n",
       "      <td>3.03</td>\n",
       "      <td>1309.80</td>\n",
       "      <td>0.72</td>\n",
       "      <td>1.50</td>\n",
       "      <td>136.1</td>\n",
       "    </tr>\n",
       "    <tr>\n",
       "      <th>2</th>\n",
       "      <td>01.01.2009 00:30:00</td>\n",
       "      <td>996.53</td>\n",
       "      <td>-8.51</td>\n",
       "      <td>264.91</td>\n",
       "      <td>-9.31</td>\n",
       "      <td>93.90</td>\n",
       "      <td>3.21</td>\n",
       "      <td>3.01</td>\n",
       "      <td>0.20</td>\n",
       "      <td>1.88</td>\n",
       "      <td>3.02</td>\n",
       "      <td>1310.24</td>\n",
       "      <td>0.19</td>\n",
       "      <td>0.63</td>\n",
       "      <td>171.6</td>\n",
       "    </tr>\n",
       "    <tr>\n",
       "      <th>3</th>\n",
       "      <td>01.01.2009 00:40:00</td>\n",
       "      <td>996.51</td>\n",
       "      <td>-8.31</td>\n",
       "      <td>265.12</td>\n",
       "      <td>-9.07</td>\n",
       "      <td>94.20</td>\n",
       "      <td>3.26</td>\n",
       "      <td>3.07</td>\n",
       "      <td>0.19</td>\n",
       "      <td>1.92</td>\n",
       "      <td>3.08</td>\n",
       "      <td>1309.19</td>\n",
       "      <td>0.34</td>\n",
       "      <td>0.50</td>\n",
       "      <td>198.0</td>\n",
       "    </tr>\n",
       "    <tr>\n",
       "      <th>4</th>\n",
       "      <td>01.01.2009 00:50:00</td>\n",
       "      <td>996.51</td>\n",
       "      <td>-8.27</td>\n",
       "      <td>265.15</td>\n",
       "      <td>-9.04</td>\n",
       "      <td>94.10</td>\n",
       "      <td>3.27</td>\n",
       "      <td>3.08</td>\n",
       "      <td>0.19</td>\n",
       "      <td>1.92</td>\n",
       "      <td>3.09</td>\n",
       "      <td>1309.00</td>\n",
       "      <td>0.32</td>\n",
       "      <td>0.63</td>\n",
       "      <td>214.3</td>\n",
       "    </tr>\n",
       "    <tr>\n",
       "      <th>...</th>\n",
       "      <td>...</td>\n",
       "      <td>...</td>\n",
       "      <td>...</td>\n",
       "      <td>...</td>\n",
       "      <td>...</td>\n",
       "      <td>...</td>\n",
       "      <td>...</td>\n",
       "      <td>...</td>\n",
       "      <td>...</td>\n",
       "      <td>...</td>\n",
       "      <td>...</td>\n",
       "      <td>...</td>\n",
       "      <td>...</td>\n",
       "      <td>...</td>\n",
       "      <td>...</td>\n",
       "    </tr>\n",
       "    <tr>\n",
       "      <th>420446</th>\n",
       "      <td>31.12.2016 23:20:00</td>\n",
       "      <td>1000.07</td>\n",
       "      <td>-4.05</td>\n",
       "      <td>269.10</td>\n",
       "      <td>-8.13</td>\n",
       "      <td>73.10</td>\n",
       "      <td>4.52</td>\n",
       "      <td>3.30</td>\n",
       "      <td>1.22</td>\n",
       "      <td>2.06</td>\n",
       "      <td>3.30</td>\n",
       "      <td>1292.98</td>\n",
       "      <td>0.67</td>\n",
       "      <td>1.52</td>\n",
       "      <td>240.0</td>\n",
       "    </tr>\n",
       "    <tr>\n",
       "      <th>420447</th>\n",
       "      <td>31.12.2016 23:30:00</td>\n",
       "      <td>999.93</td>\n",
       "      <td>-3.35</td>\n",
       "      <td>269.81</td>\n",
       "      <td>-8.06</td>\n",
       "      <td>69.71</td>\n",
       "      <td>4.77</td>\n",
       "      <td>3.32</td>\n",
       "      <td>1.44</td>\n",
       "      <td>2.07</td>\n",
       "      <td>3.32</td>\n",
       "      <td>1289.44</td>\n",
       "      <td>1.14</td>\n",
       "      <td>1.92</td>\n",
       "      <td>234.3</td>\n",
       "    </tr>\n",
       "    <tr>\n",
       "      <th>420448</th>\n",
       "      <td>31.12.2016 23:40:00</td>\n",
       "      <td>999.82</td>\n",
       "      <td>-3.16</td>\n",
       "      <td>270.01</td>\n",
       "      <td>-8.21</td>\n",
       "      <td>67.91</td>\n",
       "      <td>4.84</td>\n",
       "      <td>3.28</td>\n",
       "      <td>1.55</td>\n",
       "      <td>2.05</td>\n",
       "      <td>3.28</td>\n",
       "      <td>1288.39</td>\n",
       "      <td>1.08</td>\n",
       "      <td>2.00</td>\n",
       "      <td>215.2</td>\n",
       "    </tr>\n",
       "    <tr>\n",
       "      <th>420449</th>\n",
       "      <td>31.12.2016 23:50:00</td>\n",
       "      <td>999.81</td>\n",
       "      <td>-4.23</td>\n",
       "      <td>268.94</td>\n",
       "      <td>-8.53</td>\n",
       "      <td>71.80</td>\n",
       "      <td>4.46</td>\n",
       "      <td>3.20</td>\n",
       "      <td>1.26</td>\n",
       "      <td>1.99</td>\n",
       "      <td>3.20</td>\n",
       "      <td>1293.56</td>\n",
       "      <td>1.49</td>\n",
       "      <td>2.16</td>\n",
       "      <td>225.8</td>\n",
       "    </tr>\n",
       "    <tr>\n",
       "      <th>420450</th>\n",
       "      <td>01.01.2017 00:00:00</td>\n",
       "      <td>999.82</td>\n",
       "      <td>-4.82</td>\n",
       "      <td>268.36</td>\n",
       "      <td>-8.42</td>\n",
       "      <td>75.70</td>\n",
       "      <td>4.27</td>\n",
       "      <td>3.23</td>\n",
       "      <td>1.04</td>\n",
       "      <td>2.01</td>\n",
       "      <td>3.23</td>\n",
       "      <td>1296.38</td>\n",
       "      <td>1.23</td>\n",
       "      <td>1.96</td>\n",
       "      <td>184.9</td>\n",
       "    </tr>\n",
       "  </tbody>\n",
       "</table>\n",
       "<p>420451 rows × 15 columns</p>\n",
       "</div>"
      ],
      "text/plain": [
       "                  Date Time  p (mbar)  T (degC)  Tpot (K)  Tdew (degC)  \\\n",
       "0       01.01.2009 00:10:00    996.52     -8.02    265.40        -8.90   \n",
       "1       01.01.2009 00:20:00    996.57     -8.41    265.01        -9.28   \n",
       "2       01.01.2009 00:30:00    996.53     -8.51    264.91        -9.31   \n",
       "3       01.01.2009 00:40:00    996.51     -8.31    265.12        -9.07   \n",
       "4       01.01.2009 00:50:00    996.51     -8.27    265.15        -9.04   \n",
       "...                     ...       ...       ...       ...          ...   \n",
       "420446  31.12.2016 23:20:00   1000.07     -4.05    269.10        -8.13   \n",
       "420447  31.12.2016 23:30:00    999.93     -3.35    269.81        -8.06   \n",
       "420448  31.12.2016 23:40:00    999.82     -3.16    270.01        -8.21   \n",
       "420449  31.12.2016 23:50:00    999.81     -4.23    268.94        -8.53   \n",
       "420450  01.01.2017 00:00:00    999.82     -4.82    268.36        -8.42   \n",
       "\n",
       "        rh (%)  VPmax (mbar)  VPact (mbar)  VPdef (mbar)  sh (g/kg)  \\\n",
       "0        93.30          3.33          3.11          0.22       1.94   \n",
       "1        93.40          3.23          3.02          0.21       1.89   \n",
       "2        93.90          3.21          3.01          0.20       1.88   \n",
       "3        94.20          3.26          3.07          0.19       1.92   \n",
       "4        94.10          3.27          3.08          0.19       1.92   \n",
       "...        ...           ...           ...           ...        ...   \n",
       "420446   73.10          4.52          3.30          1.22       2.06   \n",
       "420447   69.71          4.77          3.32          1.44       2.07   \n",
       "420448   67.91          4.84          3.28          1.55       2.05   \n",
       "420449   71.80          4.46          3.20          1.26       1.99   \n",
       "420450   75.70          4.27          3.23          1.04       2.01   \n",
       "\n",
       "        H2OC (mmol/mol)  rho (g/m**3)  wv (m/s)  max. wv (m/s)  wd (deg)  \n",
       "0                  3.12       1307.75      1.03           1.75     152.3  \n",
       "1                  3.03       1309.80      0.72           1.50     136.1  \n",
       "2                  3.02       1310.24      0.19           0.63     171.6  \n",
       "3                  3.08       1309.19      0.34           0.50     198.0  \n",
       "4                  3.09       1309.00      0.32           0.63     214.3  \n",
       "...                 ...           ...       ...            ...       ...  \n",
       "420446             3.30       1292.98      0.67           1.52     240.0  \n",
       "420447             3.32       1289.44      1.14           1.92     234.3  \n",
       "420448             3.28       1288.39      1.08           2.00     215.2  \n",
       "420449             3.20       1293.56      1.49           2.16     225.8  \n",
       "420450             3.23       1296.38      1.23           1.96     184.9  \n",
       "\n",
       "[420451 rows x 15 columns]"
      ]
     },
     "execution_count": 64,
     "metadata": {},
     "output_type": "execute_result"
    }
   ],
   "source": [
    "df"
   ]
  },
  {
   "cell_type": "code",
   "execution_count": 65,
   "id": "taken-upset",
   "metadata": {},
   "outputs": [
    {
     "data": {
      "text/plain": [
       "<AxesSubplot:>"
      ]
     },
     "execution_count": 65,
     "metadata": {},
     "output_type": "execute_result"
    },
    {
     "data": {
      "image/png": "[encoded data removed]",
      "text/plain": [
       "<Figure size 432x288 with 1 Axes>"
      ]
     },
     "metadata": {
      "needs_background": "light"
     },
     "output_type": "display_data"
    }
   ],
   "source": [
    "df['T (degC)'].plot()"
   ]
  },
  {
   "cell_type": "code",
   "execution_count": 66,
   "id": "pleasant-storm",
   "metadata": {},
   "outputs": [
    {
     "data": {
      "text/plain": [
       "<AxesSubplot:>"
      ]
     },
     "execution_count": 66,
     "metadata": {},
     "output_type": "execute_result"
    },
    {
     "data": {
      "image/png": "[encoded data removed]",
      "text/plain": [
       "<Figure size 432x288 with 1 Axes>"
      ]
     },
     "metadata": {
      "needs_background": "light"
     },
     "output_type": "display_data"
    }
   ],
   "source": [
    "df['T (degC)'].head(1440).plot()"
   ]
  },
  {
   "cell_type": "markdown",
   "id": "noticed-constitutional",
   "metadata": {},
   "source": [
    "### Prepare the Data"
   ]
  },
  {
   "cell_type": "markdown",
   "id": "virtual-greenhouse",
   "metadata": {},
   "source": [
    "Note, we don't follow Keras's book to create float_data."
   ]
  },
  {
   "cell_type": "code",
   "execution_count": 67,
   "id": "emerging-bankruptcy",
   "metadata": {},
   "outputs": [],
   "source": [
    "# f = open(fname)\n",
    "# data = f.read()\n",
    "# f.close()\n",
    "# lines = data.split('\\n')\n",
    "# header = lines[0].split(',')\n",
    "# lines = lines[1:]\n",
    "# print(header)\n",
    "# print(len(lines))\n",
    "\n",
    "\n",
    "# import numpy as np\n",
    "# float_data = np.zeros((len(lines), len(header) - 1))\n",
    "# for i, line in enumerate(lines):\n",
    "#     values = [float(x) for x in line.split(',')[1:]]\n",
    "#     float_data[i, :] = values\n",
    "# print(np.array_equal(df.iloc[:, 1:].values , float_data)) # --> this should be true"
   ]
  },
  {
   "cell_type": "code",
   "execution_count": null,
   "id": "danish-postage",
   "metadata": {},
   "outputs": [],
   "source": []
  },
  {
   "cell_type": "code",
   "execution_count": 68,
   "id": "vital-therapy",
   "metadata": {},
   "outputs": [],
   "source": [
    "# mean and variance are from the training data, after 200,000, are the validation and test data\n",
    "float_data = df.iloc[:, 1:].values\n",
    "\n",
    "mean = float_data[:200000].mean(axis=0)\n",
    "float_data -= mean\n",
    "std = float_data[:200000].std(axis=0)\n",
    "float_data /= std"
   ]
  },
  {
   "cell_type": "code",
   "execution_count": 69,
   "id": "italian-bullet",
   "metadata": {},
   "outputs": [],
   "source": [
    "import numpy as np"
   ]
  },
  {
   "cell_type": "code",
   "execution_count": 70,
   "id": "pretty-embassy",
   "metadata": {},
   "outputs": [],
   "source": [
    "def generator(data, lookback, delay, min_index, max_index,\n",
    "              shuffle=False, batch_size=128, step=6):\n",
    "    if max_index is None:\n",
    "        max_index = len(data) - delay - 1\n",
    "    i = min_index + lookback\n",
    "    while 1:\n",
    "        if shuffle:\n",
    "            rows = np.random.randint(\n",
    "                min_index + lookback, max_index, size=batch_size) # return random integer between [min_index + lookback, max_index], size is batch_size\n",
    "        else:\n",
    "            # if current index + batch_size is out of the range, then reset to the first sample\n",
    "            # if the first sample is already less than expected(e.g.,batch size is too big), then only return avalaible batch size\n",
    "            if i + batch_size >= max_index:\n",
    "                i = min_index + lookback\n",
    "            rows = np.arange(i, min(i + batch_size, max_index))\n",
    "            i += len(rows)\n",
    "        samples = np.zeros((len(rows),\n",
    "                           lookback // step,\n",
    "                           data.shape[-1]))\n",
    "        targets = np.zeros((len(rows),))\n",
    "        for j, row in enumerate(rows):\n",
    "            indices = range(rows[j] - lookback, rows[j], step) # indices is an array, first iteration [i-lookback, i-1]\n",
    "            samples[j] = data[indices]\n",
    "            targets[j] = data[rows[j] + delay][1] # data is shape 42051  * 14, the 1st column is temperature\n",
    "        yield samples, targets\n",
    "    \n"
   ]
  },
  {
   "cell_type": "markdown",
   "id": "adequate-raising",
   "metadata": {},
   "source": [
    "### Prepare Training, Validation and Test Data"
   ]
  },
  {
   "cell_type": "code",
   "execution_count": 71,
   "id": "exceptional-domestic",
   "metadata": {},
   "outputs": [],
   "source": [
    "\n",
    "lookback = 1440 # look back 10 days\n",
    "step = 6 # 1 data point per 10 minute, thus sample 1 data per hour\n",
    "delay = 144 # target will be 24 hours later\n",
    "batch_size = 128\n",
    "\n",
    "train_gen = generator(float_data,\n",
    "                      lookback=lookback,\n",
    "                      delay=delay,\n",
    "                      min_index=0,\n",
    "                      max_index=200000,\n",
    "                      shuffle=True,\n",
    "                      step=step,\n",
    "                      batch_size=batch_size)\n",
    "\n",
    "val_gen = generator(float_data,\n",
    "                    lookback=lookback,\n",
    "                    delay=delay,\n",
    "                    min_index=200001,\n",
    "                    max_index=300000,\n",
    "                    step=step,\n",
    "                    batch_size=batch_size)\n",
    "\n",
    "\n",
    "test_gen = generator(float_data,\n",
    "                     lookback=lookback,\n",
    "                     delay=delay,\n",
    "                     min_index=300001,\n",
    "                     max_index=None,\n",
    "                     step=step,\n",
    "                     batch_size=batch_size)\n",
    "\n",
    "val_steps = (300000 - 200001 - lookback)//batch_size\n",
    "\n",
    "test_steps = (len(float_data) - 300001 - lookback)//batch_size # hehe, the author didn't divide by batch_size here, but later he did it, so... I guess he made a mistake\n",
    "# otherwise, this just takes too long to finish."
   ]
  },
  {
   "cell_type": "markdown",
   "id": "through-boost",
   "metadata": {},
   "source": [
    "### Dense Layer without RNN"
   ]
  },
  {
   "cell_type": "code",
   "execution_count": 12,
   "id": "intended-tribe",
   "metadata": {},
   "outputs": [],
   "source": [
    "import numpy as np"
   ]
  },
  {
   "cell_type": "code",
   "execution_count": 14,
   "id": "accompanied-lawsuit",
   "metadata": {},
   "outputs": [],
   "source": [
    "# We start with a simple densed model\n",
    "\n",
    "from tensorflow.keras.models import Sequential \n",
    "from tensorflow.keras import layers\n",
    "from tensorflow.keras.optimizers import RMSprop"
   ]
  },
  {
   "cell_type": "code",
   "execution_count": 15,
   "id": "backed-mentor",
   "metadata": {
    "scrolled": true
   },
   "outputs": [],
   "source": [
    "model = Sequential()\n",
    "model.add(layers.Flatten(input_shape=(lookback // step, float_data.shape[-1]))) \n",
    "model.add(layers.Dense(32, activation='relu'))\n",
    "model.add(layers.Dense(1))"
   ]
  },
  {
   "cell_type": "code",
   "execution_count": 16,
   "id": "hearing-reunion",
   "metadata": {},
   "outputs": [
    {
     "name": "stdout",
     "output_type": "stream",
     "text": [
      "LL\n"
     ]
    }
   ],
   "source": [
    "print(\"LL\")"
   ]
  },
  {
   "cell_type": "code",
   "execution_count": 28,
   "id": "listed-rescue",
   "metadata": {
    "collapsed": true
   },
   "outputs": [
    {
     "name": "stdout",
     "output_type": "stream",
     "text": [
      "Epoch 1/20\n",
      "500/500 [==============================] - 10s 19ms/step - loss: 0.1859 - val_loss: 0.3532\n",
      "Epoch 2/20\n",
      "500/500 [==============================] - 9s 19ms/step - loss: 0.1763 - val_loss: 0.3384\n",
      "Epoch 3/20\n",
      "500/500 [==============================] - 9s 19ms/step - loss: 0.1748 - val_loss: 0.3600\n",
      "Epoch 4/20\n",
      "500/500 [==============================] - 10s 19ms/step - loss: 0.1760 - val_loss: 0.3674\n",
      "Epoch 5/20\n",
      "500/500 [==============================] - 10s 19ms/step - loss: 0.1717 - val_loss: 0.3523\n",
      "Epoch 6/20\n",
      "500/500 [==============================] - 10s 19ms/step - loss: 0.1736 - val_loss: 0.3585\n",
      "Epoch 7/20\n",
      "500/500 [==============================] - 9s 19ms/step - loss: 0.1727 - val_loss: 0.3434\n",
      "Epoch 8/20\n",
      "500/500 [==============================] - 9s 19ms/step - loss: 0.1717 - val_loss: 0.3419\n",
      "Epoch 9/20\n",
      "500/500 [==============================] - 10s 19ms/step - loss: 0.1739 - val_loss: 0.3482\n",
      "Epoch 10/20\n",
      "500/500 [==============================] - 9s 18ms/step - loss: 0.1714 - val_loss: 0.3402\n",
      "Epoch 11/20\n",
      "500/500 [==============================] - 10s 20ms/step - loss: 0.1714 - val_loss: 0.3440\n",
      "Epoch 12/20\n",
      "500/500 [==============================] - 10s 19ms/step - loss: 0.1708 - val_loss: 0.3523\n",
      "Epoch 13/20\n",
      "500/500 [==============================] - 9s 19ms/step - loss: 0.1702 - val_loss: 0.3396\n",
      "Epoch 14/20\n",
      "500/500 [==============================] - 9s 19ms/step - loss: 0.1680 - val_loss: 0.3455\n",
      "Epoch 15/20\n",
      "500/500 [==============================] - 9s 19ms/step - loss: 0.1692 - val_loss: 0.3566\n",
      "Epoch 16/20\n",
      "500/500 [==============================] - 10s 19ms/step - loss: 0.1684 - val_loss: 0.3668\n",
      "Epoch 17/20\n",
      "500/500 [==============================] - 9s 19ms/step - loss: 0.1698 - val_loss: 0.3641\n",
      "Epoch 18/20\n",
      "500/500 [==============================] - 9s 19ms/step - loss: 0.1688 - val_loss: 0.3636\n",
      "Epoch 19/20\n",
      "500/500 [==============================] - 10s 19ms/step - loss: 0.1666 - val_loss: 0.3678\n",
      "Epoch 20/20\n",
      "500/500 [==============================] - 10s 20ms/step - loss: 0.1658 - val_loss: 0.3445\n"
     ]
    }
   ],
   "source": [
    "\n",
    "model.compile(optimizer=RMSprop(), loss='mae') \n",
    "\n",
    "history = model.fit(train_gen, steps_per_epoch=500, epochs=20,\n",
    "                             validation_data=val_gen, validation_steps=val_steps, verbose=True)\n",
    "\n",
    "# history = model.fit(train_gen, steps_per_epoch=500, epochs=500, \n",
    "#                     validation_data=val_gen, validation_steps=val_steps, verbose=True)"
   ]
  },
  {
   "cell_type": "code",
   "execution_count": 30,
   "id": "running-highlight",
   "metadata": {},
   "outputs": [
    {
     "data": {
      "image/png": "[encoded data removed]",
      "text/plain": [
       "<Figure size 432x288 with 1 Axes>"
      ]
     },
     "metadata": {
      "needs_background": "light"
     },
     "output_type": "display_data"
    }
   ],
   "source": [
    "import matplotlib.pyplot as plt\n",
    "loss = history.history['loss']\n",
    "val_loss = history.history['val_loss']\n",
    "epochs = range(1, len(loss) + 1)\n",
    "plt.figure()\n",
    "plt.plot(epochs, loss, 'bo', label='Training loss')\n",
    "plt.plot(epochs, val_loss, 'b', label='Validation loss')\n",
    "plt.title('Training and validation loss')\n",
    "plt.legend()\n",
    "plt.show()"
   ]
  },
  {
   "cell_type": "markdown",
   "id": "educational-blackberry",
   "metadata": {},
   "source": [
    "Conclusion: the first ML model with flat + dense + dense doesn't outperform the baseline model (simple guess). \n",
    "Keras Author says, \n",
    "\n",
    "<strong> <em> That is a pretty significant limitation of machine learning in general: unless the learning algorithm is hardcoded to look for a specific kind of simple model, parameter learning can sometimes fail to find a simple solution to a simple problem. </em> </strong>"
   ]
  },
  {
   "cell_type": "markdown",
   "id": "fitted-muslim",
   "metadata": {},
   "source": [
    "## Advanced Use of RNN"
   ]
  },
  {
   "cell_type": "markdown",
   "id": "completed-closer",
   "metadata": {},
   "source": [
    "- Recurrent dropout—This is a specific, built-in way to use dropout to fight overfit- ting in recurrent layers.\n",
    "- Stacking recurrent layers—This increases the representational power of the net- work (at the cost of higher computational loads).\n",
    "- Bidirectional recurrent layers—These present the same information to a recurrent network in different ways, increasing accuracy and mitigating forgetting issues."
   ]
  },
  {
   "cell_type": "markdown",
   "id": "marked-malpractice",
   "metadata": {},
   "source": [
    "### RNN with GRU\n"
   ]
  },
  {
   "cell_type": "code",
   "execution_count": null,
   "id": "leading-politics",
   "metadata": {},
   "outputs": [],
   "source": [
    "from tensorflow.keras.models import Sequential\n",
    "from tensorflow.keras import layers\n",
    "from tensorflow.keras.optimizers import RMSprop"
   ]
  },
  {
   "cell_type": "code",
   "execution_count": 31,
   "id": "varied-diagnosis",
   "metadata": {
    "collapsed": true
   },
   "outputs": [
    {
     "name": "stderr",
     "output_type": "stream",
     "text": [
      "/Library/Frameworks/Python.framework/Versions/3.8/lib/python3.8/site-packages/tensorflow/python/keras/engine/training.py:1909: UserWarning: `Model.fit_generator` is deprecated and will be removed in a future version. Please use `Model.fit`, which supports generators.\n",
      "  warnings.warn('`Model.fit_generator` is deprecated and '\n"
     ]
    },
    {
     "name": "stdout",
     "output_type": "stream",
     "text": [
      "Epoch 1/40\n",
      "500/500 [==============================] - 65s 128ms/step - loss: 0.3694 - val_loss: 0.2846\n",
      "Epoch 2/40\n",
      "500/500 [==============================] - 64s 129ms/step - loss: 0.3056 - val_loss: 0.2759\n",
      "Epoch 3/40\n",
      "500/500 [==============================] - 61s 121ms/step - loss: 0.3017 - val_loss: 0.2795\n",
      "Epoch 4/40\n",
      "500/500 [==============================] - 60s 121ms/step - loss: 0.2939 - val_loss: 0.2784\n",
      "Epoch 5/40\n",
      "500/500 [==============================] - 61s 121ms/step - loss: 0.2891 - val_loss: 0.2722\n",
      "Epoch 6/40\n",
      "500/500 [==============================] - 62s 124ms/step - loss: 0.2857 - val_loss: 0.2740\n",
      "Epoch 7/40\n",
      "500/500 [==============================] - 62s 125ms/step - loss: 0.2825 - val_loss: 0.2708\n",
      "Epoch 8/40\n",
      "500/500 [==============================] - 62s 124ms/step - loss: 0.2746 - val_loss: 0.2692\n",
      "Epoch 9/40\n",
      "500/500 [==============================] - 63s 126ms/step - loss: 0.2732 - val_loss: 0.2754\n",
      "Epoch 10/40\n",
      "500/500 [==============================] - 60s 121ms/step - loss: 0.2680 - val_loss: 0.2740\n",
      "Epoch 11/40\n",
      "500/500 [==============================] - 62s 125ms/step - loss: 0.2652 - val_loss: 0.2782\n",
      "Epoch 12/40\n",
      "500/500 [==============================] - 62s 125ms/step - loss: 0.2628 - val_loss: 0.2766\n",
      "Epoch 13/40\n",
      "500/500 [==============================] - 63s 126ms/step - loss: 0.2598 - val_loss: 0.2764\n",
      "Epoch 14/40\n",
      "500/500 [==============================] - 63s 125ms/step - loss: 0.2573 - val_loss: 0.2782\n",
      "Epoch 15/40\n",
      "500/500 [==============================] - 62s 125ms/step - loss: 0.2549 - val_loss: 0.2756\n",
      "Epoch 16/40\n",
      "500/500 [==============================] - 63s 125ms/step - loss: 0.2528 - val_loss: 0.2816\n",
      "Epoch 17/40\n",
      "500/500 [==============================] - 62s 125ms/step - loss: 0.2542 - val_loss: 0.2796\n",
      "Epoch 18/40\n",
      "500/500 [==============================] - 63s 125ms/step - loss: 0.2495 - val_loss: 0.2844\n",
      "Epoch 19/40\n",
      "500/500 [==============================] - 62s 124ms/step - loss: 0.2477 - val_loss: 0.2824\n",
      "Epoch 20/40\n",
      "500/500 [==============================] - 63s 127ms/step - loss: 0.2460 - val_loss: 0.2885\n",
      "Epoch 21/40\n",
      "500/500 [==============================] - 63s 125ms/step - loss: 0.2442 - val_loss: 0.2891\n",
      "Epoch 22/40\n",
      "500/500 [==============================] - 63s 126ms/step - loss: 0.2407 - val_loss: 0.2884\n",
      "Epoch 23/40\n",
      "500/500 [==============================] - 65s 129ms/step - loss: 0.2395 - val_loss: 0.2958\n",
      "Epoch 24/40\n",
      "500/500 [==============================] - 62s 124ms/step - loss: 0.2397 - val_loss: 0.2897\n",
      "Epoch 25/40\n",
      "500/500 [==============================] - 62s 124ms/step - loss: 0.2376 - val_loss: 0.2955\n",
      "Epoch 26/40\n",
      "500/500 [==============================] - 61s 122ms/step - loss: 0.2367 - val_loss: 0.2936\n",
      "Epoch 27/40\n",
      "500/500 [==============================] - 61s 122ms/step - loss: 0.2365 - val_loss: 0.2949\n",
      "Epoch 28/40\n",
      "500/500 [==============================] - 60s 121ms/step - loss: 0.2320 - val_loss: 0.3001\n",
      "Epoch 29/40\n",
      "500/500 [==============================] - 60s 120ms/step - loss: 0.2343 - val_loss: 0.3016\n",
      "Epoch 30/40\n",
      "500/500 [==============================] - 61s 121ms/step - loss: 0.2318 - val_loss: 0.3007\n",
      "Epoch 31/40\n",
      "500/500 [==============================] - 62s 123ms/step - loss: 0.2304 - val_loss: 0.3028\n",
      "Epoch 32/40\n",
      "500/500 [==============================] - 62s 125ms/step - loss: 0.2299 - val_loss: 0.3016\n",
      "Epoch 33/40\n",
      "500/500 [==============================] - 63s 126ms/step - loss: 0.2280 - val_loss: 0.3063\n",
      "Epoch 34/40\n",
      "500/500 [==============================] - 62s 125ms/step - loss: 0.2286 - val_loss: 0.3036\n",
      "Epoch 35/40\n",
      "500/500 [==============================] - 61s 122ms/step - loss: 0.2274 - val_loss: 0.3034\n",
      "Epoch 36/40\n",
      "500/500 [==============================] - 63s 125ms/step - loss: 0.2234 - val_loss: 0.3121\n",
      "Epoch 37/40\n",
      "500/500 [==============================] - 62s 125ms/step - loss: 0.2254 - val_loss: 0.3006\n",
      "Epoch 38/40\n",
      "500/500 [==============================] - 62s 124ms/step - loss: 0.2252 - val_loss: 0.3030\n",
      "Epoch 39/40\n",
      "500/500 [==============================] - 61s 122ms/step - loss: 0.2241 - val_loss: 0.3009\n",
      "Epoch 40/40\n",
      "500/500 [==============================] - 61s 122ms/step - loss: 0.2248 - val_loss: 0.3092\n"
     ]
    }
   ],
   "source": [
    "# this cell runs for a very long time\n",
    "\n",
    "model = Sequential()\n",
    "model.add(layers.GRU(32,\n",
    "                     dropout=0.2,\n",
    "                     recurrent_dropout=0.2,\n",
    "                     input_shape=(None, float_data.shape[-1])))\n",
    "model.add(layers.Dense(1))\n",
    "model.compile(optimizer=RMSprop(), loss='mae')\n",
    "history = model.fit_generator(train_gen,\n",
    "                              steps_per_epoch=500,\n",
    "                              epochs=40,\n",
    "                              validation_data=val_gen,\n",
    "                              validation_steps=val_steps)"
   ]
  },
  {
   "cell_type": "code",
   "execution_count": 32,
   "id": "agreed-burton",
   "metadata": {},
   "outputs": [
    {
     "data": {
      "image/png": "[encoded data removed]",
      "text/plain": [
       "<Figure size 432x288 with 1 Axes>"
      ]
     },
     "metadata": {
      "needs_background": "light"
     },
     "output_type": "display_data"
    }
   ],
   "source": [
    "import matplotlib.pyplot as plt\n",
    "loss = history.history['loss']\n",
    "val_loss = history.history['val_loss']\n",
    "epochs = range(1, len(loss) + 1)\n",
    "plt.figure()\n",
    "plt.plot(epochs, loss, 'bo', label='Training loss')\n",
    "plt.plot(epochs, val_loss, 'b', label='Validation loss')\n",
    "plt.title('Training and validation loss')\n",
    "plt.legend()\n",
    "plt.show()"
   ]
  },
  {
   "cell_type": "markdown",
   "id": "missing-generation",
   "metadata": {},
   "source": [
    "Obviously, we see overfitting, and we will use dropout to fix this."
   ]
  },
  {
   "cell_type": "markdown",
   "id": "continued-photography",
   "metadata": {},
   "source": [
    "## RNN with Dropout"
   ]
  },
  {
   "cell_type": "code",
   "execution_count": 34,
   "id": "automated-excerpt",
   "metadata": {
    "collapsed": true
   },
   "outputs": [
    {
     "name": "stdout",
     "output_type": "stream",
     "text": [
      "Epoch 1/40\n",
      "500/500 [==============================] - 63s 124ms/step - loss: 0.3354 - val_loss: 0.2785\n",
      "Epoch 2/40\n",
      "500/500 [==============================] - 63s 126ms/step - loss: 0.3081 - val_loss: 0.2842\n",
      "Epoch 3/40\n",
      "500/500 [==============================] - 63s 125ms/step - loss: 0.2978 - val_loss: 0.2698\n",
      "Epoch 4/40\n",
      "500/500 [==============================] - 63s 125ms/step - loss: 0.2957 - val_loss: 0.2745\n",
      "Epoch 5/40\n",
      "500/500 [==============================] - 64s 127ms/step - loss: 0.2922 - val_loss: 0.2874\n",
      "Epoch 6/40\n",
      "500/500 [==============================] - 64s 129ms/step - loss: 0.2871 - val_loss: 0.2709\n",
      "Epoch 7/40\n",
      "500/500 [==============================] - 63s 125ms/step - loss: 0.2813 - val_loss: 0.2707\n",
      "Epoch 8/40\n",
      "500/500 [==============================] - 65s 131ms/step - loss: 0.2822 - val_loss: 0.2736\n",
      "Epoch 9/40\n",
      "500/500 [==============================] - 62s 124ms/step - loss: 0.2776 - val_loss: 0.2766\n",
      "Epoch 10/40\n",
      "500/500 [==============================] - 64s 127ms/step - loss: 0.2734 - val_loss: 0.2724\n",
      "Epoch 11/40\n",
      "500/500 [==============================] - 61s 123ms/step - loss: 0.2704 - val_loss: 0.2713\n",
      "Epoch 12/40\n",
      "500/500 [==============================] - 63s 127ms/step - loss: 0.2689 - val_loss: 0.2781\n",
      "Epoch 13/40\n",
      "500/500 [==============================] - 65s 130ms/step - loss: 0.2649 - val_loss: 0.2823\n",
      "Epoch 14/40\n",
      "500/500 [==============================] - 63s 126ms/step - loss: 0.2624 - val_loss: 0.2868\n",
      "Epoch 15/40\n",
      "500/500 [==============================] - 62s 125ms/step - loss: 0.2599 - val_loss: 0.2876\n",
      "Epoch 16/40\n",
      "500/500 [==============================] - 65s 130ms/step - loss: 0.2572 - val_loss: 0.2834\n",
      "Epoch 17/40\n",
      "500/500 [==============================] - 61s 121ms/step - loss: 0.2545 - val_loss: 0.2905\n",
      "Epoch 18/40\n",
      "500/500 [==============================] - 61s 122ms/step - loss: 0.2524 - val_loss: 0.2853\n",
      "Epoch 19/40\n",
      "500/500 [==============================] - 60s 121ms/step - loss: 0.2542 - val_loss: 0.2894\n",
      "Epoch 20/40\n",
      "500/500 [==============================] - 63s 126ms/step - loss: 0.2504 - val_loss: 0.2927\n",
      "Epoch 21/40\n",
      "500/500 [==============================] - 61s 122ms/step - loss: 0.2514 - val_loss: 0.2932\n",
      "Epoch 22/40\n",
      "500/500 [==============================] - 61s 123ms/step - loss: 0.2481 - val_loss: 0.2938\n",
      "Epoch 23/40\n",
      "500/500 [==============================] - 60s 121ms/step - loss: 0.2471 - val_loss: 0.2930\n",
      "Epoch 24/40\n",
      "500/500 [==============================] - 61s 122ms/step - loss: 0.2455 - val_loss: 0.2944\n",
      "Epoch 25/40\n",
      "500/500 [==============================] - 60s 121ms/step - loss: 0.2444 - val_loss: 0.3017\n",
      "Epoch 26/40\n",
      "500/500 [==============================] - 61s 122ms/step - loss: 0.2440 - val_loss: 0.2977\n",
      "Epoch 27/40\n",
      "500/500 [==============================] - 62s 124ms/step - loss: 0.2413 - val_loss: 0.2943\n",
      "Epoch 28/40\n",
      "500/500 [==============================] - 64s 129ms/step - loss: 0.2419 - val_loss: 0.2969\n",
      "Epoch 29/40\n",
      "500/500 [==============================] - 64s 128ms/step - loss: 0.2402 - val_loss: 0.2971\n",
      "Epoch 30/40\n",
      "500/500 [==============================] - 66s 132ms/step - loss: 0.2380 - val_loss: 0.3015\n",
      "Epoch 31/40\n",
      "500/500 [==============================] - 63s 125ms/step - loss: 0.2360 - val_loss: 0.2986\n",
      "Epoch 32/40\n",
      "500/500 [==============================] - 62s 123ms/step - loss: 0.2357 - val_loss: 0.3005\n",
      "Epoch 33/40\n",
      "500/500 [==============================] - 62s 124ms/step - loss: 0.2337 - val_loss: 0.3051\n",
      "Epoch 34/40\n",
      "500/500 [==============================] - 61s 122ms/step - loss: 0.2333 - val_loss: 0.3012\n",
      "Epoch 35/40\n",
      "500/500 [==============================] - 62s 125ms/step - loss: 0.2335 - val_loss: 0.3012\n",
      "Epoch 36/40\n",
      "500/500 [==============================] - 64s 128ms/step - loss: 0.2323 - val_loss: 0.3001\n",
      "Epoch 37/40\n",
      "500/500 [==============================] - 61s 122ms/step - loss: 0.2309 - val_loss: 0.3077\n",
      "Epoch 38/40\n",
      "500/500 [==============================] - 61s 122ms/step - loss: 0.2310 - val_loss: 0.3033\n",
      "Epoch 39/40\n",
      "500/500 [==============================] - 61s 122ms/step - loss: 0.2278 - val_loss: 0.3008\n",
      "Epoch 40/40\n",
      "500/500 [==============================] - 62s 124ms/step - loss: 0.2266 - val_loss: 0.3024\n"
     ]
    }
   ],
   "source": [
    "from tensorflow.keras.models import Sequential\n",
    "from tensorflow.keras import layers\n",
    "from tensorflow.keras.optimizers import RMSprop\n",
    "model = Sequential()\n",
    "model.add(layers.GRU(32,\n",
    "                     dropout=0.2,\n",
    "                     recurrent_dropout=0.2,\n",
    "                     input_shape=(None, float_data.shape[-1])))\n",
    "model.add(layers.Dense(1))\n",
    "model.compile(optimizer=RMSprop(), loss='mae')\n",
    "history = model.fit_generator(train_gen,\n",
    "                              steps_per_epoch=500,\n",
    "                              epochs=40,\n",
    "                              validation_data=val_gen,\n",
    "                              validation_steps=val_steps)"
   ]
  },
  {
   "cell_type": "code",
   "execution_count": 35,
   "id": "parliamentary-attitude",
   "metadata": {},
   "outputs": [
    {
     "data": {
      "image/png": "[encoded data removed]",
      "text/plain": [
       "<Figure size 432x288 with 1 Axes>"
      ]
     },
     "metadata": {
      "needs_background": "light"
     },
     "output_type": "display_data"
    }
   ],
   "source": [
    "import matplotlib.pyplot as plt\n",
    "loss = history.history['loss']\n",
    "val_loss = history.history['val_loss']\n",
    "epochs = range(1, len(loss) + 1)\n",
    "plt.figure()\n",
    "plt.plot(epochs, loss, 'bo', label='Training loss')\n",
    "plt.plot(epochs, val_loss, 'b', label='Validation loss')\n",
    "plt.title('Training and validation loss')\n",
    "plt.legend()\n",
    "plt.show()"
   ]
  },
  {
   "cell_type": "code",
   "execution_count": 36,
   "id": "future-distinction",
   "metadata": {},
   "outputs": [
    {
     "name": "stdout",
     "output_type": "stream",
     "text": [
      "Model: \"sequential_2\"\n",
      "_________________________________________________________________\n",
      "Layer (type)                 Output Shape              Param #   \n",
      "=================================================================\n",
      "gru_1 (GRU)                  (None, 32)                4608      \n",
      "_________________________________________________________________\n",
      "dense_3 (Dense)              (None, 1)                 33        \n",
      "=================================================================\n",
      "Total params: 4,641\n",
      "Trainable params: 4,641\n",
      "Non-trainable params: 0\n",
      "_________________________________________________________________\n"
     ]
    }
   ],
   "source": [
    "model.summary()"
   ]
  },
  {
   "cell_type": "markdown",
   "id": "typical-easter",
   "metadata": {},
   "source": [
    "## Stacked RNN "
   ]
  },
  {
   "cell_type": "code",
   "execution_count": 38,
   "id": "destroyed-lexington",
   "metadata": {
    "collapsed": true
   },
   "outputs": [
    {
     "name": "stderr",
     "output_type": "stream",
     "text": [
      "/Library/Frameworks/Python.framework/Versions/3.8/lib/python3.8/site-packages/tensorflow/python/keras/engine/training.py:1909: UserWarning: `Model.fit_generator` is deprecated and will be removed in a future version. Please use `Model.fit`, which supports generators.\n",
      "  warnings.warn('`Model.fit_generator` is deprecated and '\n"
     ]
    },
    {
     "name": "stdout",
     "output_type": "stream",
     "text": [
      "Epoch 1/40\n",
      "500/500 [==============================] - 162s 317ms/step - loss: 0.3421 - val_loss: 0.2761\n",
      "Epoch 2/40\n",
      "500/500 [==============================] - 156s 311ms/step - loss: 0.3019 - val_loss: 0.2811\n",
      "Epoch 3/40\n",
      "500/500 [==============================] - 158s 316ms/step - loss: 0.2928 - val_loss: 0.2774\n",
      "Epoch 4/40\n",
      "500/500 [==============================] - 163s 325ms/step - loss: 0.2865 - val_loss: 0.2752\n",
      "Epoch 5/40\n",
      "500/500 [==============================] - 154s 308ms/step - loss: 0.2796 - val_loss: 0.2728\n",
      "Epoch 6/40\n",
      "500/500 [==============================] - 155s 309ms/step - loss: 0.2751 - val_loss: 0.2778\n",
      "Epoch 7/40\n",
      "500/500 [==============================] - 156s 313ms/step - loss: 0.2667 - val_loss: 0.2814\n",
      "Epoch 8/40\n",
      "500/500 [==============================] - 156s 312ms/step - loss: 0.2645 - val_loss: 0.2888\n",
      "Epoch 9/40\n",
      "500/500 [==============================] - 155s 311ms/step - loss: 0.2570 - val_loss: 0.2839\n",
      "Epoch 10/40\n",
      "500/500 [==============================] - 157s 313ms/step - loss: 0.2558 - val_loss: 0.2916\n",
      "Epoch 11/40\n",
      "500/500 [==============================] - 157s 314ms/step - loss: 0.2496 - val_loss: 0.2943\n",
      "Epoch 12/40\n",
      "500/500 [==============================] - 156s 313ms/step - loss: 0.2456 - val_loss: 0.2926\n",
      "Epoch 13/40\n",
      "500/500 [==============================] - 155s 311ms/step - loss: 0.2430 - val_loss: 0.2972\n",
      "Epoch 14/40\n",
      "500/500 [==============================] - 159s 318ms/step - loss: 0.2389 - val_loss: 0.2940\n",
      "Epoch 15/40\n",
      "500/500 [==============================] - 157s 315ms/step - loss: 0.2342 - val_loss: 0.3027\n",
      "Epoch 16/40\n",
      "500/500 [==============================] - 157s 314ms/step - loss: 0.2325 - val_loss: 0.3057\n",
      "Epoch 17/40\n",
      "500/500 [==============================] - 157s 314ms/step - loss: 0.2328 - val_loss: 0.3065\n",
      "Epoch 18/40\n",
      "500/500 [==============================] - 159s 318ms/step - loss: 0.2268 - val_loss: 0.3078\n",
      "Epoch 19/40\n",
      "500/500 [==============================] - 159s 318ms/step - loss: 0.2239 - val_loss: 0.3135\n",
      "Epoch 20/40\n",
      "500/500 [==============================] - 158s 317ms/step - loss: 0.2213 - val_loss: 0.3129\n",
      "Epoch 21/40\n",
      "500/500 [==============================] - 157s 314ms/step - loss: 0.2196 - val_loss: 0.3137\n",
      "Epoch 22/40\n",
      "500/500 [==============================] - 157s 315ms/step - loss: 0.2171 - val_loss: 0.3173\n",
      "Epoch 23/40\n",
      "500/500 [==============================] - 161s 323ms/step - loss: 0.2130 - val_loss: 0.3223\n",
      "Epoch 24/40\n",
      "500/500 [==============================] - 158s 316ms/step - loss: 0.2120 - val_loss: 0.3248\n",
      "Epoch 25/40\n",
      "500/500 [==============================] - 158s 316ms/step - loss: 0.2091 - val_loss: 0.3226\n",
      "Epoch 26/40\n",
      "500/500 [==============================] - 158s 316ms/step - loss: 0.2080 - val_loss: 0.3193\n",
      "Epoch 27/40\n",
      "500/500 [==============================] - 158s 316ms/step - loss: 0.2053 - val_loss: 0.3263\n",
      "Epoch 28/40\n",
      "500/500 [==============================] - 161s 321ms/step - loss: 0.2026 - val_loss: 0.3336\n",
      "Epoch 29/40\n",
      "500/500 [==============================] - 158s 316ms/step - loss: 0.2028 - val_loss: 0.3309\n",
      "Epoch 30/40\n",
      "500/500 [==============================] - 160s 320ms/step - loss: 0.1998 - val_loss: 0.3413\n",
      "Epoch 31/40\n",
      "500/500 [==============================] - 157s 314ms/step - loss: 0.1971 - val_loss: 0.3425\n",
      "Epoch 32/40\n",
      "500/500 [==============================] - 159s 318ms/step - loss: 0.1957 - val_loss: 0.3395\n",
      "Epoch 33/40\n",
      "500/500 [==============================] - 159s 318ms/step - loss: 0.1949 - val_loss: 0.3350\n",
      "Epoch 34/40\n",
      "500/500 [==============================] - 165s 329ms/step - loss: 0.1937 - val_loss: 0.3462\n",
      "Epoch 35/40\n",
      "500/500 [==============================] - 160s 320ms/step - loss: 0.1931 - val_loss: 0.3440\n",
      "Epoch 36/40\n",
      "500/500 [==============================] - 165s 331ms/step - loss: 0.1901 - val_loss: 0.3514\n",
      "Epoch 37/40\n",
      "500/500 [==============================] - 157s 314ms/step - loss: 0.1900 - val_loss: 0.3449\n",
      "Epoch 38/40\n",
      "500/500 [==============================] - 157s 313ms/step - loss: 0.1894 - val_loss: 0.3527\n",
      "Epoch 39/40\n",
      "500/500 [==============================] - 156s 313ms/step - loss: 0.1879 - val_loss: 0.3447\n",
      "Epoch 40/40\n",
      "500/500 [==============================] - 157s 314ms/step - loss: 0.1864 - val_loss: 0.3515\n"
     ]
    }
   ],
   "source": [
    "from tensorflow.keras.models import Sequential\n",
    "from tensorflow.keras import layers\n",
    "from tensorflow.keras.optimizers import RMSprop\n",
    "\n",
    "model = Sequential()\n",
    "model.add(layers.GRU(32,\n",
    "                     dropout=0.1,\n",
    "                     recurrent_dropout=0.5,\n",
    "                     return_sequences=True,\n",
    "                     input_shape=(None, float_data.shape[-1])))\n",
    "\n",
    "model.add(layers.GRU(64, activation='relu',\n",
    "                     dropout=0.1,\n",
    "                     recurrent_dropout=0.5))\n",
    "\n",
    "model.add(layers.Dense(1))\n",
    "\n",
    "model.compile(optimizer=RMSprop(), loss='mae')\n",
    "\n",
    "history = model.fit_generator(train_gen,\n",
    "                              steps_per_epoch=500,\n",
    "                              epochs=40,\n",
    "                              validation_data=val_gen,\n",
    "                              validation_steps=val_steps)"
   ]
  },
  {
   "cell_type": "markdown",
   "id": "restricted-sudan",
   "metadata": {},
   "source": [
    "# Conv1D Explained"
   ]
  },
  {
   "cell_type": "markdown",
   "id": "important-irish",
   "metadata": {},
   "source": [
    "## 1D Convent"
   ]
  },
  {
   "cell_type": "code",
   "execution_count": 3,
   "id": "expressed-profession",
   "metadata": {},
   "outputs": [
    {
     "name": "stdout",
     "output_type": "stream",
     "text": [
      "Loading data...\n"
     ]
    },
    {
     "name": "stderr",
     "output_type": "stream",
     "text": [
      "<__array_function__ internals>:5: VisibleDeprecationWarning: Creating an ndarray from ragged nested sequences (which is a list-or-tuple of lists-or-tuples-or ndarrays with different lengths or shapes) is deprecated. If you meant to do this, you must specify 'dtype=object' when creating the ndarray\n",
      "/Library/Frameworks/Python.framework/Versions/3.8/lib/python3.8/site-packages/tensorflow/python/keras/datasets/imdb.py:159: VisibleDeprecationWarning: Creating an ndarray from ragged nested sequences (which is a list-or-tuple of lists-or-tuples-or ndarrays with different lengths or shapes) is deprecated. If you meant to do this, you must specify 'dtype=object' when creating the ndarray\n",
      "  x_train, y_train = np.array(xs[:idx]), np.array(labels[:idx])\n",
      "/Library/Frameworks/Python.framework/Versions/3.8/lib/python3.8/site-packages/tensorflow/python/keras/datasets/imdb.py:160: VisibleDeprecationWarning: Creating an ndarray from ragged nested sequences (which is a list-or-tuple of lists-or-tuples-or ndarrays with different lengths or shapes) is deprecated. If you meant to do this, you must specify 'dtype=object' when creating the ndarray\n",
      "  x_test, y_test = np.array(xs[idx:]), np.array(labels[idx:])\n"
     ]
    },
    {
     "name": "stdout",
     "output_type": "stream",
     "text": [
      "25000 train sequences\n",
      "25000 test sequences\n",
      "Pad sequences (samples x time)\n",
      "x_train shape: (25000, 500)\n",
      "x_test shape: (25000, 500)\n"
     ]
    }
   ],
   "source": [
    "from tensorflow.keras.datasets import imdb\n",
    "from tensorflow.keras.preprocessing import sequence\n",
    "max_features = 10000\n",
    "max_len = 500\n",
    "\n",
    "print('Loading data...')\n",
    "(x_train, y_train), (x_test, y_test) = imdb.load_data(num_words=max_features) \n",
    "\n",
    "print(len(x_train), 'train sequences')\n",
    "print(len(x_test), 'test sequences')\n",
    "print('Pad sequences (samples x time)')\n",
    "\n",
    "x_train = sequence.pad_sequences(x_train, maxlen=max_len)\n",
    "x_test = sequence.pad_sequences(x_test, maxlen=max_len)\n",
    "\n",
    "print('x_train shape:', x_train.shape)\n",
    "print('x_test shape:', x_test.shape)"
   ]
  },
  {
   "cell_type": "code",
   "execution_count": 5,
   "id": "flying-custom",
   "metadata": {},
   "outputs": [],
   "source": [
    "from tensorflow.keras.models import Sequential\n",
    "from tensorflow.keras import layers\n",
    "from tensorflow.keras.optimizers import RMSprop"
   ]
  },
  {
   "cell_type": "code",
   "execution_count": 6,
   "id": "descending-maker",
   "metadata": {},
   "outputs": [
    {
     "name": "stdout",
     "output_type": "stream",
     "text": [
      "Model: \"sequential\"\n",
      "_________________________________________________________________\n",
      "Layer (type)                 Output Shape              Param #   \n",
      "=================================================================\n",
      "embedding (Embedding)        (None, 500, 128)          1280000   \n",
      "_________________________________________________________________\n",
      "conv1d (Conv1D)              (None, 494, 32)           28704     \n",
      "_________________________________________________________________\n",
      "max_pooling1d (MaxPooling1D) (None, 98, 32)            0         \n",
      "_________________________________________________________________\n",
      "conv1d_1 (Conv1D)            (None, 92, 32)            7200      \n",
      "_________________________________________________________________\n",
      "global_max_pooling1d (Global (None, 32)                0         \n",
      "_________________________________________________________________\n",
      "dense (Dense)                (None, 1)                 33        \n",
      "=================================================================\n",
      "Total params: 1,315,937\n",
      "Trainable params: 1,315,937\n",
      "Non-trainable params: 0\n",
      "_________________________________________________________________\n",
      "Epoch 1/10\n",
      "157/157 [==============================] - 23s 141ms/step - loss: 1.1448 - acc: 0.5025 - val_loss: 0.6901 - val_acc: 0.5202\n",
      "Epoch 2/10\n",
      "157/157 [==============================] - 21s 136ms/step - loss: 0.6771 - acc: 0.6118 - val_loss: 0.6690 - val_acc: 0.6360\n",
      "Epoch 3/10\n",
      "157/157 [==============================] - 21s 134ms/step - loss: 0.6441 - acc: 0.7330 - val_loss: 0.6224 - val_acc: 0.7394\n",
      "Epoch 4/10\n",
      "157/157 [==============================] - 21s 131ms/step - loss: 0.5779 - acc: 0.7905 - val_loss: 0.5098 - val_acc: 0.7912\n",
      "Epoch 5/10\n",
      "157/157 [==============================] - 21s 132ms/step - loss: 0.4589 - acc: 0.8270 - val_loss: 0.4347 - val_acc: 0.8266\n",
      "Epoch 6/10\n",
      "157/157 [==============================] - 20s 128ms/step - loss: 0.3720 - acc: 0.8643 - val_loss: 0.4192 - val_acc: 0.8450\n",
      "Epoch 7/10\n",
      "157/157 [==============================] - 20s 127ms/step - loss: 0.3264 - acc: 0.8898 - val_loss: 0.4150 - val_acc: 0.8516\n",
      "Epoch 8/10\n",
      "157/157 [==============================] - 20s 127ms/step - loss: 0.2846 - acc: 0.9031 - val_loss: 0.4120 - val_acc: 0.8664\n",
      "Epoch 9/10\n",
      "157/157 [==============================] - 20s 126ms/step - loss: 0.2633 - acc: 0.9149 - val_loss: 0.4204 - val_acc: 0.8676\n",
      "Epoch 10/10\n",
      "157/157 [==============================] - 20s 126ms/step - loss: 0.2392 - acc: 0.9209 - val_loss: 0.4564 - val_acc: 0.8680\n"
     ]
    }
   ],
   "source": [
    "model = Sequential()\n",
    "model.add(layers.Embedding(max_features, 128, input_length=max_len)) # input_dim=10000, output_dim=128, input_length=timestamps, 500\n",
    "model.add(layers.Conv1D(32, 7, activation='relu'))\n",
    "model.add(layers.MaxPooling1D(5))\n",
    "model.add(layers.Conv1D(32, 7, activation='relu'))\n",
    "model.add(layers.GlobalMaxPooling1D())\n",
    "model.add(layers.Dense(1))\n",
    "model.summary()\n",
    "model.compile(optimizer=RMSprop(lr=1e-4),\n",
    "              loss='binary_crossentropy',\n",
    "              metrics=['acc'])\n",
    "history = model.fit(x_train, y_train,\n",
    "                    epochs=10,\n",
    "                    batch_size=128,\n",
    "                    validation_split=0.2)"
   ]
  },
  {
   "cell_type": "code",
   "execution_count": 7,
   "id": "present-conversion",
   "metadata": {
    "scrolled": true
   },
   "outputs": [
    {
     "data": {
      "image/png": "[encoded data removed]",
      "text/plain": [
       "<Figure size 432x288 with 1 Axes>"
      ]
     },
     "metadata": {
      "needs_background": "light"
     },
     "output_type": "display_data"
    }
   ],
   "source": [
    "import matplotlib.pyplot as plt\n",
    "loss = history.history['loss']\n",
    "val_loss = history.history['val_loss']\n",
    "epochs = range(1, len(loss) + 1)\n",
    "plt.figure()\n",
    "plt.plot(epochs, loss, 'bo', label='Training loss')\n",
    "plt.plot(epochs, val_loss, 'b', label='Validation loss')\n",
    "plt.title('Training and validation loss')\n",
    "plt.legend()\n",
    "plt.show()"
   ]
  },
  {
   "cell_type": "markdown",
   "id": "educational-replacement",
   "metadata": {},
   "source": [
    "### Example to Explain the Difference between GlobalMaxPooling1D and MaxPooling1D"
   ]
  },
  {
   "cell_type": "markdown",
   "id": "driving-energy",
   "metadata": {},
   "source": [
    "#### MaxPooling with Window 2"
   ]
  },
  {
   "cell_type": "code",
   "execution_count": 103,
   "id": "differential-cambridge",
   "metadata": {},
   "outputs": [],
   "source": [
    "x = tf.constant([[[1, 9], [5, 3], [3, 4], [6, 7]], [[4, 5], [5,6], [6,7], [8,9]], [[7,8], [8,9], [9,10], [11, 12]]])\n",
    "x = tf.reshape(x, [3, 4, 2])"
   ]
  },
  {
   "cell_type": "code",
   "execution_count": 104,
   "id": "opening-india",
   "metadata": {},
   "outputs": [
    {
     "name": "stdout",
     "output_type": "stream",
     "text": [
      "tf.Tensor(\n",
      "[[[ 1  9]\n",
      "  [ 5  3]\n",
      "  [ 3  4]\n",
      "  [ 6  7]]\n",
      "\n",
      " [[ 4  5]\n",
      "  [ 5  6]\n",
      "  [ 6  7]\n",
      "  [ 8  9]]\n",
      "\n",
      " [[ 7  8]\n",
      "  [ 8  9]\n",
      "  [ 9 10]\n",
      "  [11 12]]], shape=(3, 4, 2), dtype=int32)\n"
     ]
    }
   ],
   "source": [
    "print(x)"
   ]
  },
  {
   "cell_type": "code",
   "execution_count": 105,
   "id": "terminal-burlington",
   "metadata": {},
   "outputs": [
    {
     "data": {
      "text/plain": [
       "<tf.Tensor: shape=(3, 2, 2), dtype=int32, numpy=\n",
       "array([[[ 5,  9],\n",
       "        [ 6,  7]],\n",
       "\n",
       "       [[ 5,  6],\n",
       "        [ 8,  9]],\n",
       "\n",
       "       [[ 8,  9],\n",
       "        [11, 12]]], dtype=int32)>"
      ]
     },
     "execution_count": 105,
     "metadata": {},
     "output_type": "execute_result"
    }
   ],
   "source": [
    "tf.keras.layers.MaxPool1D(2)(x)\n"
   ]
  },
  {
   "cell_type": "markdown",
   "id": "hearing-order",
   "metadata": {},
   "source": [
    "#### Timestamp = 3"
   ]
  },
  {
   "cell_type": "code",
   "execution_count": 99,
   "id": "published-contrary",
   "metadata": {},
   "outputs": [
    {
     "name": "stdout",
     "output_type": "stream",
     "text": [
      "tf.Tensor(\n",
      "[[[ 1  9]\n",
      "  [ 5  3]\n",
      "  [ 3  4]]\n",
      "\n",
      " [[ 4  5]\n",
      "  [ 5  6]\n",
      "  [ 6  7]]\n",
      "\n",
      " [[ 7  8]\n",
      "  [ 8  9]\n",
      "  [ 9 10]]], shape=(3, 3, 2), dtype=int32)\n"
     ]
    }
   ],
   "source": [
    "x = tf.constant([[[1, 9], [5, 3], [3, 4]], [[4, 5], [5,6], [6,7]], [[7,8], [8,9], [9,10]]])\n",
    "x = tf.reshape(x, [3, 3, 2])\n",
    "\n",
    "print(x)"
   ]
  },
  {
   "cell_type": "code",
   "execution_count": 100,
   "id": "maritime-bryan",
   "metadata": {},
   "outputs": [
    {
     "data": {
      "text/plain": [
       "<tf.Tensor: shape=(3, 1, 2), dtype=int32, numpy=\n",
       "array([[[5, 9]],\n",
       "\n",
       "       [[5, 6]],\n",
       "\n",
       "       [[8, 9]]], dtype=int32)>"
      ]
     },
     "execution_count": 100,
     "metadata": {},
     "output_type": "execute_result"
    }
   ],
   "source": [
    "tf.keras.layers.MaxPool1D(2)(x)"
   ]
  },
  {
   "cell_type": "markdown",
   "id": "academic-seeker",
   "metadata": {},
   "source": [
    "#### GlobalMaxPooling"
   ]
  },
  {
   "cell_type": "code",
   "execution_count": 101,
   "id": "editorial-marble",
   "metadata": {},
   "outputs": [
    {
     "data": {
      "text/plain": [
       "<tf.Tensor: shape=(3, 2), dtype=int32, numpy=\n",
       "array([[ 5,  9],\n",
       "       [ 6,  7],\n",
       "       [ 9, 10]], dtype=int32)>"
      ]
     },
     "execution_count": 101,
     "metadata": {},
     "output_type": "execute_result"
    }
   ],
   "source": [
    "max_pool_1d = tf.keras.layers.GlobalMaxPooling1D()\n",
    "max_pool_1d(x)"
   ]
  },
  {
   "cell_type": "markdown",
   "id": "dangerous-encoding",
   "metadata": {},
   "source": [
    "#### MaxPooling with Timestamp vs GlobalMaxPooling"
   ]
  },
  {
   "cell_type": "code",
   "execution_count": 102,
   "id": "binary-depth",
   "metadata": {},
   "outputs": [
    {
     "data": {
      "text/plain": [
       "<tf.Tensor: shape=(3, 1, 2), dtype=int32, numpy=\n",
       "array([[[ 5,  9]],\n",
       "\n",
       "       [[ 6,  7]],\n",
       "\n",
       "       [[ 9, 10]]], dtype=int32)>"
      ]
     },
     "execution_count": 102,
     "metadata": {},
     "output_type": "execute_result"
    }
   ],
   "source": [
    "tf.keras.layers.MaxPool1D(3)(x)\n"
   ]
  },
  {
   "cell_type": "markdown",
   "id": "vertical-commerce",
   "metadata": {},
   "source": [
    "### Combine CNNs and RNNs to Process Long Sequence"
   ]
  },
  {
   "cell_type": "markdown",
   "id": "tested-laptop",
   "metadata": {},
   "source": [
    "Because 1D convnets process input patches independently, they aren’t sensitive to the order of the timesteps (beyond a local scale, the size of the convolution windows), unlike RNNs. Of course, to recognize longer-term patterns, you can stack many convolution layers and pooling layers, resulting in upper layers that will see long chunks of the original inputs—but that’s still a fairly weak way to induce order sensitivity. One way to evidence this weakness is to try 1D convnets on the temperature-forecasting problem, where order-sensitivity is key to producing good predictions. "
   ]
  },
  {
   "cell_type": "markdown",
   "id": "governmental-illinois",
   "metadata": {},
   "source": [
    "#### CNN(Conv1D) only to Fit Time Series Data (not a great model)"
   ]
  },
  {
   "cell_type": "code",
   "execution_count": 60,
   "id": "italian-battery",
   "metadata": {},
   "outputs": [],
   "source": [
    "from tensorflow.keras.models import Sequential\n",
    "from tensorflow.keras import layers\n",
    "from tensorflow.keras.optimizers import RMSprop"
   ]
  },
  {
   "cell_type": "code",
   "execution_count": 72,
   "id": "dimensional-desktop",
   "metadata": {},
   "outputs": [
    {
     "data": {
      "text/plain": [
       "(420451, 14)"
      ]
     },
     "execution_count": 72,
     "metadata": {},
     "output_type": "execute_result"
    }
   ],
   "source": [
    "float_data.shape"
   ]
  },
  {
   "cell_type": "code",
   "execution_count": 73,
   "id": "visible-scheme",
   "metadata": {},
   "outputs": [],
   "source": [
    "model = Sequential()\n",
    "model.add(layers.Conv1D(32, 5, activation='relu', # why Conv1D? Remember, we are using Conv1D for time series data\n",
    "                        input_shape=(None, float_data.shape[-1]))) # float_data.shape = (420451, 14), here timestamp is missing, it's ok. Will infer from data\n",
    "model.add(layers.MaxPooling1D(3)) # why MaxPooling? Ok, we are stacking many layers of Con1D and MaxPooling as the author suggested.\n",
    "model.add(layers.Conv1D(32, 5, activation='relu')) # Second Conv1D+max\n",
    "model.add(layers.MaxPooling1D(3)) # OK, continue..\n",
    "model.add(layers.Conv1D(32, 5, activation='relu')) # third Con1D + max\n",
    "model.add(layers.GlobalMaxPooling1D())\n",
    "model.add(layers.Dense(1)) # Finally Dense layer"
   ]
  },
  {
   "cell_type": "code",
   "execution_count": 75,
   "id": "medical-dependence",
   "metadata": {},
   "outputs": [
    {
     "name": "stdout",
     "output_type": "stream",
     "text": [
      "Model: \"sequential_2\"\n",
      "_________________________________________________________________\n",
      "Layer (type)                 Output Shape              Param #   \n",
      "=================================================================\n",
      "conv1d_3 (Conv1D)            (None, None, 32)          2272      \n",
      "_________________________________________________________________\n",
      "max_pooling1d_2 (MaxPooling1 (None, None, 32)          0         \n",
      "_________________________________________________________________\n",
      "conv1d_4 (Conv1D)            (None, None, 32)          5152      \n",
      "_________________________________________________________________\n",
      "max_pooling1d_3 (MaxPooling1 (None, None, 32)          0         \n",
      "_________________________________________________________________\n",
      "conv1d_5 (Conv1D)            (None, None, 32)          5152      \n",
      "_________________________________________________________________\n",
      "global_max_pooling1d_4 (Glob (None, 32)                0         \n",
      "_________________________________________________________________\n",
      "dense_1 (Dense)              (None, 1)                 33        \n",
      "=================================================================\n",
      "Total params: 12,609\n",
      "Trainable params: 12,609\n",
      "Non-trainable params: 0\n",
      "_________________________________________________________________\n"
     ]
    }
   ],
   "source": [
    "\n",
    "model.summary()"
   ]
  },
  {
   "cell_type": "code",
   "execution_count": 106,
   "id": "architectural-banana",
   "metadata": {
    "scrolled": true
   },
   "outputs": [
    {
     "name": "stderr",
     "output_type": "stream",
     "text": [
      "/Library/Frameworks/Python.framework/Versions/3.8/lib/python3.8/site-packages/tensorflow/python/keras/engine/training.py:1909: UserWarning: `Model.fit_generator` is deprecated and will be removed in a future version. Please use `Model.fit`, which supports generators.\n",
      "  warnings.warn('`Model.fit_generator` is deprecated and '\n"
     ]
    },
    {
     "name": "stdout",
     "output_type": "stream",
     "text": [
      "Epoch 1/20\n",
      "500/500 [==============================] - 18s 34ms/step - loss: 0.4628 - val_loss: 0.4873\n",
      "Epoch 2/20\n",
      "500/500 [==============================] - 17s 34ms/step - loss: 0.3647 - val_loss: 0.4599\n",
      "Epoch 3/20\n",
      "500/500 [==============================] - 17s 33ms/step - loss: 0.3384 - val_loss: 0.4540\n",
      "Epoch 4/20\n",
      "500/500 [==============================] - 16s 33ms/step - loss: 0.3214 - val_loss: 0.4589\n",
      "Epoch 5/20\n",
      "500/500 [==============================] - 17s 34ms/step - loss: 0.3090 - val_loss: 0.4549\n",
      "Epoch 6/20\n",
      "500/500 [==============================] - 17s 34ms/step - loss: 0.3000 - val_loss: 0.4514\n",
      "Epoch 7/20\n",
      "500/500 [==============================] - 18s 35ms/step - loss: 0.2934 - val_loss: 0.4521\n",
      "Epoch 8/20\n",
      "500/500 [==============================] - 16s 32ms/step - loss: 0.2835 - val_loss: 0.4616\n",
      "Epoch 9/20\n",
      "500/500 [==============================] - 17s 34ms/step - loss: 0.2765 - val_loss: 0.4940\n",
      "Epoch 10/20\n",
      "500/500 [==============================] - 18s 35ms/step - loss: 0.2721 - val_loss: 0.4677\n",
      "Epoch 11/20\n",
      "500/500 [==============================] - 17s 34ms/step - loss: 0.2727 - val_loss: 0.4742\n",
      "Epoch 12/20\n",
      "500/500 [==============================] - 17s 33ms/step - loss: 0.2650 - val_loss: 0.4662\n",
      "Epoch 13/20\n",
      "500/500 [==============================] - 17s 34ms/step - loss: 0.2615 - val_loss: 0.5125\n",
      "Epoch 14/20\n",
      "500/500 [==============================] - 17s 34ms/step - loss: 0.2569 - val_loss: 0.5229\n",
      "Epoch 15/20\n",
      "500/500 [==============================] - 18s 35ms/step - loss: 0.2569 - val_loss: 0.4706\n",
      "Epoch 16/20\n",
      "500/500 [==============================] - 17s 35ms/step - loss: 0.2504 - val_loss: 0.4726\n",
      "Epoch 17/20\n",
      "500/500 [==============================] - 18s 35ms/step - loss: 0.2508 - val_loss: 0.4835\n",
      "Epoch 18/20\n",
      "500/500 [==============================] - 18s 36ms/step - loss: 0.2487 - val_loss: 0.4978\n",
      "Epoch 19/20\n",
      "500/500 [==============================] - 17s 34ms/step - loss: 0.2453 - val_loss: 0.5161\n",
      "Epoch 20/20\n",
      "500/500 [==============================] - 17s 35ms/step - loss: 0.2446 - val_loss: 0.4816\n"
     ]
    }
   ],
   "source": [
    "model.compile(optimizer=RMSprop(), loss='mae')\n",
    "history = model.fit_generator(train_gen,\n",
    "                              steps_per_epoch=500,\n",
    "                              epochs=20,\n",
    "                              validation_data=val_gen,\n",
    "                              validation_steps=val_steps)"
   ]
  },
  {
   "cell_type": "code",
   "execution_count": 107,
   "id": "declared-feelings",
   "metadata": {},
   "outputs": [
    {
     "data": {
      "image/png": "[encoded data removed]",
      "text/plain": [
       "<Figure size 432x288 with 1 Axes>"
      ]
     },
     "metadata": {
      "needs_background": "light"
     },
     "output_type": "display_data"
    }
   ],
   "source": [
    "import matplotlib.pyplot as plt\n",
    "loss = history.history['loss']\n",
    "val_loss = history.history['val_loss']\n",
    "epochs = range(1, len(loss) + 1)\n",
    "plt.figure()\n",
    "plt.plot(epochs, loss, 'bo', label='Training loss')\n",
    "plt.plot(epochs, val_loss, 'b', label='Validation loss')\n",
    "plt.title('Training and validation loss')\n",
    "plt.legend()\n",
    "plt.show()"
   ]
  },
  {
   "cell_type": "markdown",
   "id": "realistic-buddy",
   "metadata": {},
   "source": [
    "The validation MAE stays in the 0.40s: you can’t even beat the common-sense baseline using the small convnet. Again, this is because the convnet looks for patterns any- where in the input timeseries and has no knowledge of the temporal position of a pat- tern it sees (toward the beginning, toward the end, and so on). Because more recent data points should be interpreted differently from older data points in the case of this specific forecasting problem, the convnet fails at producing meaningful results. This limitation of convnets isn’t an issue with the IMDB data, because patterns of keywords associated with a positive or negative sentiment are informative independently of where they’re found in the input sentences."
   ]
  },
  {
   "cell_type": "markdown",
   "id": "exposed-tracker",
   "metadata": {},
   "source": [
    "### Combine CNN and RNN"
   ]
  },
  {
   "cell_type": "markdown",
   "id": "opposite-quantum",
   "metadata": {},
   "source": [
    "One strategy to combine the speed and lightness of convnets with the order-sensitivity of RNNs is to use a 1D convnet as a preprocessing step before an RNN (see figure 6.30). This is especially beneficial when you’re deal-\n",
    "ing with sequences that are so long they can’t\n",
    "realistically be processed with RNNs, such as\n",
    "sequences with thousands of steps. The conv-\n",
    "net will turn the long input sequence into\n",
    "much shorter (downsampled) sequences of\n",
    "higher-level features. This sequence of\n",
    "extracted features then becomes the input to\n",
    "the RNN part of the network."
   ]
  },
  {
   "cell_type": "markdown",
   "id": "received-notification",
   "metadata": {},
   "source": [
    "This technique isn’t seen often in research papers and practical applications, possibly because it isn’t well known. It’s effec- tive and ought to be more common. Let’s try it on the temperature-forecasting dataset. Because this strategy allows you to manipu- late much longer sequences, you can either look at data from longer ago (by increasing the lookback parameter of the data gen- erator) or look at high-resolution timeseries (by decreasing the step parameter of the generator). Here, somewhat arbitrarily, you’ll use a step that’s half as large, resulting in a timeseries twice as long, where the temperature data is sampled at a rate of 1 point per 30 minutes. The example reuses the generator function defined earlier."
   ]
  },
  {
   "cell_type": "code",
   "execution_count": 108,
   "id": "authentic-saturday",
   "metadata": {},
   "outputs": [],
   "source": [
    "\n",
    "#lookback = 1440 # look back 10 days\n",
    "#step = 6 # 1 data point per 10 minute, thus sample 1 data per hour\n",
    "#delay = 144 # target will be 24 hours later\n",
    "#batch_size = 128\n",
    "\n",
    "lookback = 720 # now only look at 5 days, instead of 10 days? why, shouldn't it be longer\n",
    "step = 3 #  High resolution.\n",
    "\n",
    "\n",
    "train_gen = generator(float_data,\n",
    "                      lookback=lookback,\n",
    "                      delay=delay,\n",
    "                      min_index=0,\n",
    "                      max_index=200000,\n",
    "                      shuffle=True,\n",
    "                      step=step,\n",
    "                      batch_size=batch_size)\n",
    "\n",
    "val_gen = generator(float_data,\n",
    "                    lookback=lookback,\n",
    "                    delay=delay,\n",
    "                    min_index=200001,\n",
    "                    max_index=300000,\n",
    "                    step=step,\n",
    "                    batch_size=batch_size)\n",
    "\n",
    "\n",
    "test_gen = generator(float_data,\n",
    "                     lookback=lookback,\n",
    "                     delay=delay,\n",
    "                     min_index=300001,\n",
    "                     max_index=None,\n",
    "                     step=step,\n",
    "                     batch_size=batch_size)\n",
    "\n",
    "val_steps = (300000 - 200001 - lookback)//batch_size\n",
    "\n",
    "test_steps = (len(float_data) - 300001 - lookback)//batch_size # hehe, the author didn't divide by batch_size here, but later he did it, so... I guess he made a mistake\n",
    "# otherwise, this just takes too long to finish."
   ]
  },
  {
   "cell_type": "code",
   "execution_count": 109,
   "id": "southwest-holocaust",
   "metadata": {},
   "outputs": [],
   "source": [
    "from tensorflow.keras.models import Sequential\n",
    "from tensorflow.keras import layers\n",
    "from tensorflow.keras.optimizers import RMSprop"
   ]
  },
  {
   "cell_type": "code",
   "execution_count": 110,
   "id": "automatic-intent",
   "metadata": {},
   "outputs": [
    {
     "name": "stdout",
     "output_type": "stream",
     "text": [
      "Model: \"sequential_3\"\n",
      "_________________________________________________________________\n",
      "Layer (type)                 Output Shape              Param #   \n",
      "=================================================================\n",
      "conv1d_7 (Conv1D)            (None, None, 32)          2272      \n",
      "_________________________________________________________________\n",
      "max_pooling1d_11 (MaxPooling (None, None, 32)          0         \n",
      "_________________________________________________________________\n",
      "conv1d_8 (Conv1D)            (None, None, 32)          5152      \n",
      "_________________________________________________________________\n",
      "gru (GRU)                    (None, 32)                6336      \n",
      "_________________________________________________________________\n",
      "dense_2 (Dense)              (None, 1)                 33        \n",
      "=================================================================\n",
      "Total params: 13,793\n",
      "Trainable params: 13,793\n",
      "Non-trainable params: 0\n",
      "_________________________________________________________________\n"
     ]
    }
   ],
   "source": [
    "model = Sequential()\n",
    "model.add(layers.Conv1D(32, 5, activation='relu',\n",
    "                        input_shape=(None, float_data.shape[-1])))\n",
    "model.add(layers.MaxPooling1D(3))\n",
    "model.add(layers.Conv1D(32, 5, activation='relu'))\n",
    "model.add(layers.GRU(32, dropout=0.1, recurrent_dropout=0.5))\n",
    "model.add(layers.Dense(1))\n",
    "model.summary()\n",
    "model.compile(optimizer=RMSprop(), loss='mae')"
   ]
  },
  {
   "cell_type": "code",
   "execution_count": null,
   "id": "directed-timer",
   "metadata": {},
   "outputs": [
    {
     "name": "stdout",
     "output_type": "stream",
     "text": [
      "Epoch 1/20\n",
      "500/500 [==============================] - 40s 76ms/step - loss: 0.3627 - val_loss: 0.2903\n",
      "Epoch 2/20\n",
      "500/500 [==============================] - 36s 72ms/step - loss: 0.2981 - val_loss: 0.3020\n",
      "Epoch 3/20\n",
      "500/500 [==============================] - 36s 71ms/step - loss: 0.2866 - val_loss: 0.2749\n",
      "Epoch 4/20\n",
      "500/500 [==============================] - 37s 75ms/step - loss: 0.2746 - val_loss: 0.2773\n",
      "Epoch 5/20\n",
      "500/500 [==============================] - 35s 69ms/step - loss: 0.2654 - val_loss: 0.2795\n",
      "Epoch 6/20\n",
      "500/500 [==============================] - 34s 68ms/step - loss: 0.2595 - val_loss: 0.2784\n",
      "Epoch 7/20\n",
      "500/500 [==============================] - 34s 67ms/step - loss: 0.2533 - val_loss: 0.2790\n",
      "Epoch 8/20\n",
      "500/500 [==============================] - 35s 69ms/step - loss: 0.2484 - val_loss: 0.2888\n",
      "Epoch 9/20\n",
      "500/500 [==============================] - 34s 68ms/step - loss: 0.2438 - val_loss: 0.2931\n",
      "Epoch 10/20\n",
      "500/500 [==============================] - 34s 69ms/step - loss: 0.2367 - val_loss: 0.2963\n",
      "Epoch 11/20\n",
      "500/500 [==============================] - 34s 68ms/step - loss: 0.2325 - val_loss: 0.2974\n",
      "Epoch 12/20\n",
      "500/500 [==============================] - 38s 76ms/step - loss: 0.2271 - val_loss: 0.3033\n",
      "Epoch 13/20\n",
      "500/500 [==============================] - 36s 72ms/step - loss: 0.2230 - val_loss: 0.3036\n",
      "Epoch 14/20\n",
      "500/500 [==============================] - 35s 70ms/step - loss: 0.2209 - val_loss: 0.3189\n",
      "Epoch 15/20\n",
      "500/500 [==============================] - 36s 72ms/step - loss: 0.2172 - val_loss: 0.3088\n",
      "Epoch 16/20\n",
      "500/500 [==============================] - 37s 73ms/step - loss: 0.2125 - val_loss: 0.3135\n",
      "Epoch 17/20\n",
      "500/500 [==============================] - 35s 70ms/step - loss: 0.2105 - val_loss: 0.3148\n",
      "Epoch 18/20\n",
      "500/500 [==============================] - 37s 73ms/step - loss: 0.2067 - val_loss: 0.3133\n",
      "Epoch 19/20\n",
      "500/500 [==============================] - 36s 72ms/step - loss: 0.2042 - val_loss: 0.3082\n",
      "Epoch 20/20\n",
      "500/500 [==============================] - ETA: 0s - loss: 0.2017"
     ]
    }
   ],
   "source": [
    "history = model.fit_generator(train_gen,\n",
    "                                  steps_per_epoch=500,\n",
    "                                  epochs=20,\n",
    "                                  validation_data=val_gen,\n",
    "                                  validation_steps=val_steps)"
   ]
  },
  {
   "cell_type": "markdown",
   "id": "bibliographic-injection",
   "metadata": {},
   "source": [
    "Judging from the validation loss, this setup isn’t as good as the regularized GRU alone, but it’s significantly faster. It looks at twice as much data, which in this case doesn’t appear to be hugely helpful but may be important for other datasets."
   ]
  },
  {
   "cell_type": "code",
   "execution_count": null,
   "id": "sitting-object",
   "metadata": {},
   "outputs": [],
   "source": [
    "import matplotlib.pyplot as plt\n",
    "loss = history.history['loss']\n",
    "val_loss = history.history['val_loss']\n",
    "epochs = range(1, len(loss) + 1)\n",
    "plt.figure()\n",
    "plt.plot(epochs, loss, 'bo', label='Training loss')\n",
    "plt.plot(epochs, val_loss, 'b', label='Validation loss')\n",
    "plt.title('Training and validation loss')\n",
    "plt.legend()\n",
    "plt.show()"
   ]
  },
  {
   "cell_type": "code",
   "execution_count": null,
   "id": "nearby-crawford",
   "metadata": {},
   "outputs": [],
   "source": []
  }
 ],
 "metadata": {
  "kernelspec": {
   "display_name": "Python 3",
   "language": "python",
   "name": "python3"
  },
  "language_info": {
   "codemirror_mode": {
    "name": "ipython",
    "version": 3
   },
   "file_extension": ".py",
   "mimetype": "text/x-python",
   "name": "python",
   "nbconvert_exporter": "python",
   "pygments_lexer": "ipython3",
   "version": "3.8.7"
  },
  "toc": {
   "colors": {
    "hover_highlight": "#DAA520",
    "running_highlight": "#FF0000",
    "selected_highlight": "#FFD700"
   },
   "moveMenuLeft": true,
   "nav_menu": {
    "height": "243px",
    "width": "252px"
   },
   "navigate_menu": true,
   "number_sections": true,
   "sideBar": true,
   "threshold": 4,
   "toc_cell": true,
   "toc_section_display": "block",
   "toc_window_display": true,
   "widenNotebook": false
  }
 },
 "nbformat": 4,
 "nbformat_minor": 5
}
