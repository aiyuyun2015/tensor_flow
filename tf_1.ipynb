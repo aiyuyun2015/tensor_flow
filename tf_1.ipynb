{
 "cells": [
  {
   "cell_type": "markdown",
   "id": "elegant-actor",
   "metadata": {
    "toc": "true"
   },
   "source": [
    "# Table of Contents\n",
    " <p><div class=\"lev1 toc-item\"><a href=\"#Preample\" data-toc-modified-id=\"Preample-1\"><span class=\"toc-item-num\">1&nbsp;&nbsp;</span>Preample</a></div><div class=\"lev2 toc-item\"><a href=\"#Optional\" data-toc-modified-id=\"Optional-11\"><span class=\"toc-item-num\">1.1&nbsp;&nbsp;</span>Optional</a></div><div class=\"lev3 toc-item\"><a href=\"#Disable-tf.v2\" data-toc-modified-id=\"Disable-tf.v2-111\"><span class=\"toc-item-num\">1.1.1&nbsp;&nbsp;</span>Disable tf.v2</a></div><div class=\"lev1 toc-item\"><a href=\"#Basic\" data-toc-modified-id=\"Basic-2\"><span class=\"toc-item-num\">2&nbsp;&nbsp;</span>Basic</a></div><div class=\"lev3 toc-item\"><a href=\"#Start-with-tf-data-type\" data-toc-modified-id=\"Start-with-tf-data-type-201\"><span class=\"toc-item-num\">2.0.1&nbsp;&nbsp;</span>Start with tf data type</a></div><div class=\"lev4 toc-item\"><a href=\"#Constant-type\" data-toc-modified-id=\"Constant-type-2011\"><span class=\"toc-item-num\">2.0.1.1&nbsp;&nbsp;</span>Constant type</a></div><div class=\"lev3 toc-item\"><a href=\"#Tensorflow-operation\" data-toc-modified-id=\"Tensorflow-operation-202\"><span class=\"toc-item-num\">2.0.2&nbsp;&nbsp;</span>Tensorflow operation</a></div><div class=\"lev4 toc-item\"><a href=\"#element-wise-product\" data-toc-modified-id=\"element-wise-product-2021\"><span class=\"toc-item-num\">2.0.2.1&nbsp;&nbsp;</span>element-wise product</a></div><div class=\"lev4 toc-item\"><a href=\"#matrix-muliplication\" data-toc-modified-id=\"matrix-muliplication-2022\"><span class=\"toc-item-num\">2.0.2.2&nbsp;&nbsp;</span>matrix muliplication</a></div><div class=\"lev4 toc-item\"><a href=\"#Variable\" data-toc-modified-id=\"Variable-2023\"><span class=\"toc-item-num\">2.0.2.3&nbsp;&nbsp;</span>Variable</a></div><div class=\"lev4 toc-item\"><a href=\"#To-make-life/study-easy,--add-get_variable-function-to-tf\" data-toc-modified-id=\"To-make-life/study-easy,--add-get_variable-function-to-tf-2024\"><span class=\"toc-item-num\">2.0.2.4&nbsp;&nbsp;</span>To make life/study easy,  add get_variable function to tf</a></div><div class=\"lev4 toc-item\"><a href=\"#Init-variable-with-a-tensor-predefined\" data-toc-modified-id=\"Init-variable-with-a-tensor-predefined-2025\"><span class=\"toc-item-num\">2.0.2.5&nbsp;&nbsp;</span>Init variable with a tensor predefined</a></div><div class=\"lev4 toc-item\"><a href=\"#Session\" data-toc-modified-id=\"Session-2026\"><span class=\"toc-item-num\">2.0.2.6&nbsp;&nbsp;</span>Session</a></div><div class=\"lev4 toc-item\"><a href=\"#Placeholder-usage\" data-toc-modified-id=\"Placeholder-usage-2027\"><span class=\"toc-item-num\">2.0.2.7&nbsp;&nbsp;</span>Placeholder usage</a></div><div class=\"lev3 toc-item\"><a href=\"#A-simple-example-for-tf-computation\" data-toc-modified-id=\"A-simple-example-for-tf-computation-203\"><span class=\"toc-item-num\">2.0.3&nbsp;&nbsp;</span>A simple example for tf computation</a></div><div class=\"lev4 toc-item\"><a href=\"#Node(computation-unit)-vs-edge(tensor)\" data-toc-modified-id=\"Node(computation-unit)-vs-edge(tensor)-2031\"><span class=\"toc-item-num\">2.0.3.1&nbsp;&nbsp;</span>Node(computation unit) vs edge(tensor)</a></div><div class=\"lev2 toc-item\"><a href=\"#Tensorboard\" data-toc-modified-id=\"Tensorboard-21\"><span class=\"toc-item-num\">2.1&nbsp;&nbsp;</span>Tensorboard</a></div><div class=\"lev3 toc-item\"><a href=\"#skip-below\" data-toc-modified-id=\"skip-below-211\"><span class=\"toc-item-num\">2.1.1&nbsp;&nbsp;</span>skip below</a></div><div class=\"lev1 toc-item\"><a href=\"#Load-data-with-scikit\" data-toc-modified-id=\"Load-data-with-scikit-3\"><span class=\"toc-item-num\">3&nbsp;&nbsp;</span>Load data with scikit</a></div><div class=\"lev4 toc-item\"><a href=\"#Remove-some-data-(-&quot;netherland-has-sample-size-=1,-too-small,-we-remove-it&quot;)\" data-toc-modified-id=\"Remove-some-data-(-&quot;netherland-has-sample-size-=1,-too-small,-we-remove-it&quot;)-3001\"><span class=\"toc-item-num\">3.0.0.1&nbsp;&nbsp;</span>Remove some data ( \"netherland has sample size =1, too small, we remove it\")</a></div><div class=\"lev4 toc-item\"><a href=\"#Split-and-test-and-train-data\" data-toc-modified-id=\"Split-and-test-and-train-data-3002\"><span class=\"toc-item-num\">3.0.0.2&nbsp;&nbsp;</span>Split and test and train data</a></div>"
   ]
  },
  {
   "cell_type": "markdown",
   "id": "fundamental-estonia",
   "metadata": {},
   "source": [
    "# Preample"
   ]
  },
  {
   "cell_type": "markdown",
   "id": "shared-ambassador",
   "metadata": {},
   "source": [
    "## Optional"
   ]
  },
  {
   "cell_type": "markdown",
   "id": "brazilian-michael",
   "metadata": {},
   "source": [
    "### Disable tf.v2"
   ]
  },
  {
   "cell_type": "code",
   "execution_count": null,
   "id": "homeless-tablet",
   "metadata": {},
   "outputs": [],
   "source": [
    "#import tensorflow.compat.v1 as tf\n",
    "#tf.disable_v2_behavior()"
   ]
  },
  {
   "cell_type": "markdown",
   "id": "german-driving",
   "metadata": {},
   "source": [
    "# Basic"
   ]
  },
  {
   "cell_type": "markdown",
   "id": "naughty-amino",
   "metadata": {},
   "source": [
    "### Start with tf data type"
   ]
  },
  {
   "cell_type": "markdown",
   "id": "hungarian-ticket",
   "metadata": {},
   "source": [
    "#### Constant type"
   ]
  },
  {
   "cell_type": "code",
   "execution_count": null,
   "id": "attended-thumb",
   "metadata": {},
   "outputs": [],
   "source": [
    "import tensorflow as tf"
   ]
  },
  {
   "cell_type": "code",
   "execution_count": null,
   "id": "white-large",
   "metadata": {},
   "outputs": [],
   "source": [
    "# define constant with type\n",
    "r1 = tf.constant(1, tf.int16)\n",
    "print(r1)\n",
    "\n",
    "# also add name\n",
    "r2 = tf.constant(1, tf.int16, name = \"my_scalar\")\n",
    "print(r2)\n",
    "\n",
    "# shape (3,) vs shape (3, 1)\n",
    "r1_vector = tf.constant([1, 3, 5], tf.int16)\n",
    "r2_vector = tf.constant([[1], [3], [5]], tf.int16)\n",
    "print(r1_vector)\n",
    "print(r2_vector)\n",
    "\n",
    "# create a dimension = 3 matrix, rank -> 3\n",
    "r3_matrix = tf.constant([[[ 1, 2],\n",
    "                        [3,4,],\n",
    "                        [5,6,],\n",
    "                         ]])\n",
    "print(r3_matrix)\n",
    "\n",
    "# shape of tensor\n",
    "m_shape = tf.constant([ [10, 11],\n",
    "                      [12, 13],\n",
    "                      [14, 15]])\n",
    "print(m_shape)\n",
    "print(m_shape.shape)"
   ]
  },
  {
   "cell_type": "markdown",
   "id": "social-richmond",
   "metadata": {},
   "source": [
    "### Tensorflow operation"
   ]
  },
  {
   "cell_type": "markdown",
   "id": "adequate-europe",
   "metadata": {},
   "source": [
    "#### element-wise product"
   ]
  },
  {
   "cell_type": "code",
   "execution_count": null,
   "id": "intimate-dover",
   "metadata": {},
   "outputs": [],
   "source": [
    "a = tf.constant([[1, 2]], dtype = tf.int32)\n",
    "b = tf.constant([[3, 4]], dtype = tf.int32)\n",
    "print(a)\n",
    "print(b)"
   ]
  },
  {
   "cell_type": "code",
   "execution_count": null,
   "id": "modern-daughter",
   "metadata": {},
   "outputs": [],
   "source": [
    "tf.add(a, b )"
   ]
  },
  {
   "cell_type": "code",
   "execution_count": null,
   "id": "presidential-distance",
   "metadata": {},
   "outputs": [],
   "source": [
    "tf.multiply(a, b)"
   ]
  },
  {
   "cell_type": "markdown",
   "id": "aware-beast",
   "metadata": {},
   "source": [
    "#### matrix muliplication"
   ]
  },
  {
   "cell_type": "code",
   "execution_count": null,
   "id": "furnished-emperor",
   "metadata": {},
   "outputs": [],
   "source": [
    "a = tf.constant([[1, 2]], dtype = tf.int32)\n",
    "b = tf.constant([[3], [4]], dtype = tf.int32)\n",
    "\n",
    "tf.matmul(a,b)"
   ]
  },
  {
   "cell_type": "markdown",
   "id": "exact-disclosure",
   "metadata": {},
   "source": [
    "#### Variable\n"
   ]
  },
  {
   "cell_type": "markdown",
   "id": "blond-summer",
   "metadata": {},
   "source": [
    "The difference between a constant and variable is the initial values of a variable will change over time."
   ]
  },
  {
   "cell_type": "code",
   "execution_count": null,
   "id": "dental-wright",
   "metadata": {},
   "outputs": [],
   "source": [
    "# compatable variable definition, instead of using tf.get_variable, try tf.compat.v1.get_variable\n",
    "# init with 0\n",
    "var_init_1 = tf.compat.v1.get_variable (\"var_init_1\", [1, 2], dtype=tf.int32, initializer=tf.zeros_initializer)\n",
    "\n",
    "print(var_init_1)"
   ]
  },
  {
   "cell_type": "markdown",
   "id": "extensive-hindu",
   "metadata": {},
   "source": [
    "#### To make life/study easy,  add get_variable function to tf"
   ]
  },
  {
   "cell_type": "code",
   "execution_count": null,
   "id": "wireless-delicious",
   "metadata": {},
   "outputs": [],
   "source": [
    "tf.get_variable = tf.compat.v1.get_variable"
   ]
  },
  {
   "cell_type": "markdown",
   "id": "optional-atlanta",
   "metadata": {},
   "source": [
    "#### Init variable with a tensor predefined"
   ]
  },
  {
   "cell_type": "code",
   "execution_count": null,
   "id": "green-stuff",
   "metadata": {},
   "outputs": [],
   "source": [
    "# Create a 2x2 matrix\n",
    "tensor_const = tf.constant([[10, 20], [30, 40]])\n",
    "# Initialize the first value of the tensor equals to tensor_const\n",
    "var_init_2 = tf.get_variable(\"var_init_2\", dtype=tf.int32, initializer=tensor_const)\n",
    "print(var_init_2.shape)"
   ]
  },
  {
   "cell_type": "markdown",
   "id": "appreciated-investment",
   "metadata": {},
   "source": [
    "#### Session"
   ]
  },
  {
   "cell_type": "markdown",
   "id": "specific-secret",
   "metadata": {},
   "source": [
    "A session will execute the operation from the graph. To feed the graph with the values of a tensor, you need to open a session. Inside a session, you must run an operator to create an output."
   ]
  },
  {
   "cell_type": "code",
   "execution_count": null,
   "id": "experimental-stanley",
   "metadata": {},
   "outputs": [],
   "source": [
    "x = tf.constant([2])"
   ]
  },
  {
   "cell_type": "code",
   "execution_count": null,
   "id": "authorized-tanzania",
   "metadata": {},
   "outputs": [],
   "source": [
    "y = tf.constant([4])"
   ]
  },
  {
   "cell_type": "code",
   "execution_count": null,
   "id": "waiting-surgeon",
   "metadata": {},
   "outputs": [],
   "source": [
    "# add back session\n",
    "tf.Session = tf.compat.v1.Session\n",
    "# disable eager execution since it's default in tf2.0; if not, the multiply will be executed immediately\n",
    "tf.compat.v1.disable_eager_execution()\n",
    "\n",
    "# create session"
   ]
  },
  {
   "cell_type": "code",
   "execution_count": null,
   "id": "arbitrary-rainbow",
   "metadata": {},
   "outputs": [],
   "source": [
    "multiply = tf.multiply(x, y) # note: in tf2.0, this step is computed immediately, being called eager_execution\n",
    "sess = tf.Session()\n",
    "result = sess.run(multiply)\n",
    "print(result)\n",
    "sess.close()"
   ]
  },
  {
   "cell_type": "code",
   "execution_count": null,
   "id": "photographic-wellington",
   "metadata": {},
   "outputs": [],
   "source": [
    "# another way to do this\n",
    "with tf.Session() as session:\n",
    "    result2 = multiply.eval()\n",
    "    print(result2)"
   ]
  },
  {
   "cell_type": "markdown",
   "id": "accurate-relaxation",
   "metadata": {},
   "source": [
    "#### Placeholder usage"
   ]
  },
  {
   "cell_type": "code",
   "execution_count": null,
   "id": "innocent-disclaimer",
   "metadata": {},
   "outputs": [],
   "source": [
    "data_placeholder_a = tf.compat.v1.placeholder(tf.float32, name = \"data_placeholder_a\")\n",
    "\n",
    "print(data_placeholder_a)"
   ]
  },
  {
   "cell_type": "code",
   "execution_count": null,
   "id": "cosmetic-scheme",
   "metadata": {},
   "outputs": [],
   "source": [
    "import numpy as np\n",
    "power_a = tf.pow(data_placeholder_a, 2)\n",
    "with tf.Session() as sess:\n",
    "    data = np.random.rand(1, 10)\n",
    "    # use feed_dict to feed data\n",
    "    print(sess.run(power_a, feed_dict={data_placeholder_a: data}))  \n",
    "# Will succeed."
   ]
  },
  {
   "cell_type": "markdown",
   "id": "consecutive-spiritual",
   "metadata": {},
   "source": [
    "### A simple example for tf computation"
   ]
  },
  {
   "cell_type": "markdown",
   "id": "athletic-massage",
   "metadata": {},
   "source": [
    "#### Node(computation unit) vs edge(tensor)"
   ]
  },
  {
   "cell_type": "code",
   "execution_count": null,
   "id": "sensitive-advantage",
   "metadata": {},
   "outputs": [],
   "source": [
    "# Variables (edges)\n",
    "x = tf.get_variable(\"x\", dtype=tf.int32, initializer=tf.constant([5]))\n",
    "z = tf.get_variable(\"z\", dtype=tf.int32, initializer=tf.constant([6]))\n",
    "c = tf.constant([5], name = \"constant\")\n",
    "square =tf.constant([2], name = \"square\")\n",
    "\n",
    "# Nodes \n",
    "f = tf.multiply(x, z) + tf.pow(x, square) + z + c"
   ]
  },
  {
   "cell_type": "code",
   "execution_count": null,
   "id": "friendly-belief",
   "metadata": {},
   "outputs": [],
   "source": [
    "init = tf.compat.v1.global_variables_initializer() # prepare to initialize all variables\n",
    "with tf.Session() as sess:\n",
    "    init.run() # Initialize x and y\n",
    "    function_result = f.eval()\n",
    "\n",
    "print(function_result)"
   ]
  },
  {
   "cell_type": "markdown",
   "id": "magnetic-radius",
   "metadata": {},
   "source": [
    "## Tensorboard"
   ]
  },
  {
   "cell_type": "code",
   "execution_count": null,
   "id": "continued-commodity",
   "metadata": {},
   "outputs": [],
   "source": [
    "import tensorflow as tf\n",
    "import numpy as np"
   ]
  },
  {
   "cell_type": "code",
   "execution_count": null,
   "id": "uniform-india",
   "metadata": {},
   "outputs": [],
   "source": [
    "X_train = (np.random.sample((10000,5)))\n",
    "y_train =  (np.random.sample((10000,1)))\n",
    "X_train.shape"
   ]
  },
  {
   "cell_type": "code",
   "execution_count": null,
   "id": "unable-cincinnati",
   "metadata": {},
   "outputs": [],
   "source": [
    "feature_columns = [ tf.feature_column.numeric_column('x', shape = X_train.shape[1:]) ]\n",
    "DNN_reg = tf.compat.v1.estimator.DNNRegressor(feature_columns=feature_columns,\n",
    "                        # Indicate where to store the log file\n",
    "                        model_dir='train/linreg',\n",
    "                        hidden_units=[500, 300],\n",
    "                        optimizer=tf.compat.v1.train.ProximalAdagradOptimizer(\n",
    "                                learning_rate=0.1,\n",
    "                                l1_regularization_strength=0.001\n",
    "                          ))"
   ]
  },
  {
   "cell_type": "code",
   "execution_count": null,
   "id": "manufactured-cooler",
   "metadata": {},
   "outputs": [],
   "source": [
    "train_input = tf.compat.v1.estimator.inputs.numpy_input_fn(\n",
    "     x={\"x\": X_train},\n",
    "     y=y_train, shuffle=False,num_epochs=None)\n",
    "\n",
    "DNN_reg.train(train_input,steps=3000)"
   ]
  },
  {
   "cell_type": "code",
   "execution_count": null,
   "id": "palestinian-pottery",
   "metadata": {},
   "outputs": [],
   "source": [
    "# load inside jupyter, but obviously not working. fix later\n",
    "# %load_ext tensorboard\n",
    "# %bin/tensorboard --logdir train/linreg\n",
    "# instead run below directly in terminal: bin/tensorboard --logdir train/linreg"
   ]
  }
 ],
 "metadata": {
  "kernelspec": {
   "display_name": "env",
   "language": "python",
   "name": "env"
  },
  "language_info": {
   "codemirror_mode": {
    "name": "ipython",
    "version": 3
   },
   "file_extension": ".py",
   "mimetype": "text/x-python",
   "name": "python",
   "nbconvert_exporter": "python",
   "pygments_lexer": "ipython3",
   "version": "3.9.1"
  },
  "toc": {
   "colors": {
    "hover_highlight": "#DAA520",
    "running_highlight": "#FF0000",
    "selected_highlight": "#FFD700"
   },
   "moveMenuLeft": true,
   "nav_menu": {
    "height": "423px",
    "width": "252px"
   },
   "navigate_menu": true,
   "number_sections": true,
   "sideBar": true,
   "threshold": 4,
   "toc_cell": true,
   "toc_section_display": "block",
   "toc_window_display": true,
   "widenNotebook": false
  }
 },
 "nbformat": 4,
 "nbformat_minor": 5
}
