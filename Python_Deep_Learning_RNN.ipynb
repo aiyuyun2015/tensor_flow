{
 "cells": [
  {
   "cell_type": "markdown",
   "id": "functioning-purple",
   "metadata": {
    "toc": "true"
   },
   "source": [
    "# Table of Contents\n",
    " <p><div class=\"lev1 toc-item\"><a href=\"#RNN\" data-toc-modified-id=\"RNN-1\"><span class=\"toc-item-num\">1&nbsp;&nbsp;</span>RNN</a></div><div class=\"lev2 toc-item\"><a href=\"#RNN-with-IMDB-Data-Revisit\" data-toc-modified-id=\"RNN-with-IMDB-Data-Revisit-11\"><span class=\"toc-item-num\">1.1&nbsp;&nbsp;</span>RNN with IMDB Data Revisit</a></div><div class=\"lev3 toc-item\"><a href=\"#Load-Data\" data-toc-modified-id=\"Load-Data-111\"><span class=\"toc-item-num\">1.1.1&nbsp;&nbsp;</span>Load Data</a></div><div class=\"lev3 toc-item\"><a href=\"#Create-Model\" data-toc-modified-id=\"Create-Model-112\"><span class=\"toc-item-num\">1.1.2&nbsp;&nbsp;</span>Create Model</a></div><div class=\"lev3 toc-item\"><a href=\"#Fit-the-Model\" data-toc-modified-id=\"Fit-the-Model-113\"><span class=\"toc-item-num\">1.1.3&nbsp;&nbsp;</span>Fit the Model</a></div><div class=\"lev3 toc-item\"><a href=\"#Plot-the-Results\" data-toc-modified-id=\"Plot-the-Results-114\"><span class=\"toc-item-num\">1.1.4&nbsp;&nbsp;</span>Plot the Results</a></div>"
   ]
  },
  {
   "cell_type": "markdown",
   "id": "latest-progress",
   "metadata": {},
   "source": [
    "### "
   ]
  },
  {
   "cell_type": "markdown",
   "id": "attended-shoulder",
   "metadata": {},
   "source": [
    "# RNN"
   ]
  },
  {
   "cell_type": "markdown",
   "id": "brown-sapphire",
   "metadata": {},
   "source": [
    "## RNN with IMDB Data Revisit"
   ]
  },
  {
   "cell_type": "markdown",
   "id": "failing-strap",
   "metadata": {},
   "source": [
    "### Load Data"
   ]
  },
  {
   "cell_type": "code",
   "execution_count": 2,
   "id": "afraid-freight",
   "metadata": {},
   "outputs": [],
   "source": [
    "from tensorflow.keras.datasets import imdb\n",
    "from tensorflow.keras.preprocessing import sequence"
   ]
  },
  {
   "cell_type": "markdown",
   "id": "floral-greene",
   "metadata": {},
   "source": [
    "- Just like the MNIST dataset, the IMDB dataset comes packaged with Keras. It has already been preprocessed: the reviews (sequences of words) have been turned into sequences of integers, where each integer stands for a specific word in a dictionary.\n",
    "- The argument num_words=10000 means you’ll only keep the top 10,000 most fre- quently occurring words in the training data. Rare words will be discarded. This allows you to work with vector data of manageable size.\n",
    "- y_train is either \"positive\" or \"negative\", alternatilvey, 1 or 0, respectively."
   ]
  },
  {
   "cell_type": "code",
   "execution_count": 3,
   "id": "transsexual-aging",
   "metadata": {},
   "outputs": [
    {
     "name": "stdout",
     "output_type": "stream",
     "text": [
      "Loading data...\n",
      "25000 train sequences\n",
      "25000 test sequences\n"
     ]
    }
   ],
   "source": [
    "max_features = 10000 #Number of words to consider as features\n",
    "maxlen = 500 #Cuts off texts after this many words (among the max_features most common words)\n",
    "\n",
    "batch_size = 32\n",
    "print('Loading data...')\n",
    "(input_train, y_train), (input_test, y_test) = imdb.load_data(num_words=max_features)\n",
    "print(len(input_train), 'train sequences')\n",
    "print(len(input_test), 'test sequences')"
   ]
  },
  {
   "cell_type": "markdown",
   "id": "august-livestock",
   "metadata": {},
   "source": [
    "- Input_train returns (25000, ), however, it is a nested list, the reason why it's one element tuple shape, is because the inner lists have different length\n",
    "which is the review sentence converted to integers\n",
    "- y_train.shape is an \"one-elemnt-tuple\", is because it's a list that includes element either 0 or 1"
   ]
  },
  {
   "cell_type": "code",
   "execution_count": 4,
   "id": "cloudy-citation",
   "metadata": {},
   "outputs": [
    {
     "name": "stdout",
     "output_type": "stream",
     "text": [
      "(25000,)\n",
      "(25000,)\n"
     ]
    }
   ],
   "source": [
    "print(input_train.shape) \n",
    "print(y_train.shape)"
   ]
  },
  {
   "cell_type": "code",
   "execution_count": 9,
   "id": "exempt-scoop",
   "metadata": {},
   "outputs": [
    {
     "name": "stdout",
     "output_type": "stream",
     "text": [
      "Pad sequences (samples x time)\n",
      "input_train shape: (25000, 500)\n",
      "input_test shape: (25000, 500)\n"
     ]
    }
   ],
   "source": [
    "print('Pad sequences (samples x time)')\n",
    "\n",
    "# https://www.tensorflow.org/api_docs/python/tf/keras/preprocessing/sequence/pad_sequences\n",
    "# Example, \n",
    "#tf.keras.preprocessing.sequence.pad_sequences(\n",
    "#    sequences, maxlen=None, dtype='int32', padding='pre',\n",
    "#    truncating='pre', value=0.0\n",
    "#)\n",
    "# sequences is iterable, each sequence inside the sequences will be padded with some values\n",
    "# value --> set the padding value\n",
    "# padding/truncating --> meaning, either padding pre or post\n",
    "# return --> Numpy array with shape (len(sequences), maxlen)\n",
    "\n",
    "input_train = sequence.pad_sequences(input_train, maxlen=maxlen)\n",
    "input_test = sequence.pad_sequences(input_test, maxlen=maxlen)\n",
    "print('input_train shape:', input_train.shape)\n",
    "print('input_test shape:', input_test.shape)"
   ]
  },
  {
   "cell_type": "markdown",
   "id": "becoming-shareware",
   "metadata": {},
   "source": [
    "As we can see the input_train and input_test --> X's shape is changed from (25000,) to (25000, 500), since the paddings are added."
   ]
  },
  {
   "cell_type": "markdown",
   "id": "touched-importance",
   "metadata": {},
   "source": [
    "### Create Model"
   ]
  },
  {
   "cell_type": "code",
   "execution_count": 34,
   "id": "prescribed-continent",
   "metadata": {},
   "outputs": [],
   "source": [
    "from tensorflow.keras.layers import Dense\n",
    "from tensorflow.keras.models import Sequential\n",
    "from tensorflow.keras.layers import Embedding, SimpleRNN"
   ]
  },
  {
   "cell_type": "markdown",
   "id": "pacific-reading",
   "metadata": {},
   "source": [
    "作为 Sequential 模型的第一层，需要指定输入维度。可以为 input_shape=(16,) 或者 input_dim=16，这两者是等价的。\n",
    "\n",
    "model = Sequential()\n",
    "\n",
    "model.add(Dense(32, input_shape=(16,)))\n",
    "\n",
    "现在模型就会以尺寸为 (*, 16) 的数组作为输入，\n",
    "\n",
    "其输出数组的尺寸为 (*, 32)\n",
    "\n",
    "\n",
    "在第一层之后，就不再需要指定输入的尺寸了：\n",
    "\n",
    "model.add(Dense(32))\n"
   ]
  },
  {
   "cell_type": "code",
   "execution_count": 35,
   "id": "elegant-georgia",
   "metadata": {},
   "outputs": [],
   "source": [
    "model = Sequential() \n",
    "model.add(Embedding(max_features, 32))  # max_features are the most frequent 10,000 words\n",
    "model.add(SimpleRNN(32)) # return_sequences=False --> is default, return only RNN(T), not the whole sequence\n",
    "model.add(Dense(1, activation='sigmoid')) # fully connected / dense layer, doesn't need to specify the input dimension, unless it's the first layer.\n",
    "\n",
    "model.compile(optimizer='rmsprop', loss='binary_crossentropy', metrics=['acc']) "
   ]
  },
  {
   "cell_type": "markdown",
   "id": "prime-playback",
   "metadata": {},
   "source": [
    "### Fit the Model"
   ]
  },
  {
   "cell_type": "code",
   "execution_count": 36,
   "id": "young-aerospace",
   "metadata": {},
   "outputs": [
    {
     "name": "stderr",
     "output_type": "stream",
     "text": [
      "2021-10-30 08:44:19.401201: I tensorflow/compiler/mlir/mlir_graph_optimization_pass.cc:185] None of the MLIR Optimization Passes are enabled (registered 2)\n"
     ]
    },
    {
     "name": "stdout",
     "output_type": "stream",
     "text": [
      "Epoch 1/10\n",
      "157/157 [==============================] - 13s 80ms/step - loss: 0.6807 - acc: 0.5555 - val_loss: 0.6593 - val_acc: 0.6072\n",
      "Epoch 2/10\n",
      "157/157 [==============================] - 13s 81ms/step - loss: 0.4941 - acc: 0.7782 - val_loss: 0.4477 - val_acc: 0.8010\n",
      "Epoch 3/10\n",
      "157/157 [==============================] - 13s 83ms/step - loss: 0.2934 - acc: 0.8828 - val_loss: 0.4952 - val_acc: 0.7628\n",
      "Epoch 4/10\n",
      "157/157 [==============================] - 13s 81ms/step - loss: 0.1917 - acc: 0.9286 - val_loss: 0.6096 - val_acc: 0.7288\n",
      "Epoch 5/10\n",
      "157/157 [==============================] - 13s 80ms/step - loss: 0.1218 - acc: 0.9572 - val_loss: 0.5586 - val_acc: 0.7664\n",
      "Epoch 6/10\n",
      "157/157 [==============================] - 13s 85ms/step - loss: 0.0679 - acc: 0.9788 - val_loss: 1.0024 - val_acc: 0.7282\n",
      "Epoch 7/10\n",
      "157/157 [==============================] - 13s 81ms/step - loss: 0.0413 - acc: 0.9881 - val_loss: 0.5303 - val_acc: 0.8230\n",
      "Epoch 8/10\n",
      "157/157 [==============================] - 13s 81ms/step - loss: 0.0236 - acc: 0.9938 - val_loss: 0.7628 - val_acc: 0.7528\n",
      "Epoch 9/10\n",
      "157/157 [==============================] - 13s 80ms/step - loss: 0.0151 - acc: 0.9956 - val_loss: 0.9715 - val_acc: 0.7310\n",
      "Epoch 10/10\n",
      "157/157 [==============================] - 12s 79ms/step - loss: 0.0147 - acc: 0.9952 - val_loss: 0.7056 - val_acc: 0.8140\n"
     ]
    }
   ],
   "source": [
    "history = model.fit(input_train, y_train,\n",
    "                    epochs=10, batch_size=128,\n",
    "                    validation_split=0.2)"
   ]
  },
  {
   "cell_type": "markdown",
   "id": "timely-reaction",
   "metadata": {},
   "source": [
    "### Plot the Results"
   ]
  },
  {
   "cell_type": "code",
   "execution_count": 37,
   "id": "russian-seattle",
   "metadata": {},
   "outputs": [
    {
     "data": {
      "image/png": "[encoded data removed]",
      "text/plain": [
       "<Figure size 432x288 with 1 Axes>"
      ]
     },
     "metadata": {
      "needs_background": "light"
     },
     "output_type": "display_data"
    },
    {
     "data": {
      "image/png": "[encoded data removed]",
      "text/plain": [
       "<Figure size 432x288 with 1 Axes>"
      ]
     },
     "metadata": {
      "needs_background": "light"
     },
     "output_type": "display_data"
    }
   ],
   "source": [
    "\n",
    "import matplotlib.pyplot as plt\n",
    "acc = history.history['acc']\n",
    "val_acc = history.history['val_acc']\n",
    "loss = history.history['loss']\n",
    "val_loss = history.history['val_loss']\n",
    "epochs = range(1, len(acc) + 1)\n",
    "plt.plot(epochs, acc, 'bo', label='Training acc')\n",
    "plt.plot(epochs, val_acc, 'b', label='Validation acc')\n",
    "\n",
    "plt.title('Training and validation accuracy')\n",
    "plt.legend()\n",
    "plt.figure()\n",
    "plt.plot(epochs, loss, 'bo', label='Training loss')\n",
    "plt.plot(epochs, val_loss, 'b', label='Validation loss')\n",
    "plt.title('Training and validation loss')\n",
    "plt.legend()\n",
    "plt.show()"
   ]
  },
  {
   "cell_type": "code",
   "execution_count": null,
   "id": "mental-powder",
   "metadata": {},
   "outputs": [],
   "source": [
    "s"
   ]
  }
 ],
 "metadata": {
  "kernelspec": {
   "display_name": "env",
   "language": "python",
   "name": "env"
  },
  "language_info": {
   "codemirror_mode": {
    "name": "ipython",
    "version": 3
   },
   "file_extension": ".py",
   "mimetype": "text/x-python",
   "name": "python",
   "nbconvert_exporter": "python",
   "pygments_lexer": "ipython3",
   "version": "3.9.1"
  },
  "toc": {
   "colors": {
    "hover_highlight": "#DAA520",
    "running_highlight": "#FF0000",
    "selected_highlight": "#FFD700"
   },
   "moveMenuLeft": true,
   "nav_menu": {
    "height": "243px",
    "width": "252px"
   },
   "navigate_menu": true,
   "number_sections": true,
   "sideBar": true,
   "threshold": 4,
   "toc_cell": true,
   "toc_section_display": "block",
   "toc_window_display": true,
   "widenNotebook": false
  }
 },
 "nbformat": 4,
 "nbformat_minor": 5
}
