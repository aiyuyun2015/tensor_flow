{
 "cells": [
  {
   "cell_type": "markdown",
   "id": "functioning-purple",
   "metadata": {
    "toc": "true"
   },
   "source": [
    "# Table of Contents\n",
    " <p><div class=\"lev1 toc-item\"><a href=\"#RNN\" data-toc-modified-id=\"RNN-1\"><span class=\"toc-item-num\">1&nbsp;&nbsp;</span>RNN</a></div><div class=\"lev2 toc-item\"><a href=\"#RNN-with-IMDB-Data-Revisit\" data-toc-modified-id=\"RNN-with-IMDB-Data-Revisit-11\"><span class=\"toc-item-num\">1.1&nbsp;&nbsp;</span>RNN with IMDB Data Revisit</a></div><div class=\"lev3 toc-item\"><a href=\"#Load-Data\" data-toc-modified-id=\"Load-Data-111\"><span class=\"toc-item-num\">1.1.1&nbsp;&nbsp;</span>Load Data</a></div><div class=\"lev3 toc-item\"><a href=\"#Create-Model\" data-toc-modified-id=\"Create-Model-112\"><span class=\"toc-item-num\">1.1.2&nbsp;&nbsp;</span>Create Model</a></div><div class=\"lev3 toc-item\"><a href=\"#Fit-the-Model\" data-toc-modified-id=\"Fit-the-Model-113\"><span class=\"toc-item-num\">1.1.3&nbsp;&nbsp;</span>Fit the Model</a></div><div class=\"lev3 toc-item\"><a href=\"#Plot-the-Results\" data-toc-modified-id=\"Plot-the-Results-114\"><span class=\"toc-item-num\">1.1.4&nbsp;&nbsp;</span>Plot the Results</a></div><div class=\"lev2 toc-item\"><a href=\"#RNN-with-Weather-Forcast\" data-toc-modified-id=\"RNN-with-Weather-Forcast-12\"><span class=\"toc-item-num\">1.2&nbsp;&nbsp;</span>RNN with Weather Forcast</a></div><div class=\"lev3 toc-item\"><a href=\"#Prepare-the-Data\" data-toc-modified-id=\"Prepare-the-Data-121\"><span class=\"toc-item-num\">1.2.1&nbsp;&nbsp;</span>Prepare the Data</a></div><div class=\"lev3 toc-item\"><a href=\"#Prepare-Training,-Validation-and-Test-Data\" data-toc-modified-id=\"Prepare-Training,-Validation-and-Test-Data-122\"><span class=\"toc-item-num\">1.2.2&nbsp;&nbsp;</span>Prepare Training, Validation and Test Data</a></div><div class=\"lev4 toc-item\"><a href=\"#Common-Sense\" data-toc-modified-id=\"Common-Sense-1221\"><span class=\"toc-item-num\">1.2.2.1&nbsp;&nbsp;</span>Common Sense</a></div>"
   ]
  },
  {
   "cell_type": "markdown",
   "id": "latest-progress",
   "metadata": {},
   "source": [
    "### "
   ]
  },
  {
   "cell_type": "markdown",
   "id": "attended-shoulder",
   "metadata": {},
   "source": [
    "# RNN"
   ]
  },
  {
   "cell_type": "markdown",
   "id": "loaded-default",
   "metadata": {},
   "source": [
    "## RNN with IMDB Data Revisit"
   ]
  },
  {
   "cell_type": "markdown",
   "id": "varying-darkness",
   "metadata": {},
   "source": [
    "### Load Data"
   ]
  },
  {
   "cell_type": "code",
   "execution_count": 2,
   "id": "afraid-freight",
   "metadata": {},
   "outputs": [],
   "source": [
    "from tensorflow.keras.datasets import imdb\n",
    "from tensorflow.keras.preprocessing import sequence"
   ]
  },
  {
   "cell_type": "markdown",
   "id": "abandoned-solution",
   "metadata": {},
   "source": [
    "- Just like the MNIST dataset, the IMDB dataset comes packaged with Keras. It has already been preprocessed: the reviews (sequences of words) have been turned into sequences of integers, where each integer stands for a specific word in a dictionary.\n",
    "- The argument num_words=10000 means you’ll only keep the top 10,000 most fre- quently occurring words in the training data. Rare words will be discarded. This allows you to work with vector data of manageable size.\n",
    "- y_train is either \"positive\" or \"negative\", alternatilvey, 1 or 0, respectively."
   ]
  },
  {
   "cell_type": "code",
   "execution_count": 38,
   "id": "transsexual-aging",
   "metadata": {},
   "outputs": [
    {
     "name": "stdout",
     "output_type": "stream",
     "text": [
      "Loading data...\n",
      "(25000,)\n",
      "(25000,)\n"
     ]
    }
   ],
   "source": [
    "max_features = 10000 #Number of words to consider as features\n",
    "maxlen = 500 #Cuts off texts after this many words (among the max_features most common words)\n",
    "\n",
    "batch_size = 32\n",
    "print('Loading data...')\n",
    "(input_train, y_train), (input_test, y_test) = imdb.load_data(num_words=max_features)\n",
    "print(input_train.shape) \n",
    "print(y_train.shape)"
   ]
  },
  {
   "cell_type": "markdown",
   "id": "olive-swedish",
   "metadata": {},
   "source": [
    "- Input_train returns (25000, ), however, it is a nested list, the reason why it's one element tuple shape, is because the inner lists have different length\n",
    "which is the review sentence converted to integers\n",
    "- y_train.shape is an \"one-elemnt-tuple\", is because it's a list that includes element either 0 or 1"
   ]
  },
  {
   "cell_type": "code",
   "execution_count": 39,
   "id": "exempt-scoop",
   "metadata": {},
   "outputs": [
    {
     "name": "stdout",
     "output_type": "stream",
     "text": [
      "Pad sequences (samples x time)\n",
      "input_train shape: (25000, 500)\n",
      "input_test shape: (25000, 500)\n"
     ]
    }
   ],
   "source": [
    "print('Pad sequences (samples x time)')\n",
    "\n",
    "# https://www.tensorflow.org/api_docs/python/tf/keras/preprocessing/sequence/pad_sequences\n",
    "# Example, \n",
    "#tf.keras.preprocessing.sequence.pad_sequences(\n",
    "#    sequences, maxlen=None, dtype='int32', padding='pre',\n",
    "#    truncating='pre', value=0.0\n",
    "#)\n",
    "# sequences is iterable, each sequence inside the sequences will be padded with some values\n",
    "# value --> set the padding value\n",
    "# padding/truncating --> meaning, either padding pre or post\n",
    "# return --> Numpy array with shape (len(sequences), maxlen)\n",
    "\n",
    "input_train = sequence.pad_sequences(input_train, maxlen=maxlen)\n",
    "input_test = sequence.pad_sequences(input_test, maxlen=maxlen)\n",
    "print('input_train shape:', input_train.shape)\n",
    "print('input_test shape:', input_test.shape)"
   ]
  },
  {
   "cell_type": "markdown",
   "id": "subject-printing",
   "metadata": {},
   "source": [
    "As we can see the input_train and input_test --> X's shape is changed from (25000,) to (25000, 500), since the paddings are added."
   ]
  },
  {
   "cell_type": "markdown",
   "id": "standard-coverage",
   "metadata": {},
   "source": [
    "### Create Model"
   ]
  },
  {
   "cell_type": "code",
   "execution_count": 40,
   "id": "trained-navigation",
   "metadata": {},
   "outputs": [],
   "source": [
    "from tensorflow.keras.layers import Dense\n",
    "from tensorflow.keras.models import Sequential\n",
    "from tensorflow.keras.layers import Embedding, SimpleRNN"
   ]
  },
  {
   "cell_type": "markdown",
   "id": "active-oasis",
   "metadata": {},
   "source": [
    "作为 Sequential 模型的第一层，需要指定输入维度。可以为 input_shape=(16,) 或者 input_dim=16，这两者是等价的。\n",
    "\n",
    "model = Sequential()\n",
    "\n",
    "model.add(Dense(32, input_shape=(16,)))\n",
    "\n",
    "现在模型就会以尺寸为 (*, 16) 的数组作为输入，\n",
    "\n",
    "其输出数组的尺寸为 (*, 32)\n",
    "\n",
    "\n",
    "在第一层之后，就不再需要指定输入的尺寸了：\n",
    "\n",
    "model.add(Dense(32))\n"
   ]
  },
  {
   "cell_type": "code",
   "execution_count": 57,
   "id": "objective-malawi",
   "metadata": {},
   "outputs": [],
   "source": [
    "model = Sequential() \n",
    "model.add(Embedding(max_features, 32))  # max_features are the most frequent 10,000 words\n",
    "model.add(SimpleRNN(32)) # return_sequences=False --> is default, return only RNN(T), not the whole sequence\n",
    "model.add(Dense(1, activation='sigmoid')) # fully connected / dense layer, doesn't need to specify the input dimension, unless it's the first layer.\n",
    "model.compile(optimizer='rmsprop', loss='binary_crossentropy', metrics=['acc']) "
   ]
  },
  {
   "cell_type": "code",
   "execution_count": 58,
   "id": "subjective-charleston",
   "metadata": {},
   "outputs": [
    {
     "name": "stdout",
     "output_type": "stream",
     "text": [
      "Model: \"sequential_13\"\n",
      "_________________________________________________________________\n",
      "Layer (type)                 Output Shape              Param #   \n",
      "=================================================================\n",
      "embedding_12 (Embedding)     (None, None, 32)          320000    \n",
      "_________________________________________________________________\n",
      "simple_rnn_12 (SimpleRNN)    (None, 32)                2080      \n",
      "_________________________________________________________________\n",
      "dense_2 (Dense)              (None, 1)                 33        \n",
      "=================================================================\n",
      "Total params: 322,113\n",
      "Trainable params: 322,113\n",
      "Non-trainable params: 0\n",
      "_________________________________________________________________\n"
     ]
    }
   ],
   "source": [
    "model.summary()"
   ]
  },
  {
   "cell_type": "markdown",
   "id": "moved-coffee",
   "metadata": {},
   "source": [
    "### Fit the Model"
   ]
  },
  {
   "cell_type": "code",
   "execution_count": 42,
   "id": "residential-steering",
   "metadata": {},
   "outputs": [
    {
     "name": "stdout",
     "output_type": "stream",
     "text": [
      "Epoch 1/10\n",
      "157/157 [==============================] - 14s 85ms/step - loss: 0.6381 - acc: 0.6205 - val_loss: 0.4858 - val_acc: 0.7924\n",
      "Epoch 2/10\n",
      "157/157 [==============================] - 14s 87ms/step - loss: 0.4019 - acc: 0.8298 - val_loss: 0.3797 - val_acc: 0.8404\n",
      "Epoch 3/10\n",
      "157/157 [==============================] - 14s 88ms/step - loss: 0.3001 - acc: 0.8781 - val_loss: 0.4692 - val_acc: 0.7764\n",
      "Epoch 4/10\n",
      "157/157 [==============================] - 14s 88ms/step - loss: 0.2391 - acc: 0.9093 - val_loss: 0.3300 - val_acc: 0.8676\n",
      "Epoch 5/10\n",
      "157/157 [==============================] - 14s 88ms/step - loss: 0.1904 - acc: 0.9287 - val_loss: 0.4273 - val_acc: 0.8300\n",
      "Epoch 6/10\n",
      "157/157 [==============================] - 14s 88ms/step - loss: 0.1518 - acc: 0.9470 - val_loss: 0.4923 - val_acc: 0.8000\n",
      "Epoch 7/10\n",
      "157/157 [==============================] - 14s 86ms/step - loss: 0.1087 - acc: 0.9620 - val_loss: 0.5331 - val_acc: 0.7918\n",
      "Epoch 8/10\n",
      "157/157 [==============================] - 13s 84ms/step - loss: 0.0776 - acc: 0.9741 - val_loss: 0.4621 - val_acc: 0.8564\n",
      "Epoch 9/10\n",
      "157/157 [==============================] - 14s 88ms/step - loss: 0.0588 - acc: 0.9807 - val_loss: 0.5781 - val_acc: 0.8092\n",
      "Epoch 10/10\n",
      "157/157 [==============================] - 14s 86ms/step - loss: 0.0374 - acc: 0.9889 - val_loss: 0.7693 - val_acc: 0.7816\n"
     ]
    }
   ],
   "source": [
    "history = model.fit(input_train, y_train,\n",
    "                    epochs=10, batch_size=128,\n",
    "                    validation_split=0.2)"
   ]
  },
  {
   "cell_type": "markdown",
   "id": "fitted-visiting",
   "metadata": {},
   "source": [
    "### Plot the Results"
   ]
  },
  {
   "cell_type": "code",
   "execution_count": 43,
   "id": "fifth-brass",
   "metadata": {},
   "outputs": [
    {
     "data": {
      "image/png": "[encoded data removed]",
      "text/plain": [
       "<Figure size 432x288 with 1 Axes>"
      ]
     },
     "metadata": {
      "needs_background": "light"
     },
     "output_type": "display_data"
    },
    {
     "data": {
      "image/png": "[encoded data removed]",
      "text/plain": [
       "<Figure size 432x288 with 1 Axes>"
      ]
     },
     "metadata": {
      "needs_background": "light"
     },
     "output_type": "display_data"
    }
   ],
   "source": [
    "\n",
    "import matplotlib.pyplot as plt\n",
    "acc = history.history['acc']\n",
    "val_acc = history.history['val_acc']\n",
    "loss = history.history['loss']\n",
    "val_loss = history.history['val_loss']\n",
    "epochs = range(1, len(acc) + 1)\n",
    "plt.plot(epochs, acc, 'bo', label='Training acc')\n",
    "plt.plot(epochs, val_acc, 'b', label='Validation acc')\n",
    "\n",
    "plt.title('Training and validation accuracy')\n",
    "plt.legend()\n",
    "plt.figure()\n",
    "plt.plot(epochs, loss, 'bo', label='Training loss')\n",
    "plt.plot(epochs, val_loss, 'b', label='Validation loss')\n",
    "plt.title('Training and validation loss')\n",
    "plt.legend()\n",
    "plt.show()"
   ]
  },
  {
   "cell_type": "code",
   "execution_count": 53,
   "id": "criminal-natural",
   "metadata": {},
   "outputs": [
    {
     "name": "stdout",
     "output_type": "stream",
     "text": [
      "Model: \"sequential_12\"\n",
      "_________________________________________________________________\n",
      "Layer (type)                 Output Shape              Param #   \n",
      "=================================================================\n",
      "embedding_11 (Embedding)     (None, None, 32)          32        \n",
      "_________________________________________________________________\n",
      "simple_rnn_11 (SimpleRNN)    (None, 2)                 70        \n",
      "=================================================================\n",
      "Total params: 102\n",
      "Trainable params: 102\n",
      "Non-trainable params: 0\n",
      "_________________________________________________________________\n"
     ]
    }
   ],
   "source": [
    "from keras.models import Sequential\n",
    "from keras.layers import Embedding, SimpleRNN\n",
    "model = Sequential()\n",
    "model.add(Embedding(1, 32))\n",
    "model.add(SimpleRNN(2))\n",
    "model.summary()"
   ]
  },
  {
   "cell_type": "code",
   "execution_count": 54,
   "id": "guilty-haiti",
   "metadata": {},
   "outputs": [
    {
     "data": {
      "text/plain": [
       "2080"
      ]
     },
     "execution_count": 54,
     "metadata": {},
     "output_type": "execute_result"
    }
   ],
   "source": [
    "32 * 32 * 2 + 32"
   ]
  },
  {
   "cell_type": "markdown",
   "id": "guilty-garlic",
   "metadata": {},
   "source": [
    "## RNN with Weather Forcast"
   ]
  },
  {
   "cell_type": "code",
   "execution_count": 1,
   "id": "above-wisdom",
   "metadata": {},
   "outputs": [],
   "source": [
    "import pandas as pd\n",
    "import os"
   ]
  },
  {
   "cell_type": "code",
   "execution_count": 2,
   "id": "brutal-equilibrium",
   "metadata": {},
   "outputs": [],
   "source": [
    "data_dir = \"/Users/junsu/Dropbox/deep_learning/tf1/tf1_lib/data_inputs/jena_climate\"\n",
    "fname = os.path.join(data_dir, 'jena_climate_2009_2016.csv')\n",
    "df = pd.read_csv(fname)"
   ]
  },
  {
   "cell_type": "code",
   "execution_count": 3,
   "id": "structured-stability",
   "metadata": {},
   "outputs": [
    {
     "data": {
      "text/html": [
       "<div>\n",
       "<style scoped>\n",
       "    .dataframe tbody tr th:only-of-type {\n",
       "        vertical-align: middle;\n",
       "    }\n",
       "\n",
       "    .dataframe tbody tr th {\n",
       "        vertical-align: top;\n",
       "    }\n",
       "\n",
       "    .dataframe thead th {\n",
       "        text-align: right;\n",
       "    }\n",
       "</style>\n",
       "<table border=\"1\" class=\"dataframe\">\n",
       "  <thead>\n",
       "    <tr style=\"text-align: right;\">\n",
       "      <th></th>\n",
       "      <th>Date Time</th>\n",
       "      <th>p (mbar)</th>\n",
       "      <th>T (degC)</th>\n",
       "      <th>Tpot (K)</th>\n",
       "      <th>Tdew (degC)</th>\n",
       "      <th>rh (%)</th>\n",
       "      <th>VPmax (mbar)</th>\n",
       "      <th>VPact (mbar)</th>\n",
       "      <th>VPdef (mbar)</th>\n",
       "      <th>sh (g/kg)</th>\n",
       "      <th>H2OC (mmol/mol)</th>\n",
       "      <th>rho (g/m**3)</th>\n",
       "      <th>wv (m/s)</th>\n",
       "      <th>max. wv (m/s)</th>\n",
       "      <th>wd (deg)</th>\n",
       "    </tr>\n",
       "  </thead>\n",
       "  <tbody>\n",
       "    <tr>\n",
       "      <th>0</th>\n",
       "      <td>01.01.2009 00:10:00</td>\n",
       "      <td>996.52</td>\n",
       "      <td>-8.02</td>\n",
       "      <td>265.40</td>\n",
       "      <td>-8.90</td>\n",
       "      <td>93.30</td>\n",
       "      <td>3.33</td>\n",
       "      <td>3.11</td>\n",
       "      <td>0.22</td>\n",
       "      <td>1.94</td>\n",
       "      <td>3.12</td>\n",
       "      <td>1307.75</td>\n",
       "      <td>1.03</td>\n",
       "      <td>1.75</td>\n",
       "      <td>152.3</td>\n",
       "    </tr>\n",
       "    <tr>\n",
       "      <th>1</th>\n",
       "      <td>01.01.2009 00:20:00</td>\n",
       "      <td>996.57</td>\n",
       "      <td>-8.41</td>\n",
       "      <td>265.01</td>\n",
       "      <td>-9.28</td>\n",
       "      <td>93.40</td>\n",
       "      <td>3.23</td>\n",
       "      <td>3.02</td>\n",
       "      <td>0.21</td>\n",
       "      <td>1.89</td>\n",
       "      <td>3.03</td>\n",
       "      <td>1309.80</td>\n",
       "      <td>0.72</td>\n",
       "      <td>1.50</td>\n",
       "      <td>136.1</td>\n",
       "    </tr>\n",
       "    <tr>\n",
       "      <th>2</th>\n",
       "      <td>01.01.2009 00:30:00</td>\n",
       "      <td>996.53</td>\n",
       "      <td>-8.51</td>\n",
       "      <td>264.91</td>\n",
       "      <td>-9.31</td>\n",
       "      <td>93.90</td>\n",
       "      <td>3.21</td>\n",
       "      <td>3.01</td>\n",
       "      <td>0.20</td>\n",
       "      <td>1.88</td>\n",
       "      <td>3.02</td>\n",
       "      <td>1310.24</td>\n",
       "      <td>0.19</td>\n",
       "      <td>0.63</td>\n",
       "      <td>171.6</td>\n",
       "    </tr>\n",
       "    <tr>\n",
       "      <th>3</th>\n",
       "      <td>01.01.2009 00:40:00</td>\n",
       "      <td>996.51</td>\n",
       "      <td>-8.31</td>\n",
       "      <td>265.12</td>\n",
       "      <td>-9.07</td>\n",
       "      <td>94.20</td>\n",
       "      <td>3.26</td>\n",
       "      <td>3.07</td>\n",
       "      <td>0.19</td>\n",
       "      <td>1.92</td>\n",
       "      <td>3.08</td>\n",
       "      <td>1309.19</td>\n",
       "      <td>0.34</td>\n",
       "      <td>0.50</td>\n",
       "      <td>198.0</td>\n",
       "    </tr>\n",
       "    <tr>\n",
       "      <th>4</th>\n",
       "      <td>01.01.2009 00:50:00</td>\n",
       "      <td>996.51</td>\n",
       "      <td>-8.27</td>\n",
       "      <td>265.15</td>\n",
       "      <td>-9.04</td>\n",
       "      <td>94.10</td>\n",
       "      <td>3.27</td>\n",
       "      <td>3.08</td>\n",
       "      <td>0.19</td>\n",
       "      <td>1.92</td>\n",
       "      <td>3.09</td>\n",
       "      <td>1309.00</td>\n",
       "      <td>0.32</td>\n",
       "      <td>0.63</td>\n",
       "      <td>214.3</td>\n",
       "    </tr>\n",
       "    <tr>\n",
       "      <th>...</th>\n",
       "      <td>...</td>\n",
       "      <td>...</td>\n",
       "      <td>...</td>\n",
       "      <td>...</td>\n",
       "      <td>...</td>\n",
       "      <td>...</td>\n",
       "      <td>...</td>\n",
       "      <td>...</td>\n",
       "      <td>...</td>\n",
       "      <td>...</td>\n",
       "      <td>...</td>\n",
       "      <td>...</td>\n",
       "      <td>...</td>\n",
       "      <td>...</td>\n",
       "      <td>...</td>\n",
       "    </tr>\n",
       "    <tr>\n",
       "      <th>420446</th>\n",
       "      <td>31.12.2016 23:20:00</td>\n",
       "      <td>1000.07</td>\n",
       "      <td>-4.05</td>\n",
       "      <td>269.10</td>\n",
       "      <td>-8.13</td>\n",
       "      <td>73.10</td>\n",
       "      <td>4.52</td>\n",
       "      <td>3.30</td>\n",
       "      <td>1.22</td>\n",
       "      <td>2.06</td>\n",
       "      <td>3.30</td>\n",
       "      <td>1292.98</td>\n",
       "      <td>0.67</td>\n",
       "      <td>1.52</td>\n",
       "      <td>240.0</td>\n",
       "    </tr>\n",
       "    <tr>\n",
       "      <th>420447</th>\n",
       "      <td>31.12.2016 23:30:00</td>\n",
       "      <td>999.93</td>\n",
       "      <td>-3.35</td>\n",
       "      <td>269.81</td>\n",
       "      <td>-8.06</td>\n",
       "      <td>69.71</td>\n",
       "      <td>4.77</td>\n",
       "      <td>3.32</td>\n",
       "      <td>1.44</td>\n",
       "      <td>2.07</td>\n",
       "      <td>3.32</td>\n",
       "      <td>1289.44</td>\n",
       "      <td>1.14</td>\n",
       "      <td>1.92</td>\n",
       "      <td>234.3</td>\n",
       "    </tr>\n",
       "    <tr>\n",
       "      <th>420448</th>\n",
       "      <td>31.12.2016 23:40:00</td>\n",
       "      <td>999.82</td>\n",
       "      <td>-3.16</td>\n",
       "      <td>270.01</td>\n",
       "      <td>-8.21</td>\n",
       "      <td>67.91</td>\n",
       "      <td>4.84</td>\n",
       "      <td>3.28</td>\n",
       "      <td>1.55</td>\n",
       "      <td>2.05</td>\n",
       "      <td>3.28</td>\n",
       "      <td>1288.39</td>\n",
       "      <td>1.08</td>\n",
       "      <td>2.00</td>\n",
       "      <td>215.2</td>\n",
       "    </tr>\n",
       "    <tr>\n",
       "      <th>420449</th>\n",
       "      <td>31.12.2016 23:50:00</td>\n",
       "      <td>999.81</td>\n",
       "      <td>-4.23</td>\n",
       "      <td>268.94</td>\n",
       "      <td>-8.53</td>\n",
       "      <td>71.80</td>\n",
       "      <td>4.46</td>\n",
       "      <td>3.20</td>\n",
       "      <td>1.26</td>\n",
       "      <td>1.99</td>\n",
       "      <td>3.20</td>\n",
       "      <td>1293.56</td>\n",
       "      <td>1.49</td>\n",
       "      <td>2.16</td>\n",
       "      <td>225.8</td>\n",
       "    </tr>\n",
       "    <tr>\n",
       "      <th>420450</th>\n",
       "      <td>01.01.2017 00:00:00</td>\n",
       "      <td>999.82</td>\n",
       "      <td>-4.82</td>\n",
       "      <td>268.36</td>\n",
       "      <td>-8.42</td>\n",
       "      <td>75.70</td>\n",
       "      <td>4.27</td>\n",
       "      <td>3.23</td>\n",
       "      <td>1.04</td>\n",
       "      <td>2.01</td>\n",
       "      <td>3.23</td>\n",
       "      <td>1296.38</td>\n",
       "      <td>1.23</td>\n",
       "      <td>1.96</td>\n",
       "      <td>184.9</td>\n",
       "    </tr>\n",
       "  </tbody>\n",
       "</table>\n",
       "<p>420451 rows × 15 columns</p>\n",
       "</div>"
      ],
      "text/plain": [
       "                  Date Time  p (mbar)  T (degC)  Tpot (K)  Tdew (degC)  \\\n",
       "0       01.01.2009 00:10:00    996.52     -8.02    265.40        -8.90   \n",
       "1       01.01.2009 00:20:00    996.57     -8.41    265.01        -9.28   \n",
       "2       01.01.2009 00:30:00    996.53     -8.51    264.91        -9.31   \n",
       "3       01.01.2009 00:40:00    996.51     -8.31    265.12        -9.07   \n",
       "4       01.01.2009 00:50:00    996.51     -8.27    265.15        -9.04   \n",
       "...                     ...       ...       ...       ...          ...   \n",
       "420446  31.12.2016 23:20:00   1000.07     -4.05    269.10        -8.13   \n",
       "420447  31.12.2016 23:30:00    999.93     -3.35    269.81        -8.06   \n",
       "420448  31.12.2016 23:40:00    999.82     -3.16    270.01        -8.21   \n",
       "420449  31.12.2016 23:50:00    999.81     -4.23    268.94        -8.53   \n",
       "420450  01.01.2017 00:00:00    999.82     -4.82    268.36        -8.42   \n",
       "\n",
       "        rh (%)  VPmax (mbar)  VPact (mbar)  VPdef (mbar)  sh (g/kg)  \\\n",
       "0        93.30          3.33          3.11          0.22       1.94   \n",
       "1        93.40          3.23          3.02          0.21       1.89   \n",
       "2        93.90          3.21          3.01          0.20       1.88   \n",
       "3        94.20          3.26          3.07          0.19       1.92   \n",
       "4        94.10          3.27          3.08          0.19       1.92   \n",
       "...        ...           ...           ...           ...        ...   \n",
       "420446   73.10          4.52          3.30          1.22       2.06   \n",
       "420447   69.71          4.77          3.32          1.44       2.07   \n",
       "420448   67.91          4.84          3.28          1.55       2.05   \n",
       "420449   71.80          4.46          3.20          1.26       1.99   \n",
       "420450   75.70          4.27          3.23          1.04       2.01   \n",
       "\n",
       "        H2OC (mmol/mol)  rho (g/m**3)  wv (m/s)  max. wv (m/s)  wd (deg)  \n",
       "0                  3.12       1307.75      1.03           1.75     152.3  \n",
       "1                  3.03       1309.80      0.72           1.50     136.1  \n",
       "2                  3.02       1310.24      0.19           0.63     171.6  \n",
       "3                  3.08       1309.19      0.34           0.50     198.0  \n",
       "4                  3.09       1309.00      0.32           0.63     214.3  \n",
       "...                 ...           ...       ...            ...       ...  \n",
       "420446             3.30       1292.98      0.67           1.52     240.0  \n",
       "420447             3.32       1289.44      1.14           1.92     234.3  \n",
       "420448             3.28       1288.39      1.08           2.00     215.2  \n",
       "420449             3.20       1293.56      1.49           2.16     225.8  \n",
       "420450             3.23       1296.38      1.23           1.96     184.9  \n",
       "\n",
       "[420451 rows x 15 columns]"
      ]
     },
     "execution_count": 3,
     "metadata": {},
     "output_type": "execute_result"
    }
   ],
   "source": [
    "df"
   ]
  },
  {
   "cell_type": "code",
   "execution_count": 4,
   "id": "killing-affair",
   "metadata": {},
   "outputs": [
    {
     "data": {
      "text/plain": [
       "<AxesSubplot:>"
      ]
     },
     "execution_count": 4,
     "metadata": {},
     "output_type": "execute_result"
    },
    {
     "data": {
      "image/png": "[encoded data removed]",
      "text/plain": [
       "<Figure size 432x288 with 1 Axes>"
      ]
     },
     "metadata": {
      "needs_background": "light"
     },
     "output_type": "display_data"
    }
   ],
   "source": [
    "df['T (degC)'].plot()"
   ]
  },
  {
   "cell_type": "code",
   "execution_count": 5,
   "id": "occupational-knitting",
   "metadata": {},
   "outputs": [
    {
     "data": {
      "text/plain": [
       "<AxesSubplot:>"
      ]
     },
     "execution_count": 5,
     "metadata": {},
     "output_type": "execute_result"
    },
    {
     "data": {
      "image/png": "[encoded data removed]",
      "text/plain": [
       "<Figure size 432x288 with 1 Axes>"
      ]
     },
     "metadata": {
      "needs_background": "light"
     },
     "output_type": "display_data"
    }
   ],
   "source": [
    "df['T (degC)'].head(1440).plot()"
   ]
  },
  {
   "cell_type": "markdown",
   "id": "tough-spelling",
   "metadata": {},
   "source": [
    "### Prepare the Data"
   ]
  },
  {
   "cell_type": "markdown",
   "id": "super-junior",
   "metadata": {},
   "source": [
    "Note, we don't follow Keras's book to create float_data."
   ]
  },
  {
   "cell_type": "code",
   "execution_count": 6,
   "id": "adolescent-infrared",
   "metadata": {},
   "outputs": [],
   "source": [
    "# f = open(fname)\n",
    "# data = f.read()\n",
    "# f.close()\n",
    "# lines = data.split('\\n')\n",
    "# header = lines[0].split(',')\n",
    "# lines = lines[1:]\n",
    "# print(header)\n",
    "# print(len(lines))\n",
    "\n",
    "\n",
    "# import numpy as np\n",
    "# float_data = np.zeros((len(lines), len(header) - 1))\n",
    "# for i, line in enumerate(lines):\n",
    "#     values = [float(x) for x in line.split(',')[1:]]\n",
    "#     float_data[i, :] = values\n",
    "# print(np.array_equal(df.iloc[:, 1:].values , float_data)) # --> this should be true"
   ]
  },
  {
   "cell_type": "code",
   "execution_count": 7,
   "id": "necessary-ecuador",
   "metadata": {},
   "outputs": [],
   "source": [
    "float_data = df.iloc[:, 1:].values\n",
    "sample_num = int(2e5)\n",
    "mean = float_data[:sample_num].mean(axis=0)\n",
    "std = float_data[:sample_num].std(axis=0)\n",
    "float_data_new = float_data - mean\n",
    "float_data_new /= std"
   ]
  },
  {
   "cell_type": "code",
   "execution_count": 10,
   "id": "stunning-facing",
   "metadata": {},
   "outputs": [],
   "source": [
    "def generator(data, lookback, delay, min_index, max_index,\n",
    "              shuffle=False, batch_size=128, step=6):\n",
    "    if max_index is None:\n",
    "        max_index = len(data) - delay - 1\n",
    "    i = min_index + lookback\n",
    "    while 1:\n",
    "        if shuffle:\n",
    "            rows = np.random.randint(\n",
    "                min_index + lookback, max_index, size=batch_size)\n",
    "        else:\n",
    "            if i + batch_size >= max_index:\n",
    "                i = min_index + lookback\n",
    "            rows = np.arange(i, min(i + batch_size, max_index))\n",
    "            i += len(rows)\n",
    "        samples = np.zeros((len(rows),\n",
    "                           lookback // step,\n",
    "                           data.shape[-1]))\n",
    "        targets = np.zeros((len(rows),))\n",
    "        for j, row in enumerate(rows):\n",
    "            indices = range(rows[j] - lookback, rows[j], step)\n",
    "            samples[j] = data[indices]\n",
    "            targets[j] = data[rows[j] + delay][1]\n",
    "        yield samples, targets\n"
   ]
  },
  {
   "cell_type": "markdown",
   "id": "fossil-elements",
   "metadata": {},
   "source": [
    "### Prepare Training, Validation and Test Data"
   ]
  },
  {
   "cell_type": "code",
   "execution_count": 11,
   "id": "peaceful-playback",
   "metadata": {},
   "outputs": [],
   "source": [
    "\n",
    "lookback = 1440\n",
    "step = 6\n",
    "delay = 144\n",
    "batch_size = 128\n",
    "\n",
    "train_gen = generator(float_data,\n",
    "                      lookback=lookback,\n",
    "                      delay=delay,\n",
    "                      min_index=0,\n",
    "                      max_index=200000,\n",
    "                      shuffle=True,\n",
    "                      step=step,\n",
    "                      batch_size=batch_size)\n",
    "\n",
    "val_gen = generator(float_data,\n",
    "                    lookback=lookback,\n",
    "                    delay=delay,\n",
    "                    min_index=200001,\n",
    "                    max_index=300000,\n",
    "                    step=step,\n",
    "                    batch_size=batch_size)\n",
    "\n",
    "\n",
    "test_gen = generator(float_data,\n",
    "                     lookback=lookback,\n",
    "                     delay=delay,\n",
    "                     min_index=300001,\n",
    "                     max_index=None,\n",
    "                     step=step,\n",
    "                     batch_size=batch_size)\n",
    "\n",
    "val_steps = (300000 - 200001 - lookback)\n",
    "\n",
    "test_steps = (len(float_data) - 300001 - lookback)"
   ]
  },
  {
   "cell_type": "markdown",
   "id": "exotic-singapore",
   "metadata": {},
   "source": [
    "#### Common Sense"
   ]
  },
  {
   "cell_type": "markdown",
   "id": "excellent-foundation",
   "metadata": {},
   "source": [
    "In this case, the temperature timeseries can safely be assumed to be continuous (the temperatures tomorrow are likely to be close to the temperatures today) as well as periodical with a daily period. Thus a common-sense approach is to always predict that the temperature 24 hours from now will be equal to the temperature right now."
   ]
  },
  {
   "cell_type": "code",
   "execution_count": 17,
   "id": "spare-learning",
   "metadata": {},
   "outputs": [],
   "source": [
    "import numpy as np"
   ]
  },
  {
   "cell_type": "code",
   "execution_count": 18,
   "id": "interested-frontier",
   "metadata": {},
   "outputs": [],
   "source": [
    "def evaluate_naive_method():\n",
    "    batch_maes = []\n",
    "    for step in range(val_steps):\n",
    "        if step % 1000 ==0:\n",
    "            print(step)\n",
    "        samples, targets = next(val_gen)\n",
    "        preds = samples[:, -1, 1]\n",
    "        mae = np.mean(np.abs(preds - targets))\n",
    "        batch_maes.append(mae)\n",
    "    print(np.mean(batch_maes))"
   ]
  },
  {
   "cell_type": "code",
   "execution_count": 19,
   "id": "spatial-simple",
   "metadata": {
    "collapsed": true
   },
   "outputs": [
    {
     "name": "stdout",
     "output_type": "stream",
     "text": [
      "0\n",
      "1000\n",
      "2000\n",
      "3000\n",
      "4000\n",
      "5000\n",
      "6000\n",
      "7000\n",
      "8000\n",
      "9000\n",
      "10000\n",
      "11000\n",
      "12000\n",
      "13000\n",
      "14000\n",
      "15000\n",
      "16000\n",
      "17000\n",
      "18000\n",
      "19000\n",
      "20000\n",
      "21000\n",
      "22000\n",
      "23000\n",
      "24000\n",
      "25000\n",
      "26000\n",
      "27000\n",
      "28000\n",
      "29000\n",
      "30000\n",
      "31000\n",
      "32000\n",
      "33000\n",
      "34000\n",
      "35000\n",
      "36000\n",
      "37000\n",
      "38000\n",
      "39000\n",
      "40000\n",
      "41000\n",
      "42000\n",
      "43000\n",
      "44000\n",
      "45000\n",
      "46000\n",
      "47000\n",
      "48000\n",
      "49000\n",
      "50000\n",
      "51000\n",
      "52000\n",
      "53000\n",
      "54000\n",
      "55000\n",
      "56000\n",
      "57000\n",
      "58000\n",
      "59000\n",
      "60000\n",
      "61000\n",
      "62000\n",
      "63000\n",
      "64000\n",
      "65000\n",
      "66000\n",
      "67000\n",
      "68000\n",
      "69000\n",
      "70000\n",
      "71000\n",
      "72000\n",
      "73000\n",
      "74000\n",
      "75000\n",
      "76000\n",
      "77000\n",
      "78000\n",
      "79000\n",
      "80000\n",
      "81000\n",
      "82000\n",
      "83000\n",
      "84000\n",
      "85000\n",
      "86000\n",
      "87000\n",
      "88000\n",
      "89000\n",
      "90000\n",
      "91000\n",
      "92000\n",
      "93000\n",
      "94000\n",
      "95000\n",
      "96000\n",
      "97000\n",
      "98000\n",
      "2.5645638478601653\n"
     ]
    }
   ],
   "source": [
    "evaluate_naive_method()"
   ]
  },
  {
   "cell_type": "code",
   "execution_count": 21,
   "id": "actual-carroll",
   "metadata": {},
   "outputs": [],
   "source": [
    "celsius_mae = 0.29 * std[1]"
   ]
  },
  {
   "cell_type": "code",
   "execution_count": 22,
   "id": "generic-forty",
   "metadata": {},
   "outputs": [
    {
     "data": {
      "text/plain": [
       "2.567224733839344"
      ]
     },
     "execution_count": 22,
     "metadata": {},
     "output_type": "execute_result"
    }
   ],
   "source": [
    "celsius_mae"
   ]
  }
 ],
 "metadata": {
  "kernelspec": {
   "display_name": "env",
   "language": "python",
   "name": "env"
  },
  "language_info": {
   "codemirror_mode": {
    "name": "ipython",
    "version": 3
   },
   "file_extension": ".py",
   "mimetype": "text/x-python",
   "name": "python",
   "nbconvert_exporter": "python",
   "pygments_lexer": "ipython3",
   "version": "3.9.1"
  },
  "toc": {
   "colors": {
    "hover_highlight": "#DAA520",
    "running_highlight": "#FF0000",
    "selected_highlight": "#FFD700"
   },
   "moveMenuLeft": true,
   "nav_menu": {
    "height": "243px",
    "width": "252px"
   },
   "navigate_menu": true,
   "number_sections": true,
   "sideBar": true,
   "threshold": 4,
   "toc_cell": true,
   "toc_section_display": "block",
   "toc_window_display": true,
   "widenNotebook": false
  }
 },
 "nbformat": 4,
 "nbformat_minor": 5
}
