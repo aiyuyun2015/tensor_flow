{
 "cells": [
  {
   "cell_type": "markdown",
   "id": "terminal-shopper",
   "metadata": {
    "toc": "true"
   },
   "source": [
    "# Table of Contents\n",
    " <p><div class=\"lev2 toc-item\"><a href=\"#Illustrate-a-Graph-Flow-in-tf1\" data-toc-modified-id=\"Illustrate-a-Graph-Flow-in-tf1-01\"><span class=\"toc-item-num\">0.1&nbsp;&nbsp;</span>Illustrate a Graph-Flow in tf1</a></div><div class=\"lev3 toc-item\"><a href=\"#Linear-Regression\" data-toc-modified-id=\"Linear-Regression-011\"><span class=\"toc-item-num\">0.1.1&nbsp;&nbsp;</span>Linear Regression</a></div>"
   ]
  },
  {
   "cell_type": "code",
   "execution_count": 6,
   "id": "intellectual-wings",
   "metadata": {},
   "outputs": [],
   "source": [
    "# https://www.bookstack.cn/read/TensorFlow2.0/spilt.2.8a0a47774f201d90.md"
   ]
  },
  {
   "cell_type": "code",
   "execution_count": 2,
   "id": "musical-simulation",
   "metadata": {},
   "outputs": [
    {
     "name": "stdout",
     "output_type": "stream",
     "text": [
      "WARNING:tensorflow:From /Users/junsu/Dropbox/workspace/ML_coursera_jupyter/env/lib/python3.9/site-packages/tensorflow/python/compat/v2_compat.py:101: disable_resource_variables (from tensorflow.python.ops.variable_scope) is deprecated and will be removed in a future version.\n",
      "Instructions for updating:\n",
      "non-resource variables are not supported in the long term\n",
      "a = 1\n",
      "b = 2\n",
      "a + b = 3\n"
     ]
    },
    {
     "name": "stderr",
     "output_type": "stream",
     "text": [
      "2021-11-11 10:08:03.654727: I tensorflow/core/platform/cpu_feature_guard.cc:142] This TensorFlow binary is optimized with oneAPI Deep Neural Network Library (oneDNN) to use the following CPU instructions in performance-critical operations:  AVX2 FMA\n",
      "To enable them in other operations, rebuild TensorFlow with the appropriate compiler flags.\n"
     ]
    }
   ],
   "source": [
    "# import tensorflow as tf\n",
    " \n",
    "import tensorflow.compat.v1 as tf\n",
    "tf.disable_v2_behavior()    \n",
    "\n",
    "a = tf.placeholder(dtype=tf.int32)# 定义一个占位符Tensor\n",
    "b = tf.placeholder(dtype=tf.int32)\n",
    "c = a + b\n",
    " \n",
    "a_ = input(\"a = \")# 从终端读入一个整数并放入变量a_\n",
    "b_ = input(\"b = \")\n",
    " \n",
    "sess = tf.Session()\n",
    "c_ = sess.run(c, feed_dict={a: a_, b: b_})# feed_dict参数传入为了计算c所需要的张量的值\n",
    "print(\"a + b = %d\"% c_)"
   ]
  },
  {
   "cell_type": "code",
   "execution_count": 5,
   "id": "offshore-color",
   "metadata": {},
   "outputs": [
    {
     "name": "stdout",
     "output_type": "stream",
     "text": [
      "5.0\n"
     ]
    }
   ],
   "source": [
    "a = tf.get_variable(name='a', shape=[])\n",
    "initializer = tf.assign(a,0)# tf.assign(x, y)返回一个“将张量y的值赋给变量x”的操作\n",
    "a_plus_1 = a +1# 等价于 a + tf.constant(1)\n",
    "plus_one_op = tf.assign(a, a_plus_1)\n",
    " \n",
    "sess = tf.Session()\n",
    "sess.run(initializer)\n",
    "for i in range(5):\n",
    "    sess.run(plus_one_op)# 对变量a执行加一操作\n",
    "    a_ = sess.run(a)# 获得变量a的值并存入a_\n",
    "print(a_)"
   ]
  },
  {
   "cell_type": "markdown",
   "id": "ordinary-stanley",
   "metadata": {},
   "source": [
    "以下代码和上述代码等价，在声明变量时指定初始化器，并通过 tf.global_variables_initializer() 一次性初始化所有变量，在实际工程中更常用："
   ]
  },
  {
   "cell_type": "code",
   "execution_count": 1,
   "id": "reverse-acceptance",
   "metadata": {},
   "outputs": [
    {
     "name": "stdout",
     "output_type": "stream",
     "text": [
      "WARNING:tensorflow:From /Users/junsu/Dropbox/workspace/ML_coursera_jupyter/env/lib/python3.9/site-packages/tensorflow/python/compat/v2_compat.py:101: disable_resource_variables (from tensorflow.python.ops.variable_scope) is deprecated and will be removed in a future version.\n",
      "Instructions for updating:\n",
      "non-resource variables are not supported in the long term\n"
     ]
    }
   ],
   "source": [
    "import tensorflow.compat.v1 as tf\n",
    "tf.disable_v2_behavior()   "
   ]
  },
  {
   "cell_type": "code",
   "execution_count": 2,
   "id": "miniature-screen",
   "metadata": {},
   "outputs": [
    {
     "name": "stdout",
     "output_type": "stream",
     "text": [
      "5.0\n"
     ]
    },
    {
     "name": "stderr",
     "output_type": "stream",
     "text": [
      "2021-11-11 10:11:57.009262: I tensorflow/core/platform/cpu_feature_guard.cc:142] This TensorFlow binary is optimized with oneAPI Deep Neural Network Library (oneDNN) to use the following CPU instructions in performance-critical operations:  AVX2 FMA\n",
      "To enable them in other operations, rebuild TensorFlow with the appropriate compiler flags.\n"
     ]
    }
   ],
   "source": [
    "a = tf.get_variable(name='a', shape=[], initializer=tf.zeros_initializer)# 指定初始化器为全0初始化\n",
    "a_plus_1 = a +1\n",
    "plus_one_op = tf.assign(a, a_plus_1)\n",
    " \n",
    "sess = tf.Session()\n",
    "sess.run(tf.global_variables_initializer())# 初始化所有变量\n",
    "for i in range(5):\n",
    "    sess.run(plus_one_op)\n",
    "    a_ = sess.run(a)\n",
    "print(a_)"
   ]
  },
  {
   "cell_type": "markdown",
   "id": "increased-slovakia",
   "metadata": {},
   "source": [
    "## Illustrate a Graph-Flow in tf1"
   ]
  },
  {
   "cell_type": "markdown",
   "id": "polyphonic-trail",
   "metadata": {},
   "source": [
    "### Linear Regression"
   ]
  },
  {
   "cell_type": "code",
   "execution_count": 1,
   "id": "stock-first",
   "metadata": {
    "scrolled": true
   },
   "outputs": [
    {
     "name": "stdout",
     "output_type": "stream",
     "text": [
      "WARNING:tensorflow:From /Users/junsu/Dropbox/workspace/ML_coursera_jupyter/env/lib/python3.9/site-packages/tensorflow/python/compat/v2_compat.py:101: disable_resource_variables (from tensorflow.python.ops.variable_scope) is deprecated and will be removed in a future version.\n",
      "Instructions for updating:\n",
      "non-resource variables are not supported in the long term\n"
     ]
    }
   ],
   "source": [
    "import tensorflow.compat.v1 as tf\n",
    "tf.disable_v2_behavior()  "
   ]
  },
  {
   "cell_type": "markdown",
   "id": "military-coupon",
   "metadata": {},
   "source": [
    "与前面的NumPy和Eager Execution模式不同，TensorFlow的Graph Execution模式使用 符号式编程 来进行数值运算。首先，我们需要将待计算的过程抽象为数据流图，将输入、运算和输出都用符号化的节点来表达。然后，我们将数据不断地送入输入节点，让数据沿着数据流图进行计算和流动，最终到达我们需要的特定输出节点。以下代码展示了如何基于TensorFlow的符号式编程方法完成与前节相同的任务。其中， tf.placeholder() 即可以视为一种“符号化的输入节点”，使用 tf.get_variable() 定义模型的参数（Variable类型的张量可以使用 tf.assign() 进行赋值），而 sess.run(output_node, feed_dict={input_node: data}) 可以视作将数据送入输入节点，沿着数据流图计算并到达输出节点并返回值的过程。"
   ]
  },
  {
   "cell_type": "code",
   "execution_count": 2,
   "id": "adult-station",
   "metadata": {},
   "outputs": [],
   "source": [
    "import numpy as np"
   ]
  },
  {
   "cell_type": "code",
   "execution_count": 3,
   "id": "smart-awareness",
   "metadata": {},
   "outputs": [],
   "source": [
    " \n",
    "# 定义数据流图\n",
    "learning_rate_ = tf.placeholder(dtype=tf.float32)\n",
    "X_ = tf.placeholder(dtype=tf.float32, shape=[5])\n",
    "y_ = tf.placeholder(dtype=tf.float32, shape=[5])\n",
    "a = tf.get_variable('a', dtype=tf.float32, shape=[], initializer=tf.zeros_initializer)\n",
    "b = tf.get_variable('b', dtype=tf.float32, shape=[], initializer=tf.zeros_initializer)\n",
    "\n",
    "\n",
    "y_pred = a * X_ + b\n",
    "loss = tf.constant(0.5) * tf.reduce_sum(tf.square(y_pred - y_))\n",
    " \n",
    "# 反向传播，手动计算变量（模型参数）的梯度\n",
    "# equivalent to \n",
    "#\n",
    "# grad_a, grad_b = tf.gradients(loss, [a, b])\n",
    "grad_a = tf.reduce_sum((y_pred - y_) * X_)\n",
    "grad_b = tf.reduce_sum(y_pred - y_)\n",
    " \n",
    "    \n",
    "# 梯度下降法，手动更新参数\n",
    "# equivalent to\n",
    "# method-2:\n",
    "# optimizer = tf.train.GradientDescentOptimizer(learning_rate=learning_rate_)\n",
    "# grad = optimizer.compute_gradients(loss)\n",
    "# train_op = optimizer.apply_gradients(grad)\n",
    "#\n",
    "# or method-3:\n",
    "# train_op = tf.train.GradientDescentOptimizer(learning_rate=learning_rate_).minimize(loss)\n",
    "\n",
    "new_a = a - learning_rate_ * grad_a\n",
    "new_b = b - learning_rate_ * grad_b\n",
    "update_a = tf.assign(a, new_a)\n",
    "update_b = tf.assign(b, new_b)\n",
    "train_op = [update_a, update_b]\n",
    "\n",
    "\n",
    "\n",
    "\n",
    "\n",
    "\n",
    "# 数据流图定义到此结束\n",
    "# 注意，直到目前，我们都没有进行任何实质的数据计算，仅仅是定义了一个数据图\n",
    " "
   ]
  },
  {
   "cell_type": "code",
   "execution_count": 5,
   "id": "preliminary-partnership",
   "metadata": {},
   "outputs": [
    {
     "name": "stdout",
     "output_type": "stream",
     "text": [
      "[2.9952414, 0.011332989]\n"
     ]
    }
   ],
   "source": [
    "num_epoch = 10000\n",
    "learning_rate = 1e-3\n",
    "\n",
    "# Add Inputs\n",
    "X = 5* np.random.random(size=(5, )) # generate 1000 random numbers between (0, 20)\n",
    "y = 3 * X + np.random.normal(loc=0.0, scale=0.01, size=(5,))\n",
    "\n",
    "\n",
    "with tf.Session() as sess:\n",
    "    # 初始化变量a和b\n",
    "    tf.global_variables_initializer().run()\n",
    "    # 循环将数据送入上面建立的数据流图中进行计算和更新变量\n",
    "    for e in range(num_epoch):\n",
    "        sess.run(train_op, feed_dict={X_: X, y_: y, learning_rate_: learning_rate})\n",
    "    print(sess.run([a, b]))"
   ]
  },
  {
   "cell_type": "code",
   "execution_count": null,
   "id": "express-multiple",
   "metadata": {},
   "outputs": [],
   "source": []
  }
 ],
 "metadata": {
  "kernelspec": {
   "display_name": "env",
   "language": "python",
   "name": "env"
  },
  "language_info": {
   "codemirror_mode": {
    "name": "ipython",
    "version": 3
   },
   "file_extension": ".py",
   "mimetype": "text/x-python",
   "name": "python",
   "nbconvert_exporter": "python",
   "pygments_lexer": "ipython3",
   "version": "3.9.1"
  },
  "toc": {
   "colors": {
    "hover_highlight": "#DAA520",
    "running_highlight": "#FF0000",
    "selected_highlight": "#FFD700"
   },
   "moveMenuLeft": true,
   "nav_menu": {
    "height": "48.3523px",
    "width": "251.989px"
   },
   "navigate_menu": true,
   "number_sections": true,
   "sideBar": true,
   "threshold": 4,
   "toc_cell": true,
   "toc_section_display": "block",
   "toc_window_display": true,
   "widenNotebook": false
  }
 },
 "nbformat": 4,
 "nbformat_minor": 5
}
