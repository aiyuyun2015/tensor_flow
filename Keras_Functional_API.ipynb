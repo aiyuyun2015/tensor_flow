{
 "cells": [
  {
   "cell_type": "markdown",
   "id": "collectible-testimony",
   "metadata": {
    "toc": "true"
   },
   "source": [
    "# Table of Contents\n",
    " <p><div class=\"lev1 toc-item\"><a href=\"#Introduction-of-Functional-API\" data-toc-modified-id=\"Introduction-of-Functional-API-1\"><span class=\"toc-item-num\">1&nbsp;&nbsp;</span>Introduction of Functional API</a></div><div class=\"lev2 toc-item\"><a href=\"#Example-1\" data-toc-modified-id=\"Example-1-11\"><span class=\"toc-item-num\">1.1&nbsp;&nbsp;</span>Example-1</a></div><div class=\"lev2 toc-item\"><a href=\"#Simple-Concatenation-Neural-Network-Example\" data-toc-modified-id=\"Simple-Concatenation-Neural-Network-Example-12\"><span class=\"toc-item-num\">1.2&nbsp;&nbsp;</span>Simple Concatenation Neural Network Example</a></div><div class=\"lev2 toc-item\"><a href=\"#Multi-output-Model\" data-toc-modified-id=\"Multi-output-Model-13\"><span class=\"toc-item-num\">1.3&nbsp;&nbsp;</span>Multi-output Model</a></div><div class=\"lev2 toc-item\"><a href=\"#Inception-Module-Implementation\" data-toc-modified-id=\"Inception-Module-Implementation-14\"><span class=\"toc-item-num\">1.4&nbsp;&nbsp;</span>Inception Module Implementation</a></div><div class=\"lev3 toc-item\"><a href=\"#Example-1-From-Internet\" data-toc-modified-id=\"Example-1-From-Internet-141\"><span class=\"toc-item-num\">1.4.1&nbsp;&nbsp;</span>Example-1 From Internet</a></div><div class=\"lev3 toc-item\"><a href=\"#Example-From-Python-Deep-Learning-Keras-Book\" data-toc-modified-id=\"Example-From-Python-Deep-Learning-Keras-Book-142\"><span class=\"toc-item-num\">1.4.2&nbsp;&nbsp;</span>Example From Python Deep Learning Keras Book</a></div><div class=\"lev2 toc-item\"><a href=\"#Using-Callbacks-to-Act-On-A-Model-During-Training\" data-toc-modified-id=\"Using-Callbacks-to-Act-On-A-Model-During-Training-15\"><span class=\"toc-item-num\">1.5&nbsp;&nbsp;</span>Using Callbacks to Act On A Model During Training</a></div><div class=\"lev2 toc-item\"><a href=\"#TensorBoard\" data-toc-modified-id=\"TensorBoard-16\"><span class=\"toc-item-num\">1.6&nbsp;&nbsp;</span>TensorBoard</a></div><div class=\"lev2 toc-item\"><a href=\"#SeparableCon2D\" data-toc-modified-id=\"SeparableCon2D-17\"><span class=\"toc-item-num\">1.7&nbsp;&nbsp;</span>SeparableCon2D</a></div>"
   ]
  },
  {
   "cell_type": "markdown",
   "id": "dressed-somerset",
   "metadata": {},
   "source": [
    "# Introduction of Functional API"
   ]
  },
  {
   "cell_type": "code",
   "execution_count": 1,
   "id": "nearby-finger",
   "metadata": {},
   "outputs": [],
   "source": [
    "from tensorflow.keras import Input, layers"
   ]
  },
  {
   "cell_type": "code",
   "execution_count": 2,
   "id": "outstanding-burner",
   "metadata": {},
   "outputs": [],
   "source": [
    "input_tensor = Input(shape=(32,)) # A tensor"
   ]
  },
  {
   "cell_type": "code",
   "execution_count": 3,
   "id": "consecutive-disney",
   "metadata": {},
   "outputs": [],
   "source": [
    "dense = layers.Dense(32, activation='relu') # A layer is a function"
   ]
  },
  {
   "cell_type": "code",
   "execution_count": 4,
   "id": "amber-perception",
   "metadata": {},
   "outputs": [
    {
     "name": "stderr",
     "output_type": "stream",
     "text": [
      "2021-11-05 05:37:40.454005: I tensorflow/core/platform/cpu_feature_guard.cc:142] This TensorFlow binary is optimized with oneAPI Deep Neural Network Library (oneDNN) to use the following CPU instructions in performance-critical operations:  AVX2 FMA\n",
      "To enable them in other operations, rebuild TensorFlow with the appropriate compiler flags.\n"
     ]
    }
   ],
   "source": [
    "output_tensor = dense(input_tensor) # A layer inputs a tensor and returns a tensor"
   ]
  },
  {
   "cell_type": "markdown",
   "id": "hairy-subdivision",
   "metadata": {},
   "source": [
    "## Example-1"
   ]
  },
  {
   "cell_type": "code",
   "execution_count": 5,
   "id": "smaller-shirt",
   "metadata": {},
   "outputs": [],
   "source": [
    "from tensorflow.keras.models import Sequential, Model\n",
    "from tensorflow.keras import layers\n",
    "from tensorflow.keras import Input"
   ]
  },
  {
   "cell_type": "markdown",
   "id": "confused-annual",
   "metadata": {},
   "source": [
    "Peviously, how we built our sequential model"
   ]
  },
  {
   "cell_type": "code",
   "execution_count": 6,
   "id": "behind-happiness",
   "metadata": {},
   "outputs": [],
   "source": [
    "seq_model = Sequential()\n",
    "seq_model.add(layers.Dense(32, activation='relu', input_shape=(64,)))\n",
    "seq_model.add(layers.Dense(32, activation='relu'))\n",
    "seq_model.add(layers.Dense(10, activation='softmax'))"
   ]
  },
  {
   "cell_type": "markdown",
   "id": "criminal-manual",
   "metadata": {},
   "source": [
    "The equivalent way, use layer as function"
   ]
  },
  {
   "cell_type": "code",
   "execution_count": 7,
   "id": "assisted-lotus",
   "metadata": {},
   "outputs": [],
   "source": [
    "input_tensor = Input(shape=(64,))\n",
    "x = layers.Dense(32, activation='relu')(input_tensor)\n",
    "x = layers.Dense(32, activation='relu')(x)\n",
    "output_tensor = layers.Dense(10, activation='softmax')(x)"
   ]
  },
  {
   "cell_type": "code",
   "execution_count": 8,
   "id": "silver-funeral",
   "metadata": {},
   "outputs": [],
   "source": [
    "model = Model(input_tensor, output_tensor) # The Model class turns an input tensor and output tensor into a \"model\" variable"
   ]
  },
  {
   "cell_type": "code",
   "execution_count": 9,
   "id": "acceptable-dylan",
   "metadata": {},
   "outputs": [
    {
     "name": "stdout",
     "output_type": "stream",
     "text": [
      "Model: \"model\"\n",
      "_________________________________________________________________\n",
      "Layer (type)                 Output Shape              Param #   \n",
      "=================================================================\n",
      "input_2 (InputLayer)         [(None, 64)]              0         \n",
      "_________________________________________________________________\n",
      "dense_4 (Dense)              (None, 32)                2080      \n",
      "_________________________________________________________________\n",
      "dense_5 (Dense)              (None, 32)                1056      \n",
      "_________________________________________________________________\n",
      "dense_6 (Dense)              (None, 10)                330       \n",
      "=================================================================\n",
      "Total params: 3,466\n",
      "Trainable params: 3,466\n",
      "Non-trainable params: 0\n",
      "_________________________________________________________________\n"
     ]
    }
   ],
   "source": [
    "model.summary()"
   ]
  },
  {
   "cell_type": "markdown",
   "id": "pretty-spray",
   "metadata": {},
   "source": [
    "The only part that may seem a bit magical at this point is instantiating a Model object using only an input tensor and an output tensor. Behind the scenes, Keras retrieves every layer involved in going from input_tensor to output_tensor, bringing them together into a graph-like data structure—a Model. Of course, the reason it works is that output_tensor was obtained by repeatedly transforming input_tensor. \n",
    "\n",
    "<b> If you tried to build a model from inputs and outputs that weren’t related, you’d get a RuntimeError: </b>"
   ]
  },
  {
   "cell_type": "code",
   "execution_count": 10,
   "id": "dimensional-ivory",
   "metadata": {
    "collapsed": true
   },
   "outputs": [
    {
     "ename": "ValueError",
     "evalue": "Graph disconnected: cannot obtain value for tensor KerasTensor(type_spec=TensorSpec(shape=(None, 64), dtype=tf.float32, name='input_2'), name='input_2', description=\"created by layer 'input_2'\") at layer \"dense_4\". The following previous layers were accessed without issue: []",
     "output_type": "error",
     "traceback": [
      "\u001b[0;31m---------------------------------------------------------------------------\u001b[0m",
      "\u001b[0;31mValueError\u001b[0m                                Traceback (most recent call last)",
      "\u001b[0;32m/var/folders/l3/390_64zs7_3c075928zrlr2w0000gn/T/ipykernel_92958/2258860319.py\u001b[0m in \u001b[0;36m<module>\u001b[0;34m\u001b[0m\n\u001b[1;32m      1\u001b[0m \u001b[0munrelated_input\u001b[0m \u001b[0;34m=\u001b[0m \u001b[0mInput\u001b[0m\u001b[0;34m(\u001b[0m\u001b[0mshape\u001b[0m\u001b[0;34m=\u001b[0m\u001b[0;34m(\u001b[0m\u001b[0;36m32\u001b[0m\u001b[0;34m,\u001b[0m\u001b[0;34m)\u001b[0m\u001b[0;34m)\u001b[0m\u001b[0;34m\u001b[0m\u001b[0;34m\u001b[0m\u001b[0m\n\u001b[0;32m----> 2\u001b[0;31m \u001b[0mbad_model\u001b[0m \u001b[0;34m=\u001b[0m \u001b[0mmodel\u001b[0m \u001b[0;34m=\u001b[0m \u001b[0mModel\u001b[0m\u001b[0;34m(\u001b[0m\u001b[0munrelated_input\u001b[0m\u001b[0;34m,\u001b[0m \u001b[0moutput_tensor\u001b[0m\u001b[0;34m)\u001b[0m\u001b[0;34m\u001b[0m\u001b[0;34m\u001b[0m\u001b[0m\n\u001b[0m",
      "\u001b[0;32m~/Dropbox/workspace/ML_coursera_jupyter/env/lib/python3.9/site-packages/tensorflow/python/training/tracking/base.py\u001b[0m in \u001b[0;36m_method_wrapper\u001b[0;34m(self, *args, **kwargs)\u001b[0m\n\u001b[1;32m    528\u001b[0m     \u001b[0mself\u001b[0m\u001b[0;34m.\u001b[0m\u001b[0m_self_setattr_tracking\u001b[0m \u001b[0;34m=\u001b[0m \u001b[0;32mFalse\u001b[0m  \u001b[0;31m# pylint: disable=protected-access\u001b[0m\u001b[0;34m\u001b[0m\u001b[0;34m\u001b[0m\u001b[0m\n\u001b[1;32m    529\u001b[0m     \u001b[0;32mtry\u001b[0m\u001b[0;34m:\u001b[0m\u001b[0;34m\u001b[0m\u001b[0;34m\u001b[0m\u001b[0m\n\u001b[0;32m--> 530\u001b[0;31m       \u001b[0mresult\u001b[0m \u001b[0;34m=\u001b[0m \u001b[0mmethod\u001b[0m\u001b[0;34m(\u001b[0m\u001b[0mself\u001b[0m\u001b[0;34m,\u001b[0m \u001b[0;34m*\u001b[0m\u001b[0margs\u001b[0m\u001b[0;34m,\u001b[0m \u001b[0;34m**\u001b[0m\u001b[0mkwargs\u001b[0m\u001b[0;34m)\u001b[0m\u001b[0;34m\u001b[0m\u001b[0;34m\u001b[0m\u001b[0m\n\u001b[0m\u001b[1;32m    531\u001b[0m     \u001b[0;32mfinally\u001b[0m\u001b[0;34m:\u001b[0m\u001b[0;34m\u001b[0m\u001b[0;34m\u001b[0m\u001b[0m\n\u001b[1;32m    532\u001b[0m       \u001b[0mself\u001b[0m\u001b[0;34m.\u001b[0m\u001b[0m_self_setattr_tracking\u001b[0m \u001b[0;34m=\u001b[0m \u001b[0mprevious_value\u001b[0m  \u001b[0;31m# pylint: disable=protected-access\u001b[0m\u001b[0;34m\u001b[0m\u001b[0;34m\u001b[0m\u001b[0m\n",
      "\u001b[0;32m~/Dropbox/workspace/ML_coursera_jupyter/env/lib/python3.9/site-packages/keras/engine/functional.py\u001b[0m in \u001b[0;36m__init__\u001b[0;34m(self, inputs, outputs, name, trainable, **kwargs)\u001b[0m\n\u001b[1;32m    107\u001b[0m     \u001b[0mgeneric_utils\u001b[0m\u001b[0;34m.\u001b[0m\u001b[0mvalidate_kwargs\u001b[0m\u001b[0;34m(\u001b[0m\u001b[0mkwargs\u001b[0m\u001b[0;34m,\u001b[0m \u001b[0;34m{\u001b[0m\u001b[0;34m}\u001b[0m\u001b[0;34m)\u001b[0m\u001b[0;34m\u001b[0m\u001b[0;34m\u001b[0m\u001b[0m\n\u001b[1;32m    108\u001b[0m     \u001b[0msuper\u001b[0m\u001b[0;34m(\u001b[0m\u001b[0mFunctional\u001b[0m\u001b[0;34m,\u001b[0m \u001b[0mself\u001b[0m\u001b[0;34m)\u001b[0m\u001b[0;34m.\u001b[0m\u001b[0m__init__\u001b[0m\u001b[0;34m(\u001b[0m\u001b[0mname\u001b[0m\u001b[0;34m=\u001b[0m\u001b[0mname\u001b[0m\u001b[0;34m,\u001b[0m \u001b[0mtrainable\u001b[0m\u001b[0;34m=\u001b[0m\u001b[0mtrainable\u001b[0m\u001b[0;34m)\u001b[0m\u001b[0;34m\u001b[0m\u001b[0;34m\u001b[0m\u001b[0m\n\u001b[0;32m--> 109\u001b[0;31m     \u001b[0mself\u001b[0m\u001b[0;34m.\u001b[0m\u001b[0m_init_graph_network\u001b[0m\u001b[0;34m(\u001b[0m\u001b[0minputs\u001b[0m\u001b[0;34m,\u001b[0m \u001b[0moutputs\u001b[0m\u001b[0;34m)\u001b[0m\u001b[0;34m\u001b[0m\u001b[0;34m\u001b[0m\u001b[0m\n\u001b[0m\u001b[1;32m    110\u001b[0m \u001b[0;34m\u001b[0m\u001b[0m\n\u001b[1;32m    111\u001b[0m   \u001b[0;34m@\u001b[0m\u001b[0mtf\u001b[0m\u001b[0;34m.\u001b[0m\u001b[0m__internal__\u001b[0m\u001b[0;34m.\u001b[0m\u001b[0mtracking\u001b[0m\u001b[0;34m.\u001b[0m\u001b[0mno_automatic_dependency_tracking\u001b[0m\u001b[0;34m\u001b[0m\u001b[0;34m\u001b[0m\u001b[0m\n",
      "\u001b[0;32m~/Dropbox/workspace/ML_coursera_jupyter/env/lib/python3.9/site-packages/tensorflow/python/training/tracking/base.py\u001b[0m in \u001b[0;36m_method_wrapper\u001b[0;34m(self, *args, **kwargs)\u001b[0m\n\u001b[1;32m    528\u001b[0m     \u001b[0mself\u001b[0m\u001b[0;34m.\u001b[0m\u001b[0m_self_setattr_tracking\u001b[0m \u001b[0;34m=\u001b[0m \u001b[0;32mFalse\u001b[0m  \u001b[0;31m# pylint: disable=protected-access\u001b[0m\u001b[0;34m\u001b[0m\u001b[0;34m\u001b[0m\u001b[0m\n\u001b[1;32m    529\u001b[0m     \u001b[0;32mtry\u001b[0m\u001b[0;34m:\u001b[0m\u001b[0;34m\u001b[0m\u001b[0;34m\u001b[0m\u001b[0m\n\u001b[0;32m--> 530\u001b[0;31m       \u001b[0mresult\u001b[0m \u001b[0;34m=\u001b[0m \u001b[0mmethod\u001b[0m\u001b[0;34m(\u001b[0m\u001b[0mself\u001b[0m\u001b[0;34m,\u001b[0m \u001b[0;34m*\u001b[0m\u001b[0margs\u001b[0m\u001b[0;34m,\u001b[0m \u001b[0;34m**\u001b[0m\u001b[0mkwargs\u001b[0m\u001b[0;34m)\u001b[0m\u001b[0;34m\u001b[0m\u001b[0;34m\u001b[0m\u001b[0m\n\u001b[0m\u001b[1;32m    531\u001b[0m     \u001b[0;32mfinally\u001b[0m\u001b[0;34m:\u001b[0m\u001b[0;34m\u001b[0m\u001b[0;34m\u001b[0m\u001b[0m\n\u001b[1;32m    532\u001b[0m       \u001b[0mself\u001b[0m\u001b[0;34m.\u001b[0m\u001b[0m_self_setattr_tracking\u001b[0m \u001b[0;34m=\u001b[0m \u001b[0mprevious_value\u001b[0m  \u001b[0;31m# pylint: disable=protected-access\u001b[0m\u001b[0;34m\u001b[0m\u001b[0;34m\u001b[0m\u001b[0m\n",
      "\u001b[0;32m~/Dropbox/workspace/ML_coursera_jupyter/env/lib/python3.9/site-packages/keras/engine/functional.py\u001b[0m in \u001b[0;36m_init_graph_network\u001b[0;34m(self, inputs, outputs)\u001b[0m\n\u001b[1;32m    190\u001b[0m \u001b[0;34m\u001b[0m\u001b[0m\n\u001b[1;32m    191\u001b[0m     \u001b[0;31m# Keep track of the network's nodes and layers.\u001b[0m\u001b[0;34m\u001b[0m\u001b[0;34m\u001b[0m\u001b[0;34m\u001b[0m\u001b[0m\n\u001b[0;32m--> 192\u001b[0;31m     nodes, nodes_by_depth, layers, _ = _map_graph_network(\n\u001b[0m\u001b[1;32m    193\u001b[0m         self.inputs, self.outputs)\n\u001b[1;32m    194\u001b[0m     \u001b[0mself\u001b[0m\u001b[0;34m.\u001b[0m\u001b[0m_network_nodes\u001b[0m \u001b[0;34m=\u001b[0m \u001b[0mnodes\u001b[0m\u001b[0;34m\u001b[0m\u001b[0;34m\u001b[0m\u001b[0m\n",
      "\u001b[0;32m~/Dropbox/workspace/ML_coursera_jupyter/env/lib/python3.9/site-packages/keras/engine/functional.py\u001b[0m in \u001b[0;36m_map_graph_network\u001b[0;34m(inputs, outputs)\u001b[0m\n\u001b[1;32m    977\u001b[0m         \u001b[0;32mfor\u001b[0m \u001b[0mx\u001b[0m \u001b[0;32min\u001b[0m \u001b[0mtf\u001b[0m\u001b[0;34m.\u001b[0m\u001b[0mnest\u001b[0m\u001b[0;34m.\u001b[0m\u001b[0mflatten\u001b[0m\u001b[0;34m(\u001b[0m\u001b[0mnode\u001b[0m\u001b[0;34m.\u001b[0m\u001b[0mkeras_inputs\u001b[0m\u001b[0;34m)\u001b[0m\u001b[0;34m:\u001b[0m\u001b[0;34m\u001b[0m\u001b[0;34m\u001b[0m\u001b[0m\n\u001b[1;32m    978\u001b[0m           \u001b[0;32mif\u001b[0m \u001b[0mid\u001b[0m\u001b[0;34m(\u001b[0m\u001b[0mx\u001b[0m\u001b[0;34m)\u001b[0m \u001b[0;32mnot\u001b[0m \u001b[0;32min\u001b[0m \u001b[0mcomputable_tensors\u001b[0m\u001b[0;34m:\u001b[0m\u001b[0;34m\u001b[0m\u001b[0;34m\u001b[0m\u001b[0m\n\u001b[0;32m--> 979\u001b[0;31m             raise ValueError('Graph disconnected: '\n\u001b[0m\u001b[1;32m    980\u001b[0m                              \u001b[0;34m'cannot obtain value for tensor '\u001b[0m \u001b[0;34m+\u001b[0m \u001b[0mstr\u001b[0m\u001b[0;34m(\u001b[0m\u001b[0mx\u001b[0m\u001b[0;34m)\u001b[0m \u001b[0;34m+\u001b[0m\u001b[0;34m\u001b[0m\u001b[0;34m\u001b[0m\u001b[0m\n\u001b[1;32m    981\u001b[0m                              \u001b[0;34m' at layer \"'\u001b[0m \u001b[0;34m+\u001b[0m \u001b[0mlayer\u001b[0m\u001b[0;34m.\u001b[0m\u001b[0mname\u001b[0m \u001b[0;34m+\u001b[0m \u001b[0;34m'\". '\u001b[0m\u001b[0;34m\u001b[0m\u001b[0;34m\u001b[0m\u001b[0m\n",
      "\u001b[0;31mValueError\u001b[0m: Graph disconnected: cannot obtain value for tensor KerasTensor(type_spec=TensorSpec(shape=(None, 64), dtype=tf.float32, name='input_2'), name='input_2', description=\"created by layer 'input_2'\") at layer \"dense_4\". The following previous layers were accessed without issue: []"
     ]
    }
   ],
   "source": [
    "unrelated_input = Input(shape=(32,))\n",
    "bad_model = model = Model(unrelated_input, output_tensor)"
   ]
  },
  {
   "cell_type": "code",
   "execution_count": 12,
   "id": "current-politics",
   "metadata": {},
   "outputs": [
    {
     "name": "stderr",
     "output_type": "stream",
     "text": [
      "2021-11-05 05:37:54.549284: I tensorflow/compiler/mlir/mlir_graph_optimization_pass.cc:185] None of the MLIR Optimization Passes are enabled (registered 2)\n"
     ]
    },
    {
     "name": "stdout",
     "output_type": "stream",
     "text": [
      "Epoch 1/10\n",
      "8/8 [==============================] - 0s 1ms/step - loss: 11.8819\n",
      "Epoch 2/10\n",
      "8/8 [==============================] - 0s 2ms/step - loss: 12.9022\n",
      "Epoch 3/10\n",
      "8/8 [==============================] - 0s 902us/step - loss: 14.4794\n",
      "Epoch 4/10\n",
      "8/8 [==============================] - 0s 1ms/step - loss: 16.4463\n",
      "Epoch 5/10\n",
      "8/8 [==============================] - 0s 768us/step - loss: 18.4872\n",
      "Epoch 6/10\n",
      "8/8 [==============================] - 0s 1ms/step - loss: 20.4081\n",
      "Epoch 7/10\n",
      "8/8 [==============================] - 0s 877us/step - loss: 22.5551\n",
      "Epoch 8/10\n",
      "8/8 [==============================] - 0s 1ms/step - loss: 25.2627\n",
      "Epoch 9/10\n",
      "8/8 [==============================] - 0s 1ms/step - loss: 28.4978\n",
      "Epoch 10/10\n",
      "8/8 [==============================] - 0s 849us/step - loss: 32.1251\n",
      "32/32 [==============================] - 0s 626us/step - loss: 34.1941\n"
     ]
    }
   ],
   "source": [
    "model.compile(optimizer='rmsprop', loss='categorical_crossentropy')\n",
    "import numpy as np\n",
    "x_train = np.random.random((1000, 64))\n",
    "y_train = np.random.random((1000, 10))\n",
    "model.fit(x_train, y_train, epochs=10, batch_size=128)\n",
    "score = model.evaluate(x_train, y_train)"
   ]
  },
  {
   "cell_type": "markdown",
   "id": "unable-sally",
   "metadata": {},
   "source": [
    "## Simple Concatenation Neural Network Example"
   ]
  },
  {
   "cell_type": "code",
   "execution_count": 13,
   "id": "sustained-clark",
   "metadata": {},
   "outputs": [],
   "source": [
    "from tensorflow.keras.models import Model\n",
    "from tensorflow.keras import layers\n",
    "from tensorflow.keras import Input"
   ]
  },
  {
   "cell_type": "code",
   "execution_count": 28,
   "id": "biblical-flexibility",
   "metadata": {},
   "outputs": [],
   "source": [
    "text_vocabulary_size = 10000\n",
    "question_vocabulary_size = 10000\n",
    "answer_vocabulary_size = 500\n",
    "# note, we didn't look for the top words, meaning, the top_words = text_vocabulary_size or question_vocabulary_size, since, if we set\n",
    "# top_words = 100, for example, then our inputs\n",
    "# text = np.random.randint(1, text_vocabulary_size, \n",
    "#                         size=(num_samples, max_length))\n",
    "# may generate some words that are not those top 100 words, thus run into error.    \n",
    "\n",
    "text_input = Input(shape=(None,), dtype='int32', name='text')\n",
    "#embedded_text = layers.Embedding(64, text_vocabulary_size)(text_input) # There is a bug in the book's code, should switch the order of arguments\n",
    "\n",
    "embedded_text = layers.Embedding(text_vocabulary_size, 64)(text_input) # There is a bug in the book's code, should switch the order of arguments\n",
    "encoded_text = layers.LSTM(32)(embedded_text)\n",
    "\n",
    "\n",
    "question_input = Input(shape=(None,),\n",
    "                       dtype='int32',\n",
    "                       name='question')\n",
    "\n",
    "#embedded_question = layers.Embedding(32, question_vocabulary_size)(question_input) # There is a bug in the book's code, should switch the order of arguments\n",
    "\n",
    "embedded_question = layers.Embedding(question_vocabulary_size, 32)(question_input) # There is a bug in the book's code, should switch the order of arguments\n",
    "encoded_question = layers.LSTM(16)(embedded_question)\n",
    "\n",
    "concatenated = layers.concatenate([encoded_text, encoded_question], axis=-1) # concat the outputs of two LSTMs, the hidden states. with shape (None, 32) and (None, 16)\n",
    "\n",
    "answer = layers.Dense(answer_vocabulary_size, activation='softmax')(concatenated)\n",
    "\n",
    "model = Model([text_input, question_input], answer)\n",
    "\n"
   ]
  },
  {
   "cell_type": "code",
   "execution_count": 29,
   "id": "retained-desktop",
   "metadata": {},
   "outputs": [],
   "source": [
    "model.compile(optimizer='rmsprop', loss='categorical_crossentropy', metrics=['acc'])"
   ]
  },
  {
   "cell_type": "markdown",
   "id": "sharing-exhibit",
   "metadata": {},
   "source": [
    "Now, how do you train this two-input model? There are two possible APIs: you can feed the model a list of Numpy arrays as inputs, or you can feed it a dictionary that maps input names to Numpy arrays. Naturally, the latter option is available only if you give names to your inputs."
   ]
  },
  {
   "cell_type": "code",
   "execution_count": 30,
   "id": "affecting-commodity",
   "metadata": {},
   "outputs": [],
   "source": [
    "import numpy as np\n",
    "num_samples = 1000\n",
    "max_length = 100\n",
    "text = np.random.randint(1, text_vocabulary_size, \n",
    "                         size=(num_samples, max_length))\n",
    "question = np.random.randint(1, question_vocabulary_size, \n",
    "                             size=(num_samples, max_length))\n",
    "answers = np.random.randint(0, 1, \n",
    "                            size=(num_samples, answer_vocabulary_size))"
   ]
  },
  {
   "cell_type": "code",
   "execution_count": 31,
   "id": "reserved-native",
   "metadata": {},
   "outputs": [
    {
     "name": "stdout",
     "output_type": "stream",
     "text": [
      "Epoch 1/10\n",
      "8/8 [==============================] - 2s 48ms/step - loss: 0.0000e+00 - acc: 0.0010\n",
      "Epoch 2/10\n",
      "8/8 [==============================] - 0s 47ms/step - loss: 0.0000e+00 - acc: 0.0000e+00\n",
      "Epoch 3/10\n",
      "8/8 [==============================] - 0s 45ms/step - loss: 0.0000e+00 - acc: 0.0000e+00\n",
      "Epoch 4/10\n",
      "8/8 [==============================] - 0s 47ms/step - loss: 0.0000e+00 - acc: 0.0000e+00\n",
      "Epoch 5/10\n",
      "8/8 [==============================] - 0s 50ms/step - loss: 0.0000e+00 - acc: 0.0000e+00\n",
      "Epoch 6/10\n",
      "8/8 [==============================] - 0s 48ms/step - loss: 0.0000e+00 - acc: 0.0000e+00\n",
      "Epoch 7/10\n",
      "8/8 [==============================] - 0s 45ms/step - loss: 0.0000e+00 - acc: 0.0000e+00\n",
      "Epoch 8/10\n",
      "8/8 [==============================] - 0s 50ms/step - loss: 0.0000e+00 - acc: 0.0000e+00\n",
      "Epoch 9/10\n",
      "8/8 [==============================] - 0s 47ms/step - loss: 0.0000e+00 - acc: 0.0000e+00\n",
      "Epoch 10/10\n",
      "8/8 [==============================] - 0s 47ms/step - loss: 0.0000e+00 - acc: 0.0000e+00\n"
     ]
    },
    {
     "data": {
      "text/plain": [
       "<keras.callbacks.History at 0x7fceedd80430>"
      ]
     },
     "execution_count": 31,
     "metadata": {},
     "output_type": "execute_result"
    }
   ],
   "source": [
    "#model.fit([text, question], answers, epochs=10, batch_size=128)\n",
    "# output will be meaningless, since we are not training meaningful inputs/outputs.\n",
    "model.fit({'text': text, 'question': question}, answers, epochs=10, batch_size=128)"
   ]
  },
  {
   "cell_type": "markdown",
   "id": "forbidden-boring",
   "metadata": {},
   "source": [
    "## Multi-output Model"
   ]
  },
  {
   "cell_type": "markdown",
   "id": "coastal-fairy",
   "metadata": {},
   "source": [
    "In the same way, you can use the functional API to build models with multiple outputs (or multiple heads). A simple example is a network that attempts to simultaneously predict different properties of the data, such as a network that takes as input a series of social media posts from a single anonymous person and tries to predict attributes of that person, such as age, gender, and income level (see figure 7.7)."
   ]
  },
  {
   "cell_type": "code",
   "execution_count": 32,
   "id": "global-weapon",
   "metadata": {},
   "outputs": [],
   "source": [
    "from tensorflow.keras import layers\n",
    "from tensorflow.keras import Input\n",
    "from tensorflow.keras.models import Model\n"
   ]
  },
  {
   "cell_type": "code",
   "execution_count": 33,
   "id": "living-lease",
   "metadata": {},
   "outputs": [],
   "source": [
    "vocabulary_size = 50000\n",
    "num_income_groups = 10"
   ]
  },
  {
   "cell_type": "code",
   "execution_count": 42,
   "id": "chicken-journey",
   "metadata": {},
   "outputs": [],
   "source": [
    "# Embedding Preprocessing\n",
    "posts_input = Input(shape=(None,), dtype='int32', name='posts')\n",
    "embedded_posts = layers.Embedding(256, vocabulary_size)(posts_input)"
   ]
  },
  {
   "cell_type": "code",
   "execution_count": 35,
   "id": "defensive-housing",
   "metadata": {},
   "outputs": [],
   "source": [
    "# Hidden Layers\n",
    "x = layers.Conv1D(128, 5, activation='relu')(embedded_posts)\n",
    "x = layers.MaxPooling1D(5)(x)\n",
    "x = layers.Conv1D(256, 5, activation='relu')(x)\n",
    "x = layers.Conv1D(256, 5, activation='relu')(x)\n",
    "x = layers.MaxPooling1D(5)(x)\n",
    "x = layers.Conv1D(256, 5, activation='relu')(x)\n",
    "x = layers.Conv1D(256, 5, activation='relu')(x)\n",
    "x = layers.GlobalMaxPooling1D()(x)\n",
    "x = layers.Dense(128, activation='relu')(x)"
   ]
  },
  {
   "cell_type": "markdown",
   "id": "empty-handle",
   "metadata": {},
   "source": [
    "Different Output Layers"
   ]
  },
  {
   "cell_type": "code",
   "execution_count": 36,
   "id": "hindu-float",
   "metadata": {},
   "outputs": [],
   "source": [
    "# Three different output layers\n",
    "age_prediction = layers.Dense(1, name='age')(x)\n",
    "income_prediction = layers.Dense(num_income_groups, activation='softmax', name='income')(x)\n",
    "gender_prediction = layers.Dense(1, activation='sigmoid', name='gender')(x)"
   ]
  },
  {
   "cell_type": "code",
   "execution_count": 37,
   "id": "extended-oriental",
   "metadata": {},
   "outputs": [],
   "source": [
    "model = Model(posts_input, [age_prediction, income_prediction, gender_prediction])"
   ]
  },
  {
   "cell_type": "markdown",
   "id": "understanding-nursery",
   "metadata": {},
   "source": [
    "Importantly, training such a model requires the ability to specify different loss func- tions for different heads of the network: for instance, age prediction is a scalar regres- sion task, but gender prediction is a binary classification task, requiring a different training procedure. But because gradient descent requires you to minimize a scalar, you must combine these losses into a single value in order to train the model. The simplest way to combine different losses is to sum them all. In Keras, you can use either a list or a dictionary of losses in compile to specify different objects for different outputs; the resulting loss values are summed into a global loss, which is minimized during training."
   ]
  },
  {
   "cell_type": "code",
   "execution_count": 38,
   "id": "fluid-trader",
   "metadata": {},
   "outputs": [],
   "source": [
    "model.compile(optimizer='rmsprop', loss=['mse', 'categorical_crossentropy', 'binary_crossentropy'])\n",
    "\n",
    "# Alternative method\n",
    "model.compile(optimizer='rmsprop', loss={'age': 'mse', \n",
    "                                         'income': 'categorical_crossentropy', \n",
    "                                         'gender': 'binary_crossentropy'})"
   ]
  },
  {
   "cell_type": "markdown",
   "id": "wired-daniel",
   "metadata": {},
   "source": [
    "Note that very imbalanced loss contributions will cause the model representations to be optimized preferentially for the task with the largest individual loss, at the expense of the other tasks. To remedy this, you can assign different levels of importance to the loss values in their contribution to the final loss. This is useful in particular if the losses’ values use different scales. For instance, the mean squared error (MSE) loss used for the age-regression task typically takes a value around 3–5, whereas the cross- entropy loss used for the gender-classification task can be as low as 0.1. In such a situa- tion, to balance the contribution of the different losses, you can assign a weight of 10 to the crossentropy loss and a weight of 0.25 to the MSE loss."
   ]
  },
  {
   "cell_type": "code",
   "execution_count": 40,
   "id": "macro-national",
   "metadata": {},
   "outputs": [],
   "source": [
    "model.compile(optimizer='rmsprop', loss=['mse', 'categorical_crossentropy', 'binary_crossentropy'], loss_weights=[0.25, 1., 10.])\n",
    "\n",
    "model.compile(optimizer='rmsprop', loss={'age': 'mse',\n",
    "                                         'income': 'categorical_crossentropy',\n",
    "                                         'gender': 'binary_crossentropy'}, \n",
    "              loss_weights={'age': 0.25,'income': 1., 'gender': 10.})"
   ]
  },
  {
   "cell_type": "markdown",
   "id": "severe-transcription",
   "metadata": {},
   "source": [
    "<b> Note the author didn't give the inputs, so there is no way to fit. </b>"
   ]
  },
  {
   "cell_type": "code",
   "execution_count": 41,
   "id": "outdoor-elder",
   "metadata": {
    "scrolled": true
   },
   "outputs": [
    {
     "ename": "NameError",
     "evalue": "name 'posts' is not defined",
     "output_type": "error",
     "traceback": [
      "\u001b[0;31m---------------------------------------------------------------------------\u001b[0m",
      "\u001b[0;31mNameError\u001b[0m                                 Traceback (most recent call last)",
      "\u001b[0;32m/var/folders/l3/390_64zs7_3c075928zrlr2w0000gn/T/ipykernel_92958/815671421.py\u001b[0m in \u001b[0;36m<module>\u001b[0;34m\u001b[0m\n\u001b[0;32m----> 1\u001b[0;31m model.fit(posts, [age_targets, income_targets, gender_targets],\n\u001b[0m\u001b[1;32m      2\u001b[0m           epochs=10, batch_size=64)\n",
      "\u001b[0;31mNameError\u001b[0m: name 'posts' is not defined"
     ]
    }
   ],
   "source": [
    "model.fit(posts, [age_targets, income_targets, gender_targets],\n",
    "          epochs=10, batch_size=64)"
   ]
  },
  {
   "cell_type": "markdown",
   "id": "verified-business",
   "metadata": {},
   "source": [
    "## Inception Module Implementation"
   ]
  },
  {
   "cell_type": "markdown",
   "id": "entitled-maintenance",
   "metadata": {},
   "source": [
    "### Example-1 From Internet"
   ]
  },
  {
   "cell_type": "markdown",
   "id": "forced-fantasy",
   "metadata": {},
   "source": [
    "[1] Understanding and Coding Inception Module in Keras: https://becominghuman.ai/understanding-and-coding-inception-module-in-keras-eb56e9056b4b"
   ]
  },
  {
   "cell_type": "code",
   "execution_count": 3,
   "id": "packed-emerald",
   "metadata": {},
   "outputs": [
    {
     "name": "stdout",
     "output_type": "stream",
     "text": [
      "Downloading data from https://www.cs.toronto.edu/~kriz/cifar-10-python.tar.gz\n",
      "170500096/170498071 [==============================] - 1558s 9us/step\n",
      "170508288/170498071 [==============================] - 1558s 9us/step\n"
     ]
    }
   ],
   "source": [
    "from tensorflow.keras.datasets import cifar10\n",
    "(X_train, y_train), (X_test, y_test) = cifar10.load_data()"
   ]
  },
  {
   "cell_type": "code",
   "execution_count": 8,
   "id": "sharp-contrast",
   "metadata": {},
   "outputs": [
    {
     "name": "stdout",
     "output_type": "stream",
     "text": [
      "(50000, 32, 32, 3)\n",
      "(50000, 1)\n"
     ]
    }
   ],
   "source": [
    "print(X_train.shape)\n",
    "print(y_train.shape)"
   ]
  },
  {
   "cell_type": "code",
   "execution_count": 9,
   "id": "comparable-polls",
   "metadata": {},
   "outputs": [],
   "source": [
    "X_train = X_train.astype('float32')\n",
    "X_test = X_test.astype('float32')\n",
    "X_train = X_train / 255.0\n",
    "X_test = X_test / 255.0"
   ]
  },
  {
   "cell_type": "code",
   "execution_count": 10,
   "id": "ahead-shannon",
   "metadata": {},
   "outputs": [],
   "source": [
    "from keras.utils import np_utils\n"
   ]
  },
  {
   "cell_type": "code",
   "execution_count": 11,
   "id": "challenging-burton",
   "metadata": {},
   "outputs": [],
   "source": [
    "y_train = np_utils.to_categorical(y_train)\n",
    "y_test = np_utils.to_categorical(y_test)"
   ]
  },
  {
   "cell_type": "code",
   "execution_count": 12,
   "id": "actual-disco",
   "metadata": {},
   "outputs": [],
   "source": [
    "from keras.layers import Input\n",
    "input_img = Input(shape = (32, 32, 3))"
   ]
  },
  {
   "cell_type": "code",
   "execution_count": 13,
   "id": "extreme-portable",
   "metadata": {},
   "outputs": [
    {
     "name": "stderr",
     "output_type": "stream",
     "text": [
      "2021-11-06 01:39:37.331302: I tensorflow/core/platform/cpu_feature_guard.cc:142] This TensorFlow binary is optimized with oneAPI Deep Neural Network Library (oneDNN) to use the following CPU instructions in performance-critical operations:  AVX2 FMA\n",
      "To enable them in other operations, rebuild TensorFlow with the appropriate compiler flags.\n"
     ]
    }
   ],
   "source": [
    "from keras.layers import Conv2D, MaxPooling2D\n",
    "tower_1 = Conv2D(64, (1,1), padding='same', activation='relu')(input_img)\n",
    "tower_1 = Conv2D(64, (3,3), padding='same', activation='relu')(tower_1)\n",
    "tower_2 = Conv2D(64, (1,1), padding='same', activation='relu')(input_img)\n",
    "tower_2 = Conv2D(64, (5,5), padding='same', activation='relu')(tower_2)\n",
    "tower_3 = MaxPooling2D((3,3), strides=(1,1), padding='same')(input_img)\n",
    "tower_3 = Conv2D(64, (1,1), padding='same', activation='relu')(tower_3)"
   ]
  },
  {
   "cell_type": "code",
   "execution_count": 15,
   "id": "strange-coordinate",
   "metadata": {},
   "outputs": [],
   "source": [
    "import keras"
   ]
  },
  {
   "cell_type": "code",
   "execution_count": 16,
   "id": "authentic-experience",
   "metadata": {},
   "outputs": [],
   "source": [
    "output = keras.layers.concatenate([tower_1, tower_2, tower_3], axis = 3)"
   ]
  },
  {
   "cell_type": "code",
   "execution_count": 17,
   "id": "instant-awareness",
   "metadata": {},
   "outputs": [],
   "source": [
    "from keras.layers import Flatten, Dense\n",
    "output = Flatten()(output)\n",
    "out    = Dense(10, activation='softmax')(output)"
   ]
  },
  {
   "cell_type": "code",
   "execution_count": 18,
   "id": "informative-logging",
   "metadata": {},
   "outputs": [],
   "source": [
    "from keras.models import Model\n",
    "model = Model(inputs = input_img, outputs = out)\n",
    "# print model.summary()"
   ]
  },
  {
   "cell_type": "code",
   "execution_count": 19,
   "id": "known-mainland",
   "metadata": {},
   "outputs": [
    {
     "name": "stdout",
     "output_type": "stream",
     "text": [
      "Model: \"model\"\n",
      "__________________________________________________________________________________________________\n",
      "Layer (type)                    Output Shape         Param #     Connected to                     \n",
      "==================================================================================================\n",
      "input_1 (InputLayer)            [(None, 32, 32, 3)]  0                                            \n",
      "__________________________________________________________________________________________________\n",
      "conv2d_1 (Conv2D)               (None, 32, 32, 64)   256         input_1[0][0]                    \n",
      "__________________________________________________________________________________________________\n",
      "conv2d_3 (Conv2D)               (None, 32, 32, 64)   256         input_1[0][0]                    \n",
      "__________________________________________________________________________________________________\n",
      "max_pooling2d (MaxPooling2D)    (None, 32, 32, 3)    0           input_1[0][0]                    \n",
      "__________________________________________________________________________________________________\n",
      "conv2d_2 (Conv2D)               (None, 32, 32, 64)   36928       conv2d_1[0][0]                   \n",
      "__________________________________________________________________________________________________\n",
      "conv2d_4 (Conv2D)               (None, 32, 32, 64)   102464      conv2d_3[0][0]                   \n",
      "__________________________________________________________________________________________________\n",
      "conv2d_5 (Conv2D)               (None, 32, 32, 64)   256         max_pooling2d[0][0]              \n",
      "__________________________________________________________________________________________________\n",
      "concatenate (Concatenate)       (None, 32, 32, 192)  0           conv2d_2[0][0]                   \n",
      "                                                                 conv2d_4[0][0]                   \n",
      "                                                                 conv2d_5[0][0]                   \n",
      "__________________________________________________________________________________________________\n",
      "flatten (Flatten)               (None, 196608)       0           concatenate[0][0]                \n",
      "__________________________________________________________________________________________________\n",
      "dense (Dense)                   (None, 10)           1966090     flatten[0][0]                    \n",
      "==================================================================================================\n",
      "Total params: 2,106,250\n",
      "Trainable params: 2,106,250\n",
      "Non-trainable params: 0\n",
      "__________________________________________________________________________________________________\n",
      "None\n"
     ]
    }
   ],
   "source": [
    "print(model.summary())"
   ]
  },
  {
   "cell_type": "code",
   "execution_count": 22,
   "id": "classified-quarterly",
   "metadata": {},
   "outputs": [
    {
     "name": "stdout",
     "output_type": "stream",
     "text": [
      "1563/1563 [==============================] - 270s 173ms/step - loss: 1.0319 - accuracy: 0.6425 - val_loss: 1.1121 - val_accuracy: 0.6128\n"
     ]
    },
    {
     "data": {
      "text/plain": [
       "<keras.callbacks.History at 0x7ffdcba7f8e0>"
      ]
     },
     "execution_count": 22,
     "metadata": {},
     "output_type": "execute_result"
    }
   ],
   "source": [
    "from tensorflow.keras.optimizers import SGD\n",
    "epochs = 1 #25 # use 1 for now, to speed up\n",
    "lrate = 0.01\n",
    "decay = lrate/epochs\n",
    "sgd = SGD(lr=lrate, momentum=0.9, decay=decay, nesterov=False)\n",
    "model.compile(loss='categorical_crossentropy', optimizer=sgd, metrics=['accuracy'])\n",
    "model.fit(X_train, y_train, validation_data=(X_test, y_test), epochs=epochs, batch_size=32)"
   ]
  },
  {
   "cell_type": "code",
   "execution_count": 23,
   "id": "tight-necessity",
   "metadata": {},
   "outputs": [],
   "source": [
    "# save output to a jason and h5 file\n",
    "# We can also store our model in a JSON file and store the results as HDF5 format.\n",
    "\n",
    "from keras.models import model_from_json\n",
    "import os\n",
    "model_json = model.to_json()\n",
    "with open(\"model.json\", \"w\") as json_file:\n",
    "    json_file.write(model_json)\n",
    "model.save_weights(os.path.join(os.getcwd(), 'model.h5'))"
   ]
  },
  {
   "cell_type": "code",
   "execution_count": 24,
   "id": "informed-teacher",
   "metadata": {},
   "outputs": [
    {
     "name": "stdout",
     "output_type": "stream",
     "text": [
      "Accuracy: 61.28%\n"
     ]
    }
   ],
   "source": [
    "scores = model.evaluate(X_test, y_test, verbose=0)\n",
    "print(\"Accuracy: %.2f%%\" % (scores[1]*100))"
   ]
  },
  {
   "cell_type": "markdown",
   "id": "devoted-pantyhose",
   "metadata": {},
   "source": [
    "### Example From Python Deep Learning Keras Book"
   ]
  },
  {
   "cell_type": "code",
   "execution_count": 1,
   "id": "bigger-agent",
   "metadata": {},
   "outputs": [
    {
     "ename": "NameError",
     "evalue": "name 'x' is not defined",
     "output_type": "error",
     "traceback": [
      "\u001b[0;31m---------------------------------------------------------------------------\u001b[0m",
      "\u001b[0;31mNameError\u001b[0m                                 Traceback (most recent call last)",
      "\u001b[0;32m/var/folders/l3/390_64zs7_3c075928zrlr2w0000gn/T/ipykernel_38955/1741492422.py\u001b[0m in \u001b[0;36m<module>\u001b[0;34m\u001b[0m\n\u001b[1;32m      2\u001b[0m \u001b[0;31m#In this branch, the striding occurs in the spatial convolution layer.\u001b[0m\u001b[0;34m\u001b[0m\u001b[0;34m\u001b[0m\u001b[0;34m\u001b[0m\u001b[0m\n\u001b[1;32m      3\u001b[0m branch_a = layers.Conv2D(128, 1,\n\u001b[0;32m----> 4\u001b[0;31m                          activation='relu', strides=2)(x)\n\u001b[0m\u001b[1;32m      5\u001b[0m \u001b[0mbranch_b\u001b[0m \u001b[0;34m=\u001b[0m \u001b[0mlayers\u001b[0m\u001b[0;34m.\u001b[0m\u001b[0mConv2D\u001b[0m\u001b[0;34m(\u001b[0m\u001b[0;36m128\u001b[0m\u001b[0;34m,\u001b[0m \u001b[0;36m1\u001b[0m\u001b[0;34m,\u001b[0m \u001b[0mactivation\u001b[0m\u001b[0;34m=\u001b[0m\u001b[0;34m'relu'\u001b[0m\u001b[0;34m)\u001b[0m\u001b[0;34m(\u001b[0m\u001b[0mx\u001b[0m\u001b[0;34m)\u001b[0m\u001b[0;34m\u001b[0m\u001b[0;34m\u001b[0m\u001b[0m\n\u001b[1;32m      6\u001b[0m \u001b[0mbranch_b\u001b[0m \u001b[0;34m=\u001b[0m \u001b[0mlayers\u001b[0m\u001b[0;34m.\u001b[0m\u001b[0mConv2D\u001b[0m\u001b[0;34m(\u001b[0m\u001b[0;36m128\u001b[0m\u001b[0;34m,\u001b[0m \u001b[0;36m3\u001b[0m\u001b[0;34m,\u001b[0m \u001b[0mactivation\u001b[0m\u001b[0;34m=\u001b[0m\u001b[0;34m'relu'\u001b[0m\u001b[0;34m,\u001b[0m \u001b[0mstrides\u001b[0m\u001b[0;34m=\u001b[0m\u001b[0;36m2\u001b[0m\u001b[0;34m)\u001b[0m\u001b[0;34m(\u001b[0m\u001b[0mbranch_b\u001b[0m\u001b[0;34m)\u001b[0m\u001b[0;34m\u001b[0m\u001b[0;34m\u001b[0m\u001b[0m\n",
      "\u001b[0;31mNameError\u001b[0m: name 'x' is not defined"
     ]
    }
   ],
   "source": [
    "from tensorflow.keras import layers\n",
    "#In this branch, the striding occurs in the spatial convolution layer.\n",
    "\n",
    "branch_a = layers.Conv2D(128, 1, activation='relu', strides=2)(x)\n",
    "branch_b = layers.Conv2D(128, 1, activation='relu')(x)\n",
    "branch_b = layers.Conv2D(128, 3, activation='relu', strides=2)(branch_b)\n",
    "branch_c = layers.AveragePooling2D(3, strides=2)(x)\n",
    "branch_c = layers.Conv2D(128, 3, activation='relu')(branch_c)\n",
    "branch_d = layers.Conv2D(128, 1, activation='relu')(x)\n",
    "branch_d = layers.Conv2D(128, 3, activation='relu')(branch_d)\n",
    "branch_d = layers.Conv2D(128, 3, activation='relu', strides=2)(branch_d)\n",
    "output = layers.concatenate([branch_a, branch_b, branch_c, branch_d], axis=-1)"
   ]
  },
  {
   "cell_type": "markdown",
   "id": "ideal-bennett",
   "metadata": {},
   "source": [
    "## Using Callbacks to Act On A Model During Training"
   ]
  },
  {
   "cell_type": "markdown",
   "id": "subjective-superintendent",
   "metadata": {},
   "source": [
    "When you’re training a model, there are many things you can’t predict from the start. In particular, you can’t tell how many epochs will be needed to get to an optimal vali- dation loss. The examples so far have adopted the strategy of training for enough epochs that you begin overfitting, using the first run to figure out the proper number of epochs to train for, and then finally launching a new training run from scratch using this optimal number. Of course, this approach is wasteful."
   ]
  },
  {
   "cell_type": "code",
   "execution_count": 1,
   "id": "included-library",
   "metadata": {},
   "outputs": [],
   "source": [
    "import keras"
   ]
  },
  {
   "cell_type": "markdown",
   "id": "greek-glossary",
   "metadata": {},
   "source": [
    "<ul>\n",
    "    <li>Interrupts training when improvement stops</li>\n",
    "    <li>Monitors the model’s validation accuracy</li>\n",
    "    <li>Patience: Interrupts training when accuracy has stopped improving for more than one epoch (that is, two epochs)</li>\n",
    "    <li>ModelCheckPoint: Saves the current weights after every epoch Path to the destination model file </li>\n",
    "    <li>Pass validation data when fit: Note that because the callback will monitor validation loss and validation accuracy, you need to pass validation_data to the call to fit. </li>\n",
    "</ul>"
   ]
  },
  {
   "cell_type": "code",
   "execution_count": 3,
   "id": "occupational-pressure",
   "metadata": {},
   "outputs": [],
   "source": [
    "callbacks_list = [\n",
    "        keras.callbacks.EarlyStopping(\n",
    "            monitor='acc',\n",
    "            patience=1,),\n",
    "        keras.callbacks.ModelCheckpoint(\n",
    "            filepath='my_model.h5',\n",
    "            monitor='val_loss',\n",
    "            save_best_only=True,)]"
   ]
  },
  {
   "cell_type": "markdown",
   "id": "electric-thunder",
   "metadata": {},
   "source": [
    "Copy a model, prepare data, otherwise you cannot run the book's code"
   ]
  },
  {
   "cell_type": "code",
   "execution_count": 20,
   "id": "naked-simple",
   "metadata": {},
   "outputs": [],
   "source": [
    "from tensorflow.keras.models import Sequential, Model\n",
    "from tensorflow.keras import layers\n",
    "from tensorflow.keras import Input"
   ]
  },
  {
   "cell_type": "code",
   "execution_count": 21,
   "id": "illegal-maryland",
   "metadata": {},
   "outputs": [],
   "source": [
    "input_tensor = Input(shape=(64,))\n",
    "x = layers.Dense(32, activation='relu')(input_tensor)\n",
    "x = layers.Dense(32, activation='relu')(x)\n",
    "output_tensor = layers.Dense(10, activation='softmax')(x)"
   ]
  },
  {
   "cell_type": "code",
   "execution_count": 22,
   "id": "tender-black",
   "metadata": {},
   "outputs": [],
   "source": [
    "model = Model(input_tensor, output_tensor) "
   ]
  },
  {
   "cell_type": "code",
   "execution_count": 23,
   "id": "personalized-forge",
   "metadata": {},
   "outputs": [],
   "source": [
    "\n",
    "model.compile(optimizer='rmsprop',\n",
    "              loss='binary_crossentropy',\n",
    "              metrics=['acc'])\n",
    "\n",
    "import numpy as np\n",
    "x = np.random.random((1000, 64)) # Return random floats in the half-open interval [0.0, 1.0). output shape is (1000, 64)\n",
    "y = np.random.random((1000, 10)) \n",
    "\n",
    "x_val = np.random.random((100, 64)) # Return random floats in the half-open interval [0.0, 1.0). output shape is (1000, 64)\n",
    "y_val = np.random.random((100, 10)) \n",
    "#score = model.evaluate(x_train, y_train)"
   ]
  },
  {
   "cell_type": "markdown",
   "id": "ranging-stone",
   "metadata": {},
   "source": [
    "The fit will stop after it sees the second \"drop\" in \"acc\"."
   ]
  },
  {
   "cell_type": "code",
   "execution_count": 25,
   "id": "useful-prophet",
   "metadata": {},
   "outputs": [
    {
     "name": "stdout",
     "output_type": "stream",
     "text": [
      "Epoch 1/10\n",
      "32/32 [==============================] - 0s 2ms/step - loss: 0.6905 - acc: 0.1180 - val_loss: 0.6961 - val_acc: 0.0800\n",
      "Epoch 2/10\n",
      "32/32 [==============================] - 0s 1ms/step - loss: 0.6902 - acc: 0.1210 - val_loss: 0.6955 - val_acc: 0.0600\n",
      "Epoch 3/10\n",
      "32/32 [==============================] - 0s 1ms/step - loss: 0.6898 - acc: 0.1360 - val_loss: 0.6956 - val_acc: 0.0700\n",
      "Epoch 4/10\n",
      "32/32 [==============================] - 0s 1ms/step - loss: 0.6895 - acc: 0.1240 - val_loss: 0.6957 - val_acc: 0.0600\n"
     ]
    },
    {
     "data": {
      "text/plain": [
       "<keras.callbacks.History at 0x7f9b38f7c7c0>"
      ]
     },
     "execution_count": 25,
     "metadata": {},
     "output_type": "execute_result"
    }
   ],
   "source": [
    "model.fit(x, y,\n",
    "          epochs=10,\n",
    "          batch_size=32,\n",
    "          callbacks=callbacks_list,\n",
    "          validation_data=(x_val, y_val))"
   ]
  },
  {
   "cell_type": "markdown",
   "id": "middle-browse",
   "metadata": {},
   "source": [
    "## TensorBoard"
   ]
  },
  {
   "cell_type": "code",
   "execution_count": 26,
   "id": "musical-quick",
   "metadata": {},
   "outputs": [],
   "source": [
    "import keras\n",
    "from keras import layers\n",
    "from keras.datasets import imdb"
   ]
  },
  {
   "cell_type": "code",
   "execution_count": 27,
   "id": "precise-series",
   "metadata": {},
   "outputs": [],
   "source": [
    "from keras.preprocessing import sequence"
   ]
  },
  {
   "cell_type": "code",
   "execution_count": 28,
   "id": "perfect-carrier",
   "metadata": {},
   "outputs": [],
   "source": [
    "max_features = 2000\n",
    "max_len = 500"
   ]
  },
  {
   "cell_type": "code",
   "execution_count": 30,
   "id": "color-attack",
   "metadata": {},
   "outputs": [],
   "source": [
    "(x_train, y_train), (x_test, y_test) = imdb.load_data(num_words=max_features) \n",
    "x_train = sequence.pad_sequences(x_train, maxlen=max_len)\n",
    "x_test = sequence.pad_sequences(x_test, maxlen=max_len)"
   ]
  },
  {
   "cell_type": "code",
   "execution_count": 31,
   "id": "certified-casino",
   "metadata": {},
   "outputs": [
    {
     "name": "stdout",
     "output_type": "stream",
     "text": [
      "Model: \"sequential\"\n",
      "_________________________________________________________________\n",
      "Layer (type)                 Output Shape              Param #   \n",
      "=================================================================\n",
      "embed (Embedding)            (None, 500, 128)          256000    \n",
      "_________________________________________________________________\n",
      "conv1d (Conv1D)              (None, 494, 32)           28704     \n",
      "_________________________________________________________________\n",
      "max_pooling1d (MaxPooling1D) (None, 98, 32)            0         \n",
      "_________________________________________________________________\n",
      "conv1d_1 (Conv1D)            (None, 92, 32)            7200      \n",
      "_________________________________________________________________\n",
      "global_max_pooling1d (Global (None, 32)                0         \n",
      "_________________________________________________________________\n",
      "dense_9 (Dense)              (None, 1)                 33        \n",
      "=================================================================\n",
      "Total params: 291,937\n",
      "Trainable params: 291,937\n",
      "Non-trainable params: 0\n",
      "_________________________________________________________________\n"
     ]
    }
   ],
   "source": [
    "model = keras.models.Sequential()\n",
    "model.add(layers.Embedding(max_features, 128,\n",
    "                           input_length=max_len,\n",
    "                           name='embed'))\n",
    "model.add(layers.Conv1D(32, 7, activation='relu'))\n",
    "model.add(layers.MaxPooling1D(5))\n",
    "model.add(layers.Conv1D(32, 7, activation='relu'))\n",
    "model.add(layers.GlobalMaxPooling1D())\n",
    "model.add(layers.Dense(1))\n",
    "model.summary()\n",
    "model.compile(optimizer='rmsprop',\n",
    "              loss='binary_crossentropy',\n",
    "              metrics=['acc'])"
   ]
  },
  {
   "cell_type": "code",
   "execution_count": 32,
   "id": "acoustic-enlargement",
   "metadata": {},
   "outputs": [
    {
     "name": "stderr",
     "output_type": "stream",
     "text": [
      "2021-11-06 02:16:57.033096: I tensorflow/core/profiler/lib/profiler_session.cc:131] Profiler session initializing.\n",
      "2021-11-06 02:16:57.033107: I tensorflow/core/profiler/lib/profiler_session.cc:146] Profiler session started.\n",
      "2021-11-06 02:16:57.034925: I tensorflow/core/profiler/lib/profiler_session.cc:164] Profiler session tear down.\n"
     ]
    }
   ],
   "source": [
    "# callback with TensorBoard\n",
    "callbacks = [\n",
    "    keras.callbacks.TensorBoard(\n",
    "        log_dir='my_log_dir',\n",
    "        histogram_freq=1,\n",
    "        embeddings_freq=1,\n",
    ") ]"
   ]
  },
  {
   "cell_type": "code",
   "execution_count": 33,
   "id": "romance-hypothetical",
   "metadata": {
    "collapsed": true
   },
   "outputs": [
    {
     "name": "stdout",
     "output_type": "stream",
     "text": [
      "Epoch 1/20\n",
      "  2/157 [..............................] - ETA: 24s - loss: 8.1342 - acc: 0.4727 "
     ]
    },
    {
     "name": "stderr",
     "output_type": "stream",
     "text": [
      "2021-11-06 02:17:25.662408: I tensorflow/core/profiler/lib/profiler_session.cc:131] Profiler session initializing.\n",
      "2021-11-06 02:17:25.662423: I tensorflow/core/profiler/lib/profiler_session.cc:146] Profiler session started.\n",
      "2021-11-06 02:17:25.801779: I tensorflow/core/profiler/lib/profiler_session.cc:66] Profiler session collecting data.\n",
      "2021-11-06 02:17:25.811513: I tensorflow/core/profiler/lib/profiler_session.cc:164] Profiler session tear down.\n",
      "2021-11-06 02:17:25.821207: I tensorflow/core/profiler/rpc/client/save_profile.cc:136] Creating directory: my_log_dir/train/plugins/profile/2021_11_06_02_17_25\n",
      "\n",
      "2021-11-06 02:17:25.824509: I tensorflow/core/profiler/rpc/client/save_profile.cc:142] Dumped gzipped tool data for trace.json.gz to my_log_dir/train/plugins/profile/2021_11_06_02_17_25/juns-Mac-mini.local.trace.json.gz\n",
      "2021-11-06 02:17:25.836532: I tensorflow/core/profiler/rpc/client/save_profile.cc:136] Creating directory: my_log_dir/train/plugins/profile/2021_11_06_02_17_25\n",
      "\n",
      "2021-11-06 02:17:25.836789: I tensorflow/core/profiler/rpc/client/save_profile.cc:142] Dumped gzipped tool data for memory_profile.json.gz to my_log_dir/train/plugins/profile/2021_11_06_02_17_25/juns-Mac-mini.local.memory_profile.json.gz\n",
      "2021-11-06 02:17:25.838189: I tensorflow/core/profiler/rpc/client/capture_profile.cc:251] Creating directory: my_log_dir/train/plugins/profile/2021_11_06_02_17_25\n",
      "Dumped tool data for xplane.pb to my_log_dir/train/plugins/profile/2021_11_06_02_17_25/juns-Mac-mini.local.xplane.pb\n",
      "Dumped tool data for overview_page.pb to my_log_dir/train/plugins/profile/2021_11_06_02_17_25/juns-Mac-mini.local.overview_page.pb\n",
      "Dumped tool data for input_pipeline.pb to my_log_dir/train/plugins/profile/2021_11_06_02_17_25/juns-Mac-mini.local.input_pipeline.pb\n",
      "Dumped tool data for tensorflow_stats.pb to my_log_dir/train/plugins/profile/2021_11_06_02_17_25/juns-Mac-mini.local.tensorflow_stats.pb\n",
      "Dumped tool data for kernel_stats.pb to my_log_dir/train/plugins/profile/2021_11_06_02_17_25/juns-Mac-mini.local.kernel_stats.pb\n",
      "\n"
     ]
    },
    {
     "name": "stdout",
     "output_type": "stream",
     "text": [
      "157/157 [==============================] - 23s 140ms/step - loss: 0.7199 - acc: 0.6903 - val_loss: 0.7376 - val_acc: 0.7654\n",
      "Epoch 2/20\n",
      "157/157 [==============================] - 21s 135ms/step - loss: 0.4225 - acc: 0.8558 - val_loss: 0.4511 - val_acc: 0.8576\n",
      "Epoch 3/20\n",
      "157/157 [==============================] - 22s 138ms/step - loss: 0.3796 - acc: 0.8806 - val_loss: 0.6575 - val_acc: 0.8224\n",
      "Epoch 4/20\n",
      "157/157 [==============================] - 23s 146ms/step - loss: 0.3491 - acc: 0.8965 - val_loss: 0.4726 - val_acc: 0.8710\n",
      "Epoch 5/20\n",
      "157/157 [==============================] - 22s 142ms/step - loss: 0.2958 - acc: 0.9190 - val_loss: 0.5809 - val_acc: 0.8632\n",
      "Epoch 6/20\n",
      "157/157 [==============================] - 23s 148ms/step - loss: 0.2460 - acc: 0.9402 - val_loss: 0.6006 - val_acc: 0.8750\n",
      "Epoch 7/20\n",
      "157/157 [==============================] - 25s 158ms/step - loss: 0.2030 - acc: 0.9531 - val_loss: 0.8076 - val_acc: 0.8570\n",
      "Epoch 8/20\n",
      "157/157 [==============================] - 21s 131ms/step - loss: 0.1649 - acc: 0.9708 - val_loss: 0.7675 - val_acc: 0.8692\n",
      "Epoch 9/20\n",
      "157/157 [==============================] - 20s 128ms/step - loss: 0.1434 - acc: 0.9804 - val_loss: 1.3859 - val_acc: 0.8120\n",
      "Epoch 10/20\n",
      "157/157 [==============================] - 22s 139ms/step - loss: 0.1253 - acc: 0.9845 - val_loss: 1.2323 - val_acc: 0.8404\n",
      "Epoch 11/20\n",
      "157/157 [==============================] - 22s 141ms/step - loss: 0.1190 - acc: 0.9870 - val_loss: 1.0149 - val_acc: 0.8694\n",
      "Epoch 12/20\n",
      "157/157 [==============================] - 23s 146ms/step - loss: 0.1115 - acc: 0.9891 - val_loss: 1.1139 - val_acc: 0.8638\n",
      "Epoch 13/20\n",
      "157/157 [==============================] - 19s 123ms/step - loss: 0.1044 - acc: 0.9908 - val_loss: 1.0761 - val_acc: 0.8704\n",
      "Epoch 14/20\n",
      "157/157 [==============================] - 19s 124ms/step - loss: 0.1036 - acc: 0.9909 - val_loss: 1.1164 - val_acc: 0.8660\n",
      "Epoch 15/20\n",
      "157/157 [==============================] - 20s 126ms/step - loss: 0.1024 - acc: 0.9901 - val_loss: 1.1446 - val_acc: 0.8674\n",
      "Epoch 16/20\n",
      "157/157 [==============================] - 19s 124ms/step - loss: 0.1003 - acc: 0.9912 - val_loss: 1.1379 - val_acc: 0.8692\n",
      "Epoch 17/20\n",
      "157/157 [==============================] - 19s 124ms/step - loss: 0.1012 - acc: 0.9914 - val_loss: 1.1751 - val_acc: 0.8704\n",
      "Epoch 18/20\n",
      "157/157 [==============================] - 20s 129ms/step - loss: 0.1004 - acc: 0.9914 - val_loss: 1.1873 - val_acc: 0.8698\n",
      "Epoch 19/20\n",
      "157/157 [==============================] - 21s 134ms/step - loss: 0.1003 - acc: 0.9912 - val_loss: 1.2207 - val_acc: 0.8706\n",
      "Epoch 20/20\n",
      "157/157 [==============================] - 20s 128ms/step - loss: 0.0985 - acc: 0.9920 - val_loss: 1.3012 - val_acc: 0.8668\n"
     ]
    }
   ],
   "source": [
    "history = model.fit(x_train, y_train,\n",
    "                    epochs=20,\n",
    "                    batch_size=128,\n",
    "                    validation_split=0.2,\n",
    "                    callbacks=callbacks)"
   ]
  },
  {
   "cell_type": "markdown",
   "id": "legislative-protein",
   "metadata": {},
   "source": [
    "Plot the model (flowchart)"
   ]
  },
  {
   "cell_type": "code",
   "execution_count": 35,
   "id": "emotional-native",
   "metadata": {},
   "outputs": [
    {
     "data": {
      "image/png": "[encoded data removed]",
      "text/plain": [
       "<IPython.core.display.Image object>"
      ]
     },
     "execution_count": 35,
     "metadata": {},
     "output_type": "execute_result"
    }
   ],
   "source": [
    "from tensorflow.keras.utils import plot_model\n",
    "plot_model(model, to_file='model.png')\n",
    "\n",
    "# model = keras.models.Sequential()\n",
    "# model.add(layers.Embedding(max_features, 128,\n",
    "#                            input_length=max_len,\n",
    "#                            name='embed'))\n",
    "# model.add(layers.Conv1D(32, 7, activation='relu'))\n",
    "# model.add(layers.MaxPooling1D(5))\n",
    "# model.add(layers.Conv1D(32, 7, activation='relu'))\n",
    "# model.add(layers.GlobalMaxPooling1D())\n",
    "# model.add(layers.Dense(1))\n",
    "# model.summary()"
   ]
  },
  {
   "cell_type": "code",
   "execution_count": 36,
   "id": "flexible-singles",
   "metadata": {},
   "outputs": [
    {
     "data": {
      "image/png": "[encoded data removed]",
      "text/plain": [
       "<IPython.core.display.Image object>"
      ]
     },
     "execution_count": 36,
     "metadata": {},
     "output_type": "execute_result"
    }
   ],
   "source": [
    "#from keras.utils import plot_model\n",
    "plot_model(model, show_shapes=True, to_file='model.png')"
   ]
  },
  {
   "cell_type": "markdown",
   "id": "fatal-mount",
   "metadata": {},
   "source": [
    "## SeparableCon2D"
   ]
  },
  {
   "cell_type": "markdown",
   "id": "hispanic-border",
   "metadata": {},
   "source": [
    "What if I told you that there’s a layer you can use as a drop-in replacement for Conv2D that will make your model lighter (fewer trainable weight parameters) and faster (fewer floating-point operations) and cause it to perform a few percentage points bet- ter on its task? That is precisely what the depthwise separable convolution layer does (SeparableConv2D). This layer performs a spatial convolution on each channel of its input, independently, before mixing output channels via a pointwise convolution (a 1 × 1 convolution), as shown in figure 7.16. This is equivalent to separating the learn- ing of spatial features and the learning of channel-wise features, which makes a lot of sense if you assume that spatial locations in the input are highly correlated, but differ- ent channels are fairly independent. It requires significantly fewer parameters and involves fewer computations, thus resulting in smaller, speedier models. And because it’s a more representationally efficient way to perform convolution, it tends to learn better representations using less data, resulting in better-performing models."
   ]
  },
  {
   "cell_type": "code",
   "execution_count": 38,
   "id": "steady-holly",
   "metadata": {},
   "outputs": [
    {
     "name": "stdout",
     "output_type": "stream",
     "text": [
      "[[0 1 2]\n",
      " [3 4 5]]\n",
      "5\n",
      "[1 1 1]\n",
      "[2 2]\n"
     ]
    }
   ],
   "source": [
    "a = np.arange(6).reshape(2,3) \n",
    "print(a)\n",
    "\n",
    "print(np.argmax(a))\n",
    "\n",
    "print(np.argmax(a, axis=0))\n",
    "#array([1, 1, 1])\n",
    "print(np.argmax(a, axis=1))\n",
    "#array([2, 2])"
   ]
  },
  {
   "cell_type": "code",
   "execution_count": null,
   "id": "israeli-bottom",
   "metadata": {},
   "outputs": [],
   "source": []
  }
 ],
 "metadata": {
  "kernelspec": {
   "display_name": "env",
   "language": "python",
   "name": "env"
  },
  "language_info": {
   "codemirror_mode": {
    "name": "ipython",
    "version": 3
   },
   "file_extension": ".py",
   "mimetype": "text/x-python",
   "name": "python",
   "nbconvert_exporter": "python",
   "pygments_lexer": "ipython3",
   "version": "3.9.1"
  },
  "toc": {
   "colors": {
    "hover_highlight": "#DAA520",
    "running_highlight": "#FF0000",
    "selected_highlight": "#FFD700"
   },
   "moveMenuLeft": true,
   "nav_menu": {
    "height": "99px",
    "width": "252px"
   },
   "navigate_menu": true,
   "number_sections": true,
   "sideBar": true,
   "threshold": 4,
   "toc_cell": true,
   "toc_position": {
    "height": "761px",
    "left": "0px",
    "right": "1708px",
    "top": "110px",
    "width": "212px"
   },
   "toc_section_display": "block",
   "toc_window_display": true,
   "widenNotebook": false
  }
 },
 "nbformat": 4,
 "nbformat_minor": 5
}
