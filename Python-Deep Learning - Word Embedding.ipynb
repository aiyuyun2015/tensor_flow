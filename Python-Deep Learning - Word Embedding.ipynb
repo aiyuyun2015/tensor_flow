{
 "cells": [
  {
   "cell_type": "markdown",
   "id": "functioning-purple",
   "metadata": {
    "toc": "true"
   },
   "source": [
    "# Table of Contents\n",
    " <p><div class=\"lev1 toc-item\"><a href=\"#Example-1\" data-toc-modified-id=\"Example-1-1\"><span class=\"toc-item-num\">1&nbsp;&nbsp;</span>Example-1</a></div><div class=\"lev2 toc-item\"><a href=\"#One-hot-Coding\" data-toc-modified-id=\"One-hot-Coding-11\"><span class=\"toc-item-num\">1.1&nbsp;&nbsp;</span>One-hot Coding</a></div><div class=\"lev3 toc-item\"><a href=\"#Use-Keras-for-Word-Level-One-hot-Encoding\" data-toc-modified-id=\"Use-Keras-for-Word-Level-One-hot-Encoding-111\"><span class=\"toc-item-num\">1.1.1&nbsp;&nbsp;</span>Use Keras for Word Level One-hot Encoding</a></div><div class=\"lev2 toc-item\"><a href=\"#Embeding-Words\" data-toc-modified-id=\"Embeding-Words-12\"><span class=\"toc-item-num\">1.2&nbsp;&nbsp;</span>Embeding Words</a></div><div class=\"lev2 toc-item\"><a href=\"#IMDB-Example\" data-toc-modified-id=\"IMDB-Example-13\"><span class=\"toc-item-num\">1.3&nbsp;&nbsp;</span>IMDB Example</a></div><div class=\"lev2 toc-item\"><a href=\"#IMDB-again,-but-Raw-Text\" data-toc-modified-id=\"IMDB-again,-but-Raw-Text-14\"><span class=\"toc-item-num\">1.4&nbsp;&nbsp;</span>IMDB again, but Raw Text</a></div><div class=\"lev3 toc-item\"><a href=\"#Load-IMBD-Raw-Data\" data-toc-modified-id=\"Load-IMBD-Raw-Data-141\"><span class=\"toc-item-num\">1.4.1&nbsp;&nbsp;</span>Load IMBD Raw Data</a></div><div class=\"lev3 toc-item\"><a href=\"#Use-only-a-Very-Small-Training-Sample-Set\" data-toc-modified-id=\"Use-only-a-Very-Small-Training-Sample-Set-142\"><span class=\"toc-item-num\">1.4.2&nbsp;&nbsp;</span>Use only a Very Small Training Sample Set</a></div><div class=\"lev3 toc-item\"><a href=\"#Get-the-Pre-trained-Word-Embedding\" data-toc-modified-id=\"Get-the-Pre-trained-Word-Embedding-143\"><span class=\"toc-item-num\">1.4.3&nbsp;&nbsp;</span>Get the Pre-trained Word Embedding</a></div><div class=\"lev3 toc-item\"><a href=\"#Prepare-Model-(Not-RNN)\" data-toc-modified-id=\"Prepare-Model-(Not-RNN)-144\"><span class=\"toc-item-num\">1.4.4&nbsp;&nbsp;</span>Prepare Model (Not RNN)</a></div><div class=\"lev3 toc-item\"><a href=\"#Add-the-Pre-trained-Embedding-Matrix-and-Fix-it\" data-toc-modified-id=\"Add-the-Pre-trained-Embedding-Matrix-and-Fix-it-145\"><span class=\"toc-item-num\">1.4.5&nbsp;&nbsp;</span>Add the Pre-trained Embedding Matrix and Fix it</a></div><div class=\"lev2 toc-item\"><a href=\"#RNN\" data-toc-modified-id=\"RNN-15\"><span class=\"toc-item-num\">1.5&nbsp;&nbsp;</span>RNN</a></div>"
   ]
  },
  {
   "cell_type": "markdown",
   "id": "first-recommendation",
   "metadata": {},
   "source": [
    "# Example-1"
   ]
  },
  {
   "cell_type": "markdown",
   "id": "aerial-validation",
   "metadata": {},
   "source": [
    "## One-hot Coding"
   ]
  },
  {
   "cell_type": "markdown",
   "id": "unique-flavor",
   "metadata": {},
   "source": [
    "What the author did here is not conventional. (rwo and column are flipped?) \n",
    "- Suppose we have a dictionary, that includes {word:index, ...,}, and $size = len(dict)$.\n",
    "- Then the word appears in our sample(training), can find it's index in our dictionary\n",
    "    $\\begin{pmatrix}\n",
    "The_{102}\\\\ \n",
    "Cat_{333}\\\\ \n",
    "...\\\\ \n",
    "\\\\ \n",
    "..\\\\ \n",
    "\\end{pmatrix}$\n",
    "\n",
    "- The idea is to convert the vector as shown below to one hot encoding, note the maximum length needs to be determined by us (programmer).\n",
    "If the length of the sentence is greater than maximum lenght, it gets truncated. Then the matrix becomes \n",
    "\n",
    "$shape = m, maxLen, size + 1$, the first sentence, e.g., has each column represent one word \"The\", \"cat\", etc.\n",
    "\n",
    "$\n",
    "\\begin{pmatrix}\n",
    "0&0 & .. &..  & ..\\\\ \n",
    "0&0 & .. &..  & ..\\\\ \n",
    "0&... &..  &..  &.. \\\\ \n",
    "0&1 & .. & .. &.. \\\\ \n",
    "0&... & .. & .. &.. \\\\ \n",
    "0&0 & .. &..  & ..\n",
    "\\end{pmatrix}\n",
    "$\n",
    "\n",
    "Note, the first column is 0 in the author's setup, that's why the matrix has a column number = size + 1.\n",
    "\n",
    "Note: each row is a word."
   ]
  },
  {
   "cell_type": "code",
   "execution_count": 1,
   "id": "ethical-remove",
   "metadata": {},
   "outputs": [],
   "source": [
    "import numpy as np"
   ]
  },
  {
   "cell_type": "code",
   "execution_count": 2,
   "id": "subsequent-howard",
   "metadata": {},
   "outputs": [
    {
     "name": "stdout",
     "output_type": "stream",
     "text": [
      "{'The': 1, 'cat': 2, 'sat': 3, 'on': 4, 'the': 5, 'mat.': 6, 'dog': 7, 'ate': 8, 'my': 9, 'homework.': 10}\n"
     ]
    }
   ],
   "source": [
    "samples = ['The cat sat on the mat.', 'The dog ate my homework.']\n",
    "\n",
    "# Create dictionary with index, starting from 1\n",
    "token_index = {}\n",
    "for sample in samples:\n",
    "    for word in sample.split():\n",
    "        if word not in token_index:\n",
    "            token_index[word] = len(token_index) + 1\n",
    "\n",
    "print(token_index)"
   ]
  },
  {
   "cell_type": "code",
   "execution_count": 3,
   "id": "mineral-patrol",
   "metadata": {},
   "outputs": [],
   "source": [
    "max_length = 10"
   ]
  },
  {
   "cell_type": "code",
   "execution_count": 4,
   "id": "extraordinary-rover",
   "metadata": {},
   "outputs": [
    {
     "data": {
      "text/plain": [
       "'The cat sat on the mat.'"
      ]
     },
     "execution_count": 4,
     "metadata": {},
     "output_type": "execute_result"
    }
   ],
   "source": [
    "samples[0]"
   ]
  },
  {
   "cell_type": "code",
   "execution_count": 5,
   "id": "equipped-radius",
   "metadata": {},
   "outputs": [
    {
     "name": "stdout",
     "output_type": "stream",
     "text": [
      "[(0, 'The'), (1, 'cat'), (2, 'sat'), (3, 'on'), (4, 'the'), (5, 'mat.')]\n"
     ]
    }
   ],
   "source": [
    "print(list(enumerate(samples[0].split()))[:max_length])"
   ]
  },
  {
   "cell_type": "code",
   "execution_count": 21,
   "id": "stopped-sixth",
   "metadata": {},
   "outputs": [
    {
     "name": "stdout",
     "output_type": "stream",
     "text": [
      "The 0 1\n",
      "cat 1 2\n",
      "sat 2 3\n",
      "on 3 4\n",
      "the 4 5\n",
      "mat. 5 6\n",
      "The 0 1\n",
      "dog 1 7\n",
      "ate 2 8\n",
      "my 3 9\n",
      "homework. 4 10\n"
     ]
    }
   ],
   "source": [
    "results = np.zeros(shape=(len(samples),\n",
    "                          max_length,\n",
    "                          max(token_index.values()) + 1))\n",
    "for i, sample in enumerate(samples):\n",
    "    for j, word in list(enumerate(sample.split()))[:max_length]: # max_length is used to truncate a very long sentence.\n",
    "        index = token_index.get(word)\n",
    "        print(word, j, index)\n",
    "        results[i, j, index] = 1"
   ]
  },
  {
   "cell_type": "code",
   "execution_count": 125,
   "id": "material-creativity",
   "metadata": {},
   "outputs": [
    {
     "data": {
      "text/plain": [
       "{'The': 1,\n",
       " 'cat': 2,\n",
       " 'sat': 3,\n",
       " 'on': 4,\n",
       " 'the': 5,\n",
       " 'mat.': 6,\n",
       " 'dog': 7,\n",
       " 'ate': 8,\n",
       " 'my': 9,\n",
       " 'homework.': 10}"
      ]
     },
     "execution_count": 125,
     "metadata": {},
     "output_type": "execute_result"
    }
   ],
   "source": [
    "token_index"
   ]
  },
  {
   "cell_type": "code",
   "execution_count": 126,
   "id": "bronze-landing",
   "metadata": {},
   "outputs": [
    {
     "data": {
      "text/plain": [
       "array([[0., 1., 0., 0., 0., 0., 0., 0., 0., 0., 0.],\n",
       "       [0., 0., 0., 0., 0., 0., 0., 1., 0., 0., 0.],\n",
       "       [0., 0., 0., 0., 0., 0., 0., 0., 1., 0., 0.],\n",
       "       [0., 0., 0., 0., 0., 0., 0., 0., 0., 1., 0.],\n",
       "       [0., 0., 0., 0., 0., 0., 0., 0., 0., 0., 1.],\n",
       "       [0., 0., 0., 0., 0., 0., 0., 0., 0., 0., 0.],\n",
       "       [0., 0., 0., 0., 0., 0., 0., 0., 0., 0., 0.],\n",
       "       [0., 0., 0., 0., 0., 0., 0., 0., 0., 0., 0.],\n",
       "       [0., 0., 0., 0., 0., 0., 0., 0., 0., 0., 0.],\n",
       "       [0., 0., 0., 0., 0., 0., 0., 0., 0., 0., 0.]])"
      ]
     },
     "execution_count": 126,
     "metadata": {},
     "output_type": "execute_result"
    }
   ],
   "source": [
    "results[1]"
   ]
  },
  {
   "cell_type": "markdown",
   "id": "characteristic-insurance",
   "metadata": {},
   "source": [
    "### Use Keras for Word Level One-hot Encoding"
   ]
  },
  {
   "cell_type": "code",
   "execution_count": 23,
   "id": "cross-trauma",
   "metadata": {},
   "outputs": [],
   "source": [
    "from tensorflow.keras.preprocessing.text import Tokenizer"
   ]
  },
  {
   "cell_type": "code",
   "execution_count": 40,
   "id": "continent-watson",
   "metadata": {},
   "outputs": [
    {
     "name": "stdout",
     "output_type": "stream",
     "text": [
      "<keras_preprocessing.text.Tokenizer object at 0x7fa4ee9e9ee0>\n",
      "[[1, 2, 3, 4, 1, 5], [1, 6, 7, 8, 9]]\n",
      "[[0. 1. 1. ... 0. 0. 0.]\n",
      " [0. 1. 0. ... 0. 0. 0.]]\n",
      "(2, 1000)\n",
      "Found 9 unique tokens.\n"
     ]
    }
   ],
   "source": [
    "samples = ['The cat sat on the mat.', 'The dog ate my homework.']\n",
    "\n",
    "tokenizer = Tokenizer(num_words=1000)\n",
    "\n",
    "print(tokenizer)\n",
    "\n",
    "tokenizer.fit_on_texts(samples)\n",
    "\n",
    "sequences = tokenizer.texts_to_sequences(samples)\n",
    "\n",
    "print(sequences)\n",
    "\n",
    "one_hot_results = tokenizer.texts_to_matrix(samples, mode='binary')\n",
    "\n",
    "print(one_hot_results)\n",
    "\n",
    "print(one_hot_results.shape)\n",
    "\n",
    "word_index = tokenizer.word_index\n",
    "\n",
    "print('Found %s unique tokens.' % len(word_index))\n"
   ]
  },
  {
   "cell_type": "markdown",
   "id": "ongoing-cedar",
   "metadata": {},
   "source": [
    "## Embeding Words"
   ]
  },
  {
   "cell_type": "markdown",
   "id": "regulated-institution",
   "metadata": {},
   "source": [
    "## IMDB Example"
   ]
  },
  {
   "cell_type": "code",
   "execution_count": 6,
   "id": "manufactured-container",
   "metadata": {},
   "outputs": [],
   "source": [
    "from tensorflow.keras.datasets import imdb\n",
    "from tensorflow.keras import preprocessing"
   ]
  },
  {
   "cell_type": "code",
   "execution_count": 7,
   "id": "subsequent-report",
   "metadata": {},
   "outputs": [],
   "source": [
    "max_features = 10000\n",
    "maxlen = 20"
   ]
  },
  {
   "cell_type": "markdown",
   "id": "directed-space",
   "metadata": {},
   "source": [
    "- Just like the MNIST dataset, the IMDB dataset comes packaged with Keras. It has already been preprocessed: the reviews (sequences of words) have been turned into sequences of integers, where each integer stands for a specific word in a dictionary.\n",
    "- The argument num_words=10000 means you’ll only keep the top 10,000 most fre- quently occurring words in the training data. Rare words will be discarded. This allows you to work with vector data of manageable size.\n",
    "- y_train is either \"positive\" or \"negative\", alternatilvey, 1 or 0, respectively."
   ]
  },
  {
   "cell_type": "code",
   "execution_count": 9,
   "id": "fabulous-thomas",
   "metadata": {
    "scrolled": true
   },
   "outputs": [
    {
     "name": "stdout",
     "output_type": "stream",
     "text": [
      "(25000,)\n",
      "218\n",
      "(25000,)\n",
      "1\n"
     ]
    }
   ],
   "source": [
    "(x_train, y_train), (x_test, y_test) = imdb.load_data( num_words=max_features)\n",
    "\n",
    "print(x_train.shape)\n",
    "print(len(x_train[0]))\n",
    "print(y_train.shape)\n",
    "print(y_train[0])"
   ]
  },
  {
   "cell_type": "markdown",
   "id": "light-suicide",
   "metadata": {},
   "source": [
    "Because you’re restricting yourself to the top 10,000 most frequent words, no word\n",
    "index will exceed 10,000:"
   ]
  },
  {
   "cell_type": "code",
   "execution_count": 102,
   "id": "legendary-charlotte",
   "metadata": {},
   "outputs": [
    {
     "name": "stdout",
     "output_type": "stream",
     "text": [
      "9999\n",
      "? big hair big boobs bad music and a giant safety pin these are the words to best describe this terrible movie i love cheesy horror movies and i've seen hundreds but this had got to be on of the worst ever made the plot is paper thin and ridiculous the acting is an abomination the script is completely laughable the best is the end showdown with the cop and how he worked out who the killer is it's just so damn terribly written the clothes are sickening and funny in equal ? the hair is big lots of boobs ? men wear those cut ? shirts that show off their ? sickening that men actually wore them and the music is just ? trash that plays over and over again in almost every scene there is trashy music boobs and ? taking away bodies and the gym still doesn't close for ? all joking aside this is a truly bad film whose only charm is to look back on the disaster that was the 80's and have a good old laugh at how bad everything was back then\n"
     ]
    }
   ],
   "source": [
    "print(max([max(sequence) for sequence in x_train]))\n",
    "\n",
    "# Add a function to see what's inside\n",
    "def decode_int_to_sentence(x):\n",
    "    word_index = imdb.get_word_index()\n",
    "    # word_index is a dictionary mapping words to an integer index.\n",
    "    reverse_word_index = dict(\n",
    "        [(value, key) for (key, value) in word_index.items()])\n",
    "    decoded_review = ' '.join(\n",
    "        [reverse_word_index.get(i - 3, '?') for i in x])\n",
    "    return decoded_review\n",
    "\n",
    "print(decode_int_to_sentence(x_train[1]))"
   ]
  },
  {
   "cell_type": "code",
   "execution_count": 103,
   "id": "front-compact",
   "metadata": {},
   "outputs": [],
   "source": [
    "# https://www.tensorflow.org/api_docs/python/tf/keras/preprocessing/sequence/pad_sequences\n",
    "# Example, \n",
    "#tf.keras.preprocessing.sequence.pad_sequences(\n",
    "#    sequences, maxlen=None, dtype='int32', padding='pre',\n",
    "#    truncating='pre', value=0.0\n",
    "#)\n",
    "# sequences is iterable, each sequence inside the sequences will be padded with some values\n",
    "# value --> set the padding value\n",
    "# padding/truncating --> meaning, either padding pre or post\n",
    "# return --> Numpy array with shape (len(sequences), maxlen)\n",
    "\n",
    "x_train_new = preprocessing.sequence.pad_sequences(x_train, maxlen=maxlen)\n",
    "x_test_new = preprocessing.sequence.pad_sequences(x_test, maxlen=maxlen)"
   ]
  },
  {
   "cell_type": "code",
   "execution_count": 104,
   "id": "disabled-metallic",
   "metadata": {},
   "outputs": [
    {
     "name": "stdout",
     "output_type": "stream",
     "text": [
      "(25000,)\n"
     ]
    }
   ],
   "source": [
    "print(x_train.shape)"
   ]
  },
  {
   "cell_type": "code",
   "execution_count": 105,
   "id": "floating-suspect",
   "metadata": {},
   "outputs": [
    {
     "name": "stdout",
     "output_type": "stream",
     "text": [
      "(25000, 20)\n"
     ]
    }
   ],
   "source": [
    "print(x_train_new.shape)"
   ]
  },
  {
   "cell_type": "code",
   "execution_count": 108,
   "id": "personalized-classification",
   "metadata": {},
   "outputs": [],
   "source": [
    "from tensorflow.keras.models import Sequential \n",
    "from tensorflow.keras.layers import Flatten, Dense\n",
    "from tensorflow.keras.layers import Embedding"
   ]
  },
  {
   "cell_type": "code",
   "execution_count": null,
   "id": "twelve-steam",
   "metadata": {},
   "outputs": [],
   "source": [
    "embedding_layer = Embedding(1000, 64)"
   ]
  },
  {
   "cell_type": "code",
   "execution_count": 123,
   "id": "enabling-price",
   "metadata": {},
   "outputs": [
    {
     "data": {
      "text/plain": [
       "<tensorflow.python.keras.layers.embeddings.Embedding at 0x7fa4ee9f8e50>"
      ]
     },
     "execution_count": 123,
     "metadata": {},
     "output_type": "execute_result"
    }
   ],
   "source": [
    "embedding_layer"
   ]
  },
  {
   "cell_type": "code",
   "execution_count": null,
   "id": "amended-family",
   "metadata": {},
   "outputs": [],
   "source": [
    "model = Sequential()\n",
    "model.add(Embedding(10000, 8, input_length=maxlen))\n",
    "\n",
    "model.add(Flatten())\n",
    "model.add(Dense(1, activation='sigmoid')) "
   ]
  },
  {
   "cell_type": "markdown",
   "id": "substantial-rebel",
   "metadata": {},
   "source": [
    "But note that merely flattening the embedded sequences and training a single Dense layer on top leads to a model that treats each word in the input sequence separately, without considering inter-word relationships and sentence structure (for example, this model would likely treat both “this movie is a bomb” and “this movie is the bomb” as being negative reviews). It’s much better to add recurrent layers or 1D convolutional layers on top of the embedded sequences to learn features that take into account each sequence as a whole. That’s what we’ll focus on in the next few sections."
   ]
  },
  {
   "cell_type": "code",
   "execution_count": 110,
   "id": "textile-planet",
   "metadata": {},
   "outputs": [],
   "source": [
    "model.compile(optimizer='rmsprop', loss='binary_crossentropy', metrics=['acc'])"
   ]
  },
  {
   "cell_type": "code",
   "execution_count": 116,
   "id": "amateur-possession",
   "metadata": {},
   "outputs": [
    {
     "name": "stdout",
     "output_type": "stream",
     "text": [
      "Model: \"sequential_2\"\n",
      "_________________________________________________________________\n",
      "Layer (type)                 Output Shape              Param #   \n",
      "=================================================================\n",
      "embedding_2 (Embedding)      (None, 20, 8)             80000     \n",
      "_________________________________________________________________\n",
      "flatten (Flatten)            (None, 160)               0         \n",
      "_________________________________________________________________\n",
      "dense (Dense)                (None, 1)                 161       \n",
      "=================================================================\n",
      "Total params: 80,161\n",
      "Trainable params: 80,161\n",
      "Non-trainable params: 0\n",
      "_________________________________________________________________\n"
     ]
    }
   ],
   "source": [
    "model.summary()"
   ]
  },
  {
   "cell_type": "code",
   "execution_count": 121,
   "id": "adjustable-contributor",
   "metadata": {},
   "outputs": [
    {
     "name": "stdout",
     "output_type": "stream",
     "text": [
      "Epoch 1/10\n",
      "625/625 [==============================] - 1s 884us/step - loss: 0.6850 - acc: 0.5653 - val_loss: 0.6116 - val_acc: 0.7018\n",
      "Epoch 2/10\n",
      "625/625 [==============================] - 0s 700us/step - loss: 0.5602 - acc: 0.7466 - val_loss: 0.5202 - val_acc: 0.7362\n",
      "Epoch 3/10\n",
      "625/625 [==============================] - 0s 696us/step - loss: 0.4644 - acc: 0.7874 - val_loss: 0.4969 - val_acc: 0.7486\n",
      "Epoch 4/10\n",
      "625/625 [==============================] - 0s 725us/step - loss: 0.4306 - acc: 0.8024 - val_loss: 0.4924 - val_acc: 0.7544\n",
      "Epoch 5/10\n",
      "625/625 [==============================] - 0s 723us/step - loss: 0.3962 - acc: 0.8277 - val_loss: 0.4933 - val_acc: 0.7566\n",
      "Epoch 6/10\n",
      "625/625 [==============================] - 0s 779us/step - loss: 0.3773 - acc: 0.8293 - val_loss: 0.4958 - val_acc: 0.7578\n",
      "Epoch 7/10\n",
      "625/625 [==============================] - 0s 705us/step - loss: 0.3579 - acc: 0.8433 - val_loss: 0.4985 - val_acc: 0.7580\n",
      "Epoch 8/10\n",
      "625/625 [==============================] - 0s 761us/step - loss: 0.3417 - acc: 0.8513 - val_loss: 0.5050 - val_acc: 0.7536\n",
      "Epoch 9/10\n",
      "625/625 [==============================] - 0s 689us/step - loss: 0.3329 - acc: 0.8593 - val_loss: 0.5111 - val_acc: 0.7558\n",
      "Epoch 10/10\n",
      "625/625 [==============================] - 0s 674us/step - loss: 0.3008 - acc: 0.8772 - val_loss: 0.5182 - val_acc: 0.7466\n"
     ]
    }
   ],
   "source": [
    "history = model.fit(x_train_new, y_train, epochs=10, batch_size=32, validation_split=0.2)"
   ]
  },
  {
   "cell_type": "code",
   "execution_count": 122,
   "id": "steady-affiliation",
   "metadata": {},
   "outputs": [
    {
     "data": {
      "text/plain": [
       "<tensorflow.python.keras.callbacks.History at 0x7fa4eea0e460>"
      ]
     },
     "execution_count": 122,
     "metadata": {},
     "output_type": "execute_result"
    }
   ],
   "source": []
  },
  {
   "cell_type": "markdown",
   "id": "respected-housing",
   "metadata": {},
   "source": [
    "## IMDB again, but Raw Text"
   ]
  },
  {
   "cell_type": "markdown",
   "id": "fitted-stuart",
   "metadata": {},
   "source": [
    "### Load IMBD Raw Data"
   ]
  },
  {
   "cell_type": "code",
   "execution_count": 127,
   "id": "loving-nation",
   "metadata": {},
   "outputs": [],
   "source": [
    "import os\n",
    "imdb_dir = '/Users/junsu/Dropbox/deep_learning/tf1/tf1_lib/data_inputs/aclImdb'\n",
    "train_dir = os.path.join(imdb_dir, 'train')\n",
    "labels = []\n",
    "texts = []\n",
    "for label_type in ['neg', 'pos']:\n",
    "    dir_name = os.path.join(train_dir, label_type)\n",
    "    for fname in os.listdir(dir_name):\n",
    "        if fname[-4:] == '.txt':\n",
    "            f = open(os.path.join(dir_name, fname))\n",
    "            texts.append(f.read())\n",
    "            f.close()\n",
    "            if label_type == 'neg':\n",
    "                labels.append(0)\n",
    "            else:\n",
    "                labels.append(1)\n"
   ]
  },
  {
   "cell_type": "code",
   "execution_count": 130,
   "id": "settled-threat",
   "metadata": {},
   "outputs": [
    {
     "name": "stdout",
     "output_type": "stream",
     "text": [
      "25000\n"
     ]
    }
   ],
   "source": [
    "print(len(texts))"
   ]
  },
  {
   "cell_type": "code",
   "execution_count": 131,
   "id": "suburban-copying",
   "metadata": {},
   "outputs": [
    {
     "name": "stdout",
     "output_type": "stream",
     "text": [
      "25000\n"
     ]
    }
   ],
   "source": [
    "print(len(labels))"
   ]
  },
  {
   "cell_type": "code",
   "execution_count": 132,
   "id": "conservative-processing",
   "metadata": {},
   "outputs": [
    {
     "name": "stdout",
     "output_type": "stream",
     "text": [
      "Working with one of the best Shakespeare sources, this film manages to be creditable to it's source, whilst still appealing to a wider audience.<br /><br />Branagh steals the film from under Fishburne's nose, and there's a talented cast on good form.\n",
      "0\n"
     ]
    }
   ],
   "source": [
    "print(texts[0])\n",
    "print(labels[0])"
   ]
  },
  {
   "cell_type": "markdown",
   "id": "comfortable-landing",
   "metadata": {},
   "source": [
    "### Use only a Very Small Training Sample Set"
   ]
  },
  {
   "cell_type": "code",
   "execution_count": 134,
   "id": "indie-paint",
   "metadata": {},
   "outputs": [],
   "source": [
    "from tensorflow.keras.preprocessing.text import Tokenizer\n",
    "from tensorflow.keras.preprocessing.sequence import pad_sequences\n",
    "import numpy as np"
   ]
  },
  {
   "cell_type": "code",
   "execution_count": 138,
   "id": "early-franklin",
   "metadata": {},
   "outputs": [],
   "source": [
    "maxlen = 100 #Cuts off reviews after 100 word\n",
    "training_samples = 200 #Trains on 200 samples\n",
    "validation_samples = 10000 #Validates on 10,000 sample\n",
    "max_words = 10000"
   ]
  },
  {
   "cell_type": "code",
   "execution_count": 139,
   "id": "objective-theology",
   "metadata": {},
   "outputs": [],
   "source": [
    "tokenizer = Tokenizer(num_words=max_words)\n",
    "tokenizer.fit_on_texts(texts)\n",
    "sequences = tokenizer.texts_to_sequences(texts)"
   ]
  },
  {
   "cell_type": "code",
   "execution_count": 140,
   "id": "synthetic-branch",
   "metadata": {},
   "outputs": [
    {
     "name": "stdout",
     "output_type": "stream",
     "text": [
      "Found 88582 unique tokens.\n"
     ]
    }
   ],
   "source": [
    "word_index = tokenizer.word_index\n",
    "print('Found %s unique tokens.' % len(word_index))"
   ]
  },
  {
   "cell_type": "code",
   "execution_count": 141,
   "id": "written-armenia",
   "metadata": {},
   "outputs": [],
   "source": [
    "data = pad_sequences(sequences, maxlen=maxlen)"
   ]
  },
  {
   "cell_type": "code",
   "execution_count": 142,
   "id": "incoming-apparel",
   "metadata": {},
   "outputs": [
    {
     "name": "stdout",
     "output_type": "stream",
     "text": [
      "Shape of data tensor: (25000, 100)\n",
      "Shape of label tensor: (25000,)\n"
     ]
    }
   ],
   "source": [
    "labels = np.asarray(labels)\n",
    "print('Shape of data tensor:', data.shape)\n",
    "print('Shape of label tensor:', labels.shape)"
   ]
  },
  {
   "cell_type": "code",
   "execution_count": 143,
   "id": "representative-strategy",
   "metadata": {},
   "outputs": [],
   "source": [
    "indices = np.arange(data.shape[0])\n",
    "np.random.shuffle(indices)\n",
    "data = data[indices]\n",
    "labels = labels[indices]"
   ]
  },
  {
   "cell_type": "code",
   "execution_count": 145,
   "id": "minor-beach",
   "metadata": {},
   "outputs": [
    {
     "name": "stdout",
     "output_type": "stream",
     "text": [
      "[16653  8790 17019 ... 18761 13626  3715]\n"
     ]
    }
   ],
   "source": [
    "print(indices)"
   ]
  },
  {
   "cell_type": "code",
   "execution_count": 146,
   "id": "atlantic-congress",
   "metadata": {},
   "outputs": [],
   "source": [
    "x_train = data[:training_samples]\n",
    "y_train = labels[:training_samples]\n",
    "x_val = data[training_samples: training_samples + validation_samples] \n",
    "y_val = labels[training_samples: training_samples + validation_samples]"
   ]
  },
  {
   "cell_type": "markdown",
   "id": "unique-riverside",
   "metadata": {},
   "source": [
    "### Get the Pre-trained Word Embedding"
   ]
  },
  {
   "cell_type": "code",
   "execution_count": 147,
   "id": "friendly-hopkins",
   "metadata": {},
   "outputs": [],
   "source": [
    "glove_dir = '/Users/junsu/Dropbox/deep_learning/tf1/tf1_lib/data_inputs/glove.6B'\n"
   ]
  },
  {
   "cell_type": "code",
   "execution_count": 148,
   "id": "impaired-circumstances",
   "metadata": {},
   "outputs": [
    {
     "name": "stdout",
     "output_type": "stream",
     "text": [
      "Found 400000 word vectors.\n"
     ]
    }
   ],
   "source": [
    "embeddings_index = {}\n",
    "f = open(os.path.join(glove_dir, 'glove.6B.100d.txt'))\n",
    "for line in f:\n",
    "    values = line.split()\n",
    "    word = values[0]\n",
    "    coefs = np.asarray(values[1:], dtype='float32')\n",
    "    embeddings_index[word] = coefs\n",
    "f.close()\n",
    "print('Found %s word vectors.' % len(embeddings_index))"
   ]
  },
  {
   "cell_type": "code",
   "execution_count": 149,
   "id": "authentic-greenhouse",
   "metadata": {},
   "outputs": [],
   "source": [
    "embedding_dim = 100\n",
    "embedding_matrix = np.zeros((max_words, embedding_dim))\n",
    "for word, i in word_index.items():\n",
    "    if i < max_words:\n",
    "        embedding_vector = embeddings_index.get(word)\n",
    "        if embedding_vector is not None:\n",
    "            embedding_matrix[i] = embedding_vector"
   ]
  },
  {
   "cell_type": "markdown",
   "id": "knowing-truth",
   "metadata": {},
   "source": [
    "### Prepare Model (Not RNN)"
   ]
  },
  {
   "cell_type": "code",
   "execution_count": 150,
   "id": "floppy-disclosure",
   "metadata": {},
   "outputs": [],
   "source": [
    "from tensorflow.keras.models import Sequential\n",
    "from tensorflow.keras.layers import Embedding, Flatten, Dense"
   ]
  },
  {
   "cell_type": "code",
   "execution_count": 151,
   "id": "moved-istanbul",
   "metadata": {},
   "outputs": [
    {
     "name": "stdout",
     "output_type": "stream",
     "text": [
      "Model: \"sequential_3\"\n",
      "_________________________________________________________________\n",
      "Layer (type)                 Output Shape              Param #   \n",
      "=================================================================\n",
      "embedding_3 (Embedding)      (None, 100, 100)          1000000   \n",
      "_________________________________________________________________\n",
      "flatten_1 (Flatten)          (None, 10000)             0         \n",
      "_________________________________________________________________\n",
      "dense_1 (Dense)              (None, 32)                320032    \n",
      "_________________________________________________________________\n",
      "dense_2 (Dense)              (None, 1)                 33        \n",
      "=================================================================\n",
      "Total params: 1,320,065\n",
      "Trainable params: 1,320,065\n",
      "Non-trainable params: 0\n",
      "_________________________________________________________________\n"
     ]
    }
   ],
   "source": [
    "model = Sequential()\n",
    "model.add(Embedding(max_words, embedding_dim, input_length=maxlen))\n",
    "model.add(Flatten())\n",
    "model.add(Dense(32, activation='relu'))\n",
    "model.add(Dense(1, activation='sigmoid'))\n",
    "model.summary()"
   ]
  },
  {
   "cell_type": "markdown",
   "id": "played-confidentiality",
   "metadata": {},
   "source": [
    "### Add the Pre-trained Embedding Matrix and Fix it"
   ]
  },
  {
   "cell_type": "code",
   "execution_count": 152,
   "id": "finnish-liberia",
   "metadata": {},
   "outputs": [],
   "source": [
    "model.layers[0].set_weights([embedding_matrix])\n",
    "model.layers[0].trainable = False"
   ]
  },
  {
   "cell_type": "code",
   "execution_count": 153,
   "id": "generous-performance",
   "metadata": {},
   "outputs": [
    {
     "name": "stdout",
     "output_type": "stream",
     "text": [
      "Epoch 1/10\n",
      "7/7 [==============================] - 1s 63ms/step - loss: 1.7531 - acc: 0.4493 - val_loss: 1.4916 - val_acc: 0.4966\n",
      "Epoch 2/10\n",
      "7/7 [==============================] - 0s 45ms/step - loss: 0.8722 - acc: 0.6064 - val_loss: 1.5668 - val_acc: 0.4966\n",
      "Epoch 3/10\n",
      "7/7 [==============================] - 0s 50ms/step - loss: 0.7402 - acc: 0.6105 - val_loss: 0.8190 - val_acc: 0.5070\n",
      "Epoch 4/10\n",
      "7/7 [==============================] - 0s 50ms/step - loss: 0.3048 - acc: 0.8787 - val_loss: 0.7341 - val_acc: 0.5595\n",
      "Epoch 5/10\n",
      "7/7 [==============================] - 0s 55ms/step - loss: 0.2858 - acc: 0.8907 - val_loss: 0.7268 - val_acc: 0.5681\n",
      "Epoch 6/10\n",
      "7/7 [==============================] - 0s 55ms/step - loss: 0.0721 - acc: 0.9981 - val_loss: 0.7628 - val_acc: 0.5680\n",
      "Epoch 7/10\n",
      "7/7 [==============================] - 0s 42ms/step - loss: 0.0401 - acc: 1.0000 - val_loss: 0.7601 - val_acc: 0.5693\n",
      "Epoch 8/10\n",
      "7/7 [==============================] - 0s 38ms/step - loss: 0.0257 - acc: 1.0000 - val_loss: 2.0142 - val_acc: 0.5087\n",
      "Epoch 9/10\n",
      "7/7 [==============================] - 0s 60ms/step - loss: 0.4060 - acc: 0.8638 - val_loss: 0.7803 - val_acc: 0.5653\n",
      "Epoch 10/10\n",
      "7/7 [==============================] - 0s 51ms/step - loss: 0.0188 - acc: 1.0000 - val_loss: 0.8490 - val_acc: 0.5533\n"
     ]
    }
   ],
   "source": [
    "model.compile(optimizer='rmsprop',\n",
    "              loss='binary_crossentropy',\n",
    "              metrics=['acc'])\n",
    "history = model.fit(x_train, y_train,\n",
    "                    epochs=10,\n",
    "                    batch_size=32,\n",
    "                    validation_data=(x_val, y_val))\n",
    "model.save_weights('pre_trained_glove_model.h5')"
   ]
  },
  {
   "cell_type": "code",
   "execution_count": 154,
   "id": "right-niger",
   "metadata": {},
   "outputs": [
    {
     "data": {
      "image/png": "[encoded data removed]",
      "text/plain": [
       "<Figure size 432x288 with 1 Axes>"
      ]
     },
     "metadata": {
      "needs_background": "light"
     },
     "output_type": "display_data"
    },
    {
     "data": {
      "image/png": "[encoded data removed]",
      "text/plain": [
       "<Figure size 432x288 with 1 Axes>"
      ]
     },
     "metadata": {
      "needs_background": "light"
     },
     "output_type": "display_data"
    }
   ],
   "source": [
    "import matplotlib.pyplot as plt\n",
    "acc = history.history['acc']\n",
    "val_acc = history.history['val_acc']\n",
    "loss = history.history['loss']\n",
    "val_loss = history.history['val_loss']\n",
    "epochs = range(1, len(acc) + 1)\n",
    "plt.plot(epochs, acc, 'bo', label='Training acc')\n",
    "plt.plot(epochs, val_acc, 'b', label='Validation acc')\n",
    "plt.title('Training and validation accuracy')\n",
    "plt.legend()\n",
    "plt.figure()\n",
    "plt.plot(epochs, loss, 'bo', label='Training loss')\n",
    "plt.plot(epochs, val_loss, 'b', label='Validation loss')\n",
    "plt.title('Training and validation loss')\n",
    "plt.legend()\n",
    "plt.show()"
   ]
  },
  {
   "cell_type": "markdown",
   "id": "latest-progress",
   "metadata": {},
   "source": [
    "### "
   ]
  },
  {
   "cell_type": "markdown",
   "id": "attended-shoulder",
   "metadata": {},
   "source": [
    "## RNN"
   ]
  },
  {
   "cell_type": "code",
   "execution_count": 11,
   "id": "sacred-effect",
   "metadata": {},
   "outputs": [],
   "source": [
    "from tensorflow.keras.datasets import imdb\n",
    "from tensorflow.keras.preprocessing import sequence"
   ]
  },
  {
   "cell_type": "code",
   "execution_count": 15,
   "id": "requested-possibility",
   "metadata": {},
   "outputs": [
    {
     "name": "stdout",
     "output_type": "stream",
     "text": [
      "Loading data...\n",
      "25000 train sequences\n",
      "25000 test sequences\n"
     ]
    }
   ],
   "source": [
    "max_features = 10000 #Number of words to consider as features\n",
    "maxlen = 500 #Cuts off texts after this many words (among the max_features most common words)\n",
    "\n",
    "batch_size = 32\n",
    "print('Loading data...')\n",
    "(input_train, y_train), (input_test, y_test) = imdb.load_data(num_words=max_features)\n",
    "print(len(input_train), 'train sequences')\n",
    "print(len(input_test), 'test sequences')"
   ]
  },
  {
   "cell_type": "code",
   "execution_count": 36,
   "id": "juvenile-saint",
   "metadata": {},
   "outputs": [
    {
     "name": "stdout",
     "output_type": "stream",
     "text": [
      "(25000,)\n"
     ]
    }
   ],
   "source": [
    "print(input_train.shape) \n",
    "# input_train returns (25000, ), however, it is a nested list, the reason why it's one element tuple shape, is because the inner lists have different length\n",
    "# which is the review sentence converted to integers"
   ]
  },
  {
   "cell_type": "code",
   "execution_count": 19,
   "id": "expired-separation",
   "metadata": {},
   "outputs": [
    {
     "data": {
      "text/plain": [
       "(25000,)"
      ]
     },
     "execution_count": 19,
     "metadata": {},
     "output_type": "execute_result"
    }
   ],
   "source": [
    "print(y_train.shape)\n",
    "# y_train.shape is an \"one-elemnt-tuple\", is because it's a list that includes element either 0 or 1"
   ]
  },
  {
   "cell_type": "markdown",
   "id": "surgical-sector",
   "metadata": {},
   "source": [
    "- Just like the MNIST dataset, the IMDB dataset comes packaged with Keras. It has already been preprocessed: the reviews (sequences of words) have been turned into sequences of integers, where each integer stands for a specific word in a dictionary.\n",
    "- The argument num_words=10000 means you’ll only keep the top 10,000 most fre- quently occurring words in the training data. Rare words will be discarded. This allows you to work with vector data of manageable size.\n",
    "- y_train is either \"positive\" or \"negative\", alternatilvey, 1 or 0, respectively."
   ]
  },
  {
   "cell_type": "code",
   "execution_count": 12,
   "id": "exempt-scoop",
   "metadata": {},
   "outputs": [
    {
     "name": "stdout",
     "output_type": "stream",
     "text": [
      "Loading data...\n",
      "25000 train sequences\n",
      "25000 test sequences\n",
      "Pad sequences (samples x time)\n",
      "input_train shape: (25000, 500)\n",
      "input_test shape: (25000, 500)\n"
     ]
    }
   ],
   "source": [
    "print('Pad sequences (samples x time)')\n",
    "\n",
    "# https://www.tensorflow.org/api_docs/python/tf/keras/preprocessing/sequence/pad_sequences\n",
    "# Example, \n",
    "#tf.keras.preprocessing.sequence.pad_sequences(\n",
    "#    sequences, maxlen=None, dtype='int32', padding='pre',\n",
    "#    truncating='pre', value=0.0\n",
    "#)\n",
    "# sequences is iterable, each sequence inside the sequences will be padded with some values\n",
    "# value --> set the padding value\n",
    "# padding/truncating --> meaning, either padding pre or post\n",
    "# return --> Numpy array with shape (len(sequences), maxlen)\n",
    "\n",
    "input_train = sequence.pad_sequences(input_train, maxlen=maxlen)\n",
    "input_test = sequence.pad_sequences(input_test, maxlen=maxlen)\n",
    "print('input_train shape:', input_train.shape)\n",
    "print('input_test shape:', input_test.shape)"
   ]
  },
  {
   "cell_type": "code",
   "execution_count": 14,
   "id": "reverse-administration",
   "metadata": {},
   "outputs": [
    {
     "data": {
      "text/plain": [
       "array([   0,    0,    0,    0,    0,    0,    0,    0,    0,    0,    0,\n",
       "          0,    0,    0,    0,    0,    0,    0,    0,    0,    0,    0,\n",
       "          0,    0,    0,    0,    0,    0,    0,    0,    0,    0,    0,\n",
       "          0,    0,    0,    0,    0,    0,    0,    0,    0,    0,    0,\n",
       "          0,    0,    0,    0,    0,    0,    0,    0,    0,    0,    0,\n",
       "          0,    0,    0,    0,    0,    0,    0,    0,    0,    0,    0,\n",
       "          0,    0,    0,    0,    0,    0,    0,    0,    0,    0,    0,\n",
       "          0,    0,    0,    0,    0,    0,    0,    0,    0,    0,    0,\n",
       "          0,    0,    0,    0,    0,    0,    0,    0,    0,    0,    0,\n",
       "          0,    0,    0,    0,    0,    0,    0,    0,    0,    0,    0,\n",
       "          0,    0,    0,    0,    0,    0,    0,    0,    0,    0,    0,\n",
       "          0,    0,    0,    0,    0,    0,    0,    0,    0,    0,    0,\n",
       "          0,    0,    0,    0,    0,    0,    0,    0,    0,    0,    0,\n",
       "          0,    0,    0,    0,    0,    0,    0,    0,    0,    0,    0,\n",
       "          0,    0,    0,    0,    0,    0,    0,    0,    0,    0,    0,\n",
       "          0,    0,    0,    0,    0,    0,    0,    0,    0,    0,    0,\n",
       "          0,    0,    0,    0,    0,    0,    0,    0,    0,    0,    0,\n",
       "          0,    0,    0,    0,    0,    0,    0,    0,    0,    0,    0,\n",
       "          0,    0,    0,    0,    0,    0,    0,    0,    0,    0,    0,\n",
       "          0,    0,    0,    0,    0,    0,    0,    0,    0,    0,    0,\n",
       "          0,    0,    0,    0,    0,    0,    0,    0,    0,    0,    0,\n",
       "          0,    0,    0,    0,    0,    0,    0,    0,    0,    0,    0,\n",
       "          0,    0,    0,    0,    0,    0,    0,    0,    0,    0,    0,\n",
       "          0,    0,    0,    0,    0,    0,    0,    0,    0,    0,    0,\n",
       "          0,    0,    0,    0,    0,    0,    0,    0,    0,    0,    0,\n",
       "          0,    0,    0,    0,    0,    0,    0,    1,   14,   22,   16,\n",
       "         43,  530,  973, 1622, 1385,   65,  458, 4468,   66, 3941,    4,\n",
       "        173,   36,  256,    5,   25,  100,   43,  838,  112,   50,  670,\n",
       "          2,    9,   35,  480,  284,    5,  150,    4,  172,  112,  167,\n",
       "          2,  336,  385,   39,    4,  172, 4536, 1111,   17,  546,   38,\n",
       "         13,  447,    4,  192,   50,   16,    6,  147, 2025,   19,   14,\n",
       "         22,    4, 1920, 4613,  469,    4,   22,   71,   87,   12,   16,\n",
       "         43,  530,   38,   76,   15,   13, 1247,    4,   22,   17,  515,\n",
       "         17,   12,   16,  626,   18,    2,    5,   62,  386,   12,    8,\n",
       "        316,    8,  106,    5,    4, 2223, 5244,   16,  480,   66, 3785,\n",
       "         33,    4,  130,   12,   16,   38,  619,    5,   25,  124,   51,\n",
       "         36,  135,   48,   25, 1415,   33,    6,   22,   12,  215,   28,\n",
       "         77,   52,    5,   14,  407,   16,   82,    2,    8,    4,  107,\n",
       "        117, 5952,   15,  256,    4,    2,    7, 3766,    5,  723,   36,\n",
       "         71,   43,  530,  476,   26,  400,  317,   46,    7,    4,    2,\n",
       "       1029,   13,  104,   88,    4,  381,   15,  297,   98,   32, 2071,\n",
       "         56,   26,  141,    6,  194, 7486,   18,    4,  226,   22,   21,\n",
       "        134,  476,   26,  480,    5,  144,   30, 5535,   18,   51,   36,\n",
       "         28,  224,   92,   25,  104,    4,  226,   65,   16,   38, 1334,\n",
       "         88,   12,   16,  283,    5,   16, 4472,  113,  103,   32,   15,\n",
       "         16, 5345,   19,  178,   32], dtype=int32)"
      ]
     },
     "execution_count": 14,
     "metadata": {},
     "output_type": "execute_result"
    }
   ],
   "source": [
    "input_train[0]"
   ]
  },
  {
   "cell_type": "code",
   "execution_count": 35,
   "id": "reserved-strategy",
   "metadata": {},
   "outputs": [
    {
     "name": "stdout",
     "output_type": "stream",
     "text": [
      "[1, 2, 3]\n",
      "[[1], [2], [3]]\n",
      "[[1, 2, 3]]\n",
      "[[[1], [2], [3]]]\n",
      "[[[[1]], [[2]], [[3]]]]\n"
     ]
    }
   ],
   "source": [
    "# # Python ndarray, shape with single element tuple.\n",
    "# np.array([1,2,3])\n",
    "# print(np.array([1,2,3]).reshape(3,).tolist())\n",
    "# print(np.array([1,2,3]).reshape(3,1).tolist())\n",
    "# print(np.array([1,2,3]).reshape(1,3).tolist())\n",
    "\n",
    "# print(np.array([1,2,3]).reshape(1,3,1).tolist())\n",
    "# print(np.array([1,2,3]).reshape(1,3,1,1).tolist())\n"
   ]
  },
  {
   "cell_type": "code",
   "execution_count": null,
   "id": "sufficient-execution",
   "metadata": {},
   "outputs": [],
   "source": []
  }
 ],
 "metadata": {
  "kernelspec": {
   "display_name": "env",
   "language": "python",
   "name": "env"
  },
  "language_info": {
   "codemirror_mode": {
    "name": "ipython",
    "version": 3
   },
   "file_extension": ".py",
   "mimetype": "text/x-python",
   "name": "python",
   "nbconvert_exporter": "python",
   "pygments_lexer": "ipython3",
   "version": "3.9.1"
  },
  "toc": {
   "colors": {
    "hover_highlight": "#DAA520",
    "running_highlight": "#FF0000",
    "selected_highlight": "#FFD700"
   },
   "moveMenuLeft": true,
   "nav_menu": {
    "height": "243px",
    "width": "252px"
   },
   "navigate_menu": true,
   "number_sections": true,
   "sideBar": true,
   "threshold": 4,
   "toc_cell": true,
   "toc_section_display": "block",
   "toc_window_display": true,
   "widenNotebook": false
  }
 },
 "nbformat": 4,
 "nbformat_minor": 5
}
